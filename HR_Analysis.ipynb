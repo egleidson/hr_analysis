{
  "nbformat": 4,
  "nbformat_minor": 0,
  "metadata": {
    "colab": {
      "name": "Cópia de HR_Analysis.ipynb",
      "provenance": []
    },
    "kernelspec": {
      "name": "python3",
      "display_name": "Python 3"
    },
    "language_info": {
      "name": "python"
    }
  },
  "cells": [
    {
      "cell_type": "code",
      "source": [
        "from google.colab import drive\n",
        "drive.mount('/content/drive')"
      ],
      "metadata": {
        "colab": {
          "base_uri": "https://localhost:8080/"
        },
        "id": "XkCkOV7ukeJJ",
        "outputId": "6fb49a67-61da-429a-a042-ced0f40892aa"
      },
      "execution_count": 1,
      "outputs": [
        {
          "output_type": "stream",
          "name": "stdout",
          "text": [
            "Drive already mounted at /content/drive; to attempt to forcibly remount, call drive.mount(\"/content/drive\", force_remount=True).\n"
          ]
        }
      ]
    },
    {
      "cell_type": "markdown",
      "source": [
        "First thing to do, it is to import the libraries that we'll use on the project."
      ],
      "metadata": {
        "id": "eCm-mmkAGl7s"
      }
    },
    {
      "cell_type": "code",
      "execution_count": 174,
      "metadata": {
        "id": "qrBKP_qNEoUk"
      },
      "outputs": [],
      "source": [
        "import pandas as pd\n",
        "import plotly.express as px\n",
        "import matplotlib.pyplot as plt\n",
        "\n",
        "from sklearn.model_selection import train_test_split, StratifiedKFold\n",
        "from sklearn.neighbors import KNeighborsRegressor\n",
        "from sklearn.model_selection import GridSearchCV\n",
        "from sklearn.tree import DecisionTreeRegressor\n",
        "from sklearn.metrics import confusion_matrix, accuracy_score, roc_auc_score, roc_curve,plot_roc_curve\n"
      ]
    },
    {
      "cell_type": "code",
      "source": [
        "def plot_roc_curve(fpr, tpr):  \n",
        "  '''\n",
        "      This Function plot a ROC curve with the auc_score area\n",
        "\n",
        "      It receives the false positive rate and true positive rate as a parameter\n",
        "      and return a plot figure\n",
        "  '''\n",
        "            plt.plot(fpr, tpr, color='black', label='ROC')\n",
        "            plt.plot([0, 1], [0, 1], color='darkblue', linestyle='--')\n",
        "            plt.fill_between(fpr, tpr, facecolor='lightblue', alpha=0.5)\n",
        "            plt.text(0.95, 0.05, 'AUC = %0.2f' % auc_curve, ha='right', fontsize=12, weight='bold', color='black')\n",
        "            plt.xlabel('False Positive Rate')\n",
        "            plt.ylabel('True Positive Rate')\n",
        "            plt.title('ROC Curve')\n",
        "            plt.legend()\n",
        "            plt.savefig(f'roc_auc_curve.png')\n",
        "            plt.show()"
      ],
      "metadata": {
        "id": "3yF9mg-nZ9lA"
      },
      "execution_count": null,
      "outputs": []
    },
    {
      "cell_type": "markdown",
      "source": [
        "Now, I'll proceed to upload our data into dataframes. So we can visualize our data and perform some cleaning, transformation and analysis"
      ],
      "metadata": {
        "id": "a0oGi64VGcgW"
      }
    },
    {
      "cell_type": "code",
      "source": [
        "df_action = pd.read_csv('/content/drive/MyDrive/HR_Data/tbl_Action.csv', infer_datetime_format=['EffectiveDt'])\n",
        "df_empl =  pd.read_csv('/content/drive/MyDrive/HR_Data/tbl_Employee.csv', infer_datetime_format = ['EngDt','TermDt','DepID','DOB'])\n",
        "df_perf = pd.read_csv('/content/drive/MyDrive/HR_Data/tbl_Perf.csv', infer_datetime_format = ['PerfDate'])"
      ],
      "metadata": {
        "id": "OQMw6bNnFy4C"
      },
      "execution_count": 3,
      "outputs": []
    },
    {
      "cell_type": "markdown",
      "source": [
        "Let me see the informations I have on each dataframe"
      ],
      "metadata": {
        "id": "iHuu_g3bHIPX"
      }
    },
    {
      "cell_type": "code",
      "source": [
        "df_action.head()"
      ],
      "metadata": {
        "colab": {
          "base_uri": "https://localhost:8080/",
          "height": 225
        },
        "id": "LtJGteWlGPVY",
        "outputId": "9a7478f6-57e3-4dcb-bbdd-a855084aa981"
      },
      "execution_count": null,
      "outputs": [
        {
          "output_type": "execute_result",
          "data": {
            "text/plain": [
              "   ActID  ActionID  EmpID  EffectiveDt\n",
              "0      1        10      1  01/Jan/2015\n",
              "1      2        10      2  01/Jan/2015\n",
              "2      3        10      3  06/Oct/2015\n",
              "3      4        10      4  01/Jan/2015\n",
              "4      5        10      5  22/May/2015"
            ],
            "text/html": [
              "\n",
              "  <div id=\"df-25cdae82-217e-4723-ba1c-8538009a11ce\">\n",
              "    <div class=\"colab-df-container\">\n",
              "      <div>\n",
              "<style scoped>\n",
              "    .dataframe tbody tr th:only-of-type {\n",
              "        vertical-align: middle;\n",
              "    }\n",
              "\n",
              "    .dataframe tbody tr th {\n",
              "        vertical-align: top;\n",
              "    }\n",
              "\n",
              "    .dataframe thead th {\n",
              "        text-align: right;\n",
              "    }\n",
              "</style>\n",
              "<table border=\"1\" class=\"dataframe\">\n",
              "  <thead>\n",
              "    <tr style=\"text-align: right;\">\n",
              "      <th></th>\n",
              "      <th>ActID</th>\n",
              "      <th>ActionID</th>\n",
              "      <th>EmpID</th>\n",
              "      <th>EffectiveDt</th>\n",
              "    </tr>\n",
              "  </thead>\n",
              "  <tbody>\n",
              "    <tr>\n",
              "      <th>0</th>\n",
              "      <td>1</td>\n",
              "      <td>10</td>\n",
              "      <td>1</td>\n",
              "      <td>01/Jan/2015</td>\n",
              "    </tr>\n",
              "    <tr>\n",
              "      <th>1</th>\n",
              "      <td>2</td>\n",
              "      <td>10</td>\n",
              "      <td>2</td>\n",
              "      <td>01/Jan/2015</td>\n",
              "    </tr>\n",
              "    <tr>\n",
              "      <th>2</th>\n",
              "      <td>3</td>\n",
              "      <td>10</td>\n",
              "      <td>3</td>\n",
              "      <td>06/Oct/2015</td>\n",
              "    </tr>\n",
              "    <tr>\n",
              "      <th>3</th>\n",
              "      <td>4</td>\n",
              "      <td>10</td>\n",
              "      <td>4</td>\n",
              "      <td>01/Jan/2015</td>\n",
              "    </tr>\n",
              "    <tr>\n",
              "      <th>4</th>\n",
              "      <td>5</td>\n",
              "      <td>10</td>\n",
              "      <td>5</td>\n",
              "      <td>22/May/2015</td>\n",
              "    </tr>\n",
              "  </tbody>\n",
              "</table>\n",
              "</div>\n",
              "      <button class=\"colab-df-convert\" onclick=\"convertToInteractive('df-25cdae82-217e-4723-ba1c-8538009a11ce')\"\n",
              "              title=\"Convert this dataframe to an interactive table.\"\n",
              "              style=\"display:none;\">\n",
              "        \n",
              "  <svg xmlns=\"http://www.w3.org/2000/svg\" height=\"24px\"viewBox=\"0 0 24 24\"\n",
              "       width=\"24px\">\n",
              "    <path d=\"M0 0h24v24H0V0z\" fill=\"none\"/>\n",
              "    <path d=\"M18.56 5.44l.94 2.06.94-2.06 2.06-.94-2.06-.94-.94-2.06-.94 2.06-2.06.94zm-11 1L8.5 8.5l.94-2.06 2.06-.94-2.06-.94L8.5 2.5l-.94 2.06-2.06.94zm10 10l.94 2.06.94-2.06 2.06-.94-2.06-.94-.94-2.06-.94 2.06-2.06.94z\"/><path d=\"M17.41 7.96l-1.37-1.37c-.4-.4-.92-.59-1.43-.59-.52 0-1.04.2-1.43.59L10.3 9.45l-7.72 7.72c-.78.78-.78 2.05 0 2.83L4 21.41c.39.39.9.59 1.41.59.51 0 1.02-.2 1.41-.59l7.78-7.78 2.81-2.81c.8-.78.8-2.07 0-2.86zM5.41 20L4 18.59l7.72-7.72 1.47 1.35L5.41 20z\"/>\n",
              "  </svg>\n",
              "      </button>\n",
              "      \n",
              "  <style>\n",
              "    .colab-df-container {\n",
              "      display:flex;\n",
              "      flex-wrap:wrap;\n",
              "      gap: 12px;\n",
              "    }\n",
              "\n",
              "    .colab-df-convert {\n",
              "      background-color: #E8F0FE;\n",
              "      border: none;\n",
              "      border-radius: 50%;\n",
              "      cursor: pointer;\n",
              "      display: none;\n",
              "      fill: #1967D2;\n",
              "      height: 32px;\n",
              "      padding: 0 0 0 0;\n",
              "      width: 32px;\n",
              "    }\n",
              "\n",
              "    .colab-df-convert:hover {\n",
              "      background-color: #E2EBFA;\n",
              "      box-shadow: 0px 1px 2px rgba(60, 64, 67, 0.3), 0px 1px 3px 1px rgba(60, 64, 67, 0.15);\n",
              "      fill: #174EA6;\n",
              "    }\n",
              "\n",
              "    [theme=dark] .colab-df-convert {\n",
              "      background-color: #3B4455;\n",
              "      fill: #D2E3FC;\n",
              "    }\n",
              "\n",
              "    [theme=dark] .colab-df-convert:hover {\n",
              "      background-color: #434B5C;\n",
              "      box-shadow: 0px 1px 3px 1px rgba(0, 0, 0, 0.15);\n",
              "      filter: drop-shadow(0px 1px 2px rgba(0, 0, 0, 0.3));\n",
              "      fill: #FFFFFF;\n",
              "    }\n",
              "  </style>\n",
              "\n",
              "      <script>\n",
              "        const buttonEl =\n",
              "          document.querySelector('#df-25cdae82-217e-4723-ba1c-8538009a11ce button.colab-df-convert');\n",
              "        buttonEl.style.display =\n",
              "          google.colab.kernel.accessAllowed ? 'block' : 'none';\n",
              "\n",
              "        async function convertToInteractive(key) {\n",
              "          const element = document.querySelector('#df-25cdae82-217e-4723-ba1c-8538009a11ce');\n",
              "          const dataTable =\n",
              "            await google.colab.kernel.invokeFunction('convertToInteractive',\n",
              "                                                     [key], {});\n",
              "          if (!dataTable) return;\n",
              "\n",
              "          const docLinkHtml = 'Like what you see? Visit the ' +\n",
              "            '<a target=\"_blank\" href=https://colab.research.google.com/notebooks/data_table.ipynb>data table notebook</a>'\n",
              "            + ' to learn more about interactive tables.';\n",
              "          element.innerHTML = '';\n",
              "          dataTable['output_type'] = 'display_data';\n",
              "          await google.colab.output.renderOutput(dataTable, element);\n",
              "          const docLink = document.createElement('div');\n",
              "          docLink.innerHTML = docLinkHtml;\n",
              "          element.appendChild(docLink);\n",
              "        }\n",
              "      </script>\n",
              "    </div>\n",
              "  </div>\n",
              "  "
            ]
          },
          "metadata": {},
          "execution_count": 32
        }
      ]
    },
    {
      "cell_type": "code",
      "source": [
        "df_empl"
      ],
      "metadata": {
        "colab": {
          "base_uri": "https://localhost:8080/",
          "height": 463
        },
        "id": "Kjnfc2hJHQeX",
        "outputId": "c2f7899f-6018-4bb0-a18d-e4ccb26ad215"
      },
      "execution_count": null,
      "outputs": [
        {
          "output_type": "execute_result",
          "data": {
            "text/plain": [
              "      EmpID               EmpName      EngDt     TermDt  DepID  GenderID  \\\n",
              "0         1           Nash, Kay K 2015-01-01 2017-05-29      8         1   \n",
              "1         2    Simpson, Raymond X 2015-01-01        NaT      7         0   \n",
              "2         3         Devlin, Kay M 2015-06-10 2019-06-24     10         1   \n",
              "3         4   Massie, Elisabeth V 2015-01-01        NaT      4         1   \n",
              "4         5     Mead, Catherine N 2015-05-22 2020-07-15      8         1   \n",
              "...     ...                   ...        ...        ...    ...       ...   \n",
              "1557   1558  Shearer, Dimitrios Q 2023-01-11        NaT      3         0   \n",
              "1558   1559      Shute, Phyllis H 2023-12-07        NaT      1         1   \n",
              "1559   1560   Scholes, Ripduman K 2023-04-22        NaT      1         1   \n",
              "1560   1561   Rawson, Elisabeth K 2023-07-03        NaT      6         1   \n",
              "1561   1562    Mongan, Gabriele T 2023-01-07        NaT      2         1   \n",
              "\n",
              "      RaceID  MgrID        DOB  Level  \n",
              "0          1      1 1987-02-12      1  \n",
              "1          4      2 1982-11-15      1  \n",
              "2          5      3 1986-02-22      1  \n",
              "3          2      4 1977-05-25      1  \n",
              "4          1      1 1995-04-04      2  \n",
              "...      ...    ...        ...    ...  \n",
              "1557       1   1526 1990-05-21     28  \n",
              "1558       1   1460 1974-10-01     30  \n",
              "1559       4   1559 1971-05-11     31  \n",
              "1560       3   1554 1982-08-25     30  \n",
              "1561       5   1530 1974-11-15     26  \n",
              "\n",
              "[1562 rows x 10 columns]"
            ],
            "text/html": [
              "\n",
              "  <div id=\"df-695046d7-eb1e-403f-914f-a38d5b507b0c\">\n",
              "    <div class=\"colab-df-container\">\n",
              "      <div>\n",
              "<style scoped>\n",
              "    .dataframe tbody tr th:only-of-type {\n",
              "        vertical-align: middle;\n",
              "    }\n",
              "\n",
              "    .dataframe tbody tr th {\n",
              "        vertical-align: top;\n",
              "    }\n",
              "\n",
              "    .dataframe thead th {\n",
              "        text-align: right;\n",
              "    }\n",
              "</style>\n",
              "<table border=\"1\" class=\"dataframe\">\n",
              "  <thead>\n",
              "    <tr style=\"text-align: right;\">\n",
              "      <th></th>\n",
              "      <th>EmpID</th>\n",
              "      <th>EmpName</th>\n",
              "      <th>EngDt</th>\n",
              "      <th>TermDt</th>\n",
              "      <th>DepID</th>\n",
              "      <th>GenderID</th>\n",
              "      <th>RaceID</th>\n",
              "      <th>MgrID</th>\n",
              "      <th>DOB</th>\n",
              "      <th>Level</th>\n",
              "    </tr>\n",
              "  </thead>\n",
              "  <tbody>\n",
              "    <tr>\n",
              "      <th>0</th>\n",
              "      <td>1</td>\n",
              "      <td>Nash, Kay K</td>\n",
              "      <td>2015-01-01</td>\n",
              "      <td>2017-05-29</td>\n",
              "      <td>8</td>\n",
              "      <td>1</td>\n",
              "      <td>1</td>\n",
              "      <td>1</td>\n",
              "      <td>1987-02-12</td>\n",
              "      <td>1</td>\n",
              "    </tr>\n",
              "    <tr>\n",
              "      <th>1</th>\n",
              "      <td>2</td>\n",
              "      <td>Simpson, Raymond X</td>\n",
              "      <td>2015-01-01</td>\n",
              "      <td>NaT</td>\n",
              "      <td>7</td>\n",
              "      <td>0</td>\n",
              "      <td>4</td>\n",
              "      <td>2</td>\n",
              "      <td>1982-11-15</td>\n",
              "      <td>1</td>\n",
              "    </tr>\n",
              "    <tr>\n",
              "      <th>2</th>\n",
              "      <td>3</td>\n",
              "      <td>Devlin, Kay M</td>\n",
              "      <td>2015-06-10</td>\n",
              "      <td>2019-06-24</td>\n",
              "      <td>10</td>\n",
              "      <td>1</td>\n",
              "      <td>5</td>\n",
              "      <td>3</td>\n",
              "      <td>1986-02-22</td>\n",
              "      <td>1</td>\n",
              "    </tr>\n",
              "    <tr>\n",
              "      <th>3</th>\n",
              "      <td>4</td>\n",
              "      <td>Massie, Elisabeth V</td>\n",
              "      <td>2015-01-01</td>\n",
              "      <td>NaT</td>\n",
              "      <td>4</td>\n",
              "      <td>1</td>\n",
              "      <td>2</td>\n",
              "      <td>4</td>\n",
              "      <td>1977-05-25</td>\n",
              "      <td>1</td>\n",
              "    </tr>\n",
              "    <tr>\n",
              "      <th>4</th>\n",
              "      <td>5</td>\n",
              "      <td>Mead, Catherine N</td>\n",
              "      <td>2015-05-22</td>\n",
              "      <td>2020-07-15</td>\n",
              "      <td>8</td>\n",
              "      <td>1</td>\n",
              "      <td>1</td>\n",
              "      <td>1</td>\n",
              "      <td>1995-04-04</td>\n",
              "      <td>2</td>\n",
              "    </tr>\n",
              "    <tr>\n",
              "      <th>...</th>\n",
              "      <td>...</td>\n",
              "      <td>...</td>\n",
              "      <td>...</td>\n",
              "      <td>...</td>\n",
              "      <td>...</td>\n",
              "      <td>...</td>\n",
              "      <td>...</td>\n",
              "      <td>...</td>\n",
              "      <td>...</td>\n",
              "      <td>...</td>\n",
              "    </tr>\n",
              "    <tr>\n",
              "      <th>1557</th>\n",
              "      <td>1558</td>\n",
              "      <td>Shearer, Dimitrios Q</td>\n",
              "      <td>2023-01-11</td>\n",
              "      <td>NaT</td>\n",
              "      <td>3</td>\n",
              "      <td>0</td>\n",
              "      <td>1</td>\n",
              "      <td>1526</td>\n",
              "      <td>1990-05-21</td>\n",
              "      <td>28</td>\n",
              "    </tr>\n",
              "    <tr>\n",
              "      <th>1558</th>\n",
              "      <td>1559</td>\n",
              "      <td>Shute, Phyllis H</td>\n",
              "      <td>2023-12-07</td>\n",
              "      <td>NaT</td>\n",
              "      <td>1</td>\n",
              "      <td>1</td>\n",
              "      <td>1</td>\n",
              "      <td>1460</td>\n",
              "      <td>1974-10-01</td>\n",
              "      <td>30</td>\n",
              "    </tr>\n",
              "    <tr>\n",
              "      <th>1559</th>\n",
              "      <td>1560</td>\n",
              "      <td>Scholes, Ripduman K</td>\n",
              "      <td>2023-04-22</td>\n",
              "      <td>NaT</td>\n",
              "      <td>1</td>\n",
              "      <td>1</td>\n",
              "      <td>4</td>\n",
              "      <td>1559</td>\n",
              "      <td>1971-05-11</td>\n",
              "      <td>31</td>\n",
              "    </tr>\n",
              "    <tr>\n",
              "      <th>1560</th>\n",
              "      <td>1561</td>\n",
              "      <td>Rawson, Elisabeth K</td>\n",
              "      <td>2023-07-03</td>\n",
              "      <td>NaT</td>\n",
              "      <td>6</td>\n",
              "      <td>1</td>\n",
              "      <td>3</td>\n",
              "      <td>1554</td>\n",
              "      <td>1982-08-25</td>\n",
              "      <td>30</td>\n",
              "    </tr>\n",
              "    <tr>\n",
              "      <th>1561</th>\n",
              "      <td>1562</td>\n",
              "      <td>Mongan, Gabriele T</td>\n",
              "      <td>2023-01-07</td>\n",
              "      <td>NaT</td>\n",
              "      <td>2</td>\n",
              "      <td>1</td>\n",
              "      <td>5</td>\n",
              "      <td>1530</td>\n",
              "      <td>1974-11-15</td>\n",
              "      <td>26</td>\n",
              "    </tr>\n",
              "  </tbody>\n",
              "</table>\n",
              "<p>1562 rows × 10 columns</p>\n",
              "</div>\n",
              "      <button class=\"colab-df-convert\" onclick=\"convertToInteractive('df-695046d7-eb1e-403f-914f-a38d5b507b0c')\"\n",
              "              title=\"Convert this dataframe to an interactive table.\"\n",
              "              style=\"display:none;\">\n",
              "        \n",
              "  <svg xmlns=\"http://www.w3.org/2000/svg\" height=\"24px\"viewBox=\"0 0 24 24\"\n",
              "       width=\"24px\">\n",
              "    <path d=\"M0 0h24v24H0V0z\" fill=\"none\"/>\n",
              "    <path d=\"M18.56 5.44l.94 2.06.94-2.06 2.06-.94-2.06-.94-.94-2.06-.94 2.06-2.06.94zm-11 1L8.5 8.5l.94-2.06 2.06-.94-2.06-.94L8.5 2.5l-.94 2.06-2.06.94zm10 10l.94 2.06.94-2.06 2.06-.94-2.06-.94-.94-2.06-.94 2.06-2.06.94z\"/><path d=\"M17.41 7.96l-1.37-1.37c-.4-.4-.92-.59-1.43-.59-.52 0-1.04.2-1.43.59L10.3 9.45l-7.72 7.72c-.78.78-.78 2.05 0 2.83L4 21.41c.39.39.9.59 1.41.59.51 0 1.02-.2 1.41-.59l7.78-7.78 2.81-2.81c.8-.78.8-2.07 0-2.86zM5.41 20L4 18.59l7.72-7.72 1.47 1.35L5.41 20z\"/>\n",
              "  </svg>\n",
              "      </button>\n",
              "      \n",
              "  <style>\n",
              "    .colab-df-container {\n",
              "      display:flex;\n",
              "      flex-wrap:wrap;\n",
              "      gap: 12px;\n",
              "    }\n",
              "\n",
              "    .colab-df-convert {\n",
              "      background-color: #E8F0FE;\n",
              "      border: none;\n",
              "      border-radius: 50%;\n",
              "      cursor: pointer;\n",
              "      display: none;\n",
              "      fill: #1967D2;\n",
              "      height: 32px;\n",
              "      padding: 0 0 0 0;\n",
              "      width: 32px;\n",
              "    }\n",
              "\n",
              "    .colab-df-convert:hover {\n",
              "      background-color: #E2EBFA;\n",
              "      box-shadow: 0px 1px 2px rgba(60, 64, 67, 0.3), 0px 1px 3px 1px rgba(60, 64, 67, 0.15);\n",
              "      fill: #174EA6;\n",
              "    }\n",
              "\n",
              "    [theme=dark] .colab-df-convert {\n",
              "      background-color: #3B4455;\n",
              "      fill: #D2E3FC;\n",
              "    }\n",
              "\n",
              "    [theme=dark] .colab-df-convert:hover {\n",
              "      background-color: #434B5C;\n",
              "      box-shadow: 0px 1px 3px 1px rgba(0, 0, 0, 0.15);\n",
              "      filter: drop-shadow(0px 1px 2px rgba(0, 0, 0, 0.3));\n",
              "      fill: #FFFFFF;\n",
              "    }\n",
              "  </style>\n",
              "\n",
              "      <script>\n",
              "        const buttonEl =\n",
              "          document.querySelector('#df-695046d7-eb1e-403f-914f-a38d5b507b0c button.colab-df-convert');\n",
              "        buttonEl.style.display =\n",
              "          google.colab.kernel.accessAllowed ? 'block' : 'none';\n",
              "\n",
              "        async function convertToInteractive(key) {\n",
              "          const element = document.querySelector('#df-695046d7-eb1e-403f-914f-a38d5b507b0c');\n",
              "          const dataTable =\n",
              "            await google.colab.kernel.invokeFunction('convertToInteractive',\n",
              "                                                     [key], {});\n",
              "          if (!dataTable) return;\n",
              "\n",
              "          const docLinkHtml = 'Like what you see? Visit the ' +\n",
              "            '<a target=\"_blank\" href=https://colab.research.google.com/notebooks/data_table.ipynb>data table notebook</a>'\n",
              "            + ' to learn more about interactive tables.';\n",
              "          element.innerHTML = '';\n",
              "          dataTable['output_type'] = 'display_data';\n",
              "          await google.colab.output.renderOutput(dataTable, element);\n",
              "          const docLink = document.createElement('div');\n",
              "          docLink.innerHTML = docLinkHtml;\n",
              "          element.appendChild(docLink);\n",
              "        }\n",
              "      </script>\n",
              "    </div>\n",
              "  </div>\n",
              "  "
            ]
          },
          "metadata": {},
          "execution_count": 95
        }
      ]
    },
    {
      "cell_type": "code",
      "source": [
        "df_perf"
      ],
      "metadata": {
        "colab": {
          "base_uri": "https://localhost:8080/",
          "height": 463
        },
        "id": "0B-65xA6HU5C",
        "outputId": "da3a12da-0676-42ef-a41d-481c598fa8b7"
      },
      "execution_count": null,
      "outputs": [
        {
          "output_type": "execute_result",
          "data": {
            "text/plain": [
              "      PerfID  EmpID  Rating     PerfDate\n",
              "0          1      1       1  31/Dec/2015\n",
              "1          2      2       2  31/Dec/2015\n",
              "2          3      3       2  31/Dec/2015\n",
              "3          4      4       4  31/Dec/2015\n",
              "4          5      5       2  31/Dec/2015\n",
              "...      ...    ...     ...          ...\n",
              "9600    9601   1558       3  31/Dec/2023\n",
              "9601    9602   1559       2  31/Dec/2023\n",
              "9602    9603   1560       4  31/Dec/2023\n",
              "9603    9604   1561       2  31/Dec/2023\n",
              "9604    9605   1562       2  31/Dec/2023\n",
              "\n",
              "[9605 rows x 4 columns]"
            ],
            "text/html": [
              "\n",
              "  <div id=\"df-a014381e-e6d3-4869-9d90-5d6c8489a9bd\">\n",
              "    <div class=\"colab-df-container\">\n",
              "      <div>\n",
              "<style scoped>\n",
              "    .dataframe tbody tr th:only-of-type {\n",
              "        vertical-align: middle;\n",
              "    }\n",
              "\n",
              "    .dataframe tbody tr th {\n",
              "        vertical-align: top;\n",
              "    }\n",
              "\n",
              "    .dataframe thead th {\n",
              "        text-align: right;\n",
              "    }\n",
              "</style>\n",
              "<table border=\"1\" class=\"dataframe\">\n",
              "  <thead>\n",
              "    <tr style=\"text-align: right;\">\n",
              "      <th></th>\n",
              "      <th>PerfID</th>\n",
              "      <th>EmpID</th>\n",
              "      <th>Rating</th>\n",
              "      <th>PerfDate</th>\n",
              "    </tr>\n",
              "  </thead>\n",
              "  <tbody>\n",
              "    <tr>\n",
              "      <th>0</th>\n",
              "      <td>1</td>\n",
              "      <td>1</td>\n",
              "      <td>1</td>\n",
              "      <td>31/Dec/2015</td>\n",
              "    </tr>\n",
              "    <tr>\n",
              "      <th>1</th>\n",
              "      <td>2</td>\n",
              "      <td>2</td>\n",
              "      <td>2</td>\n",
              "      <td>31/Dec/2015</td>\n",
              "    </tr>\n",
              "    <tr>\n",
              "      <th>2</th>\n",
              "      <td>3</td>\n",
              "      <td>3</td>\n",
              "      <td>2</td>\n",
              "      <td>31/Dec/2015</td>\n",
              "    </tr>\n",
              "    <tr>\n",
              "      <th>3</th>\n",
              "      <td>4</td>\n",
              "      <td>4</td>\n",
              "      <td>4</td>\n",
              "      <td>31/Dec/2015</td>\n",
              "    </tr>\n",
              "    <tr>\n",
              "      <th>4</th>\n",
              "      <td>5</td>\n",
              "      <td>5</td>\n",
              "      <td>2</td>\n",
              "      <td>31/Dec/2015</td>\n",
              "    </tr>\n",
              "    <tr>\n",
              "      <th>...</th>\n",
              "      <td>...</td>\n",
              "      <td>...</td>\n",
              "      <td>...</td>\n",
              "      <td>...</td>\n",
              "    </tr>\n",
              "    <tr>\n",
              "      <th>9600</th>\n",
              "      <td>9601</td>\n",
              "      <td>1558</td>\n",
              "      <td>3</td>\n",
              "      <td>31/Dec/2023</td>\n",
              "    </tr>\n",
              "    <tr>\n",
              "      <th>9601</th>\n",
              "      <td>9602</td>\n",
              "      <td>1559</td>\n",
              "      <td>2</td>\n",
              "      <td>31/Dec/2023</td>\n",
              "    </tr>\n",
              "    <tr>\n",
              "      <th>9602</th>\n",
              "      <td>9603</td>\n",
              "      <td>1560</td>\n",
              "      <td>4</td>\n",
              "      <td>31/Dec/2023</td>\n",
              "    </tr>\n",
              "    <tr>\n",
              "      <th>9603</th>\n",
              "      <td>9604</td>\n",
              "      <td>1561</td>\n",
              "      <td>2</td>\n",
              "      <td>31/Dec/2023</td>\n",
              "    </tr>\n",
              "    <tr>\n",
              "      <th>9604</th>\n",
              "      <td>9605</td>\n",
              "      <td>1562</td>\n",
              "      <td>2</td>\n",
              "      <td>31/Dec/2023</td>\n",
              "    </tr>\n",
              "  </tbody>\n",
              "</table>\n",
              "<p>9605 rows × 4 columns</p>\n",
              "</div>\n",
              "      <button class=\"colab-df-convert\" onclick=\"convertToInteractive('df-a014381e-e6d3-4869-9d90-5d6c8489a9bd')\"\n",
              "              title=\"Convert this dataframe to an interactive table.\"\n",
              "              style=\"display:none;\">\n",
              "        \n",
              "  <svg xmlns=\"http://www.w3.org/2000/svg\" height=\"24px\"viewBox=\"0 0 24 24\"\n",
              "       width=\"24px\">\n",
              "    <path d=\"M0 0h24v24H0V0z\" fill=\"none\"/>\n",
              "    <path d=\"M18.56 5.44l.94 2.06.94-2.06 2.06-.94-2.06-.94-.94-2.06-.94 2.06-2.06.94zm-11 1L8.5 8.5l.94-2.06 2.06-.94-2.06-.94L8.5 2.5l-.94 2.06-2.06.94zm10 10l.94 2.06.94-2.06 2.06-.94-2.06-.94-.94-2.06-.94 2.06-2.06.94z\"/><path d=\"M17.41 7.96l-1.37-1.37c-.4-.4-.92-.59-1.43-.59-.52 0-1.04.2-1.43.59L10.3 9.45l-7.72 7.72c-.78.78-.78 2.05 0 2.83L4 21.41c.39.39.9.59 1.41.59.51 0 1.02-.2 1.41-.59l7.78-7.78 2.81-2.81c.8-.78.8-2.07 0-2.86zM5.41 20L4 18.59l7.72-7.72 1.47 1.35L5.41 20z\"/>\n",
              "  </svg>\n",
              "      </button>\n",
              "      \n",
              "  <style>\n",
              "    .colab-df-container {\n",
              "      display:flex;\n",
              "      flex-wrap:wrap;\n",
              "      gap: 12px;\n",
              "    }\n",
              "\n",
              "    .colab-df-convert {\n",
              "      background-color: #E8F0FE;\n",
              "      border: none;\n",
              "      border-radius: 50%;\n",
              "      cursor: pointer;\n",
              "      display: none;\n",
              "      fill: #1967D2;\n",
              "      height: 32px;\n",
              "      padding: 0 0 0 0;\n",
              "      width: 32px;\n",
              "    }\n",
              "\n",
              "    .colab-df-convert:hover {\n",
              "      background-color: #E2EBFA;\n",
              "      box-shadow: 0px 1px 2px rgba(60, 64, 67, 0.3), 0px 1px 3px 1px rgba(60, 64, 67, 0.15);\n",
              "      fill: #174EA6;\n",
              "    }\n",
              "\n",
              "    [theme=dark] .colab-df-convert {\n",
              "      background-color: #3B4455;\n",
              "      fill: #D2E3FC;\n",
              "    }\n",
              "\n",
              "    [theme=dark] .colab-df-convert:hover {\n",
              "      background-color: #434B5C;\n",
              "      box-shadow: 0px 1px 3px 1px rgba(0, 0, 0, 0.15);\n",
              "      filter: drop-shadow(0px 1px 2px rgba(0, 0, 0, 0.3));\n",
              "      fill: #FFFFFF;\n",
              "    }\n",
              "  </style>\n",
              "\n",
              "      <script>\n",
              "        const buttonEl =\n",
              "          document.querySelector('#df-a014381e-e6d3-4869-9d90-5d6c8489a9bd button.colab-df-convert');\n",
              "        buttonEl.style.display =\n",
              "          google.colab.kernel.accessAllowed ? 'block' : 'none';\n",
              "\n",
              "        async function convertToInteractive(key) {\n",
              "          const element = document.querySelector('#df-a014381e-e6d3-4869-9d90-5d6c8489a9bd');\n",
              "          const dataTable =\n",
              "            await google.colab.kernel.invokeFunction('convertToInteractive',\n",
              "                                                     [key], {});\n",
              "          if (!dataTable) return;\n",
              "\n",
              "          const docLinkHtml = 'Like what you see? Visit the ' +\n",
              "            '<a target=\"_blank\" href=https://colab.research.google.com/notebooks/data_table.ipynb>data table notebook</a>'\n",
              "            + ' to learn more about interactive tables.';\n",
              "          element.innerHTML = '';\n",
              "          dataTable['output_type'] = 'display_data';\n",
              "          await google.colab.output.renderOutput(dataTable, element);\n",
              "          const docLink = document.createElement('div');\n",
              "          docLink.innerHTML = docLinkHtml;\n",
              "          element.appendChild(docLink);\n",
              "        }\n",
              "      </script>\n",
              "    </div>\n",
              "  </div>\n",
              "  "
            ]
          },
          "metadata": {},
          "execution_count": 94
        }
      ]
    },
    {
      "cell_type": "code",
      "source": [
        "df_empl.dtypes"
      ],
      "metadata": {
        "colab": {
          "base_uri": "https://localhost:8080/"
        },
        "id": "DRmNWcbLMwXZ",
        "outputId": "17825cbd-ee03-4695-dee4-96fbd5519496"
      },
      "execution_count": null,
      "outputs": [
        {
          "output_type": "execute_result",
          "data": {
            "text/plain": [
              "EmpID         int64\n",
              "EmpName      object\n",
              "EngDt        object\n",
              "TermDt       object\n",
              "DepID         int64\n",
              "GenderID      int64\n",
              "RaceID        int64\n",
              "MgrID         int64\n",
              "DOB          object\n",
              "PayRate     float64\n",
              "Level         int64\n",
              "dtype: object"
            ]
          },
          "metadata": {},
          "execution_count": 44
        }
      ]
    },
    {
      "cell_type": "markdown",
      "source": [
        "# Pre-processing\n",
        "\n",
        "\n",
        "In order to work and do analysis on the dataframe, first we need to do some changes, cleaning, pre-processing on the data. Below are the transformations that I'll do.\n",
        "\n",
        "1. Change the date related columns that are currently object type to date type\n",
        "2. Droping unnecessary columns, i.e, columns that don't have research information values.\n",
        "3. Merge the employees dataframe and the performance dataframe into one dataframe, that I will call hr_df(\"human resources dataframe\").\n",
        "4. Deal with NaN values on the dataframe\n",
        "5. Create additional columns that could enhance our analysis."
      ],
      "metadata": {
        "id": "zzciNYBsTyWr"
      }
    },
    {
      "cell_type": "markdown",
      "source": [
        "Changing the date related columns to date type as they are object types."
      ],
      "metadata": {
        "id": "x_y3yLPzJkII"
      }
    },
    {
      "cell_type": "code",
      "source": [
        "df_empl[['EngDt', 'TermDt', 'DOB']]= df_empl[['EngDt', 'TermDt', 'DOB']].apply(pd.to_datetime)"
      ],
      "metadata": {
        "id": "3OXmQtCiNkMo"
      },
      "execution_count": 4,
      "outputs": []
    },
    {
      "cell_type": "code",
      "source": [
        "df_perf['PerfDate'] = df_perf['PerfDate'].apply(pd.to_datetime)"
      ],
      "metadata": {
        "id": "87imKhTDmHrY"
      },
      "execution_count": 5,
      "outputs": []
    },
    {
      "cell_type": "code",
      "source": [
        "df_empl.dtypes"
      ],
      "metadata": {
        "colab": {
          "base_uri": "https://localhost:8080/"
        },
        "id": "bDM--WqGUNLR",
        "outputId": "fda2c073-0142-4575-d05e-5c07959e260f"
      },
      "execution_count": 6,
      "outputs": [
        {
          "output_type": "execute_result",
          "data": {
            "text/plain": [
              "EmpID                int64\n",
              "EmpName             object\n",
              "EngDt       datetime64[ns]\n",
              "TermDt      datetime64[ns]\n",
              "DepID                int64\n",
              "GenderID             int64\n",
              "RaceID               int64\n",
              "MgrID                int64\n",
              "DOB         datetime64[ns]\n",
              "PayRate            float64\n",
              "Level                int64\n",
              "dtype: object"
            ]
          },
          "metadata": {},
          "execution_count": 6
        }
      ]
    },
    {
      "cell_type": "markdown",
      "source": [
        "So the date columns now are date type, NaN in the TermDt column now changed to NaT(Not a Time)."
      ],
      "metadata": {
        "id": "pxDGy-iLU1aI"
      }
    },
    {
      "cell_type": "code",
      "source": [
        "df_empl"
      ],
      "metadata": {
        "colab": {
          "base_uri": "https://localhost:8080/",
          "height": 463
        },
        "id": "pKctmIuTTHIe",
        "outputId": "79b3e2e0-7e2c-401c-e749-cfe5fb50bb90"
      },
      "execution_count": 7,
      "outputs": [
        {
          "output_type": "execute_result",
          "data": {
            "text/plain": [
              "      EmpID               EmpName      EngDt     TermDt  DepID  GenderID  \\\n",
              "0         1           Nash, Kay K 2015-01-01 2017-05-29      8         1   \n",
              "1         2    Simpson, Raymond X 2015-01-01        NaT      7         0   \n",
              "2         3         Devlin, Kay M 2015-06-10 2019-06-24     10         1   \n",
              "3         4   Massie, Elisabeth V 2015-01-01        NaT      4         1   \n",
              "4         5     Mead, Catherine N 2015-05-22 2020-07-15      8         1   \n",
              "...     ...                   ...        ...        ...    ...       ...   \n",
              "1557   1558  Shearer, Dimitrios Q 2023-01-11        NaT      3         0   \n",
              "1558   1559      Shute, Phyllis H 2023-12-07        NaT      1         1   \n",
              "1559   1560   Scholes, Ripduman K 2023-04-22        NaT      1         1   \n",
              "1560   1561   Rawson, Elisabeth K 2023-07-03        NaT      6         1   \n",
              "1561   1562    Mongan, Gabriele T 2023-01-07        NaT      2         1   \n",
              "\n",
              "      RaceID  MgrID        DOB  PayRate  Level  \n",
              "0          1      1 1987-02-12      NaN      1  \n",
              "1          4      2 1982-11-15      NaN      1  \n",
              "2          5      3 1986-02-22      NaN      1  \n",
              "3          2      4 1977-05-25      NaN      1  \n",
              "4          1      1 1995-04-04      NaN      2  \n",
              "...      ...    ...        ...      ...    ...  \n",
              "1557       1   1526 1990-05-21      NaN     28  \n",
              "1558       1   1460 1974-10-01      NaN     30  \n",
              "1559       4   1559 1971-05-11      NaN     31  \n",
              "1560       3   1554 1982-08-25      NaN     30  \n",
              "1561       5   1530 1974-11-15      NaN     26  \n",
              "\n",
              "[1562 rows x 11 columns]"
            ],
            "text/html": [
              "\n",
              "  <div id=\"df-f9d60e1e-805a-4ab6-b2c1-eeac4f207396\">\n",
              "    <div class=\"colab-df-container\">\n",
              "      <div>\n",
              "<style scoped>\n",
              "    .dataframe tbody tr th:only-of-type {\n",
              "        vertical-align: middle;\n",
              "    }\n",
              "\n",
              "    .dataframe tbody tr th {\n",
              "        vertical-align: top;\n",
              "    }\n",
              "\n",
              "    .dataframe thead th {\n",
              "        text-align: right;\n",
              "    }\n",
              "</style>\n",
              "<table border=\"1\" class=\"dataframe\">\n",
              "  <thead>\n",
              "    <tr style=\"text-align: right;\">\n",
              "      <th></th>\n",
              "      <th>EmpID</th>\n",
              "      <th>EmpName</th>\n",
              "      <th>EngDt</th>\n",
              "      <th>TermDt</th>\n",
              "      <th>DepID</th>\n",
              "      <th>GenderID</th>\n",
              "      <th>RaceID</th>\n",
              "      <th>MgrID</th>\n",
              "      <th>DOB</th>\n",
              "      <th>PayRate</th>\n",
              "      <th>Level</th>\n",
              "    </tr>\n",
              "  </thead>\n",
              "  <tbody>\n",
              "    <tr>\n",
              "      <th>0</th>\n",
              "      <td>1</td>\n",
              "      <td>Nash, Kay K</td>\n",
              "      <td>2015-01-01</td>\n",
              "      <td>2017-05-29</td>\n",
              "      <td>8</td>\n",
              "      <td>1</td>\n",
              "      <td>1</td>\n",
              "      <td>1</td>\n",
              "      <td>1987-02-12</td>\n",
              "      <td>NaN</td>\n",
              "      <td>1</td>\n",
              "    </tr>\n",
              "    <tr>\n",
              "      <th>1</th>\n",
              "      <td>2</td>\n",
              "      <td>Simpson, Raymond X</td>\n",
              "      <td>2015-01-01</td>\n",
              "      <td>NaT</td>\n",
              "      <td>7</td>\n",
              "      <td>0</td>\n",
              "      <td>4</td>\n",
              "      <td>2</td>\n",
              "      <td>1982-11-15</td>\n",
              "      <td>NaN</td>\n",
              "      <td>1</td>\n",
              "    </tr>\n",
              "    <tr>\n",
              "      <th>2</th>\n",
              "      <td>3</td>\n",
              "      <td>Devlin, Kay M</td>\n",
              "      <td>2015-06-10</td>\n",
              "      <td>2019-06-24</td>\n",
              "      <td>10</td>\n",
              "      <td>1</td>\n",
              "      <td>5</td>\n",
              "      <td>3</td>\n",
              "      <td>1986-02-22</td>\n",
              "      <td>NaN</td>\n",
              "      <td>1</td>\n",
              "    </tr>\n",
              "    <tr>\n",
              "      <th>3</th>\n",
              "      <td>4</td>\n",
              "      <td>Massie, Elisabeth V</td>\n",
              "      <td>2015-01-01</td>\n",
              "      <td>NaT</td>\n",
              "      <td>4</td>\n",
              "      <td>1</td>\n",
              "      <td>2</td>\n",
              "      <td>4</td>\n",
              "      <td>1977-05-25</td>\n",
              "      <td>NaN</td>\n",
              "      <td>1</td>\n",
              "    </tr>\n",
              "    <tr>\n",
              "      <th>4</th>\n",
              "      <td>5</td>\n",
              "      <td>Mead, Catherine N</td>\n",
              "      <td>2015-05-22</td>\n",
              "      <td>2020-07-15</td>\n",
              "      <td>8</td>\n",
              "      <td>1</td>\n",
              "      <td>1</td>\n",
              "      <td>1</td>\n",
              "      <td>1995-04-04</td>\n",
              "      <td>NaN</td>\n",
              "      <td>2</td>\n",
              "    </tr>\n",
              "    <tr>\n",
              "      <th>...</th>\n",
              "      <td>...</td>\n",
              "      <td>...</td>\n",
              "      <td>...</td>\n",
              "      <td>...</td>\n",
              "      <td>...</td>\n",
              "      <td>...</td>\n",
              "      <td>...</td>\n",
              "      <td>...</td>\n",
              "      <td>...</td>\n",
              "      <td>...</td>\n",
              "      <td>...</td>\n",
              "    </tr>\n",
              "    <tr>\n",
              "      <th>1557</th>\n",
              "      <td>1558</td>\n",
              "      <td>Shearer, Dimitrios Q</td>\n",
              "      <td>2023-01-11</td>\n",
              "      <td>NaT</td>\n",
              "      <td>3</td>\n",
              "      <td>0</td>\n",
              "      <td>1</td>\n",
              "      <td>1526</td>\n",
              "      <td>1990-05-21</td>\n",
              "      <td>NaN</td>\n",
              "      <td>28</td>\n",
              "    </tr>\n",
              "    <tr>\n",
              "      <th>1558</th>\n",
              "      <td>1559</td>\n",
              "      <td>Shute, Phyllis H</td>\n",
              "      <td>2023-12-07</td>\n",
              "      <td>NaT</td>\n",
              "      <td>1</td>\n",
              "      <td>1</td>\n",
              "      <td>1</td>\n",
              "      <td>1460</td>\n",
              "      <td>1974-10-01</td>\n",
              "      <td>NaN</td>\n",
              "      <td>30</td>\n",
              "    </tr>\n",
              "    <tr>\n",
              "      <th>1559</th>\n",
              "      <td>1560</td>\n",
              "      <td>Scholes, Ripduman K</td>\n",
              "      <td>2023-04-22</td>\n",
              "      <td>NaT</td>\n",
              "      <td>1</td>\n",
              "      <td>1</td>\n",
              "      <td>4</td>\n",
              "      <td>1559</td>\n",
              "      <td>1971-05-11</td>\n",
              "      <td>NaN</td>\n",
              "      <td>31</td>\n",
              "    </tr>\n",
              "    <tr>\n",
              "      <th>1560</th>\n",
              "      <td>1561</td>\n",
              "      <td>Rawson, Elisabeth K</td>\n",
              "      <td>2023-07-03</td>\n",
              "      <td>NaT</td>\n",
              "      <td>6</td>\n",
              "      <td>1</td>\n",
              "      <td>3</td>\n",
              "      <td>1554</td>\n",
              "      <td>1982-08-25</td>\n",
              "      <td>NaN</td>\n",
              "      <td>30</td>\n",
              "    </tr>\n",
              "    <tr>\n",
              "      <th>1561</th>\n",
              "      <td>1562</td>\n",
              "      <td>Mongan, Gabriele T</td>\n",
              "      <td>2023-01-07</td>\n",
              "      <td>NaT</td>\n",
              "      <td>2</td>\n",
              "      <td>1</td>\n",
              "      <td>5</td>\n",
              "      <td>1530</td>\n",
              "      <td>1974-11-15</td>\n",
              "      <td>NaN</td>\n",
              "      <td>26</td>\n",
              "    </tr>\n",
              "  </tbody>\n",
              "</table>\n",
              "<p>1562 rows × 11 columns</p>\n",
              "</div>\n",
              "      <button class=\"colab-df-convert\" onclick=\"convertToInteractive('df-f9d60e1e-805a-4ab6-b2c1-eeac4f207396')\"\n",
              "              title=\"Convert this dataframe to an interactive table.\"\n",
              "              style=\"display:none;\">\n",
              "        \n",
              "  <svg xmlns=\"http://www.w3.org/2000/svg\" height=\"24px\"viewBox=\"0 0 24 24\"\n",
              "       width=\"24px\">\n",
              "    <path d=\"M0 0h24v24H0V0z\" fill=\"none\"/>\n",
              "    <path d=\"M18.56 5.44l.94 2.06.94-2.06 2.06-.94-2.06-.94-.94-2.06-.94 2.06-2.06.94zm-11 1L8.5 8.5l.94-2.06 2.06-.94-2.06-.94L8.5 2.5l-.94 2.06-2.06.94zm10 10l.94 2.06.94-2.06 2.06-.94-2.06-.94-.94-2.06-.94 2.06-2.06.94z\"/><path d=\"M17.41 7.96l-1.37-1.37c-.4-.4-.92-.59-1.43-.59-.52 0-1.04.2-1.43.59L10.3 9.45l-7.72 7.72c-.78.78-.78 2.05 0 2.83L4 21.41c.39.39.9.59 1.41.59.51 0 1.02-.2 1.41-.59l7.78-7.78 2.81-2.81c.8-.78.8-2.07 0-2.86zM5.41 20L4 18.59l7.72-7.72 1.47 1.35L5.41 20z\"/>\n",
              "  </svg>\n",
              "      </button>\n",
              "      \n",
              "  <style>\n",
              "    .colab-df-container {\n",
              "      display:flex;\n",
              "      flex-wrap:wrap;\n",
              "      gap: 12px;\n",
              "    }\n",
              "\n",
              "    .colab-df-convert {\n",
              "      background-color: #E8F0FE;\n",
              "      border: none;\n",
              "      border-radius: 50%;\n",
              "      cursor: pointer;\n",
              "      display: none;\n",
              "      fill: #1967D2;\n",
              "      height: 32px;\n",
              "      padding: 0 0 0 0;\n",
              "      width: 32px;\n",
              "    }\n",
              "\n",
              "    .colab-df-convert:hover {\n",
              "      background-color: #E2EBFA;\n",
              "      box-shadow: 0px 1px 2px rgba(60, 64, 67, 0.3), 0px 1px 3px 1px rgba(60, 64, 67, 0.15);\n",
              "      fill: #174EA6;\n",
              "    }\n",
              "\n",
              "    [theme=dark] .colab-df-convert {\n",
              "      background-color: #3B4455;\n",
              "      fill: #D2E3FC;\n",
              "    }\n",
              "\n",
              "    [theme=dark] .colab-df-convert:hover {\n",
              "      background-color: #434B5C;\n",
              "      box-shadow: 0px 1px 3px 1px rgba(0, 0, 0, 0.15);\n",
              "      filter: drop-shadow(0px 1px 2px rgba(0, 0, 0, 0.3));\n",
              "      fill: #FFFFFF;\n",
              "    }\n",
              "  </style>\n",
              "\n",
              "      <script>\n",
              "        const buttonEl =\n",
              "          document.querySelector('#df-f9d60e1e-805a-4ab6-b2c1-eeac4f207396 button.colab-df-convert');\n",
              "        buttonEl.style.display =\n",
              "          google.colab.kernel.accessAllowed ? 'block' : 'none';\n",
              "\n",
              "        async function convertToInteractive(key) {\n",
              "          const element = document.querySelector('#df-f9d60e1e-805a-4ab6-b2c1-eeac4f207396');\n",
              "          const dataTable =\n",
              "            await google.colab.kernel.invokeFunction('convertToInteractive',\n",
              "                                                     [key], {});\n",
              "          if (!dataTable) return;\n",
              "\n",
              "          const docLinkHtml = 'Like what you see? Visit the ' +\n",
              "            '<a target=\"_blank\" href=https://colab.research.google.com/notebooks/data_table.ipynb>data table notebook</a>'\n",
              "            + ' to learn more about interactive tables.';\n",
              "          element.innerHTML = '';\n",
              "          dataTable['output_type'] = 'display_data';\n",
              "          await google.colab.output.renderOutput(dataTable, element);\n",
              "          const docLink = document.createElement('div');\n",
              "          docLink.innerHTML = docLinkHtml;\n",
              "          element.appendChild(docLink);\n",
              "        }\n",
              "      </script>\n",
              "    </div>\n",
              "  </div>\n",
              "  "
            ]
          },
          "metadata": {},
          "execution_count": 7
        }
      ]
    },
    {
      "cell_type": "markdown",
      "source": [
        "As the Name and PayRate columns in the employees dataframe, and the PerfID column in the performance dataframe doesn't give us any useful information I will drop them."
      ],
      "metadata": {
        "id": "w8CLra4BJIW_"
      }
    },
    {
      "cell_type": "code",
      "source": [
        "df_empl = df_empl.drop(['EmpName','PayRate'], axis = 1)\n",
        "df_perf = df_perf.drop('PerfID', axis = 1 )"
      ],
      "metadata": {
        "id": "2HeN9WB1NCU6"
      },
      "execution_count": 8,
      "outputs": []
    },
    {
      "cell_type": "markdown",
      "source": [
        "Now I will merge the performance dataframe with the employees dataframe for further analysis. However in order to keep the dataframes with the same number of rows, I'll keep only the last performance data and performance rate for each employee"
      ],
      "metadata": {
        "id": "R9XEJ-aImgUE"
      }
    },
    {
      "cell_type": "code",
      "source": [
        "df_perf = df_perf.sort_values(['EmpID','PerfDate'], ascending=False)"
      ],
      "metadata": {
        "id": "LGFLWsvvnLU-"
      },
      "execution_count": 9,
      "outputs": []
    },
    {
      "cell_type": "code",
      "source": [
        "df_perf.drop_duplicates(subset=[\"EmpID\"], inplace=True)"
      ],
      "metadata": {
        "id": "ABRU5gMBrx4O"
      },
      "execution_count": 10,
      "outputs": []
    },
    {
      "cell_type": "code",
      "source": [
        "df_perf"
      ],
      "metadata": {
        "colab": {
          "base_uri": "https://localhost:8080/",
          "height": 463
        },
        "id": "5gK8kiRdtKOn",
        "outputId": "ea8f7cc7-581f-486f-bc6d-1ceb1973c180"
      },
      "execution_count": 11,
      "outputs": [
        {
          "output_type": "execute_result",
          "data": {
            "text/plain": [
              "      EmpID  Rating   PerfDate\n",
              "9604   1562       2 2023-12-31\n",
              "9603   1561       2 2023-12-31\n",
              "9602   1560       4 2023-12-31\n",
              "9601   1559       2 2023-12-31\n",
              "9600   1558       3 2023-12-31\n",
              "...     ...     ...        ...\n",
              "4059      5       3 2019-12-31\n",
              "8488      4       2 2023-12-31\n",
              "2971      3       4 2018-12-31\n",
              "8487      2       3 2023-12-31\n",
              "868       1       4 2016-12-31\n",
              "\n",
              "[1532 rows x 3 columns]"
            ],
            "text/html": [
              "\n",
              "  <div id=\"df-38cf45c2-f034-48fa-8db1-ad3a1e66433c\">\n",
              "    <div class=\"colab-df-container\">\n",
              "      <div>\n",
              "<style scoped>\n",
              "    .dataframe tbody tr th:only-of-type {\n",
              "        vertical-align: middle;\n",
              "    }\n",
              "\n",
              "    .dataframe tbody tr th {\n",
              "        vertical-align: top;\n",
              "    }\n",
              "\n",
              "    .dataframe thead th {\n",
              "        text-align: right;\n",
              "    }\n",
              "</style>\n",
              "<table border=\"1\" class=\"dataframe\">\n",
              "  <thead>\n",
              "    <tr style=\"text-align: right;\">\n",
              "      <th></th>\n",
              "      <th>EmpID</th>\n",
              "      <th>Rating</th>\n",
              "      <th>PerfDate</th>\n",
              "    </tr>\n",
              "  </thead>\n",
              "  <tbody>\n",
              "    <tr>\n",
              "      <th>9604</th>\n",
              "      <td>1562</td>\n",
              "      <td>2</td>\n",
              "      <td>2023-12-31</td>\n",
              "    </tr>\n",
              "    <tr>\n",
              "      <th>9603</th>\n",
              "      <td>1561</td>\n",
              "      <td>2</td>\n",
              "      <td>2023-12-31</td>\n",
              "    </tr>\n",
              "    <tr>\n",
              "      <th>9602</th>\n",
              "      <td>1560</td>\n",
              "      <td>4</td>\n",
              "      <td>2023-12-31</td>\n",
              "    </tr>\n",
              "    <tr>\n",
              "      <th>9601</th>\n",
              "      <td>1559</td>\n",
              "      <td>2</td>\n",
              "      <td>2023-12-31</td>\n",
              "    </tr>\n",
              "    <tr>\n",
              "      <th>9600</th>\n",
              "      <td>1558</td>\n",
              "      <td>3</td>\n",
              "      <td>2023-12-31</td>\n",
              "    </tr>\n",
              "    <tr>\n",
              "      <th>...</th>\n",
              "      <td>...</td>\n",
              "      <td>...</td>\n",
              "      <td>...</td>\n",
              "    </tr>\n",
              "    <tr>\n",
              "      <th>4059</th>\n",
              "      <td>5</td>\n",
              "      <td>3</td>\n",
              "      <td>2019-12-31</td>\n",
              "    </tr>\n",
              "    <tr>\n",
              "      <th>8488</th>\n",
              "      <td>4</td>\n",
              "      <td>2</td>\n",
              "      <td>2023-12-31</td>\n",
              "    </tr>\n",
              "    <tr>\n",
              "      <th>2971</th>\n",
              "      <td>3</td>\n",
              "      <td>4</td>\n",
              "      <td>2018-12-31</td>\n",
              "    </tr>\n",
              "    <tr>\n",
              "      <th>8487</th>\n",
              "      <td>2</td>\n",
              "      <td>3</td>\n",
              "      <td>2023-12-31</td>\n",
              "    </tr>\n",
              "    <tr>\n",
              "      <th>868</th>\n",
              "      <td>1</td>\n",
              "      <td>4</td>\n",
              "      <td>2016-12-31</td>\n",
              "    </tr>\n",
              "  </tbody>\n",
              "</table>\n",
              "<p>1532 rows × 3 columns</p>\n",
              "</div>\n",
              "      <button class=\"colab-df-convert\" onclick=\"convertToInteractive('df-38cf45c2-f034-48fa-8db1-ad3a1e66433c')\"\n",
              "              title=\"Convert this dataframe to an interactive table.\"\n",
              "              style=\"display:none;\">\n",
              "        \n",
              "  <svg xmlns=\"http://www.w3.org/2000/svg\" height=\"24px\"viewBox=\"0 0 24 24\"\n",
              "       width=\"24px\">\n",
              "    <path d=\"M0 0h24v24H0V0z\" fill=\"none\"/>\n",
              "    <path d=\"M18.56 5.44l.94 2.06.94-2.06 2.06-.94-2.06-.94-.94-2.06-.94 2.06-2.06.94zm-11 1L8.5 8.5l.94-2.06 2.06-.94-2.06-.94L8.5 2.5l-.94 2.06-2.06.94zm10 10l.94 2.06.94-2.06 2.06-.94-2.06-.94-.94-2.06-.94 2.06-2.06.94z\"/><path d=\"M17.41 7.96l-1.37-1.37c-.4-.4-.92-.59-1.43-.59-.52 0-1.04.2-1.43.59L10.3 9.45l-7.72 7.72c-.78.78-.78 2.05 0 2.83L4 21.41c.39.39.9.59 1.41.59.51 0 1.02-.2 1.41-.59l7.78-7.78 2.81-2.81c.8-.78.8-2.07 0-2.86zM5.41 20L4 18.59l7.72-7.72 1.47 1.35L5.41 20z\"/>\n",
              "  </svg>\n",
              "      </button>\n",
              "      \n",
              "  <style>\n",
              "    .colab-df-container {\n",
              "      display:flex;\n",
              "      flex-wrap:wrap;\n",
              "      gap: 12px;\n",
              "    }\n",
              "\n",
              "    .colab-df-convert {\n",
              "      background-color: #E8F0FE;\n",
              "      border: none;\n",
              "      border-radius: 50%;\n",
              "      cursor: pointer;\n",
              "      display: none;\n",
              "      fill: #1967D2;\n",
              "      height: 32px;\n",
              "      padding: 0 0 0 0;\n",
              "      width: 32px;\n",
              "    }\n",
              "\n",
              "    .colab-df-convert:hover {\n",
              "      background-color: #E2EBFA;\n",
              "      box-shadow: 0px 1px 2px rgba(60, 64, 67, 0.3), 0px 1px 3px 1px rgba(60, 64, 67, 0.15);\n",
              "      fill: #174EA6;\n",
              "    }\n",
              "\n",
              "    [theme=dark] .colab-df-convert {\n",
              "      background-color: #3B4455;\n",
              "      fill: #D2E3FC;\n",
              "    }\n",
              "\n",
              "    [theme=dark] .colab-df-convert:hover {\n",
              "      background-color: #434B5C;\n",
              "      box-shadow: 0px 1px 3px 1px rgba(0, 0, 0, 0.15);\n",
              "      filter: drop-shadow(0px 1px 2px rgba(0, 0, 0, 0.3));\n",
              "      fill: #FFFFFF;\n",
              "    }\n",
              "  </style>\n",
              "\n",
              "      <script>\n",
              "        const buttonEl =\n",
              "          document.querySelector('#df-38cf45c2-f034-48fa-8db1-ad3a1e66433c button.colab-df-convert');\n",
              "        buttonEl.style.display =\n",
              "          google.colab.kernel.accessAllowed ? 'block' : 'none';\n",
              "\n",
              "        async function convertToInteractive(key) {\n",
              "          const element = document.querySelector('#df-38cf45c2-f034-48fa-8db1-ad3a1e66433c');\n",
              "          const dataTable =\n",
              "            await google.colab.kernel.invokeFunction('convertToInteractive',\n",
              "                                                     [key], {});\n",
              "          if (!dataTable) return;\n",
              "\n",
              "          const docLinkHtml = 'Like what you see? Visit the ' +\n",
              "            '<a target=\"_blank\" href=https://colab.research.google.com/notebooks/data_table.ipynb>data table notebook</a>'\n",
              "            + ' to learn more about interactive tables.';\n",
              "          element.innerHTML = '';\n",
              "          dataTable['output_type'] = 'display_data';\n",
              "          await google.colab.output.renderOutput(dataTable, element);\n",
              "          const docLink = document.createElement('div');\n",
              "          docLink.innerHTML = docLinkHtml;\n",
              "          element.appendChild(docLink);\n",
              "        }\n",
              "      </script>\n",
              "    </div>\n",
              "  </div>\n",
              "  "
            ]
          },
          "metadata": {},
          "execution_count": 11
        }
      ]
    },
    {
      "cell_type": "markdown",
      "source": [
        "Merging the two dataframes and creating a new dataframe called hr_df."
      ],
      "metadata": {
        "id": "yYDaYJczR60G"
      }
    },
    {
      "cell_type": "code",
      "source": [
        "hr_df = df_empl.merge(df_perf, on ='EmpID', how ='outer', validate='one_to_one')"
      ],
      "metadata": {
        "id": "GIZN9FTzkgo6"
      },
      "execution_count": 12,
      "outputs": []
    },
    {
      "cell_type": "markdown",
      "source": [
        "As we can see on the df_perf not all employees did a performance test(the dataset has 30 rows less than the df_empl), so on the merge the values of rating, PerfID, and PerfDate will be NaN valus.\n",
        "\n",
        "In order to change this fact I'll do the following changes, any employee that didn't take a performance test will have the rating as 1, and the date will be the lastest date on the dataset, in this case 2023-12-31.\n"
      ],
      "metadata": {
        "id": "BBhki3WDQk4B"
      }
    },
    {
      "cell_type": "code",
      "source": [
        "hr_df['Rating'] = hr_df['Rating'].fillna(1)\n",
        "hr_df['PerfDate'] = hr_df['PerfDate'].fillna('2023-12-31 00:00:00')\n"
      ],
      "metadata": {
        "id": "JzyZu1BjcTp0"
      },
      "execution_count": 13,
      "outputs": []
    },
    {
      "cell_type": "markdown",
      "source": [
        "Now I'll add some extra columns that will facilitate the analysis that i'll do later. \n",
        "\n",
        "The first new column that I'll create is a Churn column, this columns will be create using the TermDt column, so if the value on TermDt is NaT, the churn value will be Zero, else the column value will be One.\n",
        "\n",
        "The second new column will contain the age information for all employees, to do this I will subtract the year in the DOB column with the year in the PerfDate column."
      ],
      "metadata": {
        "id": "xu54SX7-Fn_f"
      }
    },
    {
      "cell_type": "code",
      "source": [
        "from pandas._libs.tslibs.nattype import NaT   #Library imported to deal with the NaT values on date columns\n",
        "count_churn = []\n",
        "for i in hr_df['TermDt']:\n",
        "    if i is NaT:\n",
        "        i = 0\n",
        "        count_churn.append(i)\n",
        "    else:\n",
        "      i = 1\n",
        "      count_churn.append(i)\n",
        "count_churn\n",
        "\n",
        "hr_df['Churn'] = count_churn"
      ],
      "metadata": {
        "id": "0Wmt27GiEy7i"
      },
      "execution_count": 14,
      "outputs": []
    },
    {
      "cell_type": "code",
      "source": [
        " hr_df['Age'] = (hr_df.PerfDate.dt.year- hr_df.DOB.dt.year) #creating the Age column"
      ],
      "metadata": {
        "id": "USHlNVlUBhpU"
      },
      "execution_count": 16,
      "outputs": []
    },
    {
      "cell_type": "markdown",
      "source": [
        "Now we have the dataframe with all information that could be important and have some research value. \n",
        "\n",
        "The hr_df now is ready for the analysis, so I'll proceed to do that"
      ],
      "metadata": {
        "id": "0mbPfrsmS4QG"
      }
    },
    {
      "cell_type": "code",
      "source": [
        "hr_df"
      ],
      "metadata": {
        "colab": {
          "base_uri": "https://localhost:8080/",
          "height": 463
        },
        "id": "6WBvDJr5k5Vx",
        "outputId": "bfa9e8ea-671b-45b8-ce35-7af5a4a65e80"
      },
      "execution_count": 17,
      "outputs": [
        {
          "output_type": "execute_result",
          "data": {
            "text/plain": [
              "      EmpID      EngDt     TermDt  DepID  GenderID  RaceID  MgrID        DOB  \\\n",
              "0         1 2015-01-01 2017-05-29      8         1       1      1 1987-02-12   \n",
              "1         2 2015-01-01        NaT      7         0       4      2 1982-11-15   \n",
              "2         3 2015-06-10 2019-06-24     10         1       5      3 1986-02-22   \n",
              "3         4 2015-01-01        NaT      4         1       2      4 1977-05-25   \n",
              "4         5 2015-05-22 2020-07-15      8         1       1      1 1995-04-04   \n",
              "...     ...        ...        ...    ...       ...     ...    ...        ...   \n",
              "1557   1558 2023-01-11        NaT      3         0       1   1526 1990-05-21   \n",
              "1558   1559 2023-12-07        NaT      1         1       1   1460 1974-10-01   \n",
              "1559   1560 2023-04-22        NaT      1         1       4   1559 1971-05-11   \n",
              "1560   1561 2023-07-03        NaT      6         1       3   1554 1982-08-25   \n",
              "1561   1562 2023-01-07        NaT      2         1       5   1530 1974-11-15   \n",
              "\n",
              "      Level  Rating   PerfDate  Churn  Age  \n",
              "0         1     4.0 2016-12-31      1   29  \n",
              "1         1     3.0 2023-12-31      0   41  \n",
              "2         1     4.0 2018-12-31      1   32  \n",
              "3         1     2.0 2023-12-31      0   46  \n",
              "4         2     3.0 2019-12-31      1   24  \n",
              "...     ...     ...        ...    ...  ...  \n",
              "1557     28     3.0 2023-12-31      0   33  \n",
              "1558     30     2.0 2023-12-31      0   49  \n",
              "1559     31     4.0 2023-12-31      0   52  \n",
              "1560     30     2.0 2023-12-31      0   41  \n",
              "1561     26     2.0 2023-12-31      0   49  \n",
              "\n",
              "[1562 rows x 13 columns]"
            ],
            "text/html": [
              "\n",
              "  <div id=\"df-d2672234-e0cd-45d0-8ed3-637f19a3ecea\">\n",
              "    <div class=\"colab-df-container\">\n",
              "      <div>\n",
              "<style scoped>\n",
              "    .dataframe tbody tr th:only-of-type {\n",
              "        vertical-align: middle;\n",
              "    }\n",
              "\n",
              "    .dataframe tbody tr th {\n",
              "        vertical-align: top;\n",
              "    }\n",
              "\n",
              "    .dataframe thead th {\n",
              "        text-align: right;\n",
              "    }\n",
              "</style>\n",
              "<table border=\"1\" class=\"dataframe\">\n",
              "  <thead>\n",
              "    <tr style=\"text-align: right;\">\n",
              "      <th></th>\n",
              "      <th>EmpID</th>\n",
              "      <th>EngDt</th>\n",
              "      <th>TermDt</th>\n",
              "      <th>DepID</th>\n",
              "      <th>GenderID</th>\n",
              "      <th>RaceID</th>\n",
              "      <th>MgrID</th>\n",
              "      <th>DOB</th>\n",
              "      <th>Level</th>\n",
              "      <th>Rating</th>\n",
              "      <th>PerfDate</th>\n",
              "      <th>Churn</th>\n",
              "      <th>Age</th>\n",
              "    </tr>\n",
              "  </thead>\n",
              "  <tbody>\n",
              "    <tr>\n",
              "      <th>0</th>\n",
              "      <td>1</td>\n",
              "      <td>2015-01-01</td>\n",
              "      <td>2017-05-29</td>\n",
              "      <td>8</td>\n",
              "      <td>1</td>\n",
              "      <td>1</td>\n",
              "      <td>1</td>\n",
              "      <td>1987-02-12</td>\n",
              "      <td>1</td>\n",
              "      <td>4.0</td>\n",
              "      <td>2016-12-31</td>\n",
              "      <td>1</td>\n",
              "      <td>29</td>\n",
              "    </tr>\n",
              "    <tr>\n",
              "      <th>1</th>\n",
              "      <td>2</td>\n",
              "      <td>2015-01-01</td>\n",
              "      <td>NaT</td>\n",
              "      <td>7</td>\n",
              "      <td>0</td>\n",
              "      <td>4</td>\n",
              "      <td>2</td>\n",
              "      <td>1982-11-15</td>\n",
              "      <td>1</td>\n",
              "      <td>3.0</td>\n",
              "      <td>2023-12-31</td>\n",
              "      <td>0</td>\n",
              "      <td>41</td>\n",
              "    </tr>\n",
              "    <tr>\n",
              "      <th>2</th>\n",
              "      <td>3</td>\n",
              "      <td>2015-06-10</td>\n",
              "      <td>2019-06-24</td>\n",
              "      <td>10</td>\n",
              "      <td>1</td>\n",
              "      <td>5</td>\n",
              "      <td>3</td>\n",
              "      <td>1986-02-22</td>\n",
              "      <td>1</td>\n",
              "      <td>4.0</td>\n",
              "      <td>2018-12-31</td>\n",
              "      <td>1</td>\n",
              "      <td>32</td>\n",
              "    </tr>\n",
              "    <tr>\n",
              "      <th>3</th>\n",
              "      <td>4</td>\n",
              "      <td>2015-01-01</td>\n",
              "      <td>NaT</td>\n",
              "      <td>4</td>\n",
              "      <td>1</td>\n",
              "      <td>2</td>\n",
              "      <td>4</td>\n",
              "      <td>1977-05-25</td>\n",
              "      <td>1</td>\n",
              "      <td>2.0</td>\n",
              "      <td>2023-12-31</td>\n",
              "      <td>0</td>\n",
              "      <td>46</td>\n",
              "    </tr>\n",
              "    <tr>\n",
              "      <th>4</th>\n",
              "      <td>5</td>\n",
              "      <td>2015-05-22</td>\n",
              "      <td>2020-07-15</td>\n",
              "      <td>8</td>\n",
              "      <td>1</td>\n",
              "      <td>1</td>\n",
              "      <td>1</td>\n",
              "      <td>1995-04-04</td>\n",
              "      <td>2</td>\n",
              "      <td>3.0</td>\n",
              "      <td>2019-12-31</td>\n",
              "      <td>1</td>\n",
              "      <td>24</td>\n",
              "    </tr>\n",
              "    <tr>\n",
              "      <th>...</th>\n",
              "      <td>...</td>\n",
              "      <td>...</td>\n",
              "      <td>...</td>\n",
              "      <td>...</td>\n",
              "      <td>...</td>\n",
              "      <td>...</td>\n",
              "      <td>...</td>\n",
              "      <td>...</td>\n",
              "      <td>...</td>\n",
              "      <td>...</td>\n",
              "      <td>...</td>\n",
              "      <td>...</td>\n",
              "      <td>...</td>\n",
              "    </tr>\n",
              "    <tr>\n",
              "      <th>1557</th>\n",
              "      <td>1558</td>\n",
              "      <td>2023-01-11</td>\n",
              "      <td>NaT</td>\n",
              "      <td>3</td>\n",
              "      <td>0</td>\n",
              "      <td>1</td>\n",
              "      <td>1526</td>\n",
              "      <td>1990-05-21</td>\n",
              "      <td>28</td>\n",
              "      <td>3.0</td>\n",
              "      <td>2023-12-31</td>\n",
              "      <td>0</td>\n",
              "      <td>33</td>\n",
              "    </tr>\n",
              "    <tr>\n",
              "      <th>1558</th>\n",
              "      <td>1559</td>\n",
              "      <td>2023-12-07</td>\n",
              "      <td>NaT</td>\n",
              "      <td>1</td>\n",
              "      <td>1</td>\n",
              "      <td>1</td>\n",
              "      <td>1460</td>\n",
              "      <td>1974-10-01</td>\n",
              "      <td>30</td>\n",
              "      <td>2.0</td>\n",
              "      <td>2023-12-31</td>\n",
              "      <td>0</td>\n",
              "      <td>49</td>\n",
              "    </tr>\n",
              "    <tr>\n",
              "      <th>1559</th>\n",
              "      <td>1560</td>\n",
              "      <td>2023-04-22</td>\n",
              "      <td>NaT</td>\n",
              "      <td>1</td>\n",
              "      <td>1</td>\n",
              "      <td>4</td>\n",
              "      <td>1559</td>\n",
              "      <td>1971-05-11</td>\n",
              "      <td>31</td>\n",
              "      <td>4.0</td>\n",
              "      <td>2023-12-31</td>\n",
              "      <td>0</td>\n",
              "      <td>52</td>\n",
              "    </tr>\n",
              "    <tr>\n",
              "      <th>1560</th>\n",
              "      <td>1561</td>\n",
              "      <td>2023-07-03</td>\n",
              "      <td>NaT</td>\n",
              "      <td>6</td>\n",
              "      <td>1</td>\n",
              "      <td>3</td>\n",
              "      <td>1554</td>\n",
              "      <td>1982-08-25</td>\n",
              "      <td>30</td>\n",
              "      <td>2.0</td>\n",
              "      <td>2023-12-31</td>\n",
              "      <td>0</td>\n",
              "      <td>41</td>\n",
              "    </tr>\n",
              "    <tr>\n",
              "      <th>1561</th>\n",
              "      <td>1562</td>\n",
              "      <td>2023-01-07</td>\n",
              "      <td>NaT</td>\n",
              "      <td>2</td>\n",
              "      <td>1</td>\n",
              "      <td>5</td>\n",
              "      <td>1530</td>\n",
              "      <td>1974-11-15</td>\n",
              "      <td>26</td>\n",
              "      <td>2.0</td>\n",
              "      <td>2023-12-31</td>\n",
              "      <td>0</td>\n",
              "      <td>49</td>\n",
              "    </tr>\n",
              "  </tbody>\n",
              "</table>\n",
              "<p>1562 rows × 13 columns</p>\n",
              "</div>\n",
              "      <button class=\"colab-df-convert\" onclick=\"convertToInteractive('df-d2672234-e0cd-45d0-8ed3-637f19a3ecea')\"\n",
              "              title=\"Convert this dataframe to an interactive table.\"\n",
              "              style=\"display:none;\">\n",
              "        \n",
              "  <svg xmlns=\"http://www.w3.org/2000/svg\" height=\"24px\"viewBox=\"0 0 24 24\"\n",
              "       width=\"24px\">\n",
              "    <path d=\"M0 0h24v24H0V0z\" fill=\"none\"/>\n",
              "    <path d=\"M18.56 5.44l.94 2.06.94-2.06 2.06-.94-2.06-.94-.94-2.06-.94 2.06-2.06.94zm-11 1L8.5 8.5l.94-2.06 2.06-.94-2.06-.94L8.5 2.5l-.94 2.06-2.06.94zm10 10l.94 2.06.94-2.06 2.06-.94-2.06-.94-.94-2.06-.94 2.06-2.06.94z\"/><path d=\"M17.41 7.96l-1.37-1.37c-.4-.4-.92-.59-1.43-.59-.52 0-1.04.2-1.43.59L10.3 9.45l-7.72 7.72c-.78.78-.78 2.05 0 2.83L4 21.41c.39.39.9.59 1.41.59.51 0 1.02-.2 1.41-.59l7.78-7.78 2.81-2.81c.8-.78.8-2.07 0-2.86zM5.41 20L4 18.59l7.72-7.72 1.47 1.35L5.41 20z\"/>\n",
              "  </svg>\n",
              "      </button>\n",
              "      \n",
              "  <style>\n",
              "    .colab-df-container {\n",
              "      display:flex;\n",
              "      flex-wrap:wrap;\n",
              "      gap: 12px;\n",
              "    }\n",
              "\n",
              "    .colab-df-convert {\n",
              "      background-color: #E8F0FE;\n",
              "      border: none;\n",
              "      border-radius: 50%;\n",
              "      cursor: pointer;\n",
              "      display: none;\n",
              "      fill: #1967D2;\n",
              "      height: 32px;\n",
              "      padding: 0 0 0 0;\n",
              "      width: 32px;\n",
              "    }\n",
              "\n",
              "    .colab-df-convert:hover {\n",
              "      background-color: #E2EBFA;\n",
              "      box-shadow: 0px 1px 2px rgba(60, 64, 67, 0.3), 0px 1px 3px 1px rgba(60, 64, 67, 0.15);\n",
              "      fill: #174EA6;\n",
              "    }\n",
              "\n",
              "    [theme=dark] .colab-df-convert {\n",
              "      background-color: #3B4455;\n",
              "      fill: #D2E3FC;\n",
              "    }\n",
              "\n",
              "    [theme=dark] .colab-df-convert:hover {\n",
              "      background-color: #434B5C;\n",
              "      box-shadow: 0px 1px 3px 1px rgba(0, 0, 0, 0.15);\n",
              "      filter: drop-shadow(0px 1px 2px rgba(0, 0, 0, 0.3));\n",
              "      fill: #FFFFFF;\n",
              "    }\n",
              "  </style>\n",
              "\n",
              "      <script>\n",
              "        const buttonEl =\n",
              "          document.querySelector('#df-d2672234-e0cd-45d0-8ed3-637f19a3ecea button.colab-df-convert');\n",
              "        buttonEl.style.display =\n",
              "          google.colab.kernel.accessAllowed ? 'block' : 'none';\n",
              "\n",
              "        async function convertToInteractive(key) {\n",
              "          const element = document.querySelector('#df-d2672234-e0cd-45d0-8ed3-637f19a3ecea');\n",
              "          const dataTable =\n",
              "            await google.colab.kernel.invokeFunction('convertToInteractive',\n",
              "                                                     [key], {});\n",
              "          if (!dataTable) return;\n",
              "\n",
              "          const docLinkHtml = 'Like what you see? Visit the ' +\n",
              "            '<a target=\"_blank\" href=https://colab.research.google.com/notebooks/data_table.ipynb>data table notebook</a>'\n",
              "            + ' to learn more about interactive tables.';\n",
              "          element.innerHTML = '';\n",
              "          dataTable['output_type'] = 'display_data';\n",
              "          await google.colab.output.renderOutput(dataTable, element);\n",
              "          const docLink = document.createElement('div');\n",
              "          docLink.innerHTML = docLinkHtml;\n",
              "          element.appendChild(docLink);\n",
              "        }\n",
              "      </script>\n",
              "    </div>\n",
              "  </div>\n",
              "  "
            ]
          },
          "metadata": {},
          "execution_count": 17
        }
      ]
    },
    {
      "cell_type": "markdown",
      "source": [
        "# Data Visualization\n",
        "\n",
        "Now the data is cleaned, transformed and changed, we can analyse and visualize our data, in order to see the relevant informations that is possible to extract."
      ],
      "metadata": {
        "id": "6Cjf4Z_GdA6X"
      }
    },
    {
      "cell_type": "markdown",
      "source": [
        "So the Gender per Race distribuition is almost the same for each gender category, it's also possible to infer that the company has an igualitarian distribuition of race, which suggest that the company isn't race bias when hiring.\n",
        "\n",
        "We can seek further information to see if that is the same for ratings inside the company, not only for race, but gender as well."
      ],
      "metadata": {
        "id": "6_UUTXERiumi"
      }
    },
    {
      "cell_type": "code",
      "source": [
        "px.histogram(data_frame=hr_df, x = 'RaceID',  color= 'GenderID', nbins=30)"
      ],
      "metadata": {
        "colab": {
          "base_uri": "https://localhost:8080/",
          "height": 542
        },
        "id": "3YlTIU3vJFyp",
        "outputId": "58693d50-3306-4ab5-af28-2c78ea8af969"
      },
      "execution_count": null,
      "outputs": [
        {
          "output_type": "display_data",
          "data": {
            "text/html": [
              "<html>\n",
              "<head><meta charset=\"utf-8\" /></head>\n",
              "<body>\n",
              "    <div>            <script src=\"https://cdnjs.cloudflare.com/ajax/libs/mathjax/2.7.5/MathJax.js?config=TeX-AMS-MML_SVG\"></script><script type=\"text/javascript\">if (window.MathJax) {MathJax.Hub.Config({SVG: {font: \"STIX-Web\"}});}</script>                <script type=\"text/javascript\">window.PlotlyConfig = {MathJaxConfig: 'local'};</script>\n",
              "        <script src=\"https://cdn.plot.ly/plotly-2.8.3.min.js\"></script>                <div id=\"f372f366-dbcc-4c63-9f46-0cad5665e16e\" class=\"plotly-graph-div\" style=\"height:525px; width:100%;\"></div>            <script type=\"text/javascript\">                                    window.PLOTLYENV=window.PLOTLYENV || {};                                    if (document.getElementById(\"f372f366-dbcc-4c63-9f46-0cad5665e16e\")) {                    Plotly.newPlot(                        \"f372f366-dbcc-4c63-9f46-0cad5665e16e\",                        [{\"alignmentgroup\":\"True\",\"bingroup\":\"x\",\"hovertemplate\":\"GenderID=1<br>RaceID=%{x}<br>count=%{y}<extra></extra>\",\"legendgroup\":\"1\",\"marker\":{\"color\":\"#636efa\",\"pattern\":{\"shape\":\"\"}},\"name\":\"1\",\"nbinsx\":30,\"offsetgroup\":\"1\",\"orientation\":\"v\",\"showlegend\":true,\"x\":[1,5,2,1,2,2,5,2,2,5,5,4,3,3,4,1,5,3,5,5,2,5,3,2,5,2,3,5,5,4,5,2,5,1,3,2,5,1,3,3,3,5,4,1,1,5,3,2,3,2,2,2,1,5,5,4,2,3,4,4,4,1,1,5,2,2,2,4,2,5,5,4,2,2,4,1,1,2,2,3,5,4,2,2,3,2,4,1,2,3,4,5,2,4,4,1,3,3,1,2,2,2,2,5,5,5,5,1,4,3,4,2,4,3,2,5,2,3,3,4,5,3,5,5,5,5,2,1,2,2,4,3,1,4,3,4,1,1,2,1,4,3,5,2,2,4,2,5,5,1,4,5,1,4,4,3,4,4,2,5,3,1,3,5,5,1,2,2,5,5,4,1,2,1,4,2,2,3,4,2,3,1,1,3,5,4,3,4,3,2,4,2,2,5,4,4,4,5,4,4,3,5,4,4,2,1,3,4,2,3,5,3,2,2,3,4,2,2,4,1,3,3,4,1,4,4,1,4,5,4,5,2,1,3,2,5,5,2,5,4,3,3,3,2,1,5,4,4,1,3,5,1,5,1,5,3,2,4,1,2,5,4,1,1,1,1,4,2,1,2,4,5,4,4,3,2,2,3,3,4,3,1,1,1,3,5,2,1,1,4,3,1,4,4,4,5,3,1,3,1,5,5,4,2,3,3,3,4,4,1,4,1,1,3,1,4,2,1,3,3,4,5,2,5,4,3,4,2,4,4,2,4,1,1,5,3,4,4,3,4,4,2,1,5,3,2,4,4,5,3,5,1,4,3,4,3,3,1,2,4,1,4,5,1,5,4,4,5,5,5,5,3,5,2,5,1,5,3,2,2,2,1,2,2,1,4,3,3,1,3,1,5,1,3,1,2,2,4,4,5,5,4,1,5,4,1,4,5,1,5,4,2,4,3,2,2,1,3,4,3,3,3,1,4,3,5,5,2,3,5,2,4,5,5,5,4,4,5,5,3,2,3,1,1,4,5,3,3,3,5,3,2,2,1,4,5,1,3,5,5,4,1,3,3,2,2,1,5,1,3,2,1,1,5,5,4,5,1,3,4,3,3,3,1,1,1,5,5,3,3,5,2,4,2,4,1,5,3,5,5,3,1,4,4,4,3,5,5,2,4,5,2,5,3,4,4,1,4,5,1,2,4,4,5,1,4,4,3,5,1,1,1,2,4,5,1,5,4,3,3,2,2,3,5,3,5,5,2,4,3,2,1,1,1,2,3,3,3,5,2,1,3,3,4,3,3,3,1,2,2,5,3,1,3,2,1,1,3,2,2,4,5,2,1,5,3,1,4,4,4,2,2,1,1,5,1,2,5,3,3,2,2,3,1,1,1,1,2,3,5,2,5,5,2,2,5,1,2,2,2,5,3,3,1,1,3,3,3,1,3,2,1,1,2,4,2,4,1,5,3,1,2,4,3,3,1,1,1,1,1,5,5,1,2,2,2,4,1,5,4,2,3,4,3,2,3,2,1,2,4,5,2,2,5,3,3,5,4,4,2,2,4,2,1,3,5,4,1,4,1,2,1,3,2,2,5,5,5,3,3,3,4,1,1,4,3,5,1,1,5,4,4,3,2,5,4,3,5,4,5,5,5,2,1,2,4,4,1,1,1,5,2,2,4,4,1,3,3,1,5,5,5,5,5,4,3,3,4,1,5,5,3,3,3,1,3,4,2,2,1,4,2,5,5,3,3,3,1,2,2,2,1,2,2,2,5,5,5,2,5,2,4,4,5,3,3,2,5,5,5,3,1,1,2,5,4,3,1,4,3,5],\"xaxis\":\"x\",\"yaxis\":\"y\",\"type\":\"histogram\"},{\"alignmentgroup\":\"True\",\"bingroup\":\"x\",\"hovertemplate\":\"GenderID=0<br>RaceID=%{x}<br>count=%{y}<extra></extra>\",\"legendgroup\":\"0\",\"marker\":{\"color\":\"#EF553B\",\"pattern\":{\"shape\":\"\"}},\"name\":\"0\",\"nbinsx\":30,\"offsetgroup\":\"0\",\"orientation\":\"v\",\"showlegend\":true,\"x\":[4,4,4,5,5,2,2,5,5,1,4,4,5,2,5,5,1,1,1,3,2,5,3,5,4,4,1,5,5,4,3,2,3,1,4,5,3,1,2,3,4,3,4,5,5,2,2,3,2,3,2,1,5,3,4,2,2,1,4,1,4,4,2,3,5,5,4,4,4,5,2,3,4,3,4,3,5,4,4,2,3,2,4,1,2,3,1,1,2,4,2,1,3,3,3,4,1,4,1,4,3,4,5,5,2,5,3,3,1,2,4,1,3,2,5,2,3,1,5,2,2,1,1,5,2,5,1,1,2,5,5,5,5,1,1,4,5,2,1,2,4,4,4,1,3,2,1,2,3,5,1,1,1,5,2,5,1,3,4,3,2,3,5,2,4,1,3,5,1,1,1,3,4,1,5,1,3,2,1,2,4,5,3,1,5,3,1,1,1,1,1,1,5,1,2,5,3,3,3,4,4,2,4,5,5,5,2,1,2,4,5,2,2,1,4,5,3,1,4,5,2,2,3,1,5,4,5,2,4,1,3,4,2,1,5,2,1,1,1,4,3,5,3,5,3,4,3,3,2,2,3,1,2,3,3,3,4,3,4,1,3,5,1,5,3,2,5,3,1,3,4,5,5,2,4,5,3,1,5,4,2,2,5,1,3,2,5,2,3,3,4,3,2,2,2,2,3,4,2,1,3,1,5,1,1,1,5,5,3,3,5,1,2,4,2,4,2,3,3,5,1,3,3,4,1,4,4,2,4,3,3,2,2,4,4,3,2,1,1,2,4,5,3,4,5,5,4,4,2,1,3,1,5,2,1,4,2,2,2,3,5,2,2,1,2,3,5,2,5,2,5,2,1,1,1,5,4,3,5,5,4,3,1,2,5,5,2,2,4,3,2,5,4,4,4,1,3,5,4,4,5,2,2,1,1,1,4,3,4,1,1,3,1,3,4,2,2,3,5,3,3,2,3,3,2,5,4,3,5,2,3,5,3,1,4,2,1,5,5,5,2,4,2,3,2,5,3,2,2,5,4,4,1,2,1,4,3,4,3,4,5,1,3,2,2,3,2,3,4,3,1,4,3,2,3,4,1,4,1,5,1,3,2,2,5,1,5,1,2,5,5,5,4,1,3,1,3,2,5,2,2,2,5,3,3,5,1,4,3,5,5,4,4,5,2,5,5,2,5,5,3,4,3,2,4,2,2,4,3,1,4,4,5,3,1,4,5,5,1,4,1,5,5,4,4,3,1,4,3,1,3,2,5,2,1,2,2,5,1,3,2,2,1,1,1,4,4,5,4,3,2,2,2,3,4,4,1,1,5,4,2,1,3,3,5,1,2,5,5,5,4,1,2,2,1,1,2,1,1,4,4,4,4,4,5,5,3,2,1,3,5,4,5,1,1,4,2,2,5,5,5,4,5,4,4,5,2,4,2,4,1,2,1,1,3,2,2,2,1,4,5,4,2,3,5,3,5,5,2,2,2,3,5,4,1,1,3,2,4,4,3,4,5,4,4,2,2,3,3,4,3,3,4,5,2,5,1,3,3,5,3,4,5,1,2,5,2,1,2,1,2,1,1,5,1,5,5,5,4,5,2,1,4,3,1,5,4,2,2,2,3,5,4,4,2,4,1,4,1,1,4,4,4,2,5,4,4,5,3,5,1,2,2,4,5,1,3,1,2,3,1,2,4,4,1,2,1,4,2,3,3,1,4,1,5,1,2,4,4,4,1],\"xaxis\":\"x\",\"yaxis\":\"y\",\"type\":\"histogram\"}],                        {\"template\":{\"data\":{\"bar\":[{\"error_x\":{\"color\":\"#2a3f5f\"},\"error_y\":{\"color\":\"#2a3f5f\"},\"marker\":{\"line\":{\"color\":\"#E5ECF6\",\"width\":0.5},\"pattern\":{\"fillmode\":\"overlay\",\"size\":10,\"solidity\":0.2}},\"type\":\"bar\"}],\"barpolar\":[{\"marker\":{\"line\":{\"color\":\"#E5ECF6\",\"width\":0.5},\"pattern\":{\"fillmode\":\"overlay\",\"size\":10,\"solidity\":0.2}},\"type\":\"barpolar\"}],\"carpet\":[{\"aaxis\":{\"endlinecolor\":\"#2a3f5f\",\"gridcolor\":\"white\",\"linecolor\":\"white\",\"minorgridcolor\":\"white\",\"startlinecolor\":\"#2a3f5f\"},\"baxis\":{\"endlinecolor\":\"#2a3f5f\",\"gridcolor\":\"white\",\"linecolor\":\"white\",\"minorgridcolor\":\"white\",\"startlinecolor\":\"#2a3f5f\"},\"type\":\"carpet\"}],\"choropleth\":[{\"colorbar\":{\"outlinewidth\":0,\"ticks\":\"\"},\"type\":\"choropleth\"}],\"contour\":[{\"colorbar\":{\"outlinewidth\":0,\"ticks\":\"\"},\"colorscale\":[[0.0,\"#0d0887\"],[0.1111111111111111,\"#46039f\"],[0.2222222222222222,\"#7201a8\"],[0.3333333333333333,\"#9c179e\"],[0.4444444444444444,\"#bd3786\"],[0.5555555555555556,\"#d8576b\"],[0.6666666666666666,\"#ed7953\"],[0.7777777777777778,\"#fb9f3a\"],[0.8888888888888888,\"#fdca26\"],[1.0,\"#f0f921\"]],\"type\":\"contour\"}],\"contourcarpet\":[{\"colorbar\":{\"outlinewidth\":0,\"ticks\":\"\"},\"type\":\"contourcarpet\"}],\"heatmap\":[{\"colorbar\":{\"outlinewidth\":0,\"ticks\":\"\"},\"colorscale\":[[0.0,\"#0d0887\"],[0.1111111111111111,\"#46039f\"],[0.2222222222222222,\"#7201a8\"],[0.3333333333333333,\"#9c179e\"],[0.4444444444444444,\"#bd3786\"],[0.5555555555555556,\"#d8576b\"],[0.6666666666666666,\"#ed7953\"],[0.7777777777777778,\"#fb9f3a\"],[0.8888888888888888,\"#fdca26\"],[1.0,\"#f0f921\"]],\"type\":\"heatmap\"}],\"heatmapgl\":[{\"colorbar\":{\"outlinewidth\":0,\"ticks\":\"\"},\"colorscale\":[[0.0,\"#0d0887\"],[0.1111111111111111,\"#46039f\"],[0.2222222222222222,\"#7201a8\"],[0.3333333333333333,\"#9c179e\"],[0.4444444444444444,\"#bd3786\"],[0.5555555555555556,\"#d8576b\"],[0.6666666666666666,\"#ed7953\"],[0.7777777777777778,\"#fb9f3a\"],[0.8888888888888888,\"#fdca26\"],[1.0,\"#f0f921\"]],\"type\":\"heatmapgl\"}],\"histogram\":[{\"marker\":{\"pattern\":{\"fillmode\":\"overlay\",\"size\":10,\"solidity\":0.2}},\"type\":\"histogram\"}],\"histogram2d\":[{\"colorbar\":{\"outlinewidth\":0,\"ticks\":\"\"},\"colorscale\":[[0.0,\"#0d0887\"],[0.1111111111111111,\"#46039f\"],[0.2222222222222222,\"#7201a8\"],[0.3333333333333333,\"#9c179e\"],[0.4444444444444444,\"#bd3786\"],[0.5555555555555556,\"#d8576b\"],[0.6666666666666666,\"#ed7953\"],[0.7777777777777778,\"#fb9f3a\"],[0.8888888888888888,\"#fdca26\"],[1.0,\"#f0f921\"]],\"type\":\"histogram2d\"}],\"histogram2dcontour\":[{\"colorbar\":{\"outlinewidth\":0,\"ticks\":\"\"},\"colorscale\":[[0.0,\"#0d0887\"],[0.1111111111111111,\"#46039f\"],[0.2222222222222222,\"#7201a8\"],[0.3333333333333333,\"#9c179e\"],[0.4444444444444444,\"#bd3786\"],[0.5555555555555556,\"#d8576b\"],[0.6666666666666666,\"#ed7953\"],[0.7777777777777778,\"#fb9f3a\"],[0.8888888888888888,\"#fdca26\"],[1.0,\"#f0f921\"]],\"type\":\"histogram2dcontour\"}],\"mesh3d\":[{\"colorbar\":{\"outlinewidth\":0,\"ticks\":\"\"},\"type\":\"mesh3d\"}],\"parcoords\":[{\"line\":{\"colorbar\":{\"outlinewidth\":0,\"ticks\":\"\"}},\"type\":\"parcoords\"}],\"pie\":[{\"automargin\":true,\"type\":\"pie\"}],\"scatter\":[{\"marker\":{\"colorbar\":{\"outlinewidth\":0,\"ticks\":\"\"}},\"type\":\"scatter\"}],\"scatter3d\":[{\"line\":{\"colorbar\":{\"outlinewidth\":0,\"ticks\":\"\"}},\"marker\":{\"colorbar\":{\"outlinewidth\":0,\"ticks\":\"\"}},\"type\":\"scatter3d\"}],\"scattercarpet\":[{\"marker\":{\"colorbar\":{\"outlinewidth\":0,\"ticks\":\"\"}},\"type\":\"scattercarpet\"}],\"scattergeo\":[{\"marker\":{\"colorbar\":{\"outlinewidth\":0,\"ticks\":\"\"}},\"type\":\"scattergeo\"}],\"scattergl\":[{\"marker\":{\"colorbar\":{\"outlinewidth\":0,\"ticks\":\"\"}},\"type\":\"scattergl\"}],\"scattermapbox\":[{\"marker\":{\"colorbar\":{\"outlinewidth\":0,\"ticks\":\"\"}},\"type\":\"scattermapbox\"}],\"scatterpolar\":[{\"marker\":{\"colorbar\":{\"outlinewidth\":0,\"ticks\":\"\"}},\"type\":\"scatterpolar\"}],\"scatterpolargl\":[{\"marker\":{\"colorbar\":{\"outlinewidth\":0,\"ticks\":\"\"}},\"type\":\"scatterpolargl\"}],\"scatterternary\":[{\"marker\":{\"colorbar\":{\"outlinewidth\":0,\"ticks\":\"\"}},\"type\":\"scatterternary\"}],\"surface\":[{\"colorbar\":{\"outlinewidth\":0,\"ticks\":\"\"},\"colorscale\":[[0.0,\"#0d0887\"],[0.1111111111111111,\"#46039f\"],[0.2222222222222222,\"#7201a8\"],[0.3333333333333333,\"#9c179e\"],[0.4444444444444444,\"#bd3786\"],[0.5555555555555556,\"#d8576b\"],[0.6666666666666666,\"#ed7953\"],[0.7777777777777778,\"#fb9f3a\"],[0.8888888888888888,\"#fdca26\"],[1.0,\"#f0f921\"]],\"type\":\"surface\"}],\"table\":[{\"cells\":{\"fill\":{\"color\":\"#EBF0F8\"},\"line\":{\"color\":\"white\"}},\"header\":{\"fill\":{\"color\":\"#C8D4E3\"},\"line\":{\"color\":\"white\"}},\"type\":\"table\"}]},\"layout\":{\"annotationdefaults\":{\"arrowcolor\":\"#2a3f5f\",\"arrowhead\":0,\"arrowwidth\":1},\"autotypenumbers\":\"strict\",\"coloraxis\":{\"colorbar\":{\"outlinewidth\":0,\"ticks\":\"\"}},\"colorscale\":{\"diverging\":[[0,\"#8e0152\"],[0.1,\"#c51b7d\"],[0.2,\"#de77ae\"],[0.3,\"#f1b6da\"],[0.4,\"#fde0ef\"],[0.5,\"#f7f7f7\"],[0.6,\"#e6f5d0\"],[0.7,\"#b8e186\"],[0.8,\"#7fbc41\"],[0.9,\"#4d9221\"],[1,\"#276419\"]],\"sequential\":[[0.0,\"#0d0887\"],[0.1111111111111111,\"#46039f\"],[0.2222222222222222,\"#7201a8\"],[0.3333333333333333,\"#9c179e\"],[0.4444444444444444,\"#bd3786\"],[0.5555555555555556,\"#d8576b\"],[0.6666666666666666,\"#ed7953\"],[0.7777777777777778,\"#fb9f3a\"],[0.8888888888888888,\"#fdca26\"],[1.0,\"#f0f921\"]],\"sequentialminus\":[[0.0,\"#0d0887\"],[0.1111111111111111,\"#46039f\"],[0.2222222222222222,\"#7201a8\"],[0.3333333333333333,\"#9c179e\"],[0.4444444444444444,\"#bd3786\"],[0.5555555555555556,\"#d8576b\"],[0.6666666666666666,\"#ed7953\"],[0.7777777777777778,\"#fb9f3a\"],[0.8888888888888888,\"#fdca26\"],[1.0,\"#f0f921\"]]},\"colorway\":[\"#636efa\",\"#EF553B\",\"#00cc96\",\"#ab63fa\",\"#FFA15A\",\"#19d3f3\",\"#FF6692\",\"#B6E880\",\"#FF97FF\",\"#FECB52\"],\"font\":{\"color\":\"#2a3f5f\"},\"geo\":{\"bgcolor\":\"white\",\"lakecolor\":\"white\",\"landcolor\":\"#E5ECF6\",\"showlakes\":true,\"showland\":true,\"subunitcolor\":\"white\"},\"hoverlabel\":{\"align\":\"left\"},\"hovermode\":\"closest\",\"mapbox\":{\"style\":\"light\"},\"paper_bgcolor\":\"white\",\"plot_bgcolor\":\"#E5ECF6\",\"polar\":{\"angularaxis\":{\"gridcolor\":\"white\",\"linecolor\":\"white\",\"ticks\":\"\"},\"bgcolor\":\"#E5ECF6\",\"radialaxis\":{\"gridcolor\":\"white\",\"linecolor\":\"white\",\"ticks\":\"\"}},\"scene\":{\"xaxis\":{\"backgroundcolor\":\"#E5ECF6\",\"gridcolor\":\"white\",\"gridwidth\":2,\"linecolor\":\"white\",\"showbackground\":true,\"ticks\":\"\",\"zerolinecolor\":\"white\"},\"yaxis\":{\"backgroundcolor\":\"#E5ECF6\",\"gridcolor\":\"white\",\"gridwidth\":2,\"linecolor\":\"white\",\"showbackground\":true,\"ticks\":\"\",\"zerolinecolor\":\"white\"},\"zaxis\":{\"backgroundcolor\":\"#E5ECF6\",\"gridcolor\":\"white\",\"gridwidth\":2,\"linecolor\":\"white\",\"showbackground\":true,\"ticks\":\"\",\"zerolinecolor\":\"white\"}},\"shapedefaults\":{\"line\":{\"color\":\"#2a3f5f\"}},\"ternary\":{\"aaxis\":{\"gridcolor\":\"white\",\"linecolor\":\"white\",\"ticks\":\"\"},\"baxis\":{\"gridcolor\":\"white\",\"linecolor\":\"white\",\"ticks\":\"\"},\"bgcolor\":\"#E5ECF6\",\"caxis\":{\"gridcolor\":\"white\",\"linecolor\":\"white\",\"ticks\":\"\"}},\"title\":{\"x\":0.05},\"xaxis\":{\"automargin\":true,\"gridcolor\":\"white\",\"linecolor\":\"white\",\"ticks\":\"\",\"title\":{\"standoff\":15},\"zerolinecolor\":\"white\",\"zerolinewidth\":2},\"yaxis\":{\"automargin\":true,\"gridcolor\":\"white\",\"linecolor\":\"white\",\"ticks\":\"\",\"title\":{\"standoff\":15},\"zerolinecolor\":\"white\",\"zerolinewidth\":2}}},\"xaxis\":{\"anchor\":\"y\",\"domain\":[0.0,1.0],\"title\":{\"text\":\"RaceID\"}},\"yaxis\":{\"anchor\":\"x\",\"domain\":[0.0,1.0],\"title\":{\"text\":\"count\"}},\"legend\":{\"title\":{\"text\":\"GenderID\"},\"tracegroupgap\":0},\"margin\":{\"t\":60},\"barmode\":\"relative\"},                        {\"responsive\": true}                    ).then(function(){\n",
              "                            \n",
              "var gd = document.getElementById('f372f366-dbcc-4c63-9f46-0cad5665e16e');\n",
              "var x = new MutationObserver(function (mutations, observer) {{\n",
              "        var display = window.getComputedStyle(gd).display;\n",
              "        if (!display || display === 'none') {{\n",
              "            console.log([gd, 'removed!']);\n",
              "            Plotly.purge(gd);\n",
              "            observer.disconnect();\n",
              "        }}\n",
              "}});\n",
              "\n",
              "// Listen for the removal of the full notebook cells\n",
              "var notebookContainer = gd.closest('#notebook-container');\n",
              "if (notebookContainer) {{\n",
              "    x.observe(notebookContainer, {childList: true});\n",
              "}}\n",
              "\n",
              "// Listen for the clearing of the current output cell\n",
              "var outputEl = gd.closest('.output');\n",
              "if (outputEl) {{\n",
              "    x.observe(outputEl, {childList: true});\n",
              "}}\n",
              "\n",
              "                        })                };                            </script>        </div>\n",
              "</body>\n",
              "</html>"
            ]
          },
          "metadata": {}
        }
      ]
    },
    {
      "cell_type": "markdown",
      "source": [
        "### **Rating**\n",
        "\n",
        "If we look to the distribuition of the rating per gender types, we'll see that it seems that the company have an equaly rating for gender. \n",
        "\n",
        "But if we plot the rating per race distribuition and look also to the gender at the same time, we actually can see some discrepancies. The women on gender 1 receive less rating(and with that less chance of promotion) than men, almost all women receive 3 or less. \n",
        "\n",
        "Men in gender 3 receive less rating then women, almost all men receive ratings below 3."
      ],
      "metadata": {
        "id": "D1ey6fssEs_R"
      }
    },
    {
      "cell_type": "code",
      "source": [
        "px.box(data_frame=hr_df, x = 'GenderID',  y= 'Rating')"
      ],
      "metadata": {
        "colab": {
          "base_uri": "https://localhost:8080/",
          "height": 542
        },
        "id": "qC0tBq39xcMS",
        "outputId": "01f96031-6597-489a-a3e8-4dae0a6f6ff2"
      },
      "execution_count": null,
      "outputs": [
        {
          "output_type": "display_data",
          "data": {
            "text/html": [
              "<html>\n",
              "<head><meta charset=\"utf-8\" /></head>\n",
              "<body>\n",
              "    <div>            <script src=\"https://cdnjs.cloudflare.com/ajax/libs/mathjax/2.7.5/MathJax.js?config=TeX-AMS-MML_SVG\"></script><script type=\"text/javascript\">if (window.MathJax) {MathJax.Hub.Config({SVG: {font: \"STIX-Web\"}});}</script>                <script type=\"text/javascript\">window.PlotlyConfig = {MathJaxConfig: 'local'};</script>\n",
              "        <script src=\"https://cdn.plot.ly/plotly-2.8.3.min.js\"></script>                <div id=\"bc74837b-84f9-498f-8c40-38007ac93431\" class=\"plotly-graph-div\" style=\"height:525px; width:100%;\"></div>            <script type=\"text/javascript\">                                    window.PLOTLYENV=window.PLOTLYENV || {};                                    if (document.getElementById(\"bc74837b-84f9-498f-8c40-38007ac93431\")) {                    Plotly.newPlot(                        \"bc74837b-84f9-498f-8c40-38007ac93431\",                        [{\"alignmentgroup\":\"True\",\"hovertemplate\":\"GenderID=%{x}<br>Rating=%{y}<extra></extra>\",\"legendgroup\":\"\",\"marker\":{\"color\":\"#636efa\"},\"name\":\"\",\"notched\":false,\"offsetgroup\":\"\",\"orientation\":\"v\",\"showlegend\":false,\"x\":[1,0,1,1,1,1,0,1,0,1,1,0,1,0,0,1,0,0,1,1,1,1,0,1,0,1,0,0,1,1,1,0,0,0,0,0,0,0,0,1,1,0,0,0,1,1,0,0,1,0,0,0,1,0,0,0,0,0,1,1,0,1,0,0,1,0,0,1,1,1,0,1,1,0,0,0,0,1,0,0,0,1,0,0,0,1,0,1,1,0,0,0,0,0,1,1,0,1,0,1,1,1,0,0,1,0,1,1,1,1,0,0,1,0,0,0,0,0,1,1,1,0,1,0,1,1,1,1,0,1,1,0,1,0,1,1,0,1,1,0,1,0,1,1,0,0,1,0,0,1,0,0,0,0,1,1,0,0,0,1,1,1,1,1,1,1,0,1,1,0,1,0,1,1,0,1,1,1,0,0,1,0,1,1,1,1,1,0,1,1,0,0,1,0,1,1,0,0,1,1,0,0,1,0,1,1,0,1,1,0,1,0,1,0,1,0,1,0,1,0,0,1,1,1,1,0,0,0,1,1,1,0,0,1,0,1,0,1,0,0,0,0,1,1,0,1,1,1,0,1,0,0,0,0,0,1,0,0,0,1,1,0,1,0,0,0,1,1,1,0,1,1,0,0,1,0,1,0,1,0,0,0,0,1,1,0,0,0,0,0,1,0,1,1,0,0,1,0,1,1,1,0,1,1,0,1,0,1,0,0,0,1,1,0,0,1,0,1,1,1,1,0,0,1,1,1,1,1,0,1,1,0,1,0,1,1,1,0,1,0,1,0,0,1,0,1,0,1,1,0,1,0,1,1,1,1,0,0,1,0,1,0,1,0,0,1,0,0,1,1,1,0,1,1,1,0,0,0,0,0,1,1,1,1,1,0,0,1,1,1,1,0,1,1,0,0,0,0,0,0,0,1,0,1,0,1,0,1,1,0,1,1,1,1,1,0,0,1,1,1,1,1,1,1,1,1,1,1,0,0,1,0,0,1,1,0,1,1,0,1,1,1,1,1,1,1,0,1,0,1,1,1,1,1,0,0,0,0,0,0,1,1,0,1,0,1,1,0,0,1,1,0,0,0,0,0,0,0,1,1,1,1,0,1,0,1,1,0,1,0,0,0,1,0,1,1,1,1,0,1,0,1,0,1,1,1,1,1,1,0,0,0,1,0,1,0,0,0,1,0,0,0,1,0,0,0,1,1,1,0,0,0,0,1,0,0,1,0,1,1,1,0,0,0,1,1,1,1,0,0,1,1,0,0,0,1,1,0,1,1,0,0,0,0,0,1,0,1,0,1,0,1,1,0,0,1,0,1,1,0,1,1,1,1,0,1,1,1,0,1,1,0,1,0,0,0,1,0,1,0,0,0,0,0,0,0,1,0,0,0,1,1,0,1,0,1,1,1,0,1,0,1,0,0,0,1,1,1,1,0,0,1,0,0,1,0,0,0,0,1,1,1,0,0,0,1,1,0,0,1,0,0,0,1,1,1,1,1,0,0,0,1,0,1,0,1,0,0,0,0,0,1,0,1,0,0,1,1,1,1,1,0,1,1,0,0,1,0,1,1,0,0,0,1,1,0,0,0,0,1,1,1,0,1,1,1,1,0,0,1,1,1,1,0,0,1,1,1,1,1,0,0,1,1,1,1,0,1,0,0,1,0,0,1,0,0,1,0,0,0,0,0,1,0,1,0,1,0,1,1,0,1,1,1,0,0,0,1,0,1,1,0,1,0,0,1,1,1,1,0,0,0,0,1,0,1,0,1,1,1,0,0,1,0,0,1,1,0,1,0,1,1,1,1,1,0,1,0,0,0,1,0,1,1,1,0,1,0,1,0,1,1,0,1,0,0,0,1,0,0,1,1,1,0,1,1,1,1,0,1,0,0,0,1,0,1,0,1,1,1,1,0,1,1,1,1,0,0,0,0,1,0,1,1,1,0,0,1,1,1,0,1,1,1,1,0,0,0,1,0,1,0,1,1,0,0,0,1,0,0,0,0,1,1,0,1,1,0,1,0,1,1,0,0,0,1,1,0,0,0,1,0,0,1,1,0,1,0,1,0,1,1,1,0,0,1,0,1,1,1,1,1,0,0,1,1,1,0,1,1,1,0,1,0,0,1,0,1,1,0,1,0,0,1,1,1,0,0,0,0,1,0,0,1,0,0,0,1,0,1,0,0,0,0,1,0,0,0,1,0,1,1,1,0,1,1,0,1,0,0,0,0,0,0,1,0,0,0,1,1,1,0,1,1,1,1,0,0,1,1,0,0,0,0,1,1,0,1,0,1,1,0,0,0,1,0,0,0,1,1,1,1,1,1,0,0,1,0,0,0,0,0,1,1,0,1,0,0,1,1,0,1,1,1,1,0,0,0,0,1,0,0,1,1,0,0,0,1,0,1,0,1,1,1,1,0,0,1,1,0,1,1,0,0,0,1,0,1,1,0,0,1,1,0,0,1,0,1,1,0,0,0,0,0,0,1,0,0,0,0,0,1,0,1,1,1,1,0,0,0,0,1,1,1,1,0,1,0,0,0,1,0,0,1,1,0,1,1,0,1,1,0,1,1,1,0,1,1,1,1,0,0,0,1,1,0,1,1,0,1,0,0,0,0,1,0,0,1,0,0,0,1,0,1,0,1,0,0,1,1,1,1,1,0,0,1,0,0,0,1,0,1,1,1,1,0,0,1,0,1,1,1,1,0,0,0,1,1,1,1,1,1,1,1,1,1,1,0,1,0,1,0,0,0,1,1,0,1,0,0,1,0,1,1,1,1,1,1,0,1,0,0,1,1,1,1,0,0,0,1,0,1,1,1,1,0,0,0,1,1,1,0,1,0,1,1,1,0,0,0,1,1,1,0,1,0,1,0,1,1,0,1,0,1,0,0,1,1,1,0,0,1,1,0,1,1,0,0,0,1,0,0,1,0,1,1,0,0,0,1,0,1,0,0,0,1,1,0,1,1,1,0,1,1,1,1,1,0,0,1,0,0,0,0,1,1,1,1,1,1,0,1,1,0,1,1,0,0,1,1,1,1,1,0,0,0,1,1,0,1,0,0,1,0,1,0,1,0,0,1,1,0,1,1,1,1,0,1,1,0,1,1,0,1,0,1,0,0,1,0,1,1,1,1,1,0,0,0,0,0,1,1,1,0,0,1,1,1,1,0,0,0,1,0,0,1,1,0,1,0,0,1,1,0,1,1,0,0,1,0,1,1,1,1,0,1,1,1,1,1,0,0,1,0,1,1,0,1,1,1,1,0,0,1,0,0,0,0,1,0,0,1,0,0,0,0,1,0,0,1,1,1,0,1,0,0,0,1,0,0,1,1,0,1,0,1,0,0,1,1,0,0,0,1,1,1,1,0,1,0,1,1,0,0,0,1,1,1,0,1,0,0,0,1,0,1,1,1,0,0,0,1,0,0,1,1,1,0,1,0,1,0,0,0,1,0,0,0,0,0,0,0,0,1,1,0,0,0,1,1,0,1,0,1,1,0,0,1,0,0,0,0,1,0,0,1,0,0,1,1,1,1],\"x0\":\" \",\"xaxis\":\"x\",\"y\":[4.0,3.0,4.0,2.0,3.0,5.0,4.0,5.0,1.0,2.0,3.0,4.0,3.0,3.0,4.0,3.0,4.0,5.0,4.0,3.0,3.0,3.0,3.0,4.0,5.0,5.0,5.0,3.0,4.0,4.0,1.0,4.0,4.0,1.0,3.0,4.0,3.0,2.0,2.0,1.0,4.0,3.0,3.0,2.0,5.0,3.0,4.0,3.0,4.0,3.0,1.0,5.0,5.0,2.0,3.0,2.0,3.0,3.0,4.0,4.0,3.0,3.0,5.0,2.0,3.0,3.0,4.0,2.0,2.0,3.0,4.0,4.0,2.0,5.0,3.0,2.0,4.0,1.0,3.0,1.0,4.0,2.0,2.0,3.0,4.0,4.0,3.0,4.0,2.0,4.0,4.0,4.0,1.0,4.0,2.0,4.0,4.0,3.0,4.0,3.0,3.0,3.0,3.0,5.0,3.0,3.0,1.0,5.0,3.0,5.0,4.0,4.0,3.0,3.0,2.0,5.0,1.0,2.0,2.0,5.0,5.0,4.0,4.0,3.0,3.0,5.0,4.0,2.0,4.0,2.0,3.0,3.0,3.0,3.0,3.0,5.0,2.0,3.0,2.0,3.0,5.0,3.0,2.0,3.0,3.0,3.0,2.0,4.0,5.0,3.0,3.0,3.0,3.0,2.0,3.0,3.0,2.0,3.0,5.0,3.0,3.0,1.0,3.0,2.0,5.0,4.0,4.0,3.0,1.0,5.0,3.0,3.0,1.0,1.0,3.0,4.0,4.0,4.0,3.0,3.0,2.0,4.0,1.0,3.0,5.0,3.0,4.0,3.0,1.0,2.0,2.0,3.0,3.0,3.0,5.0,3.0,3.0,2.0,3.0,3.0,1.0,2.0,3.0,2.0,2.0,3.0,3.0,4.0,1.0,2.0,3.0,4.0,1.0,3.0,3.0,4.0,4.0,3.0,4.0,4.0,3.0,2.0,3.0,3.0,3.0,4.0,2.0,3.0,4.0,4.0,3.0,2.0,1.0,4.0,3.0,3.0,4.0,1.0,4.0,2.0,1.0,1.0,3.0,2.0,4.0,4.0,2.0,1.0,3.0,2.0,3.0,3.0,4.0,2.0,4.0,1.0,3.0,3.0,2.0,4.0,3.0,4.0,1.0,4.0,4.0,5.0,3.0,3.0,4.0,5.0,1.0,4.0,4.0,5.0,3.0,4.0,4.0,5.0,3.0,3.0,3.0,3.0,4.0,1.0,4.0,3.0,3.0,4.0,5.0,1.0,2.0,3.0,4.0,2.0,2.0,3.0,2.0,2.0,3.0,3.0,3.0,4.0,3.0,2.0,4.0,5.0,2.0,5.0,1.0,2.0,3.0,3.0,3.0,2.0,5.0,3.0,2.0,4.0,3.0,5.0,3.0,4.0,3.0,4.0,1.0,2.0,2.0,3.0,5.0,4.0,3.0,4.0,2.0,3.0,3.0,3.0,5.0,3.0,5.0,3.0,3.0,3.0,4.0,1.0,4.0,2.0,3.0,4.0,2.0,3.0,4.0,4.0,3.0,1.0,3.0,2.0,3.0,1.0,4.0,3.0,4.0,4.0,3.0,1.0,4.0,3.0,5.0,1.0,3.0,1.0,2.0,3.0,1.0,3.0,2.0,3.0,3.0,4.0,3.0,1.0,3.0,3.0,4.0,2.0,2.0,3.0,5.0,4.0,3.0,4.0,2.0,3.0,4.0,2.0,3.0,1.0,4.0,4.0,3.0,2.0,3.0,3.0,5.0,2.0,2.0,4.0,4.0,3.0,3.0,3.0,1.0,4.0,4.0,3.0,2.0,3.0,3.0,2.0,5.0,1.0,2.0,4.0,2.0,3.0,3.0,3.0,4.0,3.0,4.0,2.0,3.0,3.0,2.0,5.0,3.0,2.0,1.0,4.0,1.0,3.0,3.0,5.0,3.0,2.0,2.0,3.0,3.0,3.0,4.0,4.0,4.0,5.0,3.0,2.0,3.0,4.0,3.0,3.0,2.0,3.0,2.0,2.0,3.0,3.0,3.0,3.0,3.0,4.0,3.0,4.0,5.0,2.0,1.0,4.0,4.0,3.0,4.0,4.0,5.0,4.0,2.0,2.0,5.0,3.0,4.0,2.0,3.0,1.0,2.0,2.0,3.0,4.0,3.0,3.0,5.0,3.0,3.0,3.0,3.0,3.0,2.0,3.0,2.0,2.0,3.0,1.0,5.0,4.0,3.0,4.0,3.0,3.0,5.0,1.0,3.0,3.0,2.0,3.0,3.0,3.0,1.0,3.0,5.0,3.0,5.0,5.0,2.0,3.0,4.0,2.0,1.0,1.0,4.0,5.0,3.0,3.0,4.0,4.0,2.0,3.0,2.0,2.0,3.0,2.0,1.0,4.0,3.0,5.0,5.0,3.0,3.0,3.0,3.0,3.0,4.0,3.0,3.0,3.0,3.0,4.0,3.0,3.0,3.0,4.0,3.0,2.0,3.0,3.0,4.0,2.0,1.0,5.0,2.0,2.0,4.0,4.0,3.0,1.0,3.0,3.0,2.0,3.0,4.0,2.0,2.0,3.0,4.0,3.0,4.0,3.0,3.0,4.0,2.0,4.0,4.0,3.0,4.0,1.0,1.0,2.0,2.0,2.0,4.0,1.0,3.0,3.0,4.0,1.0,5.0,1.0,2.0,1.0,2.0,2.0,3.0,2.0,3.0,5.0,3.0,3.0,4.0,3.0,3.0,4.0,3.0,4.0,3.0,3.0,3.0,1.0,1.0,4.0,3.0,1.0,1.0,3.0,3.0,3.0,2.0,1.0,3.0,3.0,3.0,2.0,3.0,2.0,4.0,3.0,2.0,1.0,4.0,3.0,4.0,1.0,3.0,4.0,3.0,1.0,2.0,3.0,1.0,1.0,2.0,3.0,3.0,3.0,3.0,4.0,5.0,5.0,4.0,3.0,3.0,1.0,3.0,3.0,4.0,3.0,3.0,4.0,4.0,3.0,2.0,2.0,2.0,5.0,4.0,2.0,3.0,2.0,3.0,1.0,4.0,2.0,1.0,3.0,1.0,2.0,4.0,3.0,3.0,3.0,3.0,2.0,2.0,2.0,4.0,4.0,5.0,2.0,1.0,3.0,3.0,4.0,4.0,4.0,3.0,1.0,3.0,1.0,3.0,5.0,4.0,4.0,3.0,3.0,4.0,1.0,3.0,5.0,2.0,3.0,4.0,5.0,4.0,3.0,3.0,3.0,3.0,4.0,4.0,2.0,3.0,3.0,5.0,3.0,4.0,3.0,2.0,3.0,3.0,1.0,3.0,3.0,1.0,1.0,1.0,3.0,4.0,5.0,3.0,2.0,2.0,3.0,2.0,3.0,3.0,2.0,5.0,1.0,1.0,3.0,2.0,3.0,3.0,3.0,3.0,3.0,1.0,3.0,5.0,3.0,4.0,1.0,4.0,5.0,4.0,3.0,3.0,5.0,4.0,4.0,2.0,2.0,3.0,3.0,4.0,3.0,1.0,3.0,5.0,3.0,2.0,1.0,3.0,3.0,3.0,2.0,1.0,4.0,2.0,4.0,4.0,3.0,2.0,3.0,3.0,3.0,3.0,1.0,3.0,3.0,2.0,5.0,3.0,3.0,1.0,2.0,2.0,1.0,4.0,3.0,3.0,1.0,3.0,3.0,4.0,4.0,4.0,4.0,1.0,3.0,5.0,5.0,2.0,3.0,4.0,3.0,2.0,3.0,4.0,5.0,1.0,4.0,3.0,5.0,5.0,4.0,2.0,3.0,3.0,3.0,2.0,2.0,4.0,4.0,3.0,2.0,3.0,2.0,3.0,1.0,2.0,2.0,3.0,3.0,1.0,5.0,4.0,5.0,5.0,3.0,5.0,3.0,4.0,3.0,3.0,3.0,1.0,5.0,3.0,2.0,3.0,3.0,1.0,4.0,3.0,1.0,4.0,5.0,3.0,1.0,3.0,2.0,3.0,2.0,4.0,3.0,1.0,2.0,2.0,5.0,3.0,3.0,2.0,1.0,1.0,3.0,3.0,3.0,1.0,3.0,2.0,2.0,2.0,3.0,2.0,4.0,3.0,1.0,2.0,2.0,5.0,3.0,4.0,3.0,4.0,2.0,2.0,4.0,2.0,3.0,3.0,4.0,4.0,4.0,3.0,2.0,3.0,4.0,2.0,1.0,2.0,3.0,4.0,2.0,3.0,1.0,3.0,4.0,3.0,4.0,3.0,3.0,4.0,4.0,3.0,1.0,3.0,3.0,3.0,3.0,4.0,5.0,3.0,3.0,3.0,1.0,2.0,2.0,5.0,2.0,2.0,1.0,4.0,4.0,3.0,5.0,3.0,4.0,3.0,2.0,3.0,1.0,2.0,2.0,1.0,1.0,3.0,2.0,4.0,4.0,3.0,3.0,3.0,5.0,4.0,2.0,2.0,1.0,2.0,2.0,3.0,1.0,1.0,3.0,1.0,1.0,3.0,3.0,2.0,4.0,5.0,4.0,2.0,4.0,2.0,3.0,3.0,3.0,4.0,2.0,2.0,1.0,5.0,4.0,1.0,2.0,3.0,4.0,4.0,2.0,3.0,2.0,2.0,4.0,1.0,3.0,3.0,4.0,2.0,2.0,3.0,3.0,3.0,2.0,1.0,1.0,3.0,2.0,3.0,3.0,5.0,5.0,4.0,1.0,3.0,1.0,3.0,5.0,3.0,1.0,1.0,3.0,5.0,3.0,2.0,1.0,3.0,3.0,2.0,3.0,4.0,2.0,4.0,3.0,3.0,3.0,3.0,2.0,4.0,3.0,3.0,3.0,3.0,4.0,4.0,5.0,4.0,3.0,3.0,3.0,3.0,3.0,3.0,3.0,5.0,3.0,5.0,2.0,5.0,2.0,5.0,3.0,2.0,3.0,3.0,4.0,4.0,5.0,4.0,2.0,1.0,3.0,2.0,4.0,3.0,3.0,3.0,3.0,3.0,2.0,2.0,4.0,4.0,3.0,3.0,3.0,5.0,4.0,3.0,1.0,3.0,1.0,1.0,3.0,4.0,2.0,2.0,2.0,3.0,1.0,4.0,3.0,4.0,2.0,3.0,5.0,5.0,5.0,2.0,5.0,3.0,2.0,1.0,5.0,4.0,1.0,2.0,5.0,3.0,1.0,4.0,3.0,4.0,1.0,1.0,3.0,2.0,3.0,3.0,3.0,3.0,4.0,3.0,4.0,5.0,3.0,1.0,2.0,1.0,1.0,5.0,1.0,3.0,2.0,2.0,1.0,4.0,2.0,2.0,2.0,3.0,2.0,3.0,2.0,4.0,2.0,5.0,4.0,2.0,5.0,2.0,3.0,2.0,2.0,1.0,4.0,1.0,4.0,2.0,1.0,1.0,4.0,5.0,3.0,2.0,2.0,4.0,4.0,2.0,3.0,5.0,3.0,2.0,3.0,1.0,4.0,3.0,2.0,2.0,3.0,2.0,1.0,2.0,5.0,4.0,4.0,5.0,5.0,4.0,2.0,4.0,4.0,3.0,4.0,2.0,3.0,3.0,3.0,3.0,3.0,3.0,4.0,3.0,4.0,5.0,3.0,3.0,2.0,3.0,3.0,3.0,3.0,4.0,4.0,5.0,2.0,4.0,1.0,4.0,4.0,4.0,3.0,2.0,1.0,1.0,4.0,3.0,3.0,3.0,3.0,2.0,1.0,5.0,3.0,1.0,3.0,3.0,5.0,1.0,1.0,3.0,5.0,3.0,4.0,3.0,2.0,4.0,3.0,5.0,2.0,3.0,2.0,5.0,1.0,2.0,4.0,3.0,3.0,3.0,3.0,4.0,2.0,2.0,3.0,4.0,3.0,2.0,1.0,3.0,2.0,2.0,5.0,2.0,5.0,3.0,1.0,1.0,5.0,2.0,4.0,4.0,3.0,2.0,5.0,1.0,3.0,4.0,2.0,3.0,2.0,3.0,1.0,3.0,2.0,5.0,3.0,3.0,1.0,3.0,2.0,5.0,5.0,2.0,4.0,5.0,3.0,1.0,2.0,3.0,3.0,1.0,3.0,5.0,4.0,5.0,3.0,2.0,4.0,4.0,1.0,3.0,2.0,3.0,1.0,2.0,3.0,4.0,2.0,2.0,3.0,3.0,4.0,1.0,3.0,3.0,3.0,1.0,5.0,3.0,1.0,3.0,5.0,4.0,2.0,4.0,3.0,3.0,5.0,2.0,3.0,4.0,2.0,2.0,2.0,4.0,1.0,4.0,3.0,2.0,4.0,3.0,2.0,3.0,3.0,3.0,3.0,3.0,3.0,3.0,3.0,4.0,3.0,2.0,4.0,2.0,4.0,3.0,1.0,3.0,4.0,3.0,3.0,2.0,5.0,5.0,5.0,2.0,3.0,3.0,4.0,1.0,5.0,4.0,3.0,3.0,3.0,3.0,2.0,5.0,5.0,3.0,3.0,3.0,1.0,3.0,4.0,3.0,3.0,3.0,3.0,2.0,4.0,2.0,5.0,1.0,3.0,3.0,2.0,5.0,3.0,3.0,3.0,1.0,2.0,5.0,3.0,4.0,3.0,3.0,4.0,3.0,3.0,3.0,2.0,2.0,3.0,3.0,5.0,5.0,3.0,1.0,3.0,4.0,5.0,3.0,1.0,3.0,2.0,5.0,4.0,3.0,4.0,3.0,3.0,3.0,4.0,2.0,3.0,2.0,1.0,1.0,2.0,4.0,2.0,3.0,4.0,4.0,3.0,3.0,4.0,4.0,1.0,5.0,1.0,2.0,3.0,3.0,2.0,3.0,5.0,5.0,4.0,3.0,3.0,1.0,3.0,4.0,3.0,3.0,4.0,3.0,4.0,2.0,1.0,5.0,3.0,2.0,4.0,2.0,2.0],\"y0\":\" \",\"yaxis\":\"y\",\"type\":\"box\"}],                        {\"template\":{\"data\":{\"bar\":[{\"error_x\":{\"color\":\"#2a3f5f\"},\"error_y\":{\"color\":\"#2a3f5f\"},\"marker\":{\"line\":{\"color\":\"#E5ECF6\",\"width\":0.5},\"pattern\":{\"fillmode\":\"overlay\",\"size\":10,\"solidity\":0.2}},\"type\":\"bar\"}],\"barpolar\":[{\"marker\":{\"line\":{\"color\":\"#E5ECF6\",\"width\":0.5},\"pattern\":{\"fillmode\":\"overlay\",\"size\":10,\"solidity\":0.2}},\"type\":\"barpolar\"}],\"carpet\":[{\"aaxis\":{\"endlinecolor\":\"#2a3f5f\",\"gridcolor\":\"white\",\"linecolor\":\"white\",\"minorgridcolor\":\"white\",\"startlinecolor\":\"#2a3f5f\"},\"baxis\":{\"endlinecolor\":\"#2a3f5f\",\"gridcolor\":\"white\",\"linecolor\":\"white\",\"minorgridcolor\":\"white\",\"startlinecolor\":\"#2a3f5f\"},\"type\":\"carpet\"}],\"choropleth\":[{\"colorbar\":{\"outlinewidth\":0,\"ticks\":\"\"},\"type\":\"choropleth\"}],\"contour\":[{\"colorbar\":{\"outlinewidth\":0,\"ticks\":\"\"},\"colorscale\":[[0.0,\"#0d0887\"],[0.1111111111111111,\"#46039f\"],[0.2222222222222222,\"#7201a8\"],[0.3333333333333333,\"#9c179e\"],[0.4444444444444444,\"#bd3786\"],[0.5555555555555556,\"#d8576b\"],[0.6666666666666666,\"#ed7953\"],[0.7777777777777778,\"#fb9f3a\"],[0.8888888888888888,\"#fdca26\"],[1.0,\"#f0f921\"]],\"type\":\"contour\"}],\"contourcarpet\":[{\"colorbar\":{\"outlinewidth\":0,\"ticks\":\"\"},\"type\":\"contourcarpet\"}],\"heatmap\":[{\"colorbar\":{\"outlinewidth\":0,\"ticks\":\"\"},\"colorscale\":[[0.0,\"#0d0887\"],[0.1111111111111111,\"#46039f\"],[0.2222222222222222,\"#7201a8\"],[0.3333333333333333,\"#9c179e\"],[0.4444444444444444,\"#bd3786\"],[0.5555555555555556,\"#d8576b\"],[0.6666666666666666,\"#ed7953\"],[0.7777777777777778,\"#fb9f3a\"],[0.8888888888888888,\"#fdca26\"],[1.0,\"#f0f921\"]],\"type\":\"heatmap\"}],\"heatmapgl\":[{\"colorbar\":{\"outlinewidth\":0,\"ticks\":\"\"},\"colorscale\":[[0.0,\"#0d0887\"],[0.1111111111111111,\"#46039f\"],[0.2222222222222222,\"#7201a8\"],[0.3333333333333333,\"#9c179e\"],[0.4444444444444444,\"#bd3786\"],[0.5555555555555556,\"#d8576b\"],[0.6666666666666666,\"#ed7953\"],[0.7777777777777778,\"#fb9f3a\"],[0.8888888888888888,\"#fdca26\"],[1.0,\"#f0f921\"]],\"type\":\"heatmapgl\"}],\"histogram\":[{\"marker\":{\"pattern\":{\"fillmode\":\"overlay\",\"size\":10,\"solidity\":0.2}},\"type\":\"histogram\"}],\"histogram2d\":[{\"colorbar\":{\"outlinewidth\":0,\"ticks\":\"\"},\"colorscale\":[[0.0,\"#0d0887\"],[0.1111111111111111,\"#46039f\"],[0.2222222222222222,\"#7201a8\"],[0.3333333333333333,\"#9c179e\"],[0.4444444444444444,\"#bd3786\"],[0.5555555555555556,\"#d8576b\"],[0.6666666666666666,\"#ed7953\"],[0.7777777777777778,\"#fb9f3a\"],[0.8888888888888888,\"#fdca26\"],[1.0,\"#f0f921\"]],\"type\":\"histogram2d\"}],\"histogram2dcontour\":[{\"colorbar\":{\"outlinewidth\":0,\"ticks\":\"\"},\"colorscale\":[[0.0,\"#0d0887\"],[0.1111111111111111,\"#46039f\"],[0.2222222222222222,\"#7201a8\"],[0.3333333333333333,\"#9c179e\"],[0.4444444444444444,\"#bd3786\"],[0.5555555555555556,\"#d8576b\"],[0.6666666666666666,\"#ed7953\"],[0.7777777777777778,\"#fb9f3a\"],[0.8888888888888888,\"#fdca26\"],[1.0,\"#f0f921\"]],\"type\":\"histogram2dcontour\"}],\"mesh3d\":[{\"colorbar\":{\"outlinewidth\":0,\"ticks\":\"\"},\"type\":\"mesh3d\"}],\"parcoords\":[{\"line\":{\"colorbar\":{\"outlinewidth\":0,\"ticks\":\"\"}},\"type\":\"parcoords\"}],\"pie\":[{\"automargin\":true,\"type\":\"pie\"}],\"scatter\":[{\"marker\":{\"colorbar\":{\"outlinewidth\":0,\"ticks\":\"\"}},\"type\":\"scatter\"}],\"scatter3d\":[{\"line\":{\"colorbar\":{\"outlinewidth\":0,\"ticks\":\"\"}},\"marker\":{\"colorbar\":{\"outlinewidth\":0,\"ticks\":\"\"}},\"type\":\"scatter3d\"}],\"scattercarpet\":[{\"marker\":{\"colorbar\":{\"outlinewidth\":0,\"ticks\":\"\"}},\"type\":\"scattercarpet\"}],\"scattergeo\":[{\"marker\":{\"colorbar\":{\"outlinewidth\":0,\"ticks\":\"\"}},\"type\":\"scattergeo\"}],\"scattergl\":[{\"marker\":{\"colorbar\":{\"outlinewidth\":0,\"ticks\":\"\"}},\"type\":\"scattergl\"}],\"scattermapbox\":[{\"marker\":{\"colorbar\":{\"outlinewidth\":0,\"ticks\":\"\"}},\"type\":\"scattermapbox\"}],\"scatterpolar\":[{\"marker\":{\"colorbar\":{\"outlinewidth\":0,\"ticks\":\"\"}},\"type\":\"scatterpolar\"}],\"scatterpolargl\":[{\"marker\":{\"colorbar\":{\"outlinewidth\":0,\"ticks\":\"\"}},\"type\":\"scatterpolargl\"}],\"scatterternary\":[{\"marker\":{\"colorbar\":{\"outlinewidth\":0,\"ticks\":\"\"}},\"type\":\"scatterternary\"}],\"surface\":[{\"colorbar\":{\"outlinewidth\":0,\"ticks\":\"\"},\"colorscale\":[[0.0,\"#0d0887\"],[0.1111111111111111,\"#46039f\"],[0.2222222222222222,\"#7201a8\"],[0.3333333333333333,\"#9c179e\"],[0.4444444444444444,\"#bd3786\"],[0.5555555555555556,\"#d8576b\"],[0.6666666666666666,\"#ed7953\"],[0.7777777777777778,\"#fb9f3a\"],[0.8888888888888888,\"#fdca26\"],[1.0,\"#f0f921\"]],\"type\":\"surface\"}],\"table\":[{\"cells\":{\"fill\":{\"color\":\"#EBF0F8\"},\"line\":{\"color\":\"white\"}},\"header\":{\"fill\":{\"color\":\"#C8D4E3\"},\"line\":{\"color\":\"white\"}},\"type\":\"table\"}]},\"layout\":{\"annotationdefaults\":{\"arrowcolor\":\"#2a3f5f\",\"arrowhead\":0,\"arrowwidth\":1},\"autotypenumbers\":\"strict\",\"coloraxis\":{\"colorbar\":{\"outlinewidth\":0,\"ticks\":\"\"}},\"colorscale\":{\"diverging\":[[0,\"#8e0152\"],[0.1,\"#c51b7d\"],[0.2,\"#de77ae\"],[0.3,\"#f1b6da\"],[0.4,\"#fde0ef\"],[0.5,\"#f7f7f7\"],[0.6,\"#e6f5d0\"],[0.7,\"#b8e186\"],[0.8,\"#7fbc41\"],[0.9,\"#4d9221\"],[1,\"#276419\"]],\"sequential\":[[0.0,\"#0d0887\"],[0.1111111111111111,\"#46039f\"],[0.2222222222222222,\"#7201a8\"],[0.3333333333333333,\"#9c179e\"],[0.4444444444444444,\"#bd3786\"],[0.5555555555555556,\"#d8576b\"],[0.6666666666666666,\"#ed7953\"],[0.7777777777777778,\"#fb9f3a\"],[0.8888888888888888,\"#fdca26\"],[1.0,\"#f0f921\"]],\"sequentialminus\":[[0.0,\"#0d0887\"],[0.1111111111111111,\"#46039f\"],[0.2222222222222222,\"#7201a8\"],[0.3333333333333333,\"#9c179e\"],[0.4444444444444444,\"#bd3786\"],[0.5555555555555556,\"#d8576b\"],[0.6666666666666666,\"#ed7953\"],[0.7777777777777778,\"#fb9f3a\"],[0.8888888888888888,\"#fdca26\"],[1.0,\"#f0f921\"]]},\"colorway\":[\"#636efa\",\"#EF553B\",\"#00cc96\",\"#ab63fa\",\"#FFA15A\",\"#19d3f3\",\"#FF6692\",\"#B6E880\",\"#FF97FF\",\"#FECB52\"],\"font\":{\"color\":\"#2a3f5f\"},\"geo\":{\"bgcolor\":\"white\",\"lakecolor\":\"white\",\"landcolor\":\"#E5ECF6\",\"showlakes\":true,\"showland\":true,\"subunitcolor\":\"white\"},\"hoverlabel\":{\"align\":\"left\"},\"hovermode\":\"closest\",\"mapbox\":{\"style\":\"light\"},\"paper_bgcolor\":\"white\",\"plot_bgcolor\":\"#E5ECF6\",\"polar\":{\"angularaxis\":{\"gridcolor\":\"white\",\"linecolor\":\"white\",\"ticks\":\"\"},\"bgcolor\":\"#E5ECF6\",\"radialaxis\":{\"gridcolor\":\"white\",\"linecolor\":\"white\",\"ticks\":\"\"}},\"scene\":{\"xaxis\":{\"backgroundcolor\":\"#E5ECF6\",\"gridcolor\":\"white\",\"gridwidth\":2,\"linecolor\":\"white\",\"showbackground\":true,\"ticks\":\"\",\"zerolinecolor\":\"white\"},\"yaxis\":{\"backgroundcolor\":\"#E5ECF6\",\"gridcolor\":\"white\",\"gridwidth\":2,\"linecolor\":\"white\",\"showbackground\":true,\"ticks\":\"\",\"zerolinecolor\":\"white\"},\"zaxis\":{\"backgroundcolor\":\"#E5ECF6\",\"gridcolor\":\"white\",\"gridwidth\":2,\"linecolor\":\"white\",\"showbackground\":true,\"ticks\":\"\",\"zerolinecolor\":\"white\"}},\"shapedefaults\":{\"line\":{\"color\":\"#2a3f5f\"}},\"ternary\":{\"aaxis\":{\"gridcolor\":\"white\",\"linecolor\":\"white\",\"ticks\":\"\"},\"baxis\":{\"gridcolor\":\"white\",\"linecolor\":\"white\",\"ticks\":\"\"},\"bgcolor\":\"#E5ECF6\",\"caxis\":{\"gridcolor\":\"white\",\"linecolor\":\"white\",\"ticks\":\"\"}},\"title\":{\"x\":0.05},\"xaxis\":{\"automargin\":true,\"gridcolor\":\"white\",\"linecolor\":\"white\",\"ticks\":\"\",\"title\":{\"standoff\":15},\"zerolinecolor\":\"white\",\"zerolinewidth\":2},\"yaxis\":{\"automargin\":true,\"gridcolor\":\"white\",\"linecolor\":\"white\",\"ticks\":\"\",\"title\":{\"standoff\":15},\"zerolinecolor\":\"white\",\"zerolinewidth\":2}}},\"xaxis\":{\"anchor\":\"y\",\"domain\":[0.0,1.0],\"title\":{\"text\":\"GenderID\"}},\"yaxis\":{\"anchor\":\"x\",\"domain\":[0.0,1.0],\"title\":{\"text\":\"Rating\"}},\"legend\":{\"tracegroupgap\":0},\"margin\":{\"t\":60},\"boxmode\":\"group\"},                        {\"responsive\": true}                    ).then(function(){\n",
              "                            \n",
              "var gd = document.getElementById('bc74837b-84f9-498f-8c40-38007ac93431');\n",
              "var x = new MutationObserver(function (mutations, observer) {{\n",
              "        var display = window.getComputedStyle(gd).display;\n",
              "        if (!display || display === 'none') {{\n",
              "            console.log([gd, 'removed!']);\n",
              "            Plotly.purge(gd);\n",
              "            observer.disconnect();\n",
              "        }}\n",
              "}});\n",
              "\n",
              "// Listen for the removal of the full notebook cells\n",
              "var notebookContainer = gd.closest('#notebook-container');\n",
              "if (notebookContainer) {{\n",
              "    x.observe(notebookContainer, {childList: true});\n",
              "}}\n",
              "\n",
              "// Listen for the clearing of the current output cell\n",
              "var outputEl = gd.closest('.output');\n",
              "if (outputEl) {{\n",
              "    x.observe(outputEl, {childList: true});\n",
              "}}\n",
              "\n",
              "                        })                };                            </script>        </div>\n",
              "</body>\n",
              "</html>"
            ]
          },
          "metadata": {}
        }
      ]
    },
    {
      "cell_type": "code",
      "source": [
        "px.box(data_frame=hr_df, x = 'RaceID',  y= 'Rating', color='GenderID')"
      ],
      "metadata": {
        "colab": {
          "base_uri": "https://localhost:8080/",
          "height": 542
        },
        "id": "P1qQFLWqwkcw",
        "outputId": "4b476bde-8d87-4233-f442-9e41577e6fad"
      },
      "execution_count": 18,
      "outputs": [
        {
          "output_type": "display_data",
          "data": {
            "text/html": [
              "<html>\n",
              "<head><meta charset=\"utf-8\" /></head>\n",
              "<body>\n",
              "    <div>            <script src=\"https://cdnjs.cloudflare.com/ajax/libs/mathjax/2.7.5/MathJax.js?config=TeX-AMS-MML_SVG\"></script><script type=\"text/javascript\">if (window.MathJax) {MathJax.Hub.Config({SVG: {font: \"STIX-Web\"}});}</script>                <script type=\"text/javascript\">window.PlotlyConfig = {MathJaxConfig: 'local'};</script>\n",
              "        <script src=\"https://cdn.plot.ly/plotly-2.8.3.min.js\"></script>                <div id=\"8eeba314-a8f4-4d3a-957f-cd2126b00f31\" class=\"plotly-graph-div\" style=\"height:525px; width:100%;\"></div>            <script type=\"text/javascript\">                                    window.PLOTLYENV=window.PLOTLYENV || {};                                    if (document.getElementById(\"8eeba314-a8f4-4d3a-957f-cd2126b00f31\")) {                    Plotly.newPlot(                        \"8eeba314-a8f4-4d3a-957f-cd2126b00f31\",                        [{\"alignmentgroup\":\"True\",\"hovertemplate\":\"GenderID=1<br>RaceID=%{x}<br>Rating=%{y}<extra></extra>\",\"legendgroup\":\"1\",\"marker\":{\"color\":\"#636efa\"},\"name\":\"1\",\"notched\":false,\"offsetgroup\":\"1\",\"orientation\":\"v\",\"showlegend\":true,\"x\":[1,5,2,1,2,2,5,2,2,5,5,4,3,3,4,1,5,3,5,5,2,5,3,2,5,2,3,5,5,4,5,2,5,1,3,2,5,1,3,3,3,5,4,1,1,5,3,2,3,2,2,2,1,5,5,4,2,3,4,4,4,1,1,5,2,2,2,4,2,5,5,4,2,2,4,1,1,2,2,3,5,4,2,2,3,2,4,1,2,3,4,5,2,4,4,1,3,3,1,2,2,2,2,5,5,5,5,1,4,3,4,2,4,3,2,5,2,3,3,4,5,3,5,5,5,5,2,1,2,2,4,3,1,4,3,4,1,1,2,1,4,3,5,2,2,4,2,5,5,1,4,5,1,4,4,3,4,4,2,5,3,1,3,5,5,1,2,2,5,5,4,1,2,1,4,2,2,3,4,2,3,1,1,3,5,4,3,4,3,2,4,2,2,5,4,4,4,5,4,4,3,5,4,4,2,1,3,4,2,3,5,3,2,2,3,4,2,2,4,1,3,3,4,1,4,4,1,4,5,4,5,2,1,3,2,5,5,2,5,4,3,3,3,2,1,5,4,4,1,3,5,1,5,1,5,3,2,4,1,2,5,4,1,1,1,1,4,2,1,2,4,5,4,4,3,2,2,3,3,4,3,1,1,1,3,5,2,1,1,4,3,1,4,4,4,5,3,1,3,1,5,5,4,2,3,3,3,4,4,1,4,1,1,3,1,4,2,1,3,3,4,5,2,5,4,3,4,2,4,4,2,4,1,1,5,3,4,4,3,4,4,2,1,5,3,2,4,4,5,3,5,1,4,3,4,3,3,1,2,4,1,4,5,1,5,4,4,5,5,5,5,3,5,2,5,1,5,3,2,2,2,1,2,2,1,4,3,3,1,3,1,5,1,3,1,2,2,4,4,5,5,4,1,5,4,1,4,5,1,5,4,2,4,3,2,2,1,3,4,3,3,3,1,4,3,5,5,2,3,5,2,4,5,5,5,4,4,5,5,3,2,3,1,1,4,5,3,3,3,5,3,2,2,1,4,5,1,3,5,5,4,1,3,3,2,2,1,5,1,3,2,1,1,5,5,4,5,1,3,4,3,3,3,1,1,1,5,5,3,3,5,2,4,2,4,1,5,3,5,5,3,1,4,4,4,3,5,5,2,4,5,2,5,3,4,4,1,4,5,1,2,4,4,5,1,4,4,3,5,1,1,1,2,4,5,1,5,4,3,3,2,2,3,5,3,5,5,2,4,3,2,1,1,1,2,3,3,3,5,2,1,3,3,4,3,3,3,1,2,2,5,3,1,3,2,1,1,3,2,2,4,5,2,1,5,3,1,4,4,4,2,2,1,1,5,1,2,5,3,3,2,2,3,1,1,1,1,2,3,5,2,5,5,2,2,5,1,2,2,2,5,3,3,1,1,3,3,3,1,3,2,1,1,2,4,2,4,1,5,3,1,2,4,3,3,1,1,1,1,1,5,5,1,2,2,2,4,1,5,4,2,3,4,3,2,3,2,1,2,4,5,2,2,5,3,3,5,4,4,2,2,4,2,1,3,5,4,1,4,1,2,1,3,2,2,5,5,5,3,3,3,4,1,1,4,3,5,1,1,5,4,4,3,2,5,4,3,5,4,5,5,5,2,1,2,4,4,1,1,1,5,2,2,4,4,1,3,3,1,5,5,5,5,5,4,3,3,4,1,5,5,3,3,3,1,3,4,2,2,1,4,2,5,5,3,3,3,1,2,2,2,1,2,2,2,5,5,5,2,5,2,4,4,5,3,3,2,5,5,5,3,1,1,2,5,4,3,1,4,3,5],\"x0\":\" \",\"xaxis\":\"x\",\"y\":[4.0,4.0,2.0,3.0,5.0,5.0,2.0,3.0,3.0,3.0,4.0,3.0,3.0,3.0,4.0,5.0,4.0,4.0,1.0,1.0,4.0,5.0,3.0,4.0,5.0,4.0,4.0,3.0,3.0,2.0,2.0,3.0,4.0,2.0,1.0,2.0,4.0,4.0,2.0,2.0,4.0,3.0,3.0,3.0,3.0,3.0,1.0,5.0,3.0,5.0,3.0,2.0,5.0,5.0,4.0,3.0,5.0,4.0,2.0,2.0,3.0,3.0,3.0,5.0,3.0,2.0,5.0,2.0,3.0,2.0,3.0,3.0,3.0,3.0,3.0,1.0,3.0,2.0,5.0,4.0,3.0,1.0,3.0,1.0,1.0,4.0,4.0,4.0,2.0,1.0,3.0,5.0,3.0,4.0,1.0,2.0,3.0,5.0,3.0,3.0,3.0,3.0,2.0,3.0,4.0,1.0,3.0,1.0,3.0,4.0,4.0,2.0,3.0,3.0,3.0,4.0,4.0,3.0,4.0,3.0,1.0,3.0,2.0,4.0,2.0,1.0,2.0,1.0,4.0,3.0,1.0,3.0,3.0,4.0,1.0,4.0,3.0,4.0,3.0,1.0,4.0,2.0,4.0,2.0,2.0,3.0,3.0,3.0,3.0,2.0,5.0,5.0,3.0,3.0,3.0,4.0,3.0,5.0,3.0,4.0,1.0,2.0,2.0,3.0,4.0,3.0,2.0,3.0,3.0,5.0,5.0,3.0,1.0,2.0,4.0,2.0,4.0,3.0,1.0,3.0,2.0,4.0,4.0,3.0,3.0,3.0,1.0,2.0,1.0,3.0,2.0,3.0,3.0,4.0,2.0,2.0,4.0,3.0,4.0,2.0,4.0,2.0,3.0,2.0,4.0,3.0,3.0,1.0,4.0,4.0,3.0,2.0,2.0,5.0,1.0,2.0,4.0,2.0,3.0,3.0,3.0,4.0,3.0,3.0,5.0,3.0,1.0,4.0,3.0,3.0,5.0,3.0,2.0,2.0,3.0,3.0,4.0,4.0,5.0,3.0,2.0,2.0,2.0,3.0,3.0,3.0,4.0,5.0,5.0,4.0,2.0,2.0,3.0,2.0,3.0,2.0,3.0,5.0,3.0,3.0,3.0,3.0,3.0,2.0,3.0,1.0,5.0,4.0,3.0,5.0,3.0,3.0,5.0,2.0,3.0,4.0,5.0,4.0,2.0,3.0,2.0,1.0,4.0,3.0,5.0,3.0,3.0,3.0,3.0,3.0,4.0,2.0,3.0,2.0,5.0,2.0,4.0,1.0,3.0,2.0,3.0,4.0,2.0,3.0,4.0,3.0,3.0,3.0,2.0,4.0,1.0,4.0,2.0,1.0,2.0,2.0,3.0,5.0,3.0,3.0,4.0,3.0,3.0,3.0,4.0,1.0,1.0,3.0,3.0,2.0,4.0,1.0,1.0,3.0,4.0,3.0,1.0,1.0,3.0,3.0,3.0,1.0,4.0,3.0,3.0,4.0,4.0,2.0,2.0,4.0,3.0,2.0,2.0,1.0,3.0,3.0,3.0,2.0,2.0,2.0,4.0,2.0,1.0,3.0,3.0,4.0,3.0,1.0,3.0,1.0,4.0,4.0,3.0,3.0,1.0,2.0,5.0,3.0,3.0,5.0,4.0,2.0,3.0,1.0,3.0,3.0,3.0,5.0,3.0,2.0,3.0,3.0,2.0,5.0,3.0,3.0,3.0,1.0,3.0,4.0,5.0,4.0,3.0,4.0,4.0,2.0,2.0,3.0,4.0,5.0,2.0,1.0,3.0,3.0,1.0,2.0,4.0,3.0,3.0,3.0,3.0,2.0,3.0,3.0,1.0,2.0,1.0,1.0,3.0,4.0,4.0,4.0,1.0,5.0,5.0,2.0,3.0,4.0,1.0,4.0,3.0,4.0,2.0,3.0,3.0,2.0,2.0,4.0,3.0,3.0,2.0,2.0,5.0,5.0,3.0,3.0,3.0,1.0,3.0,2.0,4.0,3.0,3.0,2.0,3.0,4.0,1.0,2.0,5.0,3.0,1.0,3.0,3.0,3.0,1.0,3.0,2.0,3.0,2.0,3.0,1.0,2.0,5.0,3.0,2.0,2.0,2.0,4.0,4.0,4.0,2.0,3.0,1.0,4.0,4.0,3.0,3.0,3.0,4.0,3.0,3.0,1.0,4.0,3.0,4.0,3.0,3.0,1.0,2.0,2.0,3.0,2.0,3.0,5.0,2.0,1.0,2.0,1.0,3.0,3.0,2.0,4.0,5.0,4.0,2.0,2.0,1.0,4.0,3.0,4.0,2.0,3.0,2.0,2.0,4.0,3.0,3.0,1.0,2.0,3.0,5.0,5.0,4.0,1.0,3.0,3.0,1.0,3.0,1.0,3.0,3.0,4.0,3.0,3.0,3.0,4.0,3.0,3.0,3.0,3.0,5.0,2.0,5.0,3.0,2.0,3.0,4.0,3.0,2.0,3.0,3.0,3.0,3.0,2.0,4.0,4.0,3.0,3.0,5.0,4.0,1.0,1.0,4.0,2.0,2.0,4.0,5.0,5.0,2.0,5.0,2.0,5.0,3.0,1.0,4.0,1.0,3.0,3.0,3.0,4.0,3.0,3.0,2.0,1.0,1.0,5.0,2.0,1.0,4.0,2.0,2.0,2.0,3.0,2.0,3.0,2.0,4.0,5.0,2.0,2.0,2.0,4.0,2.0,1.0,4.0,5.0,3.0,2.0,2.0,4.0,5.0,3.0,2.0,3.0,2.0,3.0,2.0,1.0,2.0,5.0,5.0,4.0,4.0,3.0,4.0,2.0,3.0,3.0,3.0,3.0,5.0,3.0,2.0,3.0,3.0,5.0,2.0,4.0,4.0,4.0,2.0,1.0,3.0,2.0,5.0,3.0,5.0,1.0,4.0,3.0,4.0,3.0,5.0,3.0,2.0,5.0,1.0,2.0,3.0,2.0,3.0,4.0,3.0,2.0,1.0,2.0,2.0,2.0,5.0,1.0,5.0,2.0,4.0,4.0,1.0,3.0,2.0,3.0,3.0,5.0,1.0,3.0,5.0,5.0,2.0,4.0,3.0,1.0,3.0,3.0,3.0,4.0,2.0,4.0,1.0,3.0,2.0,3.0,2.0,3.0,3.0,3.0,3.0,3.0,1.0,3.0,2.0,4.0,3.0,3.0,4.0,2.0,2.0,4.0,2.0,4.0,3.0,2.0,3.0,3.0,3.0,3.0,3.0,4.0,2.0,4.0,4.0,3.0,1.0,3.0,3.0,2.0,4.0,3.0,2.0,5.0,5.0,3.0,4.0,3.0,3.0,4.0,5.0,3.0,2.0,3.0,1.0,2.0,5.0,4.0,3.0,4.0,2.0,2.0,3.0,5.0,3.0,5.0,3.0,1.0,4.0,3.0,3.0,3.0,2.0,2.0,4.0,1.0,5.0,3.0,2.0,5.0,4.0,3.0,3.0,3.0,1.0,2.0,4.0,2.0,2.0],\"y0\":\" \",\"yaxis\":\"y\",\"type\":\"box\"},{\"alignmentgroup\":\"True\",\"hovertemplate\":\"GenderID=0<br>RaceID=%{x}<br>Rating=%{y}<extra></extra>\",\"legendgroup\":\"0\",\"marker\":{\"color\":\"#EF553B\"},\"name\":\"0\",\"notched\":false,\"offsetgroup\":\"0\",\"orientation\":\"v\",\"showlegend\":true,\"x\":[4,4,4,5,5,2,2,5,5,1,4,4,5,2,5,5,1,1,1,3,2,5,3,5,4,4,1,5,5,4,3,2,3,1,4,5,3,1,2,3,4,3,4,5,5,2,2,3,2,3,2,1,5,3,4,2,2,1,4,1,4,4,2,3,5,5,4,4,4,5,2,3,4,3,4,3,5,4,4,2,3,2,4,1,2,3,1,1,2,4,2,1,3,3,3,4,1,4,1,4,3,4,5,5,2,5,3,3,1,2,4,1,3,2,5,2,3,1,5,2,2,1,1,5,2,5,1,1,2,5,5,5,5,1,1,4,5,2,1,2,4,4,4,1,3,2,1,2,3,5,1,1,1,5,2,5,1,3,4,3,2,3,5,2,4,1,3,5,1,1,1,3,4,1,5,1,3,2,1,2,4,5,3,1,5,3,1,1,1,1,1,1,5,1,2,5,3,3,3,4,4,2,4,5,5,5,2,1,2,4,5,2,2,1,4,5,3,1,4,5,2,2,3,1,5,4,5,2,4,1,3,4,2,1,5,2,1,1,1,4,3,5,3,5,3,4,3,3,2,2,3,1,2,3,3,3,4,3,4,1,3,5,1,5,3,2,5,3,1,3,4,5,5,2,4,5,3,1,5,4,2,2,5,1,3,2,5,2,3,3,4,3,2,2,2,2,3,4,2,1,3,1,5,1,1,1,5,5,3,3,5,1,2,4,2,4,2,3,3,5,1,3,3,4,1,4,4,2,4,3,3,2,2,4,4,3,2,1,1,2,4,5,3,4,5,5,4,4,2,1,3,1,5,2,1,4,2,2,2,3,5,2,2,1,2,3,5,2,5,2,5,2,1,1,1,5,4,3,5,5,4,3,1,2,5,5,2,2,4,3,2,5,4,4,4,1,3,5,4,4,5,2,2,1,1,1,4,3,4,1,1,3,1,3,4,2,2,3,5,3,3,2,3,3,2,5,4,3,5,2,3,5,3,1,4,2,1,5,5,5,2,4,2,3,2,5,3,2,2,5,4,4,1,2,1,4,3,4,3,4,5,1,3,2,2,3,2,3,4,3,1,4,3,2,3,4,1,4,1,5,1,3,2,2,5,1,5,1,2,5,5,5,4,1,3,1,3,2,5,2,2,2,5,3,3,5,1,4,3,5,5,4,4,5,2,5,5,2,5,5,3,4,3,2,4,2,2,4,3,1,4,4,5,3,1,4,5,5,1,4,1,5,5,4,4,3,1,4,3,1,3,2,5,2,1,2,2,5,1,3,2,2,1,1,1,4,4,5,4,3,2,2,2,3,4,4,1,1,5,4,2,1,3,3,5,1,2,5,5,5,4,1,2,2,1,1,2,1,1,4,4,4,4,4,5,5,3,2,1,3,5,4,5,1,1,4,2,2,5,5,5,4,5,4,4,5,2,4,2,4,1,2,1,1,3,2,2,2,1,4,5,4,2,3,5,3,5,5,2,2,2,3,5,4,1,1,3,2,4,4,3,4,5,4,4,2,2,3,3,4,3,3,4,5,2,5,1,3,3,5,3,4,5,1,2,5,2,1,2,1,2,1,1,5,1,5,5,5,4,5,2,1,4,3,1,5,4,2,2,2,3,5,4,4,2,4,1,4,1,1,4,4,4,2,5,4,4,5,3,5,1,2,2,4,5,1,3,1,2,3,1,2,4,4,1,2,1,4,2,3,3,1,4,1,5,1,2,4,4,4,1],\"x0\":\" \",\"xaxis\":\"x\",\"y\":[3.0,4.0,1.0,4.0,3.0,4.0,4.0,5.0,3.0,5.0,5.0,3.0,4.0,4.0,1.0,3.0,4.0,3.0,2.0,2.0,3.0,3.0,2.0,4.0,3.0,3.0,1.0,5.0,2.0,3.0,2.0,3.0,3.0,3.0,5.0,2.0,3.0,4.0,4.0,5.0,3.0,2.0,4.0,3.0,1.0,4.0,2.0,3.0,4.0,3.0,4.0,4.0,4.0,1.0,4.0,4.0,4.0,3.0,5.0,3.0,4.0,4.0,3.0,2.0,5.0,1.0,2.0,4.0,3.0,4.0,3.0,3.0,2.0,3.0,3.0,3.0,3.0,4.0,5.0,3.0,3.0,3.0,2.0,2.0,3.0,5.0,4.0,5.0,3.0,3.0,3.0,3.0,4.0,3.0,2.0,3.0,3.0,3.0,2.0,1.0,2.0,2.0,3.0,2.0,4.0,3.0,4.0,3.0,4.0,3.0,4.0,2.0,3.0,2.0,1.0,3.0,4.0,4.0,2.0,1.0,1.0,4.0,3.0,3.0,3.0,4.0,2.0,4.0,3.0,3.0,2.0,4.0,4.0,4.0,5.0,5.0,4.0,5.0,4.0,5.0,3.0,3.0,3.0,4.0,3.0,3.0,4.0,5.0,1.0,3.0,2.0,3.0,2.0,4.0,4.0,2.0,1.0,2.0,3.0,2.0,5.0,2.0,4.0,3.0,5.0,4.0,3.0,3.0,3.0,3.0,4.0,4.0,3.0,3.0,4.0,3.0,1.0,3.0,4.0,1.0,4.0,5.0,1.0,3.0,3.0,3.0,4.0,3.0,1.0,3.0,5.0,3.0,3.0,1.0,4.0,4.0,3.0,2.0,3.0,5.0,2.0,4.0,3.0,3.0,3.0,4.0,2.0,3.0,2.0,2.0,1.0,3.0,4.0,3.0,4.0,3.0,3.0,2.0,3.0,3.0,3.0,4.0,3.0,2.0,1.0,4.0,4.0,3.0,4.0,4.0,5.0,4.0,1.0,2.0,3.0,4.0,3.0,3.0,2.0,2.0,4.0,3.0,3.0,1.0,3.0,2.0,3.0,3.0,1.0,3.0,3.0,5.0,5.0,2.0,1.0,1.0,4.0,3.0,3.0,4.0,2.0,3.0,2.0,5.0,3.0,3.0,3.0,4.0,3.0,3.0,3.0,3.0,4.0,3.0,3.0,4.0,1.0,2.0,4.0,3.0,3.0,2.0,4.0,4.0,4.0,4.0,3.0,1.0,2.0,2.0,2.0,4.0,1.0,3.0,3.0,1.0,5.0,1.0,2.0,3.0,3.0,4.0,3.0,4.0,3.0,1.0,1.0,3.0,1.0,3.0,3.0,3.0,2.0,3.0,2.0,3.0,3.0,2.0,4.0,3.0,4.0,2.0,3.0,1.0,2.0,3.0,3.0,4.0,5.0,5.0,4.0,3.0,3.0,3.0,3.0,2.0,5.0,2.0,3.0,1.0,4.0,3.0,1.0,2.0,4.0,3.0,4.0,5.0,4.0,4.0,3.0,5.0,4.0,3.0,5.0,3.0,4.0,4.0,3.0,3.0,3.0,4.0,4.0,2.0,3.0,3.0,3.0,3.0,1.0,1.0,1.0,4.0,2.0,3.0,2.0,1.0,1.0,3.0,2.0,3.0,3.0,5.0,3.0,1.0,4.0,3.0,5.0,3.0,3.0,1.0,3.0,3.0,3.0,2.0,4.0,4.0,2.0,3.0,3.0,3.0,1.0,5.0,2.0,4.0,3.0,3.0,3.0,4.0,3.0,4.0,3.0,2.0,3.0,5.0,5.0,5.0,3.0,4.0,3.0,2.0,2.0,1.0,3.0,3.0,1.0,4.0,5.0,5.0,3.0,4.0,3.0,5.0,3.0,3.0,1.0,1.0,4.0,5.0,1.0,3.0,2.0,3.0,2.0,3.0,2.0,1.0,2.0,2.0,4.0,2.0,3.0,4.0,4.0,4.0,3.0,3.0,3.0,2.0,3.0,4.0,1.0,2.0,4.0,2.0,3.0,3.0,3.0,4.0,3.0,3.0,4.0,3.0,1.0,3.0,5.0,3.0,2.0,2.0,5.0,2.0,2.0,1.0,4.0,3.0,5.0,2.0,1.0,1.0,4.0,4.0,3.0,3.0,4.0,2.0,2.0,3.0,1.0,3.0,1.0,1.0,2.0,4.0,3.0,3.0,3.0,4.0,2.0,5.0,1.0,2.0,4.0,4.0,1.0,3.0,3.0,2.0,2.0,3.0,2.0,1.0,3.0,3.0,1.0,3.0,5.0,1.0,3.0,5.0,2.0,3.0,2.0,2.0,4.0,3.0,2.0,4.0,3.0,3.0,3.0,3.0,4.0,5.0,4.0,3.0,3.0,3.0,3.0,5.0,2.0,5.0,3.0,4.0,4.0,5.0,2.0,1.0,4.0,3.0,2.0,3.0,3.0,1.0,3.0,3.0,2.0,3.0,1.0,4.0,3.0,2.0,3.0,5.0,5.0,2.0,3.0,1.0,4.0,1.0,3.0,4.0,1.0,3.0,2.0,3.0,4.0,5.0,1.0,1.0,3.0,2.0,2.0,4.0,5.0,2.0,3.0,1.0,1.0,4.0,1.0,4.0,2.0,3.0,1.0,4.0,3.0,2.0,5.0,4.0,4.0,2.0,4.0,3.0,3.0,3.0,4.0,4.0,3.0,3.0,3.0,4.0,4.0,1.0,4.0,3.0,1.0,4.0,3.0,3.0,3.0,1.0,1.0,3.0,3.0,1.0,3.0,5.0,3.0,2.0,2.0,4.0,3.0,3.0,3.0,4.0,2.0,3.0,5.0,3.0,1.0,3.0,2.0,5.0,4.0,3.0,2.0,1.0,2.0,3.0,3.0,2.0,5.0,2.0,1.0,5.0,5.0,3.0,4.0,1.0,2.0,3.0,4.0,2.0,4.0,1.0,5.0,3.0,1.0,5.0,4.0,3.0,5.0,2.0,2.0,4.0,1.0,3.0,3.0,3.0,3.0,3.0,2.0,4.0,3.0,2.0,5.0,5.0,5.0,3.0,3.0,1.0,5.0,4.0,3.0,3.0,3.0,3.0,3.0,1.0,3.0,3.0,3.0,2.0,2.0,1.0,3.0,5.0,3.0,3.0,3.0,3.0,3.0,3.0,3.0,3.0,5.0,3.0,1.0,4.0,3.0,2.0,5.0,3.0,4.0,4.0,3.0,1.0,1.0,2.0,2.0,3.0,4.0,4.0,3.0,3.0,4.0,4.0,1.0,2.0,3.0,3.0,5.0,3.0,1.0,4.0,3.0,3.0,4.0,4.0,2.0,5.0,3.0],\"y0\":\" \",\"yaxis\":\"y\",\"type\":\"box\"}],                        {\"template\":{\"data\":{\"bar\":[{\"error_x\":{\"color\":\"#2a3f5f\"},\"error_y\":{\"color\":\"#2a3f5f\"},\"marker\":{\"line\":{\"color\":\"#E5ECF6\",\"width\":0.5},\"pattern\":{\"fillmode\":\"overlay\",\"size\":10,\"solidity\":0.2}},\"type\":\"bar\"}],\"barpolar\":[{\"marker\":{\"line\":{\"color\":\"#E5ECF6\",\"width\":0.5},\"pattern\":{\"fillmode\":\"overlay\",\"size\":10,\"solidity\":0.2}},\"type\":\"barpolar\"}],\"carpet\":[{\"aaxis\":{\"endlinecolor\":\"#2a3f5f\",\"gridcolor\":\"white\",\"linecolor\":\"white\",\"minorgridcolor\":\"white\",\"startlinecolor\":\"#2a3f5f\"},\"baxis\":{\"endlinecolor\":\"#2a3f5f\",\"gridcolor\":\"white\",\"linecolor\":\"white\",\"minorgridcolor\":\"white\",\"startlinecolor\":\"#2a3f5f\"},\"type\":\"carpet\"}],\"choropleth\":[{\"colorbar\":{\"outlinewidth\":0,\"ticks\":\"\"},\"type\":\"choropleth\"}],\"contour\":[{\"colorbar\":{\"outlinewidth\":0,\"ticks\":\"\"},\"colorscale\":[[0.0,\"#0d0887\"],[0.1111111111111111,\"#46039f\"],[0.2222222222222222,\"#7201a8\"],[0.3333333333333333,\"#9c179e\"],[0.4444444444444444,\"#bd3786\"],[0.5555555555555556,\"#d8576b\"],[0.6666666666666666,\"#ed7953\"],[0.7777777777777778,\"#fb9f3a\"],[0.8888888888888888,\"#fdca26\"],[1.0,\"#f0f921\"]],\"type\":\"contour\"}],\"contourcarpet\":[{\"colorbar\":{\"outlinewidth\":0,\"ticks\":\"\"},\"type\":\"contourcarpet\"}],\"heatmap\":[{\"colorbar\":{\"outlinewidth\":0,\"ticks\":\"\"},\"colorscale\":[[0.0,\"#0d0887\"],[0.1111111111111111,\"#46039f\"],[0.2222222222222222,\"#7201a8\"],[0.3333333333333333,\"#9c179e\"],[0.4444444444444444,\"#bd3786\"],[0.5555555555555556,\"#d8576b\"],[0.6666666666666666,\"#ed7953\"],[0.7777777777777778,\"#fb9f3a\"],[0.8888888888888888,\"#fdca26\"],[1.0,\"#f0f921\"]],\"type\":\"heatmap\"}],\"heatmapgl\":[{\"colorbar\":{\"outlinewidth\":0,\"ticks\":\"\"},\"colorscale\":[[0.0,\"#0d0887\"],[0.1111111111111111,\"#46039f\"],[0.2222222222222222,\"#7201a8\"],[0.3333333333333333,\"#9c179e\"],[0.4444444444444444,\"#bd3786\"],[0.5555555555555556,\"#d8576b\"],[0.6666666666666666,\"#ed7953\"],[0.7777777777777778,\"#fb9f3a\"],[0.8888888888888888,\"#fdca26\"],[1.0,\"#f0f921\"]],\"type\":\"heatmapgl\"}],\"histogram\":[{\"marker\":{\"pattern\":{\"fillmode\":\"overlay\",\"size\":10,\"solidity\":0.2}},\"type\":\"histogram\"}],\"histogram2d\":[{\"colorbar\":{\"outlinewidth\":0,\"ticks\":\"\"},\"colorscale\":[[0.0,\"#0d0887\"],[0.1111111111111111,\"#46039f\"],[0.2222222222222222,\"#7201a8\"],[0.3333333333333333,\"#9c179e\"],[0.4444444444444444,\"#bd3786\"],[0.5555555555555556,\"#d8576b\"],[0.6666666666666666,\"#ed7953\"],[0.7777777777777778,\"#fb9f3a\"],[0.8888888888888888,\"#fdca26\"],[1.0,\"#f0f921\"]],\"type\":\"histogram2d\"}],\"histogram2dcontour\":[{\"colorbar\":{\"outlinewidth\":0,\"ticks\":\"\"},\"colorscale\":[[0.0,\"#0d0887\"],[0.1111111111111111,\"#46039f\"],[0.2222222222222222,\"#7201a8\"],[0.3333333333333333,\"#9c179e\"],[0.4444444444444444,\"#bd3786\"],[0.5555555555555556,\"#d8576b\"],[0.6666666666666666,\"#ed7953\"],[0.7777777777777778,\"#fb9f3a\"],[0.8888888888888888,\"#fdca26\"],[1.0,\"#f0f921\"]],\"type\":\"histogram2dcontour\"}],\"mesh3d\":[{\"colorbar\":{\"outlinewidth\":0,\"ticks\":\"\"},\"type\":\"mesh3d\"}],\"parcoords\":[{\"line\":{\"colorbar\":{\"outlinewidth\":0,\"ticks\":\"\"}},\"type\":\"parcoords\"}],\"pie\":[{\"automargin\":true,\"type\":\"pie\"}],\"scatter\":[{\"marker\":{\"colorbar\":{\"outlinewidth\":0,\"ticks\":\"\"}},\"type\":\"scatter\"}],\"scatter3d\":[{\"line\":{\"colorbar\":{\"outlinewidth\":0,\"ticks\":\"\"}},\"marker\":{\"colorbar\":{\"outlinewidth\":0,\"ticks\":\"\"}},\"type\":\"scatter3d\"}],\"scattercarpet\":[{\"marker\":{\"colorbar\":{\"outlinewidth\":0,\"ticks\":\"\"}},\"type\":\"scattercarpet\"}],\"scattergeo\":[{\"marker\":{\"colorbar\":{\"outlinewidth\":0,\"ticks\":\"\"}},\"type\":\"scattergeo\"}],\"scattergl\":[{\"marker\":{\"colorbar\":{\"outlinewidth\":0,\"ticks\":\"\"}},\"type\":\"scattergl\"}],\"scattermapbox\":[{\"marker\":{\"colorbar\":{\"outlinewidth\":0,\"ticks\":\"\"}},\"type\":\"scattermapbox\"}],\"scatterpolar\":[{\"marker\":{\"colorbar\":{\"outlinewidth\":0,\"ticks\":\"\"}},\"type\":\"scatterpolar\"}],\"scatterpolargl\":[{\"marker\":{\"colorbar\":{\"outlinewidth\":0,\"ticks\":\"\"}},\"type\":\"scatterpolargl\"}],\"scatterternary\":[{\"marker\":{\"colorbar\":{\"outlinewidth\":0,\"ticks\":\"\"}},\"type\":\"scatterternary\"}],\"surface\":[{\"colorbar\":{\"outlinewidth\":0,\"ticks\":\"\"},\"colorscale\":[[0.0,\"#0d0887\"],[0.1111111111111111,\"#46039f\"],[0.2222222222222222,\"#7201a8\"],[0.3333333333333333,\"#9c179e\"],[0.4444444444444444,\"#bd3786\"],[0.5555555555555556,\"#d8576b\"],[0.6666666666666666,\"#ed7953\"],[0.7777777777777778,\"#fb9f3a\"],[0.8888888888888888,\"#fdca26\"],[1.0,\"#f0f921\"]],\"type\":\"surface\"}],\"table\":[{\"cells\":{\"fill\":{\"color\":\"#EBF0F8\"},\"line\":{\"color\":\"white\"}},\"header\":{\"fill\":{\"color\":\"#C8D4E3\"},\"line\":{\"color\":\"white\"}},\"type\":\"table\"}]},\"layout\":{\"annotationdefaults\":{\"arrowcolor\":\"#2a3f5f\",\"arrowhead\":0,\"arrowwidth\":1},\"autotypenumbers\":\"strict\",\"coloraxis\":{\"colorbar\":{\"outlinewidth\":0,\"ticks\":\"\"}},\"colorscale\":{\"diverging\":[[0,\"#8e0152\"],[0.1,\"#c51b7d\"],[0.2,\"#de77ae\"],[0.3,\"#f1b6da\"],[0.4,\"#fde0ef\"],[0.5,\"#f7f7f7\"],[0.6,\"#e6f5d0\"],[0.7,\"#b8e186\"],[0.8,\"#7fbc41\"],[0.9,\"#4d9221\"],[1,\"#276419\"]],\"sequential\":[[0.0,\"#0d0887\"],[0.1111111111111111,\"#46039f\"],[0.2222222222222222,\"#7201a8\"],[0.3333333333333333,\"#9c179e\"],[0.4444444444444444,\"#bd3786\"],[0.5555555555555556,\"#d8576b\"],[0.6666666666666666,\"#ed7953\"],[0.7777777777777778,\"#fb9f3a\"],[0.8888888888888888,\"#fdca26\"],[1.0,\"#f0f921\"]],\"sequentialminus\":[[0.0,\"#0d0887\"],[0.1111111111111111,\"#46039f\"],[0.2222222222222222,\"#7201a8\"],[0.3333333333333333,\"#9c179e\"],[0.4444444444444444,\"#bd3786\"],[0.5555555555555556,\"#d8576b\"],[0.6666666666666666,\"#ed7953\"],[0.7777777777777778,\"#fb9f3a\"],[0.8888888888888888,\"#fdca26\"],[1.0,\"#f0f921\"]]},\"colorway\":[\"#636efa\",\"#EF553B\",\"#00cc96\",\"#ab63fa\",\"#FFA15A\",\"#19d3f3\",\"#FF6692\",\"#B6E880\",\"#FF97FF\",\"#FECB52\"],\"font\":{\"color\":\"#2a3f5f\"},\"geo\":{\"bgcolor\":\"white\",\"lakecolor\":\"white\",\"landcolor\":\"#E5ECF6\",\"showlakes\":true,\"showland\":true,\"subunitcolor\":\"white\"},\"hoverlabel\":{\"align\":\"left\"},\"hovermode\":\"closest\",\"mapbox\":{\"style\":\"light\"},\"paper_bgcolor\":\"white\",\"plot_bgcolor\":\"#E5ECF6\",\"polar\":{\"angularaxis\":{\"gridcolor\":\"white\",\"linecolor\":\"white\",\"ticks\":\"\"},\"bgcolor\":\"#E5ECF6\",\"radialaxis\":{\"gridcolor\":\"white\",\"linecolor\":\"white\",\"ticks\":\"\"}},\"scene\":{\"xaxis\":{\"backgroundcolor\":\"#E5ECF6\",\"gridcolor\":\"white\",\"gridwidth\":2,\"linecolor\":\"white\",\"showbackground\":true,\"ticks\":\"\",\"zerolinecolor\":\"white\"},\"yaxis\":{\"backgroundcolor\":\"#E5ECF6\",\"gridcolor\":\"white\",\"gridwidth\":2,\"linecolor\":\"white\",\"showbackground\":true,\"ticks\":\"\",\"zerolinecolor\":\"white\"},\"zaxis\":{\"backgroundcolor\":\"#E5ECF6\",\"gridcolor\":\"white\",\"gridwidth\":2,\"linecolor\":\"white\",\"showbackground\":true,\"ticks\":\"\",\"zerolinecolor\":\"white\"}},\"shapedefaults\":{\"line\":{\"color\":\"#2a3f5f\"}},\"ternary\":{\"aaxis\":{\"gridcolor\":\"white\",\"linecolor\":\"white\",\"ticks\":\"\"},\"baxis\":{\"gridcolor\":\"white\",\"linecolor\":\"white\",\"ticks\":\"\"},\"bgcolor\":\"#E5ECF6\",\"caxis\":{\"gridcolor\":\"white\",\"linecolor\":\"white\",\"ticks\":\"\"}},\"title\":{\"x\":0.05},\"xaxis\":{\"automargin\":true,\"gridcolor\":\"white\",\"linecolor\":\"white\",\"ticks\":\"\",\"title\":{\"standoff\":15},\"zerolinecolor\":\"white\",\"zerolinewidth\":2},\"yaxis\":{\"automargin\":true,\"gridcolor\":\"white\",\"linecolor\":\"white\",\"ticks\":\"\",\"title\":{\"standoff\":15},\"zerolinecolor\":\"white\",\"zerolinewidth\":2}}},\"xaxis\":{\"anchor\":\"y\",\"domain\":[0.0,1.0],\"title\":{\"text\":\"RaceID\"}},\"yaxis\":{\"anchor\":\"x\",\"domain\":[0.0,1.0],\"title\":{\"text\":\"Rating\"}},\"legend\":{\"title\":{\"text\":\"GenderID\"},\"tracegroupgap\":0},\"margin\":{\"t\":60},\"boxmode\":\"group\"},                        {\"responsive\": true}                    ).then(function(){\n",
              "                            \n",
              "var gd = document.getElementById('8eeba314-a8f4-4d3a-957f-cd2126b00f31');\n",
              "var x = new MutationObserver(function (mutations, observer) {{\n",
              "        var display = window.getComputedStyle(gd).display;\n",
              "        if (!display || display === 'none') {{\n",
              "            console.log([gd, 'removed!']);\n",
              "            Plotly.purge(gd);\n",
              "            observer.disconnect();\n",
              "        }}\n",
              "}});\n",
              "\n",
              "// Listen for the removal of the full notebook cells\n",
              "var notebookContainer = gd.closest('#notebook-container');\n",
              "if (notebookContainer) {{\n",
              "    x.observe(notebookContainer, {childList: true});\n",
              "}}\n",
              "\n",
              "// Listen for the clearing of the current output cell\n",
              "var outputEl = gd.closest('.output');\n",
              "if (outputEl) {{\n",
              "    x.observe(outputEl, {childList: true});\n",
              "}}\n",
              "\n",
              "                        })                };                            </script>        </div>\n",
              "</body>\n",
              "</html>"
            ]
          },
          "metadata": {}
        }
      ]
    },
    {
      "cell_type": "markdown",
      "source": [
        "What about the ratings across departments? Each department has an igualitarian distribuition of rating for men and women?\n",
        "\n",
        "\n",
        "Actually we can see that for some departments(1,4,8,9) that is true, both men and women has the same rating chances.\n",
        "\n",
        "For the departments 2, 5, 7 and 10 we have some differences in the ratings with men in general receiving more ratings, in 2, 5 and 7 women seems to have less chance to have a rating above 3.\n",
        "\n",
        "And finally in department 6 women has a better rating distribuition than men, but the rating for this department is also slightly worst than the others."
      ],
      "metadata": {
        "id": "wkQpvN5Fdlqt"
      }
    },
    {
      "cell_type": "code",
      "source": [
        "px.box(data_frame=hr_df, x = 'DepID',  y= 'Rating', color = 'GenderID')"
      ],
      "metadata": {
        "colab": {
          "base_uri": "https://localhost:8080/",
          "height": 542
        },
        "id": "5kLG_q-x6esx",
        "outputId": "b6bd0957-e8e8-4b66-b497-b2cc996dad64"
      },
      "execution_count": null,
      "outputs": [
        {
          "output_type": "display_data",
          "data": {
            "text/html": [
              "<html>\n",
              "<head><meta charset=\"utf-8\" /></head>\n",
              "<body>\n",
              "    <div>            <script src=\"https://cdnjs.cloudflare.com/ajax/libs/mathjax/2.7.5/MathJax.js?config=TeX-AMS-MML_SVG\"></script><script type=\"text/javascript\">if (window.MathJax) {MathJax.Hub.Config({SVG: {font: \"STIX-Web\"}});}</script>                <script type=\"text/javascript\">window.PlotlyConfig = {MathJaxConfig: 'local'};</script>\n",
              "        <script src=\"https://cdn.plot.ly/plotly-2.8.3.min.js\"></script>                <div id=\"8b77b04e-d7e8-4cc7-8896-ad323e383c4f\" class=\"plotly-graph-div\" style=\"height:525px; width:100%;\"></div>            <script type=\"text/javascript\">                                    window.PLOTLYENV=window.PLOTLYENV || {};                                    if (document.getElementById(\"8b77b04e-d7e8-4cc7-8896-ad323e383c4f\")) {                    Plotly.newPlot(                        \"8b77b04e-d7e8-4cc7-8896-ad323e383c4f\",                        [{\"alignmentgroup\":\"True\",\"hovertemplate\":\"GenderID=1<br>DepID=%{x}<br>Rating=%{y}<extra></extra>\",\"legendgroup\":\"1\",\"marker\":{\"color\":\"#636efa\"},\"name\":\"1\",\"notched\":false,\"offsetgroup\":\"1\",\"orientation\":\"v\",\"showlegend\":true,\"x\":[8,10,4,8,10,9,1,9,1,7,9,7,4,10,1,8,8,5,8,6,1,10,5,6,3,8,10,8,3,4,6,2,1,1,2,8,10,10,7,7,1,3,5,10,10,4,4,10,6,7,10,9,1,1,6,6,7,5,1,3,9,6,4,3,5,1,2,6,8,4,1,9,4,9,2,2,1,10,5,8,10,7,1,2,9,5,4,1,8,7,6,7,1,5,5,7,7,5,4,5,6,3,4,6,10,10,2,10,10,8,4,8,6,9,4,10,7,4,9,9,1,5,1,4,6,1,2,10,6,7,6,5,3,6,2,2,10,4,5,9,3,3,6,6,5,5,4,6,10,9,6,6,8,10,9,8,1,5,3,8,8,8,9,3,1,8,9,1,5,1,10,8,2,6,7,8,8,1,2,5,10,9,9,4,9,1,5,3,4,9,6,5,10,8,10,1,1,10,3,2,6,1,10,10,9,5,5,1,7,4,7,10,3,8,8,10,7,7,6,5,3,3,7,9,4,9,4,7,2,5,9,8,8,6,2,7,1,3,4,3,9,6,2,2,5,10,3,2,3,1,10,5,7,9,6,1,2,4,5,5,3,3,6,10,4,2,10,3,8,1,2,10,1,10,7,8,7,3,5,7,8,5,8,5,6,6,8,3,2,10,5,6,9,6,8,1,1,6,1,10,3,4,5,5,7,3,4,2,1,10,6,10,9,6,3,10,5,2,1,1,4,8,7,8,8,7,10,3,4,1,10,7,6,3,8,5,1,8,10,10,10,5,6,7,7,2,3,5,1,3,1,6,7,7,2,8,7,8,5,4,1,10,6,10,6,2,8,8,6,4,9,1,5,4,5,2,1,5,8,2,7,5,6,9,1,8,9,9,6,5,3,1,8,8,9,8,4,7,7,9,6,3,4,2,1,5,2,2,4,3,7,9,7,10,1,10,1,4,1,7,1,6,7,9,1,7,9,4,6,9,10,7,5,5,3,3,5,7,3,9,2,4,2,8,3,1,5,2,9,3,1,7,3,3,3,4,1,10,7,6,9,5,9,6,10,4,1,7,7,7,5,7,3,5,10,6,5,5,8,1,7,1,2,8,7,7,4,8,5,8,7,4,2,10,7,6,3,7,10,2,6,2,9,7,8,6,1,4,9,8,10,3,8,4,4,10,3,6,4,8,6,6,1,10,8,9,3,1,6,8,6,3,8,7,10,10,7,2,2,3,2,6,4,3,3,9,6,8,1,10,9,10,9,7,2,5,2,6,10,1,10,2,6,8,1,9,8,6,9,2,1,9,5,2,4,3,8,3,6,10,3,4,9,10,1,2,7,2,10,6,5,4,6,3,3,5,1,8,10,8,8,3,1,8,2,4,2,2,1,7,2,6,8,7,1,3,9,7,9,2,4,4,9,3,6,10,5,4,6,4,10,9,10,5,4,9,8,5,7,5,4,9,6,8,2,5,9,7,6,8,9,3,10,1,9,3,1,8,2,6,2,7,3,8,9,5,3,2,1,5,5,8,10,2,1,4,10,4,5,8,6,4,2,3,5,6,6,8,5,7,8,3,9,5,3,2,3,4,5,8,1,7,8,10,7,5,4,2,8,4,1,5,7,9,4,9,7,3,7,6,10,9,5,3,1,4,4,2,3,8,2,4,7,9,9,9,9,6,5,9,1,9,6,5,4,4,6,9,5,4,3,10,4,9,1,9,3,3,10,6,3,1,5,2,10,8,9,2,8,4,10,5,2,7,2,7,4,1,7,8,6,6,8,8,8,5,4,9,4,3,9,10,1,10,8,8,9,1,1,6,2],\"x0\":\" \",\"xaxis\":\"x\",\"y\":[4.0,4.0,2.0,3.0,5.0,5.0,2.0,3.0,3.0,3.0,4.0,3.0,3.0,3.0,4.0,5.0,4.0,4.0,1.0,1.0,4.0,5.0,3.0,4.0,5.0,4.0,4.0,3.0,3.0,2.0,2.0,3.0,4.0,2.0,1.0,2.0,4.0,4.0,2.0,2.0,4.0,3.0,3.0,3.0,3.0,3.0,1.0,5.0,3.0,5.0,3.0,2.0,5.0,5.0,4.0,3.0,5.0,4.0,2.0,2.0,3.0,3.0,3.0,5.0,3.0,2.0,5.0,2.0,3.0,2.0,3.0,3.0,3.0,3.0,3.0,1.0,3.0,2.0,5.0,4.0,3.0,1.0,3.0,1.0,1.0,4.0,4.0,4.0,2.0,1.0,3.0,5.0,3.0,4.0,1.0,2.0,3.0,5.0,3.0,3.0,3.0,3.0,2.0,3.0,4.0,1.0,3.0,1.0,3.0,4.0,4.0,2.0,3.0,3.0,3.0,4.0,4.0,3.0,4.0,3.0,1.0,3.0,2.0,4.0,2.0,1.0,2.0,1.0,4.0,3.0,1.0,3.0,3.0,4.0,1.0,4.0,3.0,4.0,3.0,1.0,4.0,2.0,4.0,2.0,2.0,3.0,3.0,3.0,3.0,2.0,5.0,5.0,3.0,3.0,3.0,4.0,3.0,5.0,3.0,4.0,1.0,2.0,2.0,3.0,4.0,3.0,2.0,3.0,3.0,5.0,5.0,3.0,1.0,2.0,4.0,2.0,4.0,3.0,1.0,3.0,2.0,4.0,4.0,3.0,3.0,3.0,1.0,2.0,1.0,3.0,2.0,3.0,3.0,4.0,2.0,2.0,4.0,3.0,4.0,2.0,4.0,2.0,3.0,2.0,4.0,3.0,3.0,1.0,4.0,4.0,3.0,2.0,2.0,5.0,1.0,2.0,4.0,2.0,3.0,3.0,3.0,4.0,3.0,3.0,5.0,3.0,1.0,4.0,3.0,3.0,5.0,3.0,2.0,2.0,3.0,3.0,4.0,4.0,5.0,3.0,2.0,2.0,2.0,3.0,3.0,3.0,4.0,5.0,5.0,4.0,2.0,2.0,3.0,2.0,3.0,2.0,3.0,5.0,3.0,3.0,3.0,3.0,3.0,2.0,3.0,1.0,5.0,4.0,3.0,5.0,3.0,3.0,5.0,2.0,3.0,4.0,5.0,4.0,2.0,3.0,2.0,1.0,4.0,3.0,5.0,3.0,3.0,3.0,3.0,3.0,4.0,2.0,3.0,2.0,5.0,2.0,4.0,1.0,3.0,2.0,3.0,4.0,2.0,3.0,4.0,3.0,3.0,3.0,2.0,4.0,1.0,4.0,2.0,1.0,2.0,2.0,3.0,5.0,3.0,3.0,4.0,3.0,3.0,3.0,4.0,1.0,1.0,3.0,3.0,2.0,4.0,1.0,1.0,3.0,4.0,3.0,1.0,1.0,3.0,3.0,3.0,1.0,4.0,3.0,3.0,4.0,4.0,2.0,2.0,4.0,3.0,2.0,2.0,1.0,3.0,3.0,3.0,2.0,2.0,2.0,4.0,2.0,1.0,3.0,3.0,4.0,3.0,1.0,3.0,1.0,4.0,4.0,3.0,3.0,1.0,2.0,5.0,3.0,3.0,5.0,4.0,2.0,3.0,1.0,3.0,3.0,3.0,5.0,3.0,2.0,3.0,3.0,2.0,5.0,3.0,3.0,3.0,1.0,3.0,4.0,5.0,4.0,3.0,4.0,4.0,2.0,2.0,3.0,4.0,5.0,2.0,1.0,3.0,3.0,1.0,2.0,4.0,3.0,3.0,3.0,3.0,2.0,3.0,3.0,1.0,2.0,1.0,1.0,3.0,4.0,4.0,4.0,1.0,5.0,5.0,2.0,3.0,4.0,1.0,4.0,3.0,4.0,2.0,3.0,3.0,2.0,2.0,4.0,3.0,3.0,2.0,2.0,5.0,5.0,3.0,3.0,3.0,1.0,3.0,2.0,4.0,3.0,3.0,2.0,3.0,4.0,1.0,2.0,5.0,3.0,1.0,3.0,3.0,3.0,1.0,3.0,2.0,3.0,2.0,3.0,1.0,2.0,5.0,3.0,2.0,2.0,2.0,4.0,4.0,4.0,2.0,3.0,1.0,4.0,4.0,3.0,3.0,3.0,4.0,3.0,3.0,1.0,4.0,3.0,4.0,3.0,3.0,1.0,2.0,2.0,3.0,2.0,3.0,5.0,2.0,1.0,2.0,1.0,3.0,3.0,2.0,4.0,5.0,4.0,2.0,2.0,1.0,4.0,3.0,4.0,2.0,3.0,2.0,2.0,4.0,3.0,3.0,1.0,2.0,3.0,5.0,5.0,4.0,1.0,3.0,3.0,1.0,3.0,1.0,3.0,3.0,4.0,3.0,3.0,3.0,4.0,3.0,3.0,3.0,3.0,5.0,2.0,5.0,3.0,2.0,3.0,4.0,3.0,2.0,3.0,3.0,3.0,3.0,2.0,4.0,4.0,3.0,3.0,5.0,4.0,1.0,1.0,4.0,2.0,2.0,4.0,5.0,5.0,2.0,5.0,2.0,5.0,3.0,1.0,4.0,1.0,3.0,3.0,3.0,4.0,3.0,3.0,2.0,1.0,1.0,5.0,2.0,1.0,4.0,2.0,2.0,2.0,3.0,2.0,3.0,2.0,4.0,5.0,2.0,2.0,2.0,4.0,2.0,1.0,4.0,5.0,3.0,2.0,2.0,4.0,5.0,3.0,2.0,3.0,2.0,3.0,2.0,1.0,2.0,5.0,5.0,4.0,4.0,3.0,4.0,2.0,3.0,3.0,3.0,3.0,5.0,3.0,2.0,3.0,3.0,5.0,2.0,4.0,4.0,4.0,2.0,1.0,3.0,2.0,5.0,3.0,5.0,1.0,4.0,3.0,4.0,3.0,5.0,3.0,2.0,5.0,1.0,2.0,3.0,2.0,3.0,4.0,3.0,2.0,1.0,2.0,2.0,2.0,5.0,1.0,5.0,2.0,4.0,4.0,1.0,3.0,2.0,3.0,3.0,5.0,1.0,3.0,5.0,5.0,2.0,4.0,3.0,1.0,3.0,3.0,3.0,4.0,2.0,4.0,1.0,3.0,2.0,3.0,2.0,3.0,3.0,3.0,3.0,3.0,1.0,3.0,2.0,4.0,3.0,3.0,4.0,2.0,2.0,4.0,2.0,4.0,3.0,2.0,3.0,3.0,3.0,3.0,3.0,4.0,2.0,4.0,4.0,3.0,1.0,3.0,3.0,2.0,4.0,3.0,2.0,5.0,5.0,3.0,4.0,3.0,3.0,4.0,5.0,3.0,2.0,3.0,1.0,2.0,5.0,4.0,3.0,4.0,2.0,2.0,3.0,5.0,3.0,5.0,3.0,1.0,4.0,3.0,3.0,3.0,2.0,2.0,4.0,1.0,5.0,3.0,2.0,5.0,4.0,3.0,3.0,3.0,1.0,2.0,4.0,2.0,2.0],\"y0\":\" \",\"yaxis\":\"y\",\"type\":\"box\"},{\"alignmentgroup\":\"True\",\"hovertemplate\":\"GenderID=0<br>DepID=%{x}<br>Rating=%{y}<extra></extra>\",\"legendgroup\":\"0\",\"marker\":{\"color\":\"#EF553B\"},\"name\":\"0\",\"notched\":false,\"offsetgroup\":\"0\",\"orientation\":\"v\",\"showlegend\":true,\"x\":[7,3,4,6,6,4,3,7,1,7,2,1,3,9,5,1,10,6,2,7,1,8,6,10,3,9,6,2,6,1,6,6,1,8,1,8,10,5,3,8,10,4,1,10,7,1,6,4,5,3,2,6,7,1,8,10,1,2,3,3,2,9,5,9,5,10,1,1,2,10,4,5,9,3,9,1,9,2,8,7,9,7,7,4,3,6,8,6,4,4,1,8,7,4,10,5,8,6,9,7,3,3,4,1,1,2,10,3,1,8,1,2,6,8,10,8,8,7,2,9,8,6,3,5,6,4,7,5,4,2,1,3,9,6,2,4,10,3,10,4,1,10,9,9,4,7,8,7,1,3,1,7,3,5,5,9,4,1,6,4,5,4,8,8,6,4,3,7,9,6,10,2,4,10,9,3,7,6,7,1,4,4,7,1,5,7,6,6,3,4,5,7,2,5,2,2,10,8,3,10,2,5,3,10,5,3,3,6,8,6,7,5,1,5,3,7,2,6,7,10,5,1,8,7,8,2,8,6,1,4,1,8,7,8,2,5,9,5,4,9,5,3,4,8,8,6,6,8,8,3,10,1,3,10,2,2,4,8,1,10,3,6,4,7,1,8,5,3,4,3,4,1,9,6,1,4,3,8,2,2,2,10,6,2,5,3,4,2,5,7,10,3,8,6,1,7,1,1,6,6,3,2,6,6,2,6,4,4,1,5,4,2,1,1,7,5,2,3,3,7,2,6,7,7,4,3,2,9,5,1,4,8,4,6,10,4,8,7,6,5,10,8,4,6,1,1,3,10,10,10,10,8,3,9,1,2,4,9,4,10,10,7,6,1,5,8,1,1,5,4,3,1,2,9,2,3,2,9,6,3,10,5,1,1,5,5,1,4,2,5,9,5,5,8,7,8,9,1,2,4,3,10,7,2,8,1,4,2,8,3,9,1,4,9,8,2,4,1,4,1,10,3,3,2,1,8,4,3,4,1,2,6,3,5,4,5,6,4,9,8,3,9,9,2,2,2,4,2,1,4,6,6,1,4,3,8,3,4,6,7,5,3,3,6,9,6,9,7,9,2,1,7,6,8,4,5,8,10,3,6,4,3,9,6,7,7,4,3,9,2,6,1,8,9,6,2,2,10,5,7,1,7,10,5,2,4,9,6,8,8,2,1,10,5,4,9,9,8,6,6,8,5,8,2,5,7,5,10,1,9,7,1,10,3,8,2,7,9,9,1,4,7,7,1,5,8,1,10,7,8,5,7,7,1,7,6,7,4,8,6,10,9,4,7,8,3,8,5,2,9,1,4,3,6,6,6,4,1,3,2,6,9,8,3,5,2,4,9,3,6,10,8,6,8,3,4,8,3,4,1,2,10,3,10,2,3,9,6,8,6,4,9,4,4,2,5,5,6,6,5,5,8,2,10,2,2,9,9,4,2,1,6,7,1,4,1,10,10,5,10,5,7,1,7,4,1,5,1,7,1,7,6,4,10,3,6,9,8,2,6,9,3,6,5,2,8,3,1,10,5,9,6,1,5,10,8,1,4,4,10,3,6,1,10,9,8,6,6,2,4,7,3,6,10,2,8,4,6,10,10,4,2,2,1,9,5,6,7,3,4,5,10,4,3,7,7,3,10,6,3,4,3,10,10,6,10,7,5,2,3,10,5,4,9,9,3,10,9,3,5,1,2,2,2,3,1,8,5,7,7,2,3,5,5,4,5,10,6,6,9,3],\"x0\":\" \",\"xaxis\":\"x\",\"y\":[3.0,4.0,1.0,4.0,3.0,4.0,4.0,5.0,3.0,5.0,5.0,3.0,4.0,4.0,1.0,3.0,4.0,3.0,2.0,2.0,3.0,3.0,2.0,4.0,3.0,3.0,1.0,5.0,2.0,3.0,2.0,3.0,3.0,3.0,5.0,2.0,3.0,4.0,4.0,5.0,3.0,2.0,4.0,3.0,1.0,4.0,2.0,3.0,4.0,3.0,4.0,4.0,4.0,1.0,4.0,4.0,4.0,3.0,5.0,3.0,4.0,4.0,3.0,2.0,5.0,1.0,2.0,4.0,3.0,4.0,3.0,3.0,2.0,3.0,3.0,3.0,3.0,4.0,5.0,3.0,3.0,3.0,2.0,2.0,3.0,5.0,4.0,5.0,3.0,3.0,3.0,3.0,4.0,3.0,2.0,3.0,3.0,3.0,2.0,1.0,2.0,2.0,3.0,2.0,4.0,3.0,4.0,3.0,4.0,3.0,4.0,2.0,3.0,2.0,1.0,3.0,4.0,4.0,2.0,1.0,1.0,4.0,3.0,3.0,3.0,4.0,2.0,4.0,3.0,3.0,2.0,4.0,4.0,4.0,5.0,5.0,4.0,5.0,4.0,5.0,3.0,3.0,3.0,4.0,3.0,3.0,4.0,5.0,1.0,3.0,2.0,3.0,2.0,4.0,4.0,2.0,1.0,2.0,3.0,2.0,5.0,2.0,4.0,3.0,5.0,4.0,3.0,3.0,3.0,3.0,4.0,4.0,3.0,3.0,4.0,3.0,1.0,3.0,4.0,1.0,4.0,5.0,1.0,3.0,3.0,3.0,4.0,3.0,1.0,3.0,5.0,3.0,3.0,1.0,4.0,4.0,3.0,2.0,3.0,5.0,2.0,4.0,3.0,3.0,3.0,4.0,2.0,3.0,2.0,2.0,1.0,3.0,4.0,3.0,4.0,3.0,3.0,2.0,3.0,3.0,3.0,4.0,3.0,2.0,1.0,4.0,4.0,3.0,4.0,4.0,5.0,4.0,1.0,2.0,3.0,4.0,3.0,3.0,2.0,2.0,4.0,3.0,3.0,1.0,3.0,2.0,3.0,3.0,1.0,3.0,3.0,5.0,5.0,2.0,1.0,1.0,4.0,3.0,3.0,4.0,2.0,3.0,2.0,5.0,3.0,3.0,3.0,4.0,3.0,3.0,3.0,3.0,4.0,3.0,3.0,4.0,1.0,2.0,4.0,3.0,3.0,2.0,4.0,4.0,4.0,4.0,3.0,1.0,2.0,2.0,2.0,4.0,1.0,3.0,3.0,1.0,5.0,1.0,2.0,3.0,3.0,4.0,3.0,4.0,3.0,1.0,1.0,3.0,1.0,3.0,3.0,3.0,2.0,3.0,2.0,3.0,3.0,2.0,4.0,3.0,4.0,2.0,3.0,1.0,2.0,3.0,3.0,4.0,5.0,5.0,4.0,3.0,3.0,3.0,3.0,2.0,5.0,2.0,3.0,1.0,4.0,3.0,1.0,2.0,4.0,3.0,4.0,5.0,4.0,4.0,3.0,5.0,4.0,3.0,5.0,3.0,4.0,4.0,3.0,3.0,3.0,4.0,4.0,2.0,3.0,3.0,3.0,3.0,1.0,1.0,1.0,4.0,2.0,3.0,2.0,1.0,1.0,3.0,2.0,3.0,3.0,5.0,3.0,1.0,4.0,3.0,5.0,3.0,3.0,1.0,3.0,3.0,3.0,2.0,4.0,4.0,2.0,3.0,3.0,3.0,1.0,5.0,2.0,4.0,3.0,3.0,3.0,4.0,3.0,4.0,3.0,2.0,3.0,5.0,5.0,5.0,3.0,4.0,3.0,2.0,2.0,1.0,3.0,3.0,1.0,4.0,5.0,5.0,3.0,4.0,3.0,5.0,3.0,3.0,1.0,1.0,4.0,5.0,1.0,3.0,2.0,3.0,2.0,3.0,2.0,1.0,2.0,2.0,4.0,2.0,3.0,4.0,4.0,4.0,3.0,3.0,3.0,2.0,3.0,4.0,1.0,2.0,4.0,2.0,3.0,3.0,3.0,4.0,3.0,3.0,4.0,3.0,1.0,3.0,5.0,3.0,2.0,2.0,5.0,2.0,2.0,1.0,4.0,3.0,5.0,2.0,1.0,1.0,4.0,4.0,3.0,3.0,4.0,2.0,2.0,3.0,1.0,3.0,1.0,1.0,2.0,4.0,3.0,3.0,3.0,4.0,2.0,5.0,1.0,2.0,4.0,4.0,1.0,3.0,3.0,2.0,2.0,3.0,2.0,1.0,3.0,3.0,1.0,3.0,5.0,1.0,3.0,5.0,2.0,3.0,2.0,2.0,4.0,3.0,2.0,4.0,3.0,3.0,3.0,3.0,4.0,5.0,4.0,3.0,3.0,3.0,3.0,5.0,2.0,5.0,3.0,4.0,4.0,5.0,2.0,1.0,4.0,3.0,2.0,3.0,3.0,1.0,3.0,3.0,2.0,3.0,1.0,4.0,3.0,2.0,3.0,5.0,5.0,2.0,3.0,1.0,4.0,1.0,3.0,4.0,1.0,3.0,2.0,3.0,4.0,5.0,1.0,1.0,3.0,2.0,2.0,4.0,5.0,2.0,3.0,1.0,1.0,4.0,1.0,4.0,2.0,3.0,1.0,4.0,3.0,2.0,5.0,4.0,4.0,2.0,4.0,3.0,3.0,3.0,4.0,4.0,3.0,3.0,3.0,4.0,4.0,1.0,4.0,3.0,1.0,4.0,3.0,3.0,3.0,1.0,1.0,3.0,3.0,1.0,3.0,5.0,3.0,2.0,2.0,4.0,3.0,3.0,3.0,4.0,2.0,3.0,5.0,3.0,1.0,3.0,2.0,5.0,4.0,3.0,2.0,1.0,2.0,3.0,3.0,2.0,5.0,2.0,1.0,5.0,5.0,3.0,4.0,1.0,2.0,3.0,4.0,2.0,4.0,1.0,5.0,3.0,1.0,5.0,4.0,3.0,5.0,2.0,2.0,4.0,1.0,3.0,3.0,3.0,3.0,3.0,2.0,4.0,3.0,2.0,5.0,5.0,5.0,3.0,3.0,1.0,5.0,4.0,3.0,3.0,3.0,3.0,3.0,1.0,3.0,3.0,3.0,2.0,2.0,1.0,3.0,5.0,3.0,3.0,3.0,3.0,3.0,3.0,3.0,3.0,5.0,3.0,1.0,4.0,3.0,2.0,5.0,3.0,4.0,4.0,3.0,1.0,1.0,2.0,2.0,3.0,4.0,4.0,3.0,3.0,4.0,4.0,1.0,2.0,3.0,3.0,5.0,3.0,1.0,4.0,3.0,3.0,4.0,4.0,2.0,5.0,3.0],\"y0\":\" \",\"yaxis\":\"y\",\"type\":\"box\"}],                        {\"template\":{\"data\":{\"bar\":[{\"error_x\":{\"color\":\"#2a3f5f\"},\"error_y\":{\"color\":\"#2a3f5f\"},\"marker\":{\"line\":{\"color\":\"#E5ECF6\",\"width\":0.5},\"pattern\":{\"fillmode\":\"overlay\",\"size\":10,\"solidity\":0.2}},\"type\":\"bar\"}],\"barpolar\":[{\"marker\":{\"line\":{\"color\":\"#E5ECF6\",\"width\":0.5},\"pattern\":{\"fillmode\":\"overlay\",\"size\":10,\"solidity\":0.2}},\"type\":\"barpolar\"}],\"carpet\":[{\"aaxis\":{\"endlinecolor\":\"#2a3f5f\",\"gridcolor\":\"white\",\"linecolor\":\"white\",\"minorgridcolor\":\"white\",\"startlinecolor\":\"#2a3f5f\"},\"baxis\":{\"endlinecolor\":\"#2a3f5f\",\"gridcolor\":\"white\",\"linecolor\":\"white\",\"minorgridcolor\":\"white\",\"startlinecolor\":\"#2a3f5f\"},\"type\":\"carpet\"}],\"choropleth\":[{\"colorbar\":{\"outlinewidth\":0,\"ticks\":\"\"},\"type\":\"choropleth\"}],\"contour\":[{\"colorbar\":{\"outlinewidth\":0,\"ticks\":\"\"},\"colorscale\":[[0.0,\"#0d0887\"],[0.1111111111111111,\"#46039f\"],[0.2222222222222222,\"#7201a8\"],[0.3333333333333333,\"#9c179e\"],[0.4444444444444444,\"#bd3786\"],[0.5555555555555556,\"#d8576b\"],[0.6666666666666666,\"#ed7953\"],[0.7777777777777778,\"#fb9f3a\"],[0.8888888888888888,\"#fdca26\"],[1.0,\"#f0f921\"]],\"type\":\"contour\"}],\"contourcarpet\":[{\"colorbar\":{\"outlinewidth\":0,\"ticks\":\"\"},\"type\":\"contourcarpet\"}],\"heatmap\":[{\"colorbar\":{\"outlinewidth\":0,\"ticks\":\"\"},\"colorscale\":[[0.0,\"#0d0887\"],[0.1111111111111111,\"#46039f\"],[0.2222222222222222,\"#7201a8\"],[0.3333333333333333,\"#9c179e\"],[0.4444444444444444,\"#bd3786\"],[0.5555555555555556,\"#d8576b\"],[0.6666666666666666,\"#ed7953\"],[0.7777777777777778,\"#fb9f3a\"],[0.8888888888888888,\"#fdca26\"],[1.0,\"#f0f921\"]],\"type\":\"heatmap\"}],\"heatmapgl\":[{\"colorbar\":{\"outlinewidth\":0,\"ticks\":\"\"},\"colorscale\":[[0.0,\"#0d0887\"],[0.1111111111111111,\"#46039f\"],[0.2222222222222222,\"#7201a8\"],[0.3333333333333333,\"#9c179e\"],[0.4444444444444444,\"#bd3786\"],[0.5555555555555556,\"#d8576b\"],[0.6666666666666666,\"#ed7953\"],[0.7777777777777778,\"#fb9f3a\"],[0.8888888888888888,\"#fdca26\"],[1.0,\"#f0f921\"]],\"type\":\"heatmapgl\"}],\"histogram\":[{\"marker\":{\"pattern\":{\"fillmode\":\"overlay\",\"size\":10,\"solidity\":0.2}},\"type\":\"histogram\"}],\"histogram2d\":[{\"colorbar\":{\"outlinewidth\":0,\"ticks\":\"\"},\"colorscale\":[[0.0,\"#0d0887\"],[0.1111111111111111,\"#46039f\"],[0.2222222222222222,\"#7201a8\"],[0.3333333333333333,\"#9c179e\"],[0.4444444444444444,\"#bd3786\"],[0.5555555555555556,\"#d8576b\"],[0.6666666666666666,\"#ed7953\"],[0.7777777777777778,\"#fb9f3a\"],[0.8888888888888888,\"#fdca26\"],[1.0,\"#f0f921\"]],\"type\":\"histogram2d\"}],\"histogram2dcontour\":[{\"colorbar\":{\"outlinewidth\":0,\"ticks\":\"\"},\"colorscale\":[[0.0,\"#0d0887\"],[0.1111111111111111,\"#46039f\"],[0.2222222222222222,\"#7201a8\"],[0.3333333333333333,\"#9c179e\"],[0.4444444444444444,\"#bd3786\"],[0.5555555555555556,\"#d8576b\"],[0.6666666666666666,\"#ed7953\"],[0.7777777777777778,\"#fb9f3a\"],[0.8888888888888888,\"#fdca26\"],[1.0,\"#f0f921\"]],\"type\":\"histogram2dcontour\"}],\"mesh3d\":[{\"colorbar\":{\"outlinewidth\":0,\"ticks\":\"\"},\"type\":\"mesh3d\"}],\"parcoords\":[{\"line\":{\"colorbar\":{\"outlinewidth\":0,\"ticks\":\"\"}},\"type\":\"parcoords\"}],\"pie\":[{\"automargin\":true,\"type\":\"pie\"}],\"scatter\":[{\"marker\":{\"colorbar\":{\"outlinewidth\":0,\"ticks\":\"\"}},\"type\":\"scatter\"}],\"scatter3d\":[{\"line\":{\"colorbar\":{\"outlinewidth\":0,\"ticks\":\"\"}},\"marker\":{\"colorbar\":{\"outlinewidth\":0,\"ticks\":\"\"}},\"type\":\"scatter3d\"}],\"scattercarpet\":[{\"marker\":{\"colorbar\":{\"outlinewidth\":0,\"ticks\":\"\"}},\"type\":\"scattercarpet\"}],\"scattergeo\":[{\"marker\":{\"colorbar\":{\"outlinewidth\":0,\"ticks\":\"\"}},\"type\":\"scattergeo\"}],\"scattergl\":[{\"marker\":{\"colorbar\":{\"outlinewidth\":0,\"ticks\":\"\"}},\"type\":\"scattergl\"}],\"scattermapbox\":[{\"marker\":{\"colorbar\":{\"outlinewidth\":0,\"ticks\":\"\"}},\"type\":\"scattermapbox\"}],\"scatterpolar\":[{\"marker\":{\"colorbar\":{\"outlinewidth\":0,\"ticks\":\"\"}},\"type\":\"scatterpolar\"}],\"scatterpolargl\":[{\"marker\":{\"colorbar\":{\"outlinewidth\":0,\"ticks\":\"\"}},\"type\":\"scatterpolargl\"}],\"scatterternary\":[{\"marker\":{\"colorbar\":{\"outlinewidth\":0,\"ticks\":\"\"}},\"type\":\"scatterternary\"}],\"surface\":[{\"colorbar\":{\"outlinewidth\":0,\"ticks\":\"\"},\"colorscale\":[[0.0,\"#0d0887\"],[0.1111111111111111,\"#46039f\"],[0.2222222222222222,\"#7201a8\"],[0.3333333333333333,\"#9c179e\"],[0.4444444444444444,\"#bd3786\"],[0.5555555555555556,\"#d8576b\"],[0.6666666666666666,\"#ed7953\"],[0.7777777777777778,\"#fb9f3a\"],[0.8888888888888888,\"#fdca26\"],[1.0,\"#f0f921\"]],\"type\":\"surface\"}],\"table\":[{\"cells\":{\"fill\":{\"color\":\"#EBF0F8\"},\"line\":{\"color\":\"white\"}},\"header\":{\"fill\":{\"color\":\"#C8D4E3\"},\"line\":{\"color\":\"white\"}},\"type\":\"table\"}]},\"layout\":{\"annotationdefaults\":{\"arrowcolor\":\"#2a3f5f\",\"arrowhead\":0,\"arrowwidth\":1},\"autotypenumbers\":\"strict\",\"coloraxis\":{\"colorbar\":{\"outlinewidth\":0,\"ticks\":\"\"}},\"colorscale\":{\"diverging\":[[0,\"#8e0152\"],[0.1,\"#c51b7d\"],[0.2,\"#de77ae\"],[0.3,\"#f1b6da\"],[0.4,\"#fde0ef\"],[0.5,\"#f7f7f7\"],[0.6,\"#e6f5d0\"],[0.7,\"#b8e186\"],[0.8,\"#7fbc41\"],[0.9,\"#4d9221\"],[1,\"#276419\"]],\"sequential\":[[0.0,\"#0d0887\"],[0.1111111111111111,\"#46039f\"],[0.2222222222222222,\"#7201a8\"],[0.3333333333333333,\"#9c179e\"],[0.4444444444444444,\"#bd3786\"],[0.5555555555555556,\"#d8576b\"],[0.6666666666666666,\"#ed7953\"],[0.7777777777777778,\"#fb9f3a\"],[0.8888888888888888,\"#fdca26\"],[1.0,\"#f0f921\"]],\"sequentialminus\":[[0.0,\"#0d0887\"],[0.1111111111111111,\"#46039f\"],[0.2222222222222222,\"#7201a8\"],[0.3333333333333333,\"#9c179e\"],[0.4444444444444444,\"#bd3786\"],[0.5555555555555556,\"#d8576b\"],[0.6666666666666666,\"#ed7953\"],[0.7777777777777778,\"#fb9f3a\"],[0.8888888888888888,\"#fdca26\"],[1.0,\"#f0f921\"]]},\"colorway\":[\"#636efa\",\"#EF553B\",\"#00cc96\",\"#ab63fa\",\"#FFA15A\",\"#19d3f3\",\"#FF6692\",\"#B6E880\",\"#FF97FF\",\"#FECB52\"],\"font\":{\"color\":\"#2a3f5f\"},\"geo\":{\"bgcolor\":\"white\",\"lakecolor\":\"white\",\"landcolor\":\"#E5ECF6\",\"showlakes\":true,\"showland\":true,\"subunitcolor\":\"white\"},\"hoverlabel\":{\"align\":\"left\"},\"hovermode\":\"closest\",\"mapbox\":{\"style\":\"light\"},\"paper_bgcolor\":\"white\",\"plot_bgcolor\":\"#E5ECF6\",\"polar\":{\"angularaxis\":{\"gridcolor\":\"white\",\"linecolor\":\"white\",\"ticks\":\"\"},\"bgcolor\":\"#E5ECF6\",\"radialaxis\":{\"gridcolor\":\"white\",\"linecolor\":\"white\",\"ticks\":\"\"}},\"scene\":{\"xaxis\":{\"backgroundcolor\":\"#E5ECF6\",\"gridcolor\":\"white\",\"gridwidth\":2,\"linecolor\":\"white\",\"showbackground\":true,\"ticks\":\"\",\"zerolinecolor\":\"white\"},\"yaxis\":{\"backgroundcolor\":\"#E5ECF6\",\"gridcolor\":\"white\",\"gridwidth\":2,\"linecolor\":\"white\",\"showbackground\":true,\"ticks\":\"\",\"zerolinecolor\":\"white\"},\"zaxis\":{\"backgroundcolor\":\"#E5ECF6\",\"gridcolor\":\"white\",\"gridwidth\":2,\"linecolor\":\"white\",\"showbackground\":true,\"ticks\":\"\",\"zerolinecolor\":\"white\"}},\"shapedefaults\":{\"line\":{\"color\":\"#2a3f5f\"}},\"ternary\":{\"aaxis\":{\"gridcolor\":\"white\",\"linecolor\":\"white\",\"ticks\":\"\"},\"baxis\":{\"gridcolor\":\"white\",\"linecolor\":\"white\",\"ticks\":\"\"},\"bgcolor\":\"#E5ECF6\",\"caxis\":{\"gridcolor\":\"white\",\"linecolor\":\"white\",\"ticks\":\"\"}},\"title\":{\"x\":0.05},\"xaxis\":{\"automargin\":true,\"gridcolor\":\"white\",\"linecolor\":\"white\",\"ticks\":\"\",\"title\":{\"standoff\":15},\"zerolinecolor\":\"white\",\"zerolinewidth\":2},\"yaxis\":{\"automargin\":true,\"gridcolor\":\"white\",\"linecolor\":\"white\",\"ticks\":\"\",\"title\":{\"standoff\":15},\"zerolinecolor\":\"white\",\"zerolinewidth\":2}}},\"xaxis\":{\"anchor\":\"y\",\"domain\":[0.0,1.0],\"title\":{\"text\":\"DepID\"}},\"yaxis\":{\"anchor\":\"x\",\"domain\":[0.0,1.0],\"title\":{\"text\":\"Rating\"}},\"legend\":{\"title\":{\"text\":\"GenderID\"},\"tracegroupgap\":0},\"margin\":{\"t\":60},\"boxmode\":\"group\"},                        {\"responsive\": true}                    ).then(function(){\n",
              "                            \n",
              "var gd = document.getElementById('8b77b04e-d7e8-4cc7-8896-ad323e383c4f');\n",
              "var x = new MutationObserver(function (mutations, observer) {{\n",
              "        var display = window.getComputedStyle(gd).display;\n",
              "        if (!display || display === 'none') {{\n",
              "            console.log([gd, 'removed!']);\n",
              "            Plotly.purge(gd);\n",
              "            observer.disconnect();\n",
              "        }}\n",
              "}});\n",
              "\n",
              "// Listen for the removal of the full notebook cells\n",
              "var notebookContainer = gd.closest('#notebook-container');\n",
              "if (notebookContainer) {{\n",
              "    x.observe(notebookContainer, {childList: true});\n",
              "}}\n",
              "\n",
              "// Listen for the clearing of the current output cell\n",
              "var outputEl = gd.closest('.output');\n",
              "if (outputEl) {{\n",
              "    x.observe(outputEl, {childList: true});\n",
              "}}\n",
              "\n",
              "                        })                };                            </script>        </div>\n",
              "</body>\n",
              "</html>"
            ]
          },
          "metadata": {}
        }
      ]
    },
    {
      "cell_type": "markdown",
      "source": [
        "What about rating for race between departments?\n",
        "\n",
        "It's possible to see that for each department some races has better or worst chances of getting a better rating. But it doesn't seem that are one race with better rating performance overall."
      ],
      "metadata": {
        "id": "vccKauuPfsG5"
      }
    },
    {
      "cell_type": "code",
      "source": [
        "px.box(data_frame=hr_df, x = 'DepID',  y= 'Rating', color = 'RaceID')"
      ],
      "metadata": {
        "colab": {
          "base_uri": "https://localhost:8080/",
          "height": 542
        },
        "id": "N1RsRHiELC6p",
        "outputId": "32b4c7e7-b003-4ad3-a3be-252c7e99c452"
      },
      "execution_count": null,
      "outputs": [
        {
          "output_type": "display_data",
          "data": {
            "text/html": [
              "<html>\n",
              "<head><meta charset=\"utf-8\" /></head>\n",
              "<body>\n",
              "    <div>            <script src=\"https://cdnjs.cloudflare.com/ajax/libs/mathjax/2.7.5/MathJax.js?config=TeX-AMS-MML_SVG\"></script><script type=\"text/javascript\">if (window.MathJax) {MathJax.Hub.Config({SVG: {font: \"STIX-Web\"}});}</script>                <script type=\"text/javascript\">window.PlotlyConfig = {MathJaxConfig: 'local'};</script>\n",
              "        <script src=\"https://cdn.plot.ly/plotly-2.8.3.min.js\"></script>                <div id=\"b9b318ca-8781-4174-9e00-84c3caba4153\" class=\"plotly-graph-div\" style=\"height:525px; width:100%;\"></div>            <script type=\"text/javascript\">                                    window.PLOTLYENV=window.PLOTLYENV || {};                                    if (document.getElementById(\"b9b318ca-8781-4174-9e00-84c3caba4153\")) {                    Plotly.newPlot(                        \"b9b318ca-8781-4174-9e00-84c3caba4153\",                        [{\"alignmentgroup\":\"True\",\"hovertemplate\":\"RaceID=1<br>DepID=%{x}<br>Rating=%{y}<extra></extra>\",\"legendgroup\":\"1\",\"marker\":{\"color\":\"#636efa\"},\"name\":\"1\",\"notched\":false,\"offsetgroup\":\"1\",\"orientation\":\"v\",\"showlegend\":true,\"x\":[8,8,7,8,10,6,2,6,8,5,1,10,6,10,10,2,3,1,6,4,4,2,1,8,6,1,8,7,8,4,9,10,1,2,7,6,3,7,5,10,6,2,3,10,10,4,9,9,8,1,7,3,9,4,8,8,8,4,9,8,6,10,6,10,3,9,9,7,1,6,6,3,4,5,7,5,5,5,9,6,4,8,5,6,5,7,4,3,5,9,8,9,5,5,4,6,10,4,2,8,1,10,4,5,8,5,3,2,4,6,8,6,10,2,10,10,9,3,6,2,2,6,2,6,2,2,6,3,4,6,7,6,6,8,1,10,10,8,1,2,1,5,1,6,2,9,2,3,8,9,1,4,5,4,1,8,7,2,8,1,3,9,4,2,8,3,1,5,5,6,1,7,7,3,5,8,1,7,7,3,3,1,6,2,8,3,4,7,3,9,3,2,8,8,9,8,6,3,10,9,10,9,7,8,9,4,10,1,8,7,6,5,8,3,8,4,7,10,8,7,4,1,6,3,5,9,2,8,2,4,2,9,8,3,4,3,4,3,6,6,9,10,5,8,4,5,4,9,7,6,2,8,10,8,1,7,1,2,5,3,8,7,3,3,6,8,10,2,8,3,1,2,3,8,10,9,5,6,4,5,3,6,2,2,9,1,6,3,2,6,3,5,10,3,9,1,3,8,10,1,3,5,5,3,1],\"x0\":\" \",\"xaxis\":\"x\",\"y\":[4.0,3.0,5.0,5.0,4.0,3.0,2.0,1.0,3.0,4.0,2.0,4.0,4.0,3.0,3.0,3.0,3.0,5.0,3.0,3.0,2.0,1.0,3.0,4.0,5.0,4.0,3.0,2.0,3.0,3.0,2.0,1.0,4.0,2.0,4.0,4.0,3.0,2.0,4.0,1.0,4.0,5.0,3.0,3.0,4.0,4.0,4.0,1.0,4.0,2.0,3.0,2.0,2.0,1.0,3.0,2.0,3.0,4.0,3.0,3.0,3.0,4.0,2.0,3.0,3.0,4.0,4.0,4.0,3.0,4.0,3.0,1.0,3.0,5.0,3.0,1.0,3.0,3.0,3.0,3.0,1.0,2.0,3.0,2.0,3.0,2.0,4.0,5.0,2.0,2.0,2.0,3.0,3.0,3.0,2.0,3.0,2.0,3.0,1.0,3.0,5.0,4.0,2.0,1.0,4.0,3.0,3.0,3.0,3.0,2.0,2.0,1.0,2.0,4.0,4.0,4.0,2.0,2.0,3.0,5.0,4.0,4.0,3.0,1.0,3.0,4.0,1.0,3.0,2.0,4.0,2.0,2.0,3.0,2.0,4.0,3.0,4.0,5.0,5.0,2.0,2.0,2.0,3.0,3.0,2.0,3.0,2.0,3.0,2.0,3.0,3.0,3.0,2.0,4.0,4.0,4.0,3.0,4.0,3.0,3.0,4.0,3.0,3.0,2.0,3.0,5.0,3.0,3.0,3.0,4.0,1.0,5.0,3.0,3.0,3.0,3.0,4.0,2.0,2.0,3.0,2.0,4.0,3.0,1.0,2.0,5.0,2.0,2.0,1.0,2.0,2.0,3.0,3.0,2.0,2.0,4.0,2.0,3.0,3.0,3.0,4.0,3.0,3.0,2.0,3.0,4.0,5.0,3.0,5.0,2.0,3.0,3.0,2.0,4.0,3.0,3.0,3.0,2.0,2.0,5.0,4.0,1.0,3.0,1.0,1.0,3.0,5.0,1.0,1.0,5.0,2.0,4.0,4.0,3.0,1.0,4.0,1.0,1.0,4.0,2.0,3.0,2.0,1.0,4.0,5.0,2.0,3.0,3.0,3.0,3.0,4.0,3.0,2.0,4.0,1.0,3.0,1.0,1.0,2.0,2.0,2.0,1.0,2.0,2.0,1.0,5.0,5.0,1.0,3.0,3.0,1.0,4.0,3.0,3.0,4.0,4.0,3.0,3.0,3.0,1.0,4.0,3.0,5.0,4.0,3.0,2.0,3.0,3.0,2.0,3.0,3.0,4.0,5.0,1.0,2.0,4.0,4.0,1.0,5.0,4.0,3.0,4.0,3.0,3.0,2.0],\"y0\":\" \",\"yaxis\":\"y\",\"type\":\"box\"},{\"alignmentgroup\":\"True\",\"hovertemplate\":\"RaceID=4<br>DepID=%{x}<br>Rating=%{y}<extra></extra>\",\"legendgroup\":\"4\",\"marker\":{\"color\":\"#EF553B\"},\"name\":\"4\",\"notched\":false,\"offsetgroup\":\"4\",\"orientation\":\"v\",\"showlegend\":true,\"x\":[7,3,4,7,1,2,1,3,9,1,1,4,10,1,8,5,3,2,9,1,1,2,6,1,3,9,9,9,6,2,8,7,9,2,7,4,4,6,5,5,5,6,7,3,10,4,6,1,9,6,6,4,2,1,10,9,3,5,6,6,10,9,1,5,6,10,4,7,2,4,1,3,6,10,1,1,3,2,10,10,10,2,3,1,10,6,7,4,9,6,7,5,3,3,7,3,2,2,1,8,4,3,9,10,2,6,1,10,4,1,7,10,4,1,9,6,8,2,5,2,1,6,10,1,10,4,8,10,4,1,5,1,7,1,7,8,3,10,2,5,10,6,3,10,5,10,7,6,2,4,3,10,10,2,8,2,8,2,10,7,7,3,1,2,2,7,7,5,8,7,2,1,4,9,4,7,8,3,5,8,3,4,3,4,9,9,6,1,6,6,8,4,7,2,9,7,7,5,10,9,7,8,8,8,4,10,6,6,1,9,3,6,7,1,10,2,5,5,10,1,7,1,2,1,1,5,10,8,3,3,8,2,2,6,10,6,6,2,10,1,2,10,3,10,4,8,6,9,5,1,8,6,10,2,3,9,2,5,4,10,5,7,4,6,5,10,2,7,6,7,3,1,5,5,2,9,5,7,1,4,4,6,9,9,4,9,10,2,3,6,3,4,3,7,10,4,3,10,10,7,6,8,9,2,2,5,5,8,6,6,9,1],\"x0\":\" \",\"xaxis\":\"x\",\"y\":[3.0,4.0,1.0,3.0,4.0,5.0,3.0,3.0,3.0,3.0,5.0,2.0,3.0,4.0,4.0,3.0,5.0,4.0,4.0,2.0,4.0,3.0,3.0,2.0,2.0,3.0,2.0,3.0,2.0,4.0,5.0,2.0,3.0,3.0,1.0,3.0,4.0,3.0,4.0,1.0,3.0,3.0,1.0,2.0,3.0,4.0,3.0,4.0,3.0,1.0,4.0,5.0,4.0,3.0,3.0,3.0,4.0,3.0,5.0,3.0,3.0,3.0,3.0,5.0,5.0,5.0,3.0,4.0,1.0,4.0,3.0,2.0,2.0,2.0,2.0,4.0,4.0,2.0,3.0,5.0,2.0,2.0,3.0,1.0,2.0,3.0,3.0,5.0,3.0,2.0,4.0,3.0,3.0,4.0,3.0,4.0,5.0,4.0,4.0,4.0,5.0,3.0,2.0,5.0,3.0,2.0,5.0,2.0,4.0,3.0,3.0,3.0,3.0,3.0,3.0,2.0,5.0,3.0,2.0,3.0,2.0,1.0,2.0,1.0,2.0,4.0,4.0,1.0,3.0,3.0,3.0,2.0,1.0,1.0,1.0,1.0,3.0,3.0,3.0,5.0,3.0,3.0,4.0,3.0,2.0,4.0,2.0,2.0,3.0,2.0,4.0,5.0,2.0,4.0,3.0,3.0,3.0,1.0,3.0,1.0,3.0,4.0,4.0,2.0,3.0,2.0,3.0,3.0,2.0,4.0,3.0,3.0,3.0,3.0,3.0,4.0,3.0,2.0,3.0,5.0,3.0,5.0,3.0,1.0,4.0,3.0,3.0,3.0,3.0,4.0,3.0,2.0,4.0,1.0,3.0,4.0,3.0,3.0,2.0,4.0,3.0,4.0,2.0,4.0,2.0,1.0,1.0,4.0,5.0,2.0,1.0,5.0,2.0,4.0,1.0,1.0,3.0,5.0,5.0,1.0,2.0,2.0,4.0,3.0,3.0,3.0,5.0,3.0,1.0,3.0,1.0,3.0,5.0,3.0,2.0,1.0,5.0,4.0,2.0,4.0,2.0,3.0,1.0,4.0,2.0,2.0,4.0,3.0,4.0,2.0,1.0,4.0,3.0,1.0,3.0,3.0,1.0,3.0,2.0,4.0,3.0,3.0,4.0,2.0,5.0,3.0,3.0,3.0,2.0,2.0,2.0,3.0,5.0,4.0,5.0,3.0,3.0,2.0,4.0,3.0,2.0,2.0,4.0,2.0,2.0,3.0,3.0,3.0,5.0,3.0,3.0,2.0,1.0,5.0,3.0,3.0,3.0,3.0,3.0,1.0,3.0,3.0,4.0,3.0,3.0,2.0,1.0,3.0,4.0,2.0,5.0,4.0],\"y0\":\" \",\"yaxis\":\"y\",\"type\":\"box\"},{\"alignmentgroup\":\"True\",\"hovertemplate\":\"RaceID=5<br>DepID=%{x}<br>Rating=%{y}<extra></extra>\",\"legendgroup\":\"5\",\"marker\":{\"color\":\"#00cc96\"},\"name\":\"5\",\"notched\":false,\"offsetgroup\":\"5\",\"orientation\":\"v\",\"showlegend\":true,\"x\":[10,1,6,6,7,7,9,1,8,8,3,5,1,6,8,10,10,2,3,6,8,8,3,6,1,10,7,10,7,3,4,5,10,1,6,10,3,9,4,1,10,7,6,4,10,10,1,2,2,10,10,1,2,1,4,6,1,5,4,2,1,3,9,10,3,6,6,5,10,9,6,8,8,3,1,5,1,7,9,9,4,5,8,10,1,2,2,7,10,5,3,7,2,9,7,1,4,7,10,10,8,8,10,7,6,2,3,3,8,10,6,7,6,5,1,9,4,1,2,3,4,6,4,6,8,8,4,4,4,7,8,7,1,1,8,1,1,6,6,8,6,4,9,5,3,5,1,10,1,5,3,1,3,6,3,9,5,6,5,2,2,3,5,1,3,7,9,9,5,5,3,7,3,1,4,3,8,4,4,6,7,6,4,9,8,7,2,5,10,5,4,4,8,7,5,3,10,2,6,7,1,4,4,10,2,6,1,8,5,4,10,10,4,8,6,2,5,10,9,9,7,6,6,3,9,6,10,7,9,7,7,10,7,1,4,4,1,5,3,3,8,5,9,3,6,7,6,8,3,4,2,3,7,4,4,9,3,6,5,5,2,2,2,5,2,10,5,4,6,5,1,2,4,3,4,4,4,6,4,3,6,10,5,9,8,10,2,1,8,9,1,9,6,5,4,3,10,8,4,6,10,5,10,5,2,7,6,4,5,1,8,3,8,9,9,4,3,8,4,2],\"x0\":\" \",\"xaxis\":\"x\",\"y\":[4.0,2.0,4.0,3.0,3.0,5.0,4.0,3.0,4.0,1.0,4.0,1.0,3.0,1.0,3.0,5.0,4.0,5.0,5.0,2.0,3.0,2.0,3.0,2.0,4.0,3.0,1.0,4.0,4.0,3.0,3.0,5.0,1.0,5.0,4.0,4.0,5.0,3.0,2.0,3.0,3.0,5.0,3.0,3.0,4.0,1.0,2.0,3.0,3.0,4.0,1.0,1.0,2.0,2.0,4.0,2.0,1.0,3.0,4.0,3.0,2.0,4.0,4.0,4.0,3.0,4.0,3.0,4.0,3.0,2.0,5.0,4.0,4.0,3.0,4.0,3.0,5.0,3.0,4.0,3.0,5.0,3.0,4.0,3.0,2.0,3.0,4.0,3.0,3.0,3.0,4.0,1.0,3.0,5.0,3.0,4.0,5.0,3.0,3.0,3.0,1.0,4.0,2.0,3.0,3.0,3.0,3.0,3.0,1.0,3.0,3.0,5.0,3.0,3.0,3.0,4.0,4.0,2.0,4.0,3.0,4.0,4.0,3.0,3.0,3.0,3.0,1.0,3.0,3.0,3.0,4.0,3.0,2.0,3.0,3.0,4.0,3.0,1.0,3.0,1.0,3.0,1.0,4.0,3.0,4.0,1.0,5.0,3.0,3.0,1.0,1.0,3.0,1.0,2.0,3.0,4.0,4.0,5.0,3.0,4.0,3.0,5.0,3.0,3.0,1.0,2.0,1.0,4.0,1.0,5.0,5.0,4.0,1.0,2.0,3.0,3.0,4.0,3.0,3.0,5.0,3.0,2.0,5.0,1.0,3.0,2.0,1.0,3.0,1.0,2.0,2.0,2.0,4.0,2.0,1.0,3.0,4.0,3.0,2.0,5.0,3.0,1.0,1.0,3.0,4.0,3.0,3.0,3.0,1.0,3.0,4.0,3.0,4.0,2.0,3.0,4.0,3.0,4.0,2.0,2.0,3.0,2.0,1.0,1.0,3.0,1.0,4.0,3.0,3.0,5.0,4.0,3.0,4.0,3.0,3.0,1.0,2.0,4.0,4.0,3.0,3.0,4.0,1.0,3.0,2.0,2.0,2.0,3.0,2.0,2.0,3.0,2.0,2.0,4.0,3.0,5.0,3.0,3.0,4.0,4.0,4.0,4.0,4.0,4.0,3.0,1.0,3.0,2.0,2.0,5.0,3.0,3.0,4.0,2.0,3.0,3.0,3.0,1.0,1.0,3.0,3.0,3.0,1.0,3.0,3.0,3.0,4.0,2.0,3.0,3.0,3.0,3.0,3.0,4.0,3.0,3.0,2.0,5.0,5.0,3.0,1.0,3.0,2.0,5.0,3.0,5.0,5.0,3.0,4.0,5.0,1.0,2.0,3.0,3.0,1.0,5.0,3.0,3.0,3.0,2.0],\"y0\":\" \",\"yaxis\":\"y\",\"type\":\"box\"},{\"alignmentgroup\":\"True\",\"hovertemplate\":\"RaceID=2<br>DepID=%{x}<br>Rating=%{y}<extra></extra>\",\"legendgroup\":\"2\",\"marker\":{\"color\":\"#ab63fa\"},\"name\":\"2\",\"notched\":false,\"offsetgroup\":\"2\",\"orientation\":\"v\",\"showlegend\":true,\"x\":[4,10,9,9,1,4,3,9,1,1,6,6,8,2,3,1,8,6,5,2,10,1,10,7,10,5,9,7,4,5,1,2,8,7,7,4,3,9,10,5,1,4,2,5,1,8,1,5,6,3,4,1,8,8,4,7,8,8,9,8,2,6,4,6,7,3,4,5,7,7,6,5,4,5,5,3,8,9,1,2,8,8,5,6,1,9,5,10,2,9,5,7,3,8,7,7,3,8,8,2,5,1,3,2,5,1,6,7,5,2,5,3,1,8,3,3,8,7,8,8,6,2,10,5,3,2,8,6,1,7,6,5,7,1,3,7,10,2,9,8,5,4,2,8,5,5,10,4,9,4,9,4,7,6,8,5,2,7,6,1,9,4,1,8,4,1,1,4,9,9,1,10,10,7,4,10,2,2,4,3,7,1,3,1,5,10,3,4,9,2,5,2,1,4,4,6,9,10,9,8,9,6,9,3,9,10,7,6,1,7,8,4,8,2,6,2,7,5,8,9,2,1,7,1,6,9,7,2,4,6,10,10,9,9,1,4,3,5,4,6,1,8,3,4,2,2,7,1,7,9,6,8,2,8,10,5,9,6,9,5,6,1,9,3,2,9,4,9,6,3,1,10,1,10,8,10,1,8,6,2,7,8,5,1,7,3,8,8,3,9,5,1,10,4,7,9,6,2,7,4,3,7,3,10,4,1,7,8,4,10,2,7,2,10,7,6,5,4,4,3,2,1,7,10,10],\"x0\":\" \",\"xaxis\":\"x\",\"y\":[2.0,5.0,5.0,3.0,3.0,4.0,4.0,4.0,4.0,3.0,4.0,3.0,4.0,3.0,4.0,4.0,2.0,2.0,4.0,4.0,4.0,4.0,5.0,5.0,3.0,3.0,2.0,5.0,3.0,3.0,2.0,5.0,3.0,3.0,3.0,3.0,3.0,3.0,2.0,5.0,3.0,3.0,1.0,4.0,3.0,2.0,3.0,3.0,3.0,3.0,2.0,4.0,3.0,2.0,3.0,4.0,2.0,3.0,1.0,1.0,2.0,3.0,3.0,4.0,3.0,5.0,5.0,3.0,3.0,5.0,2.0,2.0,3.0,4.0,5.0,3.0,3.0,2.0,3.0,1.0,2.0,4.0,3.0,3.0,1.0,3.0,3.0,3.0,4.0,4.0,4.0,4.0,2.0,5.0,4.0,2.0,2.0,2.0,3.0,3.0,3.0,4.0,4.0,3.0,3.0,4.0,3.0,1.0,4.0,3.0,3.0,4.0,5.0,1.0,3.0,5.0,4.0,5.0,3.0,3.0,3.0,3.0,2.0,3.0,4.0,1.0,1.0,3.0,3.0,1.0,2.0,3.0,3.0,2.0,3.0,2.0,4.0,3.0,4.0,3.0,1.0,3.0,4.0,5.0,1.0,2.0,4.0,3.0,3.0,4.0,4.0,3.0,4.0,4.0,3.0,3.0,5.0,4.0,3.0,3.0,1.0,1.0,4.0,3.0,3.0,1.0,5.0,3.0,3.0,1.0,1.0,2.0,5.0,2.0,1.0,4.0,3.0,5.0,3.0,1.0,2.0,1.0,5.0,4.0,1.0,3.0,2.0,4.0,2.0,2.0,1.0,2.0,4.0,4.0,3.0,2.0,3.0,4.0,3.0,3.0,4.0,3.0,2.0,2.0,4.0,3.0,1.0,2.0,2.0,4.0,2.0,3.0,3.0,5.0,5.0,3.0,1.0,3.0,3.0,3.0,3.0,3.0,4.0,5.0,1.0,2.0,4.0,3.0,4.0,5.0,4.0,3.0,1.0,4.0,3.0,5.0,5.0,2.0,5.0,1.0,3.0,3.0,3.0,1.0,1.0,2.0,2.0,3.0,5.0,2.0,5.0,2.0,2.0,1.0,5.0,3.0,3.0,4.0,4.0,3.0,3.0,3.0,3.0,5.0,2.0,3.0,3.0,5.0,3.0,5.0,5.0,3.0,4.0,2.0,3.0,5.0,3.0,2.0,3.0,3.0,1.0,5.0,4.0,3.0,2.0,1.0,3.0,3.0,4.0,4.0,3.0,1.0,5.0,2.0,2.0,1.0,3.0,3.0,2.0,5.0,3.0,1.0,3.0,4.0,3.0,4.0,3.0,5.0,4.0,3.0,2.0,2.0,3.0,3.0,3.0,4.0,3.0,4.0,4.0,2.0,4.0,4.0,3.0,3.0,4.0],\"y0\":\" \",\"yaxis\":\"y\",\"type\":\"box\"},{\"alignmentgroup\":\"True\",\"hovertemplate\":\"RaceID=3<br>DepID=%{x}<br>Rating=%{y}<extra></extra>\",\"legendgroup\":\"3\",\"marker\":{\"color\":\"#FFA15A\"},\"name\":\"3\",\"notched\":false,\"offsetgroup\":\"3\",\"orientation\":\"v\",\"showlegend\":true,\"x\":[4,10,5,7,6,5,6,1,10,10,8,4,2,4,3,7,1,7,1,4,6,9,5,5,3,1,9,6,8,9,7,7,4,10,7,5,3,10,8,3,9,6,4,9,8,5,5,2,4,1,3,1,4,4,8,8,9,3,2,1,10,7,4,7,5,4,7,6,10,8,3,5,4,10,8,3,3,6,9,2,6,2,8,1,1,1,5,4,8,6,8,10,7,10,2,2,8,3,5,8,3,6,1,3,5,3,3,1,1,7,3,4,5,5,7,3,1,6,3,1,1,1,7,5,3,3,5,6,7,10,1,4,7,4,3,7,4,8,7,10,1,5,10,8,9,9,5,8,9,5,5,10,4,9,7,1,6,1,6,2,1,9,9,4,5,2,1,1,9,10,1,3,2,3,2,10,3,9,6,7,2,4,8,7,1,2,5,8,3,6,3,6,7,2,6,7,4,6,3,6,4,6,2,5,2,1,8,8,2,3,4,8,3,1,10,3,5,2,8,6,7,2,6,1,5,9,8,9,2,6,3,2,9,6,8,3,10,8,1,1,4,9,10,5,4,4,9,5,6,8,2,7,8,5,4,1,4,7,5,1,9,6,5,9,8,1,5,9,7,7,1,10,9,6,4,4,3,9,6,4,6,10,4,9,1,9,5,10,8,9,2,8,5,10,5,9,7,2,9,6],\"x0\":\" \",\"xaxis\":\"x\",\"y\":[3.0,3.0,4.0,2.0,2.0,3.0,2.0,3.0,4.0,3.0,5.0,2.0,1.0,3.0,3.0,2.0,1.0,2.0,4.0,1.0,3.0,2.0,4.0,3.0,3.0,3.0,3.0,5.0,4.0,1.0,4.0,1.0,3.0,2.0,3.0,5.0,2.0,4.0,4.0,3.0,3.0,3.0,3.0,4.0,4.0,3.0,3.0,1.0,3.0,1.0,2.0,2.0,2.0,2.0,4.0,1.0,2.0,3.0,4.0,3.0,2.0,1.0,3.0,1.0,1.0,1.0,3.0,4.0,3.0,2.0,3.0,3.0,4.0,2.0,1.0,3.0,4.0,2.0,2.0,3.0,2.0,2.0,3.0,4.0,5.0,2.0,4.0,3.0,3.0,3.0,3.0,3.0,3.0,2.0,1.0,1.0,3.0,4.0,2.0,2.0,2.0,5.0,3.0,4.0,4.0,3.0,1.0,4.0,3.0,4.0,3.0,3.0,4.0,2.0,2.0,4.0,5.0,1.0,3.0,3.0,3.0,1.0,1.0,3.0,2.0,4.0,3.0,2.0,3.0,3.0,5.0,4.0,3.0,2.0,4.0,1.0,1.0,3.0,3.0,3.0,4.0,3.0,3.0,3.0,3.0,5.0,2.0,5.0,3.0,5.0,1.0,3.0,3.0,2.0,3.0,3.0,2.0,1.0,3.0,4.0,2.0,5.0,4.0,4.0,2.0,4.0,4.0,2.0,3.0,2.0,2.0,3.0,3.0,5.0,3.0,1.0,3.0,3.0,2.0,3.0,3.0,2.0,2.0,1.0,2.0,5.0,4.0,4.0,3.0,3.0,4.0,3.0,4.0,3.0,1.0,3.0,5.0,3.0,1.0,3.0,5.0,2.0,1.0,3.0,3.0,4.0,1.0,3.0,2.0,3.0,4.0,1.0,3.0,2.0,3.0,3.0,4.0,3.0,3.0,3.0,2.0,2.0,5.0,2.0,3.0,3.0,4.0,3.0,2.0,3.0,3.0,4.0,2.0,2.0,2.0,3.0,3.0,4.0,2.0,4.0,4.0,2.0,5.0,3.0,2.0,4.0,5.0,5.0,2.0,3.0,4.0,1.0,2.0,3.0,3.0,2.0,5.0,4.0,1.0,3.0,4.0,5.0,3.0,2.0,5.0,1.0,4.0,5.0,2.0,2.0,1.0,2.0,4.0,2.0,5.0,4.0,5.0,3.0,2.0,4.0,4.0,2.0,4.0,3.0,3.0,5.0,3.0,2.0,3.0,1.0,3.0,2.0,2.0,1.0,3.0,2.0,3.0,5.0,1.0,2.0],\"y0\":\" \",\"yaxis\":\"y\",\"type\":\"box\"}],                        {\"template\":{\"data\":{\"bar\":[{\"error_x\":{\"color\":\"#2a3f5f\"},\"error_y\":{\"color\":\"#2a3f5f\"},\"marker\":{\"line\":{\"color\":\"#E5ECF6\",\"width\":0.5},\"pattern\":{\"fillmode\":\"overlay\",\"size\":10,\"solidity\":0.2}},\"type\":\"bar\"}],\"barpolar\":[{\"marker\":{\"line\":{\"color\":\"#E5ECF6\",\"width\":0.5},\"pattern\":{\"fillmode\":\"overlay\",\"size\":10,\"solidity\":0.2}},\"type\":\"barpolar\"}],\"carpet\":[{\"aaxis\":{\"endlinecolor\":\"#2a3f5f\",\"gridcolor\":\"white\",\"linecolor\":\"white\",\"minorgridcolor\":\"white\",\"startlinecolor\":\"#2a3f5f\"},\"baxis\":{\"endlinecolor\":\"#2a3f5f\",\"gridcolor\":\"white\",\"linecolor\":\"white\",\"minorgridcolor\":\"white\",\"startlinecolor\":\"#2a3f5f\"},\"type\":\"carpet\"}],\"choropleth\":[{\"colorbar\":{\"outlinewidth\":0,\"ticks\":\"\"},\"type\":\"choropleth\"}],\"contour\":[{\"colorbar\":{\"outlinewidth\":0,\"ticks\":\"\"},\"colorscale\":[[0.0,\"#0d0887\"],[0.1111111111111111,\"#46039f\"],[0.2222222222222222,\"#7201a8\"],[0.3333333333333333,\"#9c179e\"],[0.4444444444444444,\"#bd3786\"],[0.5555555555555556,\"#d8576b\"],[0.6666666666666666,\"#ed7953\"],[0.7777777777777778,\"#fb9f3a\"],[0.8888888888888888,\"#fdca26\"],[1.0,\"#f0f921\"]],\"type\":\"contour\"}],\"contourcarpet\":[{\"colorbar\":{\"outlinewidth\":0,\"ticks\":\"\"},\"type\":\"contourcarpet\"}],\"heatmap\":[{\"colorbar\":{\"outlinewidth\":0,\"ticks\":\"\"},\"colorscale\":[[0.0,\"#0d0887\"],[0.1111111111111111,\"#46039f\"],[0.2222222222222222,\"#7201a8\"],[0.3333333333333333,\"#9c179e\"],[0.4444444444444444,\"#bd3786\"],[0.5555555555555556,\"#d8576b\"],[0.6666666666666666,\"#ed7953\"],[0.7777777777777778,\"#fb9f3a\"],[0.8888888888888888,\"#fdca26\"],[1.0,\"#f0f921\"]],\"type\":\"heatmap\"}],\"heatmapgl\":[{\"colorbar\":{\"outlinewidth\":0,\"ticks\":\"\"},\"colorscale\":[[0.0,\"#0d0887\"],[0.1111111111111111,\"#46039f\"],[0.2222222222222222,\"#7201a8\"],[0.3333333333333333,\"#9c179e\"],[0.4444444444444444,\"#bd3786\"],[0.5555555555555556,\"#d8576b\"],[0.6666666666666666,\"#ed7953\"],[0.7777777777777778,\"#fb9f3a\"],[0.8888888888888888,\"#fdca26\"],[1.0,\"#f0f921\"]],\"type\":\"heatmapgl\"}],\"histogram\":[{\"marker\":{\"pattern\":{\"fillmode\":\"overlay\",\"size\":10,\"solidity\":0.2}},\"type\":\"histogram\"}],\"histogram2d\":[{\"colorbar\":{\"outlinewidth\":0,\"ticks\":\"\"},\"colorscale\":[[0.0,\"#0d0887\"],[0.1111111111111111,\"#46039f\"],[0.2222222222222222,\"#7201a8\"],[0.3333333333333333,\"#9c179e\"],[0.4444444444444444,\"#bd3786\"],[0.5555555555555556,\"#d8576b\"],[0.6666666666666666,\"#ed7953\"],[0.7777777777777778,\"#fb9f3a\"],[0.8888888888888888,\"#fdca26\"],[1.0,\"#f0f921\"]],\"type\":\"histogram2d\"}],\"histogram2dcontour\":[{\"colorbar\":{\"outlinewidth\":0,\"ticks\":\"\"},\"colorscale\":[[0.0,\"#0d0887\"],[0.1111111111111111,\"#46039f\"],[0.2222222222222222,\"#7201a8\"],[0.3333333333333333,\"#9c179e\"],[0.4444444444444444,\"#bd3786\"],[0.5555555555555556,\"#d8576b\"],[0.6666666666666666,\"#ed7953\"],[0.7777777777777778,\"#fb9f3a\"],[0.8888888888888888,\"#fdca26\"],[1.0,\"#f0f921\"]],\"type\":\"histogram2dcontour\"}],\"mesh3d\":[{\"colorbar\":{\"outlinewidth\":0,\"ticks\":\"\"},\"type\":\"mesh3d\"}],\"parcoords\":[{\"line\":{\"colorbar\":{\"outlinewidth\":0,\"ticks\":\"\"}},\"type\":\"parcoords\"}],\"pie\":[{\"automargin\":true,\"type\":\"pie\"}],\"scatter\":[{\"marker\":{\"colorbar\":{\"outlinewidth\":0,\"ticks\":\"\"}},\"type\":\"scatter\"}],\"scatter3d\":[{\"line\":{\"colorbar\":{\"outlinewidth\":0,\"ticks\":\"\"}},\"marker\":{\"colorbar\":{\"outlinewidth\":0,\"ticks\":\"\"}},\"type\":\"scatter3d\"}],\"scattercarpet\":[{\"marker\":{\"colorbar\":{\"outlinewidth\":0,\"ticks\":\"\"}},\"type\":\"scattercarpet\"}],\"scattergeo\":[{\"marker\":{\"colorbar\":{\"outlinewidth\":0,\"ticks\":\"\"}},\"type\":\"scattergeo\"}],\"scattergl\":[{\"marker\":{\"colorbar\":{\"outlinewidth\":0,\"ticks\":\"\"}},\"type\":\"scattergl\"}],\"scattermapbox\":[{\"marker\":{\"colorbar\":{\"outlinewidth\":0,\"ticks\":\"\"}},\"type\":\"scattermapbox\"}],\"scatterpolar\":[{\"marker\":{\"colorbar\":{\"outlinewidth\":0,\"ticks\":\"\"}},\"type\":\"scatterpolar\"}],\"scatterpolargl\":[{\"marker\":{\"colorbar\":{\"outlinewidth\":0,\"ticks\":\"\"}},\"type\":\"scatterpolargl\"}],\"scatterternary\":[{\"marker\":{\"colorbar\":{\"outlinewidth\":0,\"ticks\":\"\"}},\"type\":\"scatterternary\"}],\"surface\":[{\"colorbar\":{\"outlinewidth\":0,\"ticks\":\"\"},\"colorscale\":[[0.0,\"#0d0887\"],[0.1111111111111111,\"#46039f\"],[0.2222222222222222,\"#7201a8\"],[0.3333333333333333,\"#9c179e\"],[0.4444444444444444,\"#bd3786\"],[0.5555555555555556,\"#d8576b\"],[0.6666666666666666,\"#ed7953\"],[0.7777777777777778,\"#fb9f3a\"],[0.8888888888888888,\"#fdca26\"],[1.0,\"#f0f921\"]],\"type\":\"surface\"}],\"table\":[{\"cells\":{\"fill\":{\"color\":\"#EBF0F8\"},\"line\":{\"color\":\"white\"}},\"header\":{\"fill\":{\"color\":\"#C8D4E3\"},\"line\":{\"color\":\"white\"}},\"type\":\"table\"}]},\"layout\":{\"annotationdefaults\":{\"arrowcolor\":\"#2a3f5f\",\"arrowhead\":0,\"arrowwidth\":1},\"autotypenumbers\":\"strict\",\"coloraxis\":{\"colorbar\":{\"outlinewidth\":0,\"ticks\":\"\"}},\"colorscale\":{\"diverging\":[[0,\"#8e0152\"],[0.1,\"#c51b7d\"],[0.2,\"#de77ae\"],[0.3,\"#f1b6da\"],[0.4,\"#fde0ef\"],[0.5,\"#f7f7f7\"],[0.6,\"#e6f5d0\"],[0.7,\"#b8e186\"],[0.8,\"#7fbc41\"],[0.9,\"#4d9221\"],[1,\"#276419\"]],\"sequential\":[[0.0,\"#0d0887\"],[0.1111111111111111,\"#46039f\"],[0.2222222222222222,\"#7201a8\"],[0.3333333333333333,\"#9c179e\"],[0.4444444444444444,\"#bd3786\"],[0.5555555555555556,\"#d8576b\"],[0.6666666666666666,\"#ed7953\"],[0.7777777777777778,\"#fb9f3a\"],[0.8888888888888888,\"#fdca26\"],[1.0,\"#f0f921\"]],\"sequentialminus\":[[0.0,\"#0d0887\"],[0.1111111111111111,\"#46039f\"],[0.2222222222222222,\"#7201a8\"],[0.3333333333333333,\"#9c179e\"],[0.4444444444444444,\"#bd3786\"],[0.5555555555555556,\"#d8576b\"],[0.6666666666666666,\"#ed7953\"],[0.7777777777777778,\"#fb9f3a\"],[0.8888888888888888,\"#fdca26\"],[1.0,\"#f0f921\"]]},\"colorway\":[\"#636efa\",\"#EF553B\",\"#00cc96\",\"#ab63fa\",\"#FFA15A\",\"#19d3f3\",\"#FF6692\",\"#B6E880\",\"#FF97FF\",\"#FECB52\"],\"font\":{\"color\":\"#2a3f5f\"},\"geo\":{\"bgcolor\":\"white\",\"lakecolor\":\"white\",\"landcolor\":\"#E5ECF6\",\"showlakes\":true,\"showland\":true,\"subunitcolor\":\"white\"},\"hoverlabel\":{\"align\":\"left\"},\"hovermode\":\"closest\",\"mapbox\":{\"style\":\"light\"},\"paper_bgcolor\":\"white\",\"plot_bgcolor\":\"#E5ECF6\",\"polar\":{\"angularaxis\":{\"gridcolor\":\"white\",\"linecolor\":\"white\",\"ticks\":\"\"},\"bgcolor\":\"#E5ECF6\",\"radialaxis\":{\"gridcolor\":\"white\",\"linecolor\":\"white\",\"ticks\":\"\"}},\"scene\":{\"xaxis\":{\"backgroundcolor\":\"#E5ECF6\",\"gridcolor\":\"white\",\"gridwidth\":2,\"linecolor\":\"white\",\"showbackground\":true,\"ticks\":\"\",\"zerolinecolor\":\"white\"},\"yaxis\":{\"backgroundcolor\":\"#E5ECF6\",\"gridcolor\":\"white\",\"gridwidth\":2,\"linecolor\":\"white\",\"showbackground\":true,\"ticks\":\"\",\"zerolinecolor\":\"white\"},\"zaxis\":{\"backgroundcolor\":\"#E5ECF6\",\"gridcolor\":\"white\",\"gridwidth\":2,\"linecolor\":\"white\",\"showbackground\":true,\"ticks\":\"\",\"zerolinecolor\":\"white\"}},\"shapedefaults\":{\"line\":{\"color\":\"#2a3f5f\"}},\"ternary\":{\"aaxis\":{\"gridcolor\":\"white\",\"linecolor\":\"white\",\"ticks\":\"\"},\"baxis\":{\"gridcolor\":\"white\",\"linecolor\":\"white\",\"ticks\":\"\"},\"bgcolor\":\"#E5ECF6\",\"caxis\":{\"gridcolor\":\"white\",\"linecolor\":\"white\",\"ticks\":\"\"}},\"title\":{\"x\":0.05},\"xaxis\":{\"automargin\":true,\"gridcolor\":\"white\",\"linecolor\":\"white\",\"ticks\":\"\",\"title\":{\"standoff\":15},\"zerolinecolor\":\"white\",\"zerolinewidth\":2},\"yaxis\":{\"automargin\":true,\"gridcolor\":\"white\",\"linecolor\":\"white\",\"ticks\":\"\",\"title\":{\"standoff\":15},\"zerolinecolor\":\"white\",\"zerolinewidth\":2}}},\"xaxis\":{\"anchor\":\"y\",\"domain\":[0.0,1.0],\"title\":{\"text\":\"DepID\"}},\"yaxis\":{\"anchor\":\"x\",\"domain\":[0.0,1.0],\"title\":{\"text\":\"Rating\"}},\"legend\":{\"title\":{\"text\":\"RaceID\"},\"tracegroupgap\":0},\"margin\":{\"t\":60},\"boxmode\":\"group\"},                        {\"responsive\": true}                    ).then(function(){\n",
              "                            \n",
              "var gd = document.getElementById('b9b318ca-8781-4174-9e00-84c3caba4153');\n",
              "var x = new MutationObserver(function (mutations, observer) {{\n",
              "        var display = window.getComputedStyle(gd).display;\n",
              "        if (!display || display === 'none') {{\n",
              "            console.log([gd, 'removed!']);\n",
              "            Plotly.purge(gd);\n",
              "            observer.disconnect();\n",
              "        }}\n",
              "}});\n",
              "\n",
              "// Listen for the removal of the full notebook cells\n",
              "var notebookContainer = gd.closest('#notebook-container');\n",
              "if (notebookContainer) {{\n",
              "    x.observe(notebookContainer, {childList: true});\n",
              "}}\n",
              "\n",
              "// Listen for the clearing of the current output cell\n",
              "var outputEl = gd.closest('.output');\n",
              "if (outputEl) {{\n",
              "    x.observe(outputEl, {childList: true});\n",
              "}}\n",
              "\n",
              "                        })                };                            </script>        </div>\n",
              "</body>\n",
              "</html>"
            ]
          },
          "metadata": {}
        }
      ]
    },
    {
      "cell_type": "code",
      "source": [
        "px.box(data_frame=hr_df, x = 'RaceID',  y= 'Rating', color = 'RaceID')"
      ],
      "metadata": {
        "colab": {
          "base_uri": "https://localhost:8080/",
          "height": 542
        },
        "id": "MxUdld-RiMi_",
        "outputId": "5330a6ea-6b0b-418d-ef33-6f4f7f66b856"
      },
      "execution_count": 209,
      "outputs": [
        {
          "output_type": "display_data",
          "data": {
            "text/html": [
              "<html>\n",
              "<head><meta charset=\"utf-8\" /></head>\n",
              "<body>\n",
              "    <div>            <script src=\"https://cdnjs.cloudflare.com/ajax/libs/mathjax/2.7.5/MathJax.js?config=TeX-AMS-MML_SVG\"></script><script type=\"text/javascript\">if (window.MathJax) {MathJax.Hub.Config({SVG: {font: \"STIX-Web\"}});}</script>                <script type=\"text/javascript\">window.PlotlyConfig = {MathJaxConfig: 'local'};</script>\n",
              "        <script src=\"https://cdn.plot.ly/plotly-2.8.3.min.js\"></script>                <div id=\"bb060d5f-8db7-4ad9-be1e-f071d252ab5b\" class=\"plotly-graph-div\" style=\"height:525px; width:100%;\"></div>            <script type=\"text/javascript\">                                    window.PLOTLYENV=window.PLOTLYENV || {};                                    if (document.getElementById(\"bb060d5f-8db7-4ad9-be1e-f071d252ab5b\")) {                    Plotly.newPlot(                        \"bb060d5f-8db7-4ad9-be1e-f071d252ab5b\",                        [{\"alignmentgroup\":\"True\",\"hovertemplate\":\"RaceID=%{x}<br>Rating=%{y}<extra></extra>\",\"legendgroup\":\"1\",\"marker\":{\"color\":\"#636efa\"},\"name\":\"1\",\"notched\":false,\"offsetgroup\":\"1\",\"orientation\":\"v\",\"showlegend\":true,\"x\":[1,1,1,1,1,1,1,1,1,1,1,1,1,1,1,1,1,1,1,1,1,1,1,1,1,1,1,1,1,1,1,1,1,1,1,1,1,1,1,1,1,1,1,1,1,1,1,1,1,1,1,1,1,1,1,1,1,1,1,1,1,1,1,1,1,1,1,1,1,1,1,1,1,1,1,1,1,1,1,1,1,1,1,1,1,1,1,1,1,1,1,1,1,1,1,1,1,1,1,1,1,1,1,1,1,1,1,1,1,1,1,1,1,1,1,1,1,1,1,1,1,1,1,1,1,1,1,1,1,1,1,1,1,1,1,1,1,1,1,1,1,1,1,1,1,1,1,1,1,1,1,1,1,1,1,1,1,1,1,1,1,1,1,1,1,1,1,1,1,1,1,1,1,1,1,1,1,1,1,1,1,1,1,1,1,1,1,1,1,1,1,1,1,1,1,1,1,1,1,1,1,1,1,1,1,1,1,1,1,1,1,1,1,1,1,1,1,1,1,1,1,1,1,1,1,1,1,1,1,1,1,1,1,1,1,1,1,1,1,1,1,1,1,1,1,1,1,1,1,1,1,1,1,1,1,1,1,1,1,1,1,1,1,1,1,1,1,1,1,1,1,1,1,1,1,1,1,1,1,1,1,1,1,1,1,1,1,1,1,1,1,1,1,1,1,1,1,1,1,1,1,1,1,1,1],\"x0\":\" \",\"xaxis\":\"x\",\"y\":[4.0,3.0,5.0,5.0,4.0,3.0,2.0,1.0,3.0,4.0,2.0,4.0,4.0,3.0,3.0,3.0,3.0,5.0,3.0,3.0,2.0,1.0,3.0,4.0,5.0,4.0,3.0,2.0,3.0,3.0,2.0,1.0,4.0,2.0,4.0,4.0,3.0,2.0,4.0,1.0,4.0,5.0,3.0,3.0,4.0,4.0,4.0,1.0,4.0,2.0,3.0,2.0,2.0,1.0,3.0,2.0,3.0,4.0,3.0,3.0,3.0,4.0,2.0,3.0,3.0,4.0,4.0,4.0,3.0,4.0,3.0,1.0,3.0,5.0,3.0,1.0,3.0,3.0,3.0,3.0,1.0,2.0,3.0,2.0,3.0,2.0,4.0,5.0,2.0,2.0,2.0,3.0,3.0,3.0,2.0,3.0,2.0,3.0,1.0,3.0,5.0,4.0,2.0,1.0,4.0,3.0,3.0,3.0,3.0,2.0,2.0,1.0,2.0,4.0,4.0,4.0,2.0,2.0,3.0,5.0,4.0,4.0,3.0,1.0,3.0,4.0,1.0,3.0,2.0,4.0,2.0,2.0,3.0,2.0,4.0,3.0,4.0,5.0,5.0,2.0,2.0,2.0,3.0,3.0,2.0,3.0,2.0,3.0,2.0,3.0,3.0,3.0,2.0,4.0,4.0,4.0,3.0,4.0,3.0,3.0,4.0,3.0,3.0,2.0,3.0,5.0,3.0,3.0,3.0,4.0,1.0,5.0,3.0,3.0,3.0,3.0,4.0,2.0,2.0,3.0,2.0,4.0,3.0,1.0,2.0,5.0,2.0,2.0,1.0,2.0,2.0,3.0,3.0,2.0,2.0,4.0,2.0,3.0,3.0,3.0,4.0,3.0,3.0,2.0,3.0,4.0,5.0,3.0,5.0,2.0,3.0,3.0,2.0,4.0,3.0,3.0,3.0,2.0,2.0,5.0,4.0,1.0,3.0,1.0,1.0,3.0,5.0,1.0,1.0,5.0,2.0,4.0,4.0,3.0,1.0,4.0,1.0,1.0,4.0,2.0,3.0,2.0,1.0,4.0,5.0,2.0,3.0,3.0,3.0,3.0,4.0,3.0,2.0,4.0,1.0,3.0,1.0,1.0,2.0,2.0,2.0,1.0,2.0,2.0,1.0,5.0,5.0,1.0,3.0,3.0,1.0,4.0,3.0,3.0,4.0,4.0,3.0,3.0,3.0,1.0,4.0,3.0,5.0,4.0,3.0,2.0,3.0,3.0,2.0,3.0,3.0,4.0,5.0,1.0,2.0,4.0,4.0,1.0,5.0,4.0,3.0,4.0,3.0,3.0,2.0],\"y0\":\" \",\"yaxis\":\"y\",\"type\":\"box\"},{\"alignmentgroup\":\"True\",\"hovertemplate\":\"RaceID=%{x}<br>Rating=%{y}<extra></extra>\",\"legendgroup\":\"4\",\"marker\":{\"color\":\"#EF553B\"},\"name\":\"4\",\"notched\":false,\"offsetgroup\":\"4\",\"orientation\":\"v\",\"showlegend\":true,\"x\":[4,4,4,4,4,4,4,4,4,4,4,4,4,4,4,4,4,4,4,4,4,4,4,4,4,4,4,4,4,4,4,4,4,4,4,4,4,4,4,4,4,4,4,4,4,4,4,4,4,4,4,4,4,4,4,4,4,4,4,4,4,4,4,4,4,4,4,4,4,4,4,4,4,4,4,4,4,4,4,4,4,4,4,4,4,4,4,4,4,4,4,4,4,4,4,4,4,4,4,4,4,4,4,4,4,4,4,4,4,4,4,4,4,4,4,4,4,4,4,4,4,4,4,4,4,4,4,4,4,4,4,4,4,4,4,4,4,4,4,4,4,4,4,4,4,4,4,4,4,4,4,4,4,4,4,4,4,4,4,4,4,4,4,4,4,4,4,4,4,4,4,4,4,4,4,4,4,4,4,4,4,4,4,4,4,4,4,4,4,4,4,4,4,4,4,4,4,4,4,4,4,4,4,4,4,4,4,4,4,4,4,4,4,4,4,4,4,4,4,4,4,4,4,4,4,4,4,4,4,4,4,4,4,4,4,4,4,4,4,4,4,4,4,4,4,4,4,4,4,4,4,4,4,4,4,4,4,4,4,4,4,4,4,4,4,4,4,4,4,4,4,4,4,4,4,4,4,4,4,4,4,4,4,4,4,4,4,4,4,4,4,4,4,4,4,4,4,4,4,4,4,4,4,4,4,4,4,4,4,4,4,4],\"x0\":\" \",\"xaxis\":\"x\",\"y\":[3.0,4.0,1.0,3.0,4.0,5.0,3.0,3.0,3.0,3.0,5.0,2.0,3.0,4.0,4.0,3.0,5.0,4.0,4.0,2.0,4.0,3.0,3.0,2.0,2.0,3.0,2.0,3.0,2.0,4.0,5.0,2.0,3.0,3.0,1.0,3.0,4.0,3.0,4.0,1.0,3.0,3.0,1.0,2.0,3.0,4.0,3.0,4.0,3.0,1.0,4.0,5.0,4.0,3.0,3.0,3.0,4.0,3.0,5.0,3.0,3.0,3.0,3.0,5.0,5.0,5.0,3.0,4.0,1.0,4.0,3.0,2.0,2.0,2.0,2.0,4.0,4.0,2.0,3.0,5.0,2.0,2.0,3.0,1.0,2.0,3.0,3.0,5.0,3.0,2.0,4.0,3.0,3.0,4.0,3.0,4.0,5.0,4.0,4.0,4.0,5.0,3.0,2.0,5.0,3.0,2.0,5.0,2.0,4.0,3.0,3.0,3.0,3.0,3.0,3.0,2.0,5.0,3.0,2.0,3.0,2.0,1.0,2.0,1.0,2.0,4.0,4.0,1.0,3.0,3.0,3.0,2.0,1.0,1.0,1.0,1.0,3.0,3.0,3.0,5.0,3.0,3.0,4.0,3.0,2.0,4.0,2.0,2.0,3.0,2.0,4.0,5.0,2.0,4.0,3.0,3.0,3.0,1.0,3.0,1.0,3.0,4.0,4.0,2.0,3.0,2.0,3.0,3.0,2.0,4.0,3.0,3.0,3.0,3.0,3.0,4.0,3.0,2.0,3.0,5.0,3.0,5.0,3.0,1.0,4.0,3.0,3.0,3.0,3.0,4.0,3.0,2.0,4.0,1.0,3.0,4.0,3.0,3.0,2.0,4.0,3.0,4.0,2.0,4.0,2.0,1.0,1.0,4.0,5.0,2.0,1.0,5.0,2.0,4.0,1.0,1.0,3.0,5.0,5.0,1.0,2.0,2.0,4.0,3.0,3.0,3.0,5.0,3.0,1.0,3.0,1.0,3.0,5.0,3.0,2.0,1.0,5.0,4.0,2.0,4.0,2.0,3.0,1.0,4.0,2.0,2.0,4.0,3.0,4.0,2.0,1.0,4.0,3.0,1.0,3.0,3.0,1.0,3.0,2.0,4.0,3.0,3.0,4.0,2.0,5.0,3.0,3.0,3.0,2.0,2.0,2.0,3.0,5.0,4.0,5.0,3.0,3.0,2.0,4.0,3.0,2.0,2.0,4.0,2.0,2.0,3.0,3.0,3.0,5.0,3.0,3.0,2.0,1.0,5.0,3.0,3.0,3.0,3.0,3.0,1.0,3.0,3.0,4.0,3.0,3.0,2.0,1.0,3.0,4.0,2.0,5.0,4.0],\"y0\":\" \",\"yaxis\":\"y\",\"type\":\"box\"},{\"alignmentgroup\":\"True\",\"hovertemplate\":\"RaceID=%{x}<br>Rating=%{y}<extra></extra>\",\"legendgroup\":\"5\",\"marker\":{\"color\":\"#00cc96\"},\"name\":\"5\",\"notched\":false,\"offsetgroup\":\"5\",\"orientation\":\"v\",\"showlegend\":true,\"x\":[5,5,5,5,5,5,5,5,5,5,5,5,5,5,5,5,5,5,5,5,5,5,5,5,5,5,5,5,5,5,5,5,5,5,5,5,5,5,5,5,5,5,5,5,5,5,5,5,5,5,5,5,5,5,5,5,5,5,5,5,5,5,5,5,5,5,5,5,5,5,5,5,5,5,5,5,5,5,5,5,5,5,5,5,5,5,5,5,5,5,5,5,5,5,5,5,5,5,5,5,5,5,5,5,5,5,5,5,5,5,5,5,5,5,5,5,5,5,5,5,5,5,5,5,5,5,5,5,5,5,5,5,5,5,5,5,5,5,5,5,5,5,5,5,5,5,5,5,5,5,5,5,5,5,5,5,5,5,5,5,5,5,5,5,5,5,5,5,5,5,5,5,5,5,5,5,5,5,5,5,5,5,5,5,5,5,5,5,5,5,5,5,5,5,5,5,5,5,5,5,5,5,5,5,5,5,5,5,5,5,5,5,5,5,5,5,5,5,5,5,5,5,5,5,5,5,5,5,5,5,5,5,5,5,5,5,5,5,5,5,5,5,5,5,5,5,5,5,5,5,5,5,5,5,5,5,5,5,5,5,5,5,5,5,5,5,5,5,5,5,5,5,5,5,5,5,5,5,5,5,5,5,5,5,5,5,5,5,5,5,5,5,5,5,5,5,5,5,5,5,5,5,5,5,5,5,5,5,5,5,5,5,5,5,5,5,5,5,5,5],\"x0\":\" \",\"xaxis\":\"x\",\"y\":[4.0,2.0,4.0,3.0,3.0,5.0,4.0,3.0,4.0,1.0,4.0,1.0,3.0,1.0,3.0,5.0,4.0,5.0,5.0,2.0,3.0,2.0,3.0,2.0,4.0,3.0,1.0,4.0,4.0,3.0,3.0,5.0,1.0,5.0,4.0,4.0,5.0,3.0,2.0,3.0,3.0,5.0,3.0,3.0,4.0,1.0,2.0,3.0,3.0,4.0,1.0,1.0,2.0,2.0,4.0,2.0,1.0,3.0,4.0,3.0,2.0,4.0,4.0,4.0,3.0,4.0,3.0,4.0,3.0,2.0,5.0,4.0,4.0,3.0,4.0,3.0,5.0,3.0,4.0,3.0,5.0,3.0,4.0,3.0,2.0,3.0,4.0,3.0,3.0,3.0,4.0,1.0,3.0,5.0,3.0,4.0,5.0,3.0,3.0,3.0,1.0,4.0,2.0,3.0,3.0,3.0,3.0,3.0,1.0,3.0,3.0,5.0,3.0,3.0,3.0,4.0,4.0,2.0,4.0,3.0,4.0,4.0,3.0,3.0,3.0,3.0,1.0,3.0,3.0,3.0,4.0,3.0,2.0,3.0,3.0,4.0,3.0,1.0,3.0,1.0,3.0,1.0,4.0,3.0,4.0,1.0,5.0,3.0,3.0,1.0,1.0,3.0,1.0,2.0,3.0,4.0,4.0,5.0,3.0,4.0,3.0,5.0,3.0,3.0,1.0,2.0,1.0,4.0,1.0,5.0,5.0,4.0,1.0,2.0,3.0,3.0,4.0,3.0,3.0,5.0,3.0,2.0,5.0,1.0,3.0,2.0,1.0,3.0,1.0,2.0,2.0,2.0,4.0,2.0,1.0,3.0,4.0,3.0,2.0,5.0,3.0,1.0,1.0,3.0,4.0,3.0,3.0,3.0,1.0,3.0,4.0,3.0,4.0,2.0,3.0,4.0,3.0,4.0,2.0,2.0,3.0,2.0,1.0,1.0,3.0,1.0,4.0,3.0,3.0,5.0,4.0,3.0,4.0,3.0,3.0,1.0,2.0,4.0,4.0,3.0,3.0,4.0,1.0,3.0,2.0,2.0,2.0,3.0,2.0,2.0,3.0,2.0,2.0,4.0,3.0,5.0,3.0,3.0,4.0,4.0,4.0,4.0,4.0,4.0,3.0,1.0,3.0,2.0,2.0,5.0,3.0,3.0,4.0,2.0,3.0,3.0,3.0,1.0,1.0,3.0,3.0,3.0,1.0,3.0,3.0,3.0,4.0,2.0,3.0,3.0,3.0,3.0,3.0,4.0,3.0,3.0,2.0,5.0,5.0,3.0,1.0,3.0,2.0,5.0,3.0,5.0,5.0,3.0,4.0,5.0,1.0,2.0,3.0,3.0,1.0,5.0,3.0,3.0,3.0,2.0],\"y0\":\" \",\"yaxis\":\"y\",\"type\":\"box\"},{\"alignmentgroup\":\"True\",\"hovertemplate\":\"RaceID=%{x}<br>Rating=%{y}<extra></extra>\",\"legendgroup\":\"2\",\"marker\":{\"color\":\"#ab63fa\"},\"name\":\"2\",\"notched\":false,\"offsetgroup\":\"2\",\"orientation\":\"v\",\"showlegend\":true,\"x\":[2,2,2,2,2,2,2,2,2,2,2,2,2,2,2,2,2,2,2,2,2,2,2,2,2,2,2,2,2,2,2,2,2,2,2,2,2,2,2,2,2,2,2,2,2,2,2,2,2,2,2,2,2,2,2,2,2,2,2,2,2,2,2,2,2,2,2,2,2,2,2,2,2,2,2,2,2,2,2,2,2,2,2,2,2,2,2,2,2,2,2,2,2,2,2,2,2,2,2,2,2,2,2,2,2,2,2,2,2,2,2,2,2,2,2,2,2,2,2,2,2,2,2,2,2,2,2,2,2,2,2,2,2,2,2,2,2,2,2,2,2,2,2,2,2,2,2,2,2,2,2,2,2,2,2,2,2,2,2,2,2,2,2,2,2,2,2,2,2,2,2,2,2,2,2,2,2,2,2,2,2,2,2,2,2,2,2,2,2,2,2,2,2,2,2,2,2,2,2,2,2,2,2,2,2,2,2,2,2,2,2,2,2,2,2,2,2,2,2,2,2,2,2,2,2,2,2,2,2,2,2,2,2,2,2,2,2,2,2,2,2,2,2,2,2,2,2,2,2,2,2,2,2,2,2,2,2,2,2,2,2,2,2,2,2,2,2,2,2,2,2,2,2,2,2,2,2,2,2,2,2,2,2,2,2,2,2,2,2,2,2,2,2,2,2,2,2,2,2,2,2,2,2,2,2,2,2,2,2,2,2,2,2,2,2,2,2,2,2,2,2,2,2,2,2],\"x0\":\" \",\"xaxis\":\"x\",\"y\":[2.0,5.0,5.0,3.0,3.0,4.0,4.0,4.0,4.0,3.0,4.0,3.0,4.0,3.0,4.0,4.0,2.0,2.0,4.0,4.0,4.0,4.0,5.0,5.0,3.0,3.0,2.0,5.0,3.0,3.0,2.0,5.0,3.0,3.0,3.0,3.0,3.0,3.0,2.0,5.0,3.0,3.0,1.0,4.0,3.0,2.0,3.0,3.0,3.0,3.0,2.0,4.0,3.0,2.0,3.0,4.0,2.0,3.0,1.0,1.0,2.0,3.0,3.0,4.0,3.0,5.0,5.0,3.0,3.0,5.0,2.0,2.0,3.0,4.0,5.0,3.0,3.0,2.0,3.0,1.0,2.0,4.0,3.0,3.0,1.0,3.0,3.0,3.0,4.0,4.0,4.0,4.0,2.0,5.0,4.0,2.0,2.0,2.0,3.0,3.0,3.0,4.0,4.0,3.0,3.0,4.0,3.0,1.0,4.0,3.0,3.0,4.0,5.0,1.0,3.0,5.0,4.0,5.0,3.0,3.0,3.0,3.0,2.0,3.0,4.0,1.0,1.0,3.0,3.0,1.0,2.0,3.0,3.0,2.0,3.0,2.0,4.0,3.0,4.0,3.0,1.0,3.0,4.0,5.0,1.0,2.0,4.0,3.0,3.0,4.0,4.0,3.0,4.0,4.0,3.0,3.0,5.0,4.0,3.0,3.0,1.0,1.0,4.0,3.0,3.0,1.0,5.0,3.0,3.0,1.0,1.0,2.0,5.0,2.0,1.0,4.0,3.0,5.0,3.0,1.0,2.0,1.0,5.0,4.0,1.0,3.0,2.0,4.0,2.0,2.0,1.0,2.0,4.0,4.0,3.0,2.0,3.0,4.0,3.0,3.0,4.0,3.0,2.0,2.0,4.0,3.0,1.0,2.0,2.0,4.0,2.0,3.0,3.0,5.0,5.0,3.0,1.0,3.0,3.0,3.0,3.0,3.0,4.0,5.0,1.0,2.0,4.0,3.0,4.0,5.0,4.0,3.0,1.0,4.0,3.0,5.0,5.0,2.0,5.0,1.0,3.0,3.0,3.0,1.0,1.0,2.0,2.0,3.0,5.0,2.0,5.0,2.0,2.0,1.0,5.0,3.0,3.0,4.0,4.0,3.0,3.0,3.0,3.0,5.0,2.0,3.0,3.0,5.0,3.0,5.0,5.0,3.0,4.0,2.0,3.0,5.0,3.0,2.0,3.0,3.0,1.0,5.0,4.0,3.0,2.0,1.0,3.0,3.0,4.0,4.0,3.0,1.0,5.0,2.0,2.0,1.0,3.0,3.0,2.0,5.0,3.0,1.0,3.0,4.0,3.0,4.0,3.0,5.0,4.0,3.0,2.0,2.0,3.0,3.0,3.0,4.0,3.0,4.0,4.0,2.0,4.0,4.0,3.0,3.0,4.0],\"y0\":\" \",\"yaxis\":\"y\",\"type\":\"box\"},{\"alignmentgroup\":\"True\",\"hovertemplate\":\"RaceID=%{x}<br>Rating=%{y}<extra></extra>\",\"legendgroup\":\"3\",\"marker\":{\"color\":\"#FFA15A\"},\"name\":\"3\",\"notched\":false,\"offsetgroup\":\"3\",\"orientation\":\"v\",\"showlegend\":true,\"x\":[3,3,3,3,3,3,3,3,3,3,3,3,3,3,3,3,3,3,3,3,3,3,3,3,3,3,3,3,3,3,3,3,3,3,3,3,3,3,3,3,3,3,3,3,3,3,3,3,3,3,3,3,3,3,3,3,3,3,3,3,3,3,3,3,3,3,3,3,3,3,3,3,3,3,3,3,3,3,3,3,3,3,3,3,3,3,3,3,3,3,3,3,3,3,3,3,3,3,3,3,3,3,3,3,3,3,3,3,3,3,3,3,3,3,3,3,3,3,3,3,3,3,3,3,3,3,3,3,3,3,3,3,3,3,3,3,3,3,3,3,3,3,3,3,3,3,3,3,3,3,3,3,3,3,3,3,3,3,3,3,3,3,3,3,3,3,3,3,3,3,3,3,3,3,3,3,3,3,3,3,3,3,3,3,3,3,3,3,3,3,3,3,3,3,3,3,3,3,3,3,3,3,3,3,3,3,3,3,3,3,3,3,3,3,3,3,3,3,3,3,3,3,3,3,3,3,3,3,3,3,3,3,3,3,3,3,3,3,3,3,3,3,3,3,3,3,3,3,3,3,3,3,3,3,3,3,3,3,3,3,3,3,3,3,3,3,3,3,3,3,3,3,3,3,3,3,3,3,3,3,3,3,3,3,3,3,3,3,3,3,3,3,3,3,3,3,3,3,3,3],\"x0\":\" \",\"xaxis\":\"x\",\"y\":[3.0,3.0,4.0,2.0,2.0,3.0,2.0,3.0,4.0,3.0,5.0,2.0,1.0,3.0,3.0,2.0,1.0,2.0,4.0,1.0,3.0,2.0,4.0,3.0,3.0,3.0,3.0,5.0,4.0,1.0,4.0,1.0,3.0,2.0,3.0,5.0,2.0,4.0,4.0,3.0,3.0,3.0,3.0,4.0,4.0,3.0,3.0,1.0,3.0,1.0,2.0,2.0,2.0,2.0,4.0,1.0,2.0,3.0,4.0,3.0,2.0,1.0,3.0,1.0,1.0,1.0,3.0,4.0,3.0,2.0,3.0,3.0,4.0,2.0,1.0,3.0,4.0,2.0,2.0,3.0,2.0,2.0,3.0,4.0,5.0,2.0,4.0,3.0,3.0,3.0,3.0,3.0,3.0,2.0,1.0,1.0,3.0,4.0,2.0,2.0,2.0,5.0,3.0,4.0,4.0,3.0,1.0,4.0,3.0,4.0,3.0,3.0,4.0,2.0,2.0,4.0,5.0,1.0,3.0,3.0,3.0,1.0,1.0,3.0,2.0,4.0,3.0,2.0,3.0,3.0,5.0,4.0,3.0,2.0,4.0,1.0,1.0,3.0,3.0,3.0,4.0,3.0,3.0,3.0,3.0,5.0,2.0,5.0,3.0,5.0,1.0,3.0,3.0,2.0,3.0,3.0,2.0,1.0,3.0,4.0,2.0,5.0,4.0,4.0,2.0,4.0,4.0,2.0,3.0,2.0,2.0,3.0,3.0,5.0,3.0,1.0,3.0,3.0,2.0,3.0,3.0,2.0,2.0,1.0,2.0,5.0,4.0,4.0,3.0,3.0,4.0,3.0,4.0,3.0,1.0,3.0,5.0,3.0,1.0,3.0,5.0,2.0,1.0,3.0,3.0,4.0,1.0,3.0,2.0,3.0,4.0,1.0,3.0,2.0,3.0,3.0,4.0,3.0,3.0,3.0,2.0,2.0,5.0,2.0,3.0,3.0,4.0,3.0,2.0,3.0,3.0,4.0,2.0,2.0,2.0,3.0,3.0,4.0,2.0,4.0,4.0,2.0,5.0,3.0,2.0,4.0,5.0,5.0,2.0,3.0,4.0,1.0,2.0,3.0,3.0,2.0,5.0,4.0,1.0,3.0,4.0,5.0,3.0,2.0,5.0,1.0,4.0,5.0,2.0,2.0,1.0,2.0,4.0,2.0,5.0,4.0,5.0,3.0,2.0,4.0,4.0,2.0,4.0,3.0,3.0,5.0,3.0,2.0,3.0,1.0,3.0,2.0,2.0,1.0,3.0,2.0,3.0,5.0,1.0,2.0],\"y0\":\" \",\"yaxis\":\"y\",\"type\":\"box\"}],                        {\"template\":{\"data\":{\"bar\":[{\"error_x\":{\"color\":\"#2a3f5f\"},\"error_y\":{\"color\":\"#2a3f5f\"},\"marker\":{\"line\":{\"color\":\"#E5ECF6\",\"width\":0.5},\"pattern\":{\"fillmode\":\"overlay\",\"size\":10,\"solidity\":0.2}},\"type\":\"bar\"}],\"barpolar\":[{\"marker\":{\"line\":{\"color\":\"#E5ECF6\",\"width\":0.5},\"pattern\":{\"fillmode\":\"overlay\",\"size\":10,\"solidity\":0.2}},\"type\":\"barpolar\"}],\"carpet\":[{\"aaxis\":{\"endlinecolor\":\"#2a3f5f\",\"gridcolor\":\"white\",\"linecolor\":\"white\",\"minorgridcolor\":\"white\",\"startlinecolor\":\"#2a3f5f\"},\"baxis\":{\"endlinecolor\":\"#2a3f5f\",\"gridcolor\":\"white\",\"linecolor\":\"white\",\"minorgridcolor\":\"white\",\"startlinecolor\":\"#2a3f5f\"},\"type\":\"carpet\"}],\"choropleth\":[{\"colorbar\":{\"outlinewidth\":0,\"ticks\":\"\"},\"type\":\"choropleth\"}],\"contour\":[{\"colorbar\":{\"outlinewidth\":0,\"ticks\":\"\"},\"colorscale\":[[0.0,\"#0d0887\"],[0.1111111111111111,\"#46039f\"],[0.2222222222222222,\"#7201a8\"],[0.3333333333333333,\"#9c179e\"],[0.4444444444444444,\"#bd3786\"],[0.5555555555555556,\"#d8576b\"],[0.6666666666666666,\"#ed7953\"],[0.7777777777777778,\"#fb9f3a\"],[0.8888888888888888,\"#fdca26\"],[1.0,\"#f0f921\"]],\"type\":\"contour\"}],\"contourcarpet\":[{\"colorbar\":{\"outlinewidth\":0,\"ticks\":\"\"},\"type\":\"contourcarpet\"}],\"heatmap\":[{\"colorbar\":{\"outlinewidth\":0,\"ticks\":\"\"},\"colorscale\":[[0.0,\"#0d0887\"],[0.1111111111111111,\"#46039f\"],[0.2222222222222222,\"#7201a8\"],[0.3333333333333333,\"#9c179e\"],[0.4444444444444444,\"#bd3786\"],[0.5555555555555556,\"#d8576b\"],[0.6666666666666666,\"#ed7953\"],[0.7777777777777778,\"#fb9f3a\"],[0.8888888888888888,\"#fdca26\"],[1.0,\"#f0f921\"]],\"type\":\"heatmap\"}],\"heatmapgl\":[{\"colorbar\":{\"outlinewidth\":0,\"ticks\":\"\"},\"colorscale\":[[0.0,\"#0d0887\"],[0.1111111111111111,\"#46039f\"],[0.2222222222222222,\"#7201a8\"],[0.3333333333333333,\"#9c179e\"],[0.4444444444444444,\"#bd3786\"],[0.5555555555555556,\"#d8576b\"],[0.6666666666666666,\"#ed7953\"],[0.7777777777777778,\"#fb9f3a\"],[0.8888888888888888,\"#fdca26\"],[1.0,\"#f0f921\"]],\"type\":\"heatmapgl\"}],\"histogram\":[{\"marker\":{\"pattern\":{\"fillmode\":\"overlay\",\"size\":10,\"solidity\":0.2}},\"type\":\"histogram\"}],\"histogram2d\":[{\"colorbar\":{\"outlinewidth\":0,\"ticks\":\"\"},\"colorscale\":[[0.0,\"#0d0887\"],[0.1111111111111111,\"#46039f\"],[0.2222222222222222,\"#7201a8\"],[0.3333333333333333,\"#9c179e\"],[0.4444444444444444,\"#bd3786\"],[0.5555555555555556,\"#d8576b\"],[0.6666666666666666,\"#ed7953\"],[0.7777777777777778,\"#fb9f3a\"],[0.8888888888888888,\"#fdca26\"],[1.0,\"#f0f921\"]],\"type\":\"histogram2d\"}],\"histogram2dcontour\":[{\"colorbar\":{\"outlinewidth\":0,\"ticks\":\"\"},\"colorscale\":[[0.0,\"#0d0887\"],[0.1111111111111111,\"#46039f\"],[0.2222222222222222,\"#7201a8\"],[0.3333333333333333,\"#9c179e\"],[0.4444444444444444,\"#bd3786\"],[0.5555555555555556,\"#d8576b\"],[0.6666666666666666,\"#ed7953\"],[0.7777777777777778,\"#fb9f3a\"],[0.8888888888888888,\"#fdca26\"],[1.0,\"#f0f921\"]],\"type\":\"histogram2dcontour\"}],\"mesh3d\":[{\"colorbar\":{\"outlinewidth\":0,\"ticks\":\"\"},\"type\":\"mesh3d\"}],\"parcoords\":[{\"line\":{\"colorbar\":{\"outlinewidth\":0,\"ticks\":\"\"}},\"type\":\"parcoords\"}],\"pie\":[{\"automargin\":true,\"type\":\"pie\"}],\"scatter\":[{\"marker\":{\"colorbar\":{\"outlinewidth\":0,\"ticks\":\"\"}},\"type\":\"scatter\"}],\"scatter3d\":[{\"line\":{\"colorbar\":{\"outlinewidth\":0,\"ticks\":\"\"}},\"marker\":{\"colorbar\":{\"outlinewidth\":0,\"ticks\":\"\"}},\"type\":\"scatter3d\"}],\"scattercarpet\":[{\"marker\":{\"colorbar\":{\"outlinewidth\":0,\"ticks\":\"\"}},\"type\":\"scattercarpet\"}],\"scattergeo\":[{\"marker\":{\"colorbar\":{\"outlinewidth\":0,\"ticks\":\"\"}},\"type\":\"scattergeo\"}],\"scattergl\":[{\"marker\":{\"colorbar\":{\"outlinewidth\":0,\"ticks\":\"\"}},\"type\":\"scattergl\"}],\"scattermapbox\":[{\"marker\":{\"colorbar\":{\"outlinewidth\":0,\"ticks\":\"\"}},\"type\":\"scattermapbox\"}],\"scatterpolar\":[{\"marker\":{\"colorbar\":{\"outlinewidth\":0,\"ticks\":\"\"}},\"type\":\"scatterpolar\"}],\"scatterpolargl\":[{\"marker\":{\"colorbar\":{\"outlinewidth\":0,\"ticks\":\"\"}},\"type\":\"scatterpolargl\"}],\"scatterternary\":[{\"marker\":{\"colorbar\":{\"outlinewidth\":0,\"ticks\":\"\"}},\"type\":\"scatterternary\"}],\"surface\":[{\"colorbar\":{\"outlinewidth\":0,\"ticks\":\"\"},\"colorscale\":[[0.0,\"#0d0887\"],[0.1111111111111111,\"#46039f\"],[0.2222222222222222,\"#7201a8\"],[0.3333333333333333,\"#9c179e\"],[0.4444444444444444,\"#bd3786\"],[0.5555555555555556,\"#d8576b\"],[0.6666666666666666,\"#ed7953\"],[0.7777777777777778,\"#fb9f3a\"],[0.8888888888888888,\"#fdca26\"],[1.0,\"#f0f921\"]],\"type\":\"surface\"}],\"table\":[{\"cells\":{\"fill\":{\"color\":\"#EBF0F8\"},\"line\":{\"color\":\"white\"}},\"header\":{\"fill\":{\"color\":\"#C8D4E3\"},\"line\":{\"color\":\"white\"}},\"type\":\"table\"}]},\"layout\":{\"annotationdefaults\":{\"arrowcolor\":\"#2a3f5f\",\"arrowhead\":0,\"arrowwidth\":1},\"autotypenumbers\":\"strict\",\"coloraxis\":{\"colorbar\":{\"outlinewidth\":0,\"ticks\":\"\"}},\"colorscale\":{\"diverging\":[[0,\"#8e0152\"],[0.1,\"#c51b7d\"],[0.2,\"#de77ae\"],[0.3,\"#f1b6da\"],[0.4,\"#fde0ef\"],[0.5,\"#f7f7f7\"],[0.6,\"#e6f5d0\"],[0.7,\"#b8e186\"],[0.8,\"#7fbc41\"],[0.9,\"#4d9221\"],[1,\"#276419\"]],\"sequential\":[[0.0,\"#0d0887\"],[0.1111111111111111,\"#46039f\"],[0.2222222222222222,\"#7201a8\"],[0.3333333333333333,\"#9c179e\"],[0.4444444444444444,\"#bd3786\"],[0.5555555555555556,\"#d8576b\"],[0.6666666666666666,\"#ed7953\"],[0.7777777777777778,\"#fb9f3a\"],[0.8888888888888888,\"#fdca26\"],[1.0,\"#f0f921\"]],\"sequentialminus\":[[0.0,\"#0d0887\"],[0.1111111111111111,\"#46039f\"],[0.2222222222222222,\"#7201a8\"],[0.3333333333333333,\"#9c179e\"],[0.4444444444444444,\"#bd3786\"],[0.5555555555555556,\"#d8576b\"],[0.6666666666666666,\"#ed7953\"],[0.7777777777777778,\"#fb9f3a\"],[0.8888888888888888,\"#fdca26\"],[1.0,\"#f0f921\"]]},\"colorway\":[\"#636efa\",\"#EF553B\",\"#00cc96\",\"#ab63fa\",\"#FFA15A\",\"#19d3f3\",\"#FF6692\",\"#B6E880\",\"#FF97FF\",\"#FECB52\"],\"font\":{\"color\":\"#2a3f5f\"},\"geo\":{\"bgcolor\":\"white\",\"lakecolor\":\"white\",\"landcolor\":\"#E5ECF6\",\"showlakes\":true,\"showland\":true,\"subunitcolor\":\"white\"},\"hoverlabel\":{\"align\":\"left\"},\"hovermode\":\"closest\",\"mapbox\":{\"style\":\"light\"},\"paper_bgcolor\":\"white\",\"plot_bgcolor\":\"#E5ECF6\",\"polar\":{\"angularaxis\":{\"gridcolor\":\"white\",\"linecolor\":\"white\",\"ticks\":\"\"},\"bgcolor\":\"#E5ECF6\",\"radialaxis\":{\"gridcolor\":\"white\",\"linecolor\":\"white\",\"ticks\":\"\"}},\"scene\":{\"xaxis\":{\"backgroundcolor\":\"#E5ECF6\",\"gridcolor\":\"white\",\"gridwidth\":2,\"linecolor\":\"white\",\"showbackground\":true,\"ticks\":\"\",\"zerolinecolor\":\"white\"},\"yaxis\":{\"backgroundcolor\":\"#E5ECF6\",\"gridcolor\":\"white\",\"gridwidth\":2,\"linecolor\":\"white\",\"showbackground\":true,\"ticks\":\"\",\"zerolinecolor\":\"white\"},\"zaxis\":{\"backgroundcolor\":\"#E5ECF6\",\"gridcolor\":\"white\",\"gridwidth\":2,\"linecolor\":\"white\",\"showbackground\":true,\"ticks\":\"\",\"zerolinecolor\":\"white\"}},\"shapedefaults\":{\"line\":{\"color\":\"#2a3f5f\"}},\"ternary\":{\"aaxis\":{\"gridcolor\":\"white\",\"linecolor\":\"white\",\"ticks\":\"\"},\"baxis\":{\"gridcolor\":\"white\",\"linecolor\":\"white\",\"ticks\":\"\"},\"bgcolor\":\"#E5ECF6\",\"caxis\":{\"gridcolor\":\"white\",\"linecolor\":\"white\",\"ticks\":\"\"}},\"title\":{\"x\":0.05},\"xaxis\":{\"automargin\":true,\"gridcolor\":\"white\",\"linecolor\":\"white\",\"ticks\":\"\",\"title\":{\"standoff\":15},\"zerolinecolor\":\"white\",\"zerolinewidth\":2},\"yaxis\":{\"automargin\":true,\"gridcolor\":\"white\",\"linecolor\":\"white\",\"ticks\":\"\",\"title\":{\"standoff\":15},\"zerolinecolor\":\"white\",\"zerolinewidth\":2}}},\"xaxis\":{\"anchor\":\"y\",\"domain\":[0.0,1.0],\"title\":{\"text\":\"RaceID\"},\"categoryorder\":\"array\",\"categoryarray\":[1,4,5,2,3]},\"yaxis\":{\"anchor\":\"x\",\"domain\":[0.0,1.0],\"title\":{\"text\":\"Rating\"}},\"legend\":{\"title\":{\"text\":\"RaceID\"},\"tracegroupgap\":0},\"margin\":{\"t\":60},\"boxmode\":\"overlay\"},                        {\"responsive\": true}                    ).then(function(){\n",
              "                            \n",
              "var gd = document.getElementById('bb060d5f-8db7-4ad9-be1e-f071d252ab5b');\n",
              "var x = new MutationObserver(function (mutations, observer) {{\n",
              "        var display = window.getComputedStyle(gd).display;\n",
              "        if (!display || display === 'none') {{\n",
              "            console.log([gd, 'removed!']);\n",
              "            Plotly.purge(gd);\n",
              "            observer.disconnect();\n",
              "        }}\n",
              "}});\n",
              "\n",
              "// Listen for the removal of the full notebook cells\n",
              "var notebookContainer = gd.closest('#notebook-container');\n",
              "if (notebookContainer) {{\n",
              "    x.observe(notebookContainer, {childList: true});\n",
              "}}\n",
              "\n",
              "// Listen for the clearing of the current output cell\n",
              "var outputEl = gd.closest('.output');\n",
              "if (outputEl) {{\n",
              "    x.observe(outputEl, {childList: true});\n",
              "}}\n",
              "\n",
              "                        })                };                            </script>        </div>\n",
              "</body>\n",
              "</html>"
            ]
          },
          "metadata": {}
        }
      ]
    },
    {
      "cell_type": "markdown",
      "source": [
        "### **Churn**\n",
        "\n",
        "Now I'll look through the churn columns to see what kind of relevant informations we could have.\n",
        "\n",
        "There's a greater chance for a gender to leave the company? What about Race? The churn values are bigger for a department compaired to others?\n"
      ],
      "metadata": {
        "id": "GFhb_HiJnOKa"
      }
    },
    {
      "cell_type": "markdown",
      "source": [
        "We can see that we don't have any discrepancy between gender, sure that is a little more women leaving the company but it isn't something that are really impressive.\n"
      ],
      "metadata": {
        "id": "DTaXVnF1oYBk"
      }
    },
    {
      "cell_type": "markdown",
      "source": [
        "When we look to the churn rate for gender between departments we have som interesting results:\n",
        "- Departments 5,6,8,9 and 10 has more women leaving than man.\n",
        "- Departments 1,2,3,4 has more men leaving. \n",
        "\n",
        "This doesn't mean that we have gender conflicts in those departments. But department 5 also have different ratings for each gender with men receiving higher rating than women in general, so it's something to keep an eye."
      ],
      "metadata": {
        "id": "GQYGAIDie3H8"
      }
    },
    {
      "cell_type": "code",
      "source": [
        "px.pie(data_frame=hr_df, values = 'Churn', names = 'GenderID')"
      ],
      "metadata": {
        "colab": {
          "base_uri": "https://localhost:8080/",
          "height": 542
        },
        "id": "6L3WqwjSHJ2F",
        "outputId": "6dde8576-81bf-4c66-cd3b-697f6f896df9"
      },
      "execution_count": null,
      "outputs": [
        {
          "output_type": "display_data",
          "data": {
            "text/html": [
              "<html>\n",
              "<head><meta charset=\"utf-8\" /></head>\n",
              "<body>\n",
              "    <div>            <script src=\"https://cdnjs.cloudflare.com/ajax/libs/mathjax/2.7.5/MathJax.js?config=TeX-AMS-MML_SVG\"></script><script type=\"text/javascript\">if (window.MathJax) {MathJax.Hub.Config({SVG: {font: \"STIX-Web\"}});}</script>                <script type=\"text/javascript\">window.PlotlyConfig = {MathJaxConfig: 'local'};</script>\n",
              "        <script src=\"https://cdn.plot.ly/plotly-2.8.3.min.js\"></script>                <div id=\"259888a6-1330-407b-a88a-199ac5c944c9\" class=\"plotly-graph-div\" style=\"height:525px; width:100%;\"></div>            <script type=\"text/javascript\">                                    window.PLOTLYENV=window.PLOTLYENV || {};                                    if (document.getElementById(\"259888a6-1330-407b-a88a-199ac5c944c9\")) {                    Plotly.newPlot(                        \"259888a6-1330-407b-a88a-199ac5c944c9\",                        [{\"domain\":{\"x\":[0.0,1.0],\"y\":[0.0,1.0]},\"hovertemplate\":\"GenderID=%{label}<br>Churn=%{value}<extra></extra>\",\"labels\":[1,0,1,1,1,1,0,1,0,1,1,0,1,0,0,1,0,0,1,1,1,1,0,1,0,1,0,0,1,1,1,0,0,0,0,0,0,0,0,1,1,0,0,0,1,1,0,0,1,0,0,0,1,0,0,0,0,0,1,1,0,1,0,0,1,0,0,1,1,1,0,1,1,0,0,0,0,1,0,0,0,1,0,0,0,1,0,1,1,0,0,0,0,0,1,1,0,1,0,1,1,1,0,0,1,0,1,1,1,1,0,0,1,0,0,0,0,0,1,1,1,0,1,0,1,1,1,1,0,1,1,0,1,0,1,1,0,1,1,0,1,0,1,1,0,0,1,0,0,1,0,0,0,0,1,1,0,0,0,1,1,1,1,1,1,1,0,1,1,0,1,0,1,1,0,1,1,1,0,0,1,0,1,1,1,1,1,0,1,1,0,0,1,0,1,1,0,0,1,1,0,0,1,0,1,1,0,1,1,0,1,0,1,0,1,0,1,0,1,0,0,1,1,1,1,0,0,0,1,1,1,0,0,1,0,1,0,1,0,0,0,0,1,1,0,1,1,1,0,1,0,0,0,0,0,1,0,0,0,1,1,0,1,0,0,0,1,1,1,0,1,1,0,0,1,0,1,0,1,0,0,0,0,1,1,0,0,0,0,0,1,0,1,1,0,0,1,0,1,1,1,0,1,1,0,1,0,1,0,0,0,1,1,0,0,1,0,1,1,1,1,0,0,1,1,1,1,1,0,1,1,0,1,0,1,1,1,0,1,0,1,0,0,1,0,1,0,1,1,0,1,0,1,1,1,1,0,0,1,0,1,0,1,0,0,1,0,0,1,1,1,0,1,1,1,0,0,0,0,0,1,1,1,1,1,0,0,1,1,1,1,0,1,1,0,0,0,0,0,0,0,1,0,1,0,1,0,1,1,0,1,1,1,1,1,0,0,1,1,1,1,1,1,1,1,1,1,1,0,0,1,0,0,1,1,0,1,1,0,1,1,1,1,1,1,1,0,1,0,1,1,1,1,1,0,0,0,0,0,0,1,1,0,1,0,1,1,0,0,1,1,0,0,0,0,0,0,0,1,1,1,1,0,1,0,1,1,0,1,0,0,0,1,0,1,1,1,1,0,1,0,1,0,1,1,1,1,1,1,0,0,0,1,0,1,0,0,0,1,0,0,0,1,0,0,0,1,1,1,0,0,0,0,1,0,0,1,0,1,1,1,0,0,0,1,1,1,1,0,0,1,1,0,0,0,1,1,0,1,1,0,0,0,0,0,1,0,1,0,1,0,1,1,0,0,1,0,1,1,0,1,1,1,1,0,1,1,1,0,1,1,0,1,0,0,0,1,0,1,0,0,0,0,0,0,0,1,0,0,0,1,1,0,1,0,1,1,1,0,1,0,1,0,0,0,1,1,1,1,0,0,1,0,0,1,0,0,0,0,1,1,1,0,0,0,1,1,0,0,1,0,0,0,1,1,1,1,1,0,0,0,1,0,1,0,1,0,0,0,0,0,1,0,1,0,0,1,1,1,1,1,0,1,1,0,0,1,0,1,1,0,0,0,1,1,0,0,0,0,1,1,1,0,1,1,1,1,0,0,1,1,1,1,0,0,1,1,1,1,1,0,0,1,1,1,1,0,1,0,0,1,0,0,1,0,0,1,0,0,0,0,0,1,0,1,0,1,0,1,1,0,1,1,1,0,0,0,1,0,1,1,0,1,0,0,1,1,1,1,0,0,0,0,1,0,1,0,1,1,1,0,0,1,0,0,1,1,0,1,0,1,1,1,1,1,0,1,0,0,0,1,0,1,1,1,0,1,0,1,0,1,1,0,1,0,0,0,1,0,0,1,1,1,0,1,1,1,1,0,1,0,0,0,1,0,1,0,1,1,1,1,0,1,1,1,1,0,0,0,0,1,0,1,1,1,0,0,1,1,1,0,1,1,1,1,0,0,0,1,0,1,0,1,1,0,0,0,1,0,0,0,0,1,1,0,1,1,0,1,0,1,1,0,0,0,1,1,0,0,0,1,0,0,1,1,0,1,0,1,0,1,1,1,0,0,1,0,1,1,1,1,1,0,0,1,1,1,0,1,1,1,0,1,0,0,1,0,1,1,0,1,0,0,1,1,1,0,0,0,0,1,0,0,1,0,0,0,1,0,1,0,0,0,0,1,0,0,0,1,0,1,1,1,0,1,1,0,1,0,0,0,0,0,0,1,0,0,0,1,1,1,0,1,1,1,1,0,0,1,1,0,0,0,0,1,1,0,1,0,1,1,0,0,0,1,0,0,0,1,1,1,1,1,1,0,0,1,0,0,0,0,0,1,1,0,1,0,0,1,1,0,1,1,1,1,0,0,0,0,1,0,0,1,1,0,0,0,1,0,1,0,1,1,1,1,0,0,1,1,0,1,1,0,0,0,1,0,1,1,0,0,1,1,0,0,1,0,1,1,0,0,0,0,0,0,1,0,0,0,0,0,1,0,1,1,1,1,0,0,0,0,1,1,1,1,0,1,0,0,0,1,0,0,1,1,0,1,1,0,1,1,0,1,1,1,0,1,1,1,1,0,0,0,1,1,0,1,1,0,1,0,0,0,0,1,0,0,1,0,0,0,1,0,1,0,1,0,0,1,1,1,1,1,0,0,1,0,0,0,1,0,1,1,1,1,0,0,1,0,1,1,1,1,0,0,0,1,1,1,1,1,1,1,1,1,1,1,0,1,0,1,0,0,0,1,1,0,1,0,0,1,0,1,1,1,1,1,1,0,1,0,0,1,1,1,1,0,0,0,1,0,1,1,1,1,0,0,0,1,1,1,0,1,0,1,1,1,0,0,0,1,1,1,0,1,0,1,0,1,1,0,1,0,1,0,0,1,1,1,0,0,1,1,0,1,1,0,0,0,1,0,0,1,0,1,1,0,0,0,1,0,1,0,0,0,1,1,0,1,1,1,0,1,1,1,1,1,0,0,1,0,0,0,0,1,1,1,1,1,1,0,1,1,0,1,1,0,0,1,1,1,1,1,0,0,0,1,1,0,1,0,0,1,0,1,0,1,0,0,1,1,0,1,1,1,1,0,1,1,0,1,1,0,1,0,1,0,0,1,0,1,1,1,1,1,0,0,0,0,0,1,1,1,0,0,1,1,1,1,0,0,0,1,0,0,1,1,0,1,0,0,1,1,0,1,1,0,0,1,0,1,1,1,1,0,1,1,1,1,1,0,0,1,0,1,1,0,1,1,1,1,0,0,1,0,0,0,0,1,0,0,1,0,0,0,0,1,0,0,1,1,1,0,1,0,0,0,1,0,0,1,1,0,1,0,1,0,0,1,1,0,0,0,1,1,1,1,0,1,0,1,1,0,0,0,1,1,1,0,1,0,0,0,1,0,1,1,1,0,0,0,1,0,0,1,1,1,0,1,0,1,0,0,0,1,0,0,0,0,0,0,0,0,1,1,0,0,0,1,1,0,1,0,1,1,0,0,1,0,0,0,0,1,0,0,1,0,0,1,1,1,1],\"legendgroup\":\"\",\"name\":\"\",\"showlegend\":true,\"values\":[1,0,1,0,1,1,1,0,1,1,1,0,0,0,0,0,0,0,0,0,0,1,0,0,0,0,0,1,0,0,1,0,0,0,0,0,0,0,0,1,1,1,1,1,0,0,0,0,1,0,1,1,1,0,0,0,0,0,0,0,1,0,1,0,0,0,0,0,0,1,1,1,1,0,0,1,0,0,0,0,1,1,0,0,0,0,0,0,0,0,0,0,0,0,1,0,1,0,0,0,0,0,1,0,0,1,0,0,0,0,0,0,0,0,0,0,1,0,0,1,1,0,0,1,0,1,0,0,0,0,0,1,1,0,0,0,0,1,0,1,1,1,0,0,0,1,1,0,0,0,1,1,1,0,1,0,1,1,1,0,1,0,0,1,1,0,1,0,0,0,0,0,1,1,1,0,1,1,0,1,0,0,1,1,1,0,0,0,0,1,0,1,0,0,1,0,0,0,1,0,1,1,1,0,1,0,1,0,0,1,1,0,0,1,1,0,1,0,0,0,0,0,0,0,0,1,0,1,0,0,0,1,1,1,0,1,0,0,0,0,0,0,1,0,0,0,1,0,0,1,0,0,1,1,0,0,1,0,0,0,0,0,0,1,0,1,0,0,0,0,0,0,1,0,1,1,0,0,0,0,0,0,0,0,1,0,1,0,0,1,0,1,1,0,0,0,0,0,1,1,1,0,1,0,1,0,0,0,1,0,1,0,1,1,0,1,1,0,0,0,1,1,0,0,0,0,0,1,0,0,1,0,0,1,0,0,0,1,0,0,0,0,1,0,1,0,1,1,0,1,1,0,1,0,0,1,1,1,0,0,1,0,0,1,0,0,0,1,0,1,0,0,1,0,0,0,0,1,0,0,0,0,0,0,0,0,1,0,0,0,1,0,0,1,0,0,0,0,0,0,1,0,0,0,0,0,0,0,1,0,0,0,0,1,0,1,0,0,0,1,1,1,0,0,1,1,0,0,0,1,0,0,0,0,0,1,0,0,0,1,1,0,1,0,1,0,0,0,0,0,1,0,0,0,0,0,1,0,1,0,1,0,1,1,1,0,0,0,0,0,0,0,0,1,0,0,1,0,0,0,1,1,0,0,0,1,0,1,1,0,0,0,0,0,1,0,0,0,0,1,1,1,1,1,0,0,0,0,1,0,1,0,1,1,0,0,0,0,0,0,1,0,0,0,1,0,0,0,0,0,1,0,0,0,0,0,0,0,0,0,1,0,0,0,0,0,0,1,0,0,0,0,0,0,1,0,1,0,0,0,0,0,1,1,0,0,1,0,0,0,1,0,1,0,0,0,1,0,0,1,0,1,0,0,1,0,1,1,0,0,0,1,0,0,0,0,0,1,1,0,0,0,1,0,0,0,0,1,1,1,0,0,0,0,0,0,0,0,0,1,1,0,1,1,1,1,0,1,0,1,1,0,0,0,0,0,1,0,0,0,1,0,1,0,0,0,1,1,1,1,1,0,0,0,1,1,1,0,0,0,0,1,1,0,1,1,0,0,0,0,1,1,1,1,0,1,0,1,0,0,0,0,0,0,0,1,1,0,0,0,0,1,0,0,0,0,1,0,0,0,1,0,0,0,1,1,1,1,0,1,0,1,0,0,1,0,1,0,0,1,1,1,0,0,0,1,1,1,0,0,0,0,1,1,1,0,0,0,0,0,0,0,1,0,0,0,0,1,1,0,1,0,1,0,0,1,0,1,0,0,0,1,1,0,0,1,0,0,1,1,1,1,0,0,1,1,0,0,1,1,1,1,1,0,0,1,1,0,0,1,0,0,0,1,0,0,0,0,1,0,0,1,0,1,1,1,0,0,0,0,1,1,0,1,0,0,0,0,0,1,0,1,1,1,0,0,0,0,0,1,0,0,0,1,1,0,1,0,1,1,0,0,0,0,1,1,1,0,0,1,0,1,0,1,1,1,0,1,0,0,0,1,1,0,0,0,1,0,1,0,0,1,0,0,0,0,0,1,0,0,0,1,0,0,0,0,0,1,1,0,0,0,0,0,0,0,0,0,0,0,1,0,0,0,0,0,0,0,1,1,0,0,0,0,0,0,1,0,0,1,1,0,0,1,0,0,0,0,0,1,0,0,1,0,1,0,1,0,0,1,0,0,0,1,1,0,0,0,0,1,1,0,0,1,1,0,0,1,1,1,0,1,0,0,1,0,0,0,1,0,0,0,0,0,1,1,1,0,0,0,1,0,0,0,1,0,0,1,0,0,0,0,0,0,0,1,0,0,0,0,0,0,0,0,0,1,1,0,1,1,1,1,0,1,0,0,0,0,1,0,1,1,0,1,0,0,0,1,0,0,1,0,0,0,0,0,0,0,0,1,0,1,0,0,0,1,0,1,0,0,0,1,1,1,0,1,0,0,0,0,0,0,0,1,0,0,1,0,0,1,1,0,0,0,0,1,0,0,0,0,0,1,0,1,0,0,0,0,0,0,0,0,0,0,1,0,0,1,1,1,0,0,1,0,0,0,0,0,0,0,0,0,0,0,0,1,0,1,1,1,0,0,0,0,0,0,0,0,0,0,0,1,0,0,0,0,0,0,1,0,0,0,0,1,1,0,0,1,1,0,0,0,1,0,0,1,1,0,1,0,0,0,0,1,1,0,0,1,0,0,0,0,1,0,0,1,0,0,0,0,0,0,1,0,0,0,0,0,0,0,0,0,0,1,0,0,0,1,0,0,0,0,0,0,0,0,1,0,1,0,1,0,0,1,1,0,0,1,0,1,0,0,0,0,0,0,0,1,0,0,0,1,1,0,1,0,1,0,0,0,0,1,0,1,1,0,0,1,0,0,0,0,0,0,0,0,0,0,0,0,0,0,0,0,0,0,0,0,0,0,0,1,0,0,0,0,0,0,1,0,0,0,0,1,0,0,0,0,1,1,0,1,0,1,1,0,0,1,1,0,1,0,1,0,0,0,0,0,0,1,0,0,0,0,0,0,0,0,1,0,1,0,0,0,0,0,0,0,1,0,0,0,0,0,0,0,0,0,1,0,0,0,0,0,0,0,0,0,0,0,0,0,0,0,0,0,1,0,0,1,0,0,0,0,0,0,0,0,1,0,0,0,0,0,0,0,1,0,0,0,0,0,0,0,0,0,0,0,0,0,0,0,0,0,0,0,0,0,0,0,0,0,0,1,0,0,0,0,0,0,0,0,0,0,0,0,1,0,0,0,0,0,0,0,0,0,1,0,0,0,0,0,0,0,0,0,0,1,0,0,0,0,0,0,0,0,0,0,0,0,0,0,1,0,0,0,0,0,0,0,0,0,0,0,0,0,0,0,0,0,0,0,0,0,0,0,0,0,0,0,0,0,0,0,0,0,0,0,0,0,0,0,0,0,0,0,0,0,0,0,0,0,1,0,0,0,0,0,0,0,0,0,0,0,0,0,0,0,0,0,0,0,0,0,0,0,0,0,0,0,0,0,0,0,0,0,0,0,0,0,0,0,0,0,0,0,0,0,0,0,0,0,0,0,0,0,0,0,0,0,0,0],\"type\":\"pie\"}],                        {\"template\":{\"data\":{\"bar\":[{\"error_x\":{\"color\":\"#2a3f5f\"},\"error_y\":{\"color\":\"#2a3f5f\"},\"marker\":{\"line\":{\"color\":\"#E5ECF6\",\"width\":0.5},\"pattern\":{\"fillmode\":\"overlay\",\"size\":10,\"solidity\":0.2}},\"type\":\"bar\"}],\"barpolar\":[{\"marker\":{\"line\":{\"color\":\"#E5ECF6\",\"width\":0.5},\"pattern\":{\"fillmode\":\"overlay\",\"size\":10,\"solidity\":0.2}},\"type\":\"barpolar\"}],\"carpet\":[{\"aaxis\":{\"endlinecolor\":\"#2a3f5f\",\"gridcolor\":\"white\",\"linecolor\":\"white\",\"minorgridcolor\":\"white\",\"startlinecolor\":\"#2a3f5f\"},\"baxis\":{\"endlinecolor\":\"#2a3f5f\",\"gridcolor\":\"white\",\"linecolor\":\"white\",\"minorgridcolor\":\"white\",\"startlinecolor\":\"#2a3f5f\"},\"type\":\"carpet\"}],\"choropleth\":[{\"colorbar\":{\"outlinewidth\":0,\"ticks\":\"\"},\"type\":\"choropleth\"}],\"contour\":[{\"colorbar\":{\"outlinewidth\":0,\"ticks\":\"\"},\"colorscale\":[[0.0,\"#0d0887\"],[0.1111111111111111,\"#46039f\"],[0.2222222222222222,\"#7201a8\"],[0.3333333333333333,\"#9c179e\"],[0.4444444444444444,\"#bd3786\"],[0.5555555555555556,\"#d8576b\"],[0.6666666666666666,\"#ed7953\"],[0.7777777777777778,\"#fb9f3a\"],[0.8888888888888888,\"#fdca26\"],[1.0,\"#f0f921\"]],\"type\":\"contour\"}],\"contourcarpet\":[{\"colorbar\":{\"outlinewidth\":0,\"ticks\":\"\"},\"type\":\"contourcarpet\"}],\"heatmap\":[{\"colorbar\":{\"outlinewidth\":0,\"ticks\":\"\"},\"colorscale\":[[0.0,\"#0d0887\"],[0.1111111111111111,\"#46039f\"],[0.2222222222222222,\"#7201a8\"],[0.3333333333333333,\"#9c179e\"],[0.4444444444444444,\"#bd3786\"],[0.5555555555555556,\"#d8576b\"],[0.6666666666666666,\"#ed7953\"],[0.7777777777777778,\"#fb9f3a\"],[0.8888888888888888,\"#fdca26\"],[1.0,\"#f0f921\"]],\"type\":\"heatmap\"}],\"heatmapgl\":[{\"colorbar\":{\"outlinewidth\":0,\"ticks\":\"\"},\"colorscale\":[[0.0,\"#0d0887\"],[0.1111111111111111,\"#46039f\"],[0.2222222222222222,\"#7201a8\"],[0.3333333333333333,\"#9c179e\"],[0.4444444444444444,\"#bd3786\"],[0.5555555555555556,\"#d8576b\"],[0.6666666666666666,\"#ed7953\"],[0.7777777777777778,\"#fb9f3a\"],[0.8888888888888888,\"#fdca26\"],[1.0,\"#f0f921\"]],\"type\":\"heatmapgl\"}],\"histogram\":[{\"marker\":{\"pattern\":{\"fillmode\":\"overlay\",\"size\":10,\"solidity\":0.2}},\"type\":\"histogram\"}],\"histogram2d\":[{\"colorbar\":{\"outlinewidth\":0,\"ticks\":\"\"},\"colorscale\":[[0.0,\"#0d0887\"],[0.1111111111111111,\"#46039f\"],[0.2222222222222222,\"#7201a8\"],[0.3333333333333333,\"#9c179e\"],[0.4444444444444444,\"#bd3786\"],[0.5555555555555556,\"#d8576b\"],[0.6666666666666666,\"#ed7953\"],[0.7777777777777778,\"#fb9f3a\"],[0.8888888888888888,\"#fdca26\"],[1.0,\"#f0f921\"]],\"type\":\"histogram2d\"}],\"histogram2dcontour\":[{\"colorbar\":{\"outlinewidth\":0,\"ticks\":\"\"},\"colorscale\":[[0.0,\"#0d0887\"],[0.1111111111111111,\"#46039f\"],[0.2222222222222222,\"#7201a8\"],[0.3333333333333333,\"#9c179e\"],[0.4444444444444444,\"#bd3786\"],[0.5555555555555556,\"#d8576b\"],[0.6666666666666666,\"#ed7953\"],[0.7777777777777778,\"#fb9f3a\"],[0.8888888888888888,\"#fdca26\"],[1.0,\"#f0f921\"]],\"type\":\"histogram2dcontour\"}],\"mesh3d\":[{\"colorbar\":{\"outlinewidth\":0,\"ticks\":\"\"},\"type\":\"mesh3d\"}],\"parcoords\":[{\"line\":{\"colorbar\":{\"outlinewidth\":0,\"ticks\":\"\"}},\"type\":\"parcoords\"}],\"pie\":[{\"automargin\":true,\"type\":\"pie\"}],\"scatter\":[{\"marker\":{\"colorbar\":{\"outlinewidth\":0,\"ticks\":\"\"}},\"type\":\"scatter\"}],\"scatter3d\":[{\"line\":{\"colorbar\":{\"outlinewidth\":0,\"ticks\":\"\"}},\"marker\":{\"colorbar\":{\"outlinewidth\":0,\"ticks\":\"\"}},\"type\":\"scatter3d\"}],\"scattercarpet\":[{\"marker\":{\"colorbar\":{\"outlinewidth\":0,\"ticks\":\"\"}},\"type\":\"scattercarpet\"}],\"scattergeo\":[{\"marker\":{\"colorbar\":{\"outlinewidth\":0,\"ticks\":\"\"}},\"type\":\"scattergeo\"}],\"scattergl\":[{\"marker\":{\"colorbar\":{\"outlinewidth\":0,\"ticks\":\"\"}},\"type\":\"scattergl\"}],\"scattermapbox\":[{\"marker\":{\"colorbar\":{\"outlinewidth\":0,\"ticks\":\"\"}},\"type\":\"scattermapbox\"}],\"scatterpolar\":[{\"marker\":{\"colorbar\":{\"outlinewidth\":0,\"ticks\":\"\"}},\"type\":\"scatterpolar\"}],\"scatterpolargl\":[{\"marker\":{\"colorbar\":{\"outlinewidth\":0,\"ticks\":\"\"}},\"type\":\"scatterpolargl\"}],\"scatterternary\":[{\"marker\":{\"colorbar\":{\"outlinewidth\":0,\"ticks\":\"\"}},\"type\":\"scatterternary\"}],\"surface\":[{\"colorbar\":{\"outlinewidth\":0,\"ticks\":\"\"},\"colorscale\":[[0.0,\"#0d0887\"],[0.1111111111111111,\"#46039f\"],[0.2222222222222222,\"#7201a8\"],[0.3333333333333333,\"#9c179e\"],[0.4444444444444444,\"#bd3786\"],[0.5555555555555556,\"#d8576b\"],[0.6666666666666666,\"#ed7953\"],[0.7777777777777778,\"#fb9f3a\"],[0.8888888888888888,\"#fdca26\"],[1.0,\"#f0f921\"]],\"type\":\"surface\"}],\"table\":[{\"cells\":{\"fill\":{\"color\":\"#EBF0F8\"},\"line\":{\"color\":\"white\"}},\"header\":{\"fill\":{\"color\":\"#C8D4E3\"},\"line\":{\"color\":\"white\"}},\"type\":\"table\"}]},\"layout\":{\"annotationdefaults\":{\"arrowcolor\":\"#2a3f5f\",\"arrowhead\":0,\"arrowwidth\":1},\"autotypenumbers\":\"strict\",\"coloraxis\":{\"colorbar\":{\"outlinewidth\":0,\"ticks\":\"\"}},\"colorscale\":{\"diverging\":[[0,\"#8e0152\"],[0.1,\"#c51b7d\"],[0.2,\"#de77ae\"],[0.3,\"#f1b6da\"],[0.4,\"#fde0ef\"],[0.5,\"#f7f7f7\"],[0.6,\"#e6f5d0\"],[0.7,\"#b8e186\"],[0.8,\"#7fbc41\"],[0.9,\"#4d9221\"],[1,\"#276419\"]],\"sequential\":[[0.0,\"#0d0887\"],[0.1111111111111111,\"#46039f\"],[0.2222222222222222,\"#7201a8\"],[0.3333333333333333,\"#9c179e\"],[0.4444444444444444,\"#bd3786\"],[0.5555555555555556,\"#d8576b\"],[0.6666666666666666,\"#ed7953\"],[0.7777777777777778,\"#fb9f3a\"],[0.8888888888888888,\"#fdca26\"],[1.0,\"#f0f921\"]],\"sequentialminus\":[[0.0,\"#0d0887\"],[0.1111111111111111,\"#46039f\"],[0.2222222222222222,\"#7201a8\"],[0.3333333333333333,\"#9c179e\"],[0.4444444444444444,\"#bd3786\"],[0.5555555555555556,\"#d8576b\"],[0.6666666666666666,\"#ed7953\"],[0.7777777777777778,\"#fb9f3a\"],[0.8888888888888888,\"#fdca26\"],[1.0,\"#f0f921\"]]},\"colorway\":[\"#636efa\",\"#EF553B\",\"#00cc96\",\"#ab63fa\",\"#FFA15A\",\"#19d3f3\",\"#FF6692\",\"#B6E880\",\"#FF97FF\",\"#FECB52\"],\"font\":{\"color\":\"#2a3f5f\"},\"geo\":{\"bgcolor\":\"white\",\"lakecolor\":\"white\",\"landcolor\":\"#E5ECF6\",\"showlakes\":true,\"showland\":true,\"subunitcolor\":\"white\"},\"hoverlabel\":{\"align\":\"left\"},\"hovermode\":\"closest\",\"mapbox\":{\"style\":\"light\"},\"paper_bgcolor\":\"white\",\"plot_bgcolor\":\"#E5ECF6\",\"polar\":{\"angularaxis\":{\"gridcolor\":\"white\",\"linecolor\":\"white\",\"ticks\":\"\"},\"bgcolor\":\"#E5ECF6\",\"radialaxis\":{\"gridcolor\":\"white\",\"linecolor\":\"white\",\"ticks\":\"\"}},\"scene\":{\"xaxis\":{\"backgroundcolor\":\"#E5ECF6\",\"gridcolor\":\"white\",\"gridwidth\":2,\"linecolor\":\"white\",\"showbackground\":true,\"ticks\":\"\",\"zerolinecolor\":\"white\"},\"yaxis\":{\"backgroundcolor\":\"#E5ECF6\",\"gridcolor\":\"white\",\"gridwidth\":2,\"linecolor\":\"white\",\"showbackground\":true,\"ticks\":\"\",\"zerolinecolor\":\"white\"},\"zaxis\":{\"backgroundcolor\":\"#E5ECF6\",\"gridcolor\":\"white\",\"gridwidth\":2,\"linecolor\":\"white\",\"showbackground\":true,\"ticks\":\"\",\"zerolinecolor\":\"white\"}},\"shapedefaults\":{\"line\":{\"color\":\"#2a3f5f\"}},\"ternary\":{\"aaxis\":{\"gridcolor\":\"white\",\"linecolor\":\"white\",\"ticks\":\"\"},\"baxis\":{\"gridcolor\":\"white\",\"linecolor\":\"white\",\"ticks\":\"\"},\"bgcolor\":\"#E5ECF6\",\"caxis\":{\"gridcolor\":\"white\",\"linecolor\":\"white\",\"ticks\":\"\"}},\"title\":{\"x\":0.05},\"xaxis\":{\"automargin\":true,\"gridcolor\":\"white\",\"linecolor\":\"white\",\"ticks\":\"\",\"title\":{\"standoff\":15},\"zerolinecolor\":\"white\",\"zerolinewidth\":2},\"yaxis\":{\"automargin\":true,\"gridcolor\":\"white\",\"linecolor\":\"white\",\"ticks\":\"\",\"title\":{\"standoff\":15},\"zerolinecolor\":\"white\",\"zerolinewidth\":2}}},\"legend\":{\"tracegroupgap\":0},\"margin\":{\"t\":60}},                        {\"responsive\": true}                    ).then(function(){\n",
              "                            \n",
              "var gd = document.getElementById('259888a6-1330-407b-a88a-199ac5c944c9');\n",
              "var x = new MutationObserver(function (mutations, observer) {{\n",
              "        var display = window.getComputedStyle(gd).display;\n",
              "        if (!display || display === 'none') {{\n",
              "            console.log([gd, 'removed!']);\n",
              "            Plotly.purge(gd);\n",
              "            observer.disconnect();\n",
              "        }}\n",
              "}});\n",
              "\n",
              "// Listen for the removal of the full notebook cells\n",
              "var notebookContainer = gd.closest('#notebook-container');\n",
              "if (notebookContainer) {{\n",
              "    x.observe(notebookContainer, {childList: true});\n",
              "}}\n",
              "\n",
              "// Listen for the clearing of the current output cell\n",
              "var outputEl = gd.closest('.output');\n",
              "if (outputEl) {{\n",
              "    x.observe(outputEl, {childList: true});\n",
              "}}\n",
              "\n",
              "                        })                };                            </script>        </div>\n",
              "</body>\n",
              "</html>"
            ]
          },
          "metadata": {}
        }
      ]
    },
    {
      "cell_type": "code",
      "source": [
        "px.sunburst(data_frame=hr_df, path = ['DepID', 'GenderID'], values = 'Churn' )"
      ],
      "metadata": {
        "colab": {
          "base_uri": "https://localhost:8080/",
          "height": 542
        },
        "id": "hQeAgzu4Wiqs",
        "outputId": "9fe003bd-2897-4b2a-e9c1-96a191eed637"
      },
      "execution_count": 25,
      "outputs": [
        {
          "output_type": "display_data",
          "data": {
            "text/html": [
              "<html>\n",
              "<head><meta charset=\"utf-8\" /></head>\n",
              "<body>\n",
              "    <div>            <script src=\"https://cdnjs.cloudflare.com/ajax/libs/mathjax/2.7.5/MathJax.js?config=TeX-AMS-MML_SVG\"></script><script type=\"text/javascript\">if (window.MathJax) {MathJax.Hub.Config({SVG: {font: \"STIX-Web\"}});}</script>                <script type=\"text/javascript\">window.PlotlyConfig = {MathJaxConfig: 'local'};</script>\n",
              "        <script src=\"https://cdn.plot.ly/plotly-2.8.3.min.js\"></script>                <div id=\"e0b73a33-0898-4782-8ff7-f184aa263689\" class=\"plotly-graph-div\" style=\"height:525px; width:100%;\"></div>            <script type=\"text/javascript\">                                    window.PLOTLYENV=window.PLOTLYENV || {};                                    if (document.getElementById(\"e0b73a33-0898-4782-8ff7-f184aa263689\")) {                    Plotly.newPlot(                        \"e0b73a33-0898-4782-8ff7-f184aa263689\",                        [{\"branchvalues\":\"total\",\"domain\":{\"x\":[0.0,1.0],\"y\":[0.0,1.0]},\"hovertemplate\":\"labels=%{label}<br>Churn=%{value}<br>parent=%{parent}<br>id=%{id}<extra></extra>\",\"ids\":[\"1/0\",\"2/0\",\"3/0\",\"4/0\",\"5/0\",\"6/0\",\"7/0\",\"8/0\",\"9/0\",\"10/0\",\"1/1\",\"2/1\",\"3/1\",\"4/1\",\"5/1\",\"6/1\",\"7/1\",\"8/1\",\"9/1\",\"10/1\",\"1\",\"2\",\"3\",\"4\",\"5\",\"6\",\"7\",\"8\",\"9\",\"10\"],\"labels\":[\"0\",\"0\",\"0\",\"0\",\"0\",\"0\",\"0\",\"0\",\"0\",\"0\",\"1\",\"1\",\"1\",\"1\",\"1\",\"1\",\"1\",\"1\",\"1\",\"1\",\"1\",\"2\",\"3\",\"4\",\"5\",\"6\",\"7\",\"8\",\"9\",\"10\"],\"name\":\"\",\"parents\":[\"1\",\"2\",\"3\",\"4\",\"5\",\"6\",\"7\",\"8\",\"9\",\"10\",\"1\",\"2\",\"3\",\"4\",\"5\",\"6\",\"7\",\"8\",\"9\",\"10\",\"\",\"\",\"\",\"\",\"\",\"\",\"\",\"\",\"\",\"\"],\"values\":[28,25,30,30,15,18,21,17,15,18,22,18,23,18,22,23,23,25,23,30,50,43,53,48,37,41,44,42,38,48],\"type\":\"sunburst\"}],                        {\"template\":{\"data\":{\"bar\":[{\"error_x\":{\"color\":\"#2a3f5f\"},\"error_y\":{\"color\":\"#2a3f5f\"},\"marker\":{\"line\":{\"color\":\"#E5ECF6\",\"width\":0.5},\"pattern\":{\"fillmode\":\"overlay\",\"size\":10,\"solidity\":0.2}},\"type\":\"bar\"}],\"barpolar\":[{\"marker\":{\"line\":{\"color\":\"#E5ECF6\",\"width\":0.5},\"pattern\":{\"fillmode\":\"overlay\",\"size\":10,\"solidity\":0.2}},\"type\":\"barpolar\"}],\"carpet\":[{\"aaxis\":{\"endlinecolor\":\"#2a3f5f\",\"gridcolor\":\"white\",\"linecolor\":\"white\",\"minorgridcolor\":\"white\",\"startlinecolor\":\"#2a3f5f\"},\"baxis\":{\"endlinecolor\":\"#2a3f5f\",\"gridcolor\":\"white\",\"linecolor\":\"white\",\"minorgridcolor\":\"white\",\"startlinecolor\":\"#2a3f5f\"},\"type\":\"carpet\"}],\"choropleth\":[{\"colorbar\":{\"outlinewidth\":0,\"ticks\":\"\"},\"type\":\"choropleth\"}],\"contour\":[{\"colorbar\":{\"outlinewidth\":0,\"ticks\":\"\"},\"colorscale\":[[0.0,\"#0d0887\"],[0.1111111111111111,\"#46039f\"],[0.2222222222222222,\"#7201a8\"],[0.3333333333333333,\"#9c179e\"],[0.4444444444444444,\"#bd3786\"],[0.5555555555555556,\"#d8576b\"],[0.6666666666666666,\"#ed7953\"],[0.7777777777777778,\"#fb9f3a\"],[0.8888888888888888,\"#fdca26\"],[1.0,\"#f0f921\"]],\"type\":\"contour\"}],\"contourcarpet\":[{\"colorbar\":{\"outlinewidth\":0,\"ticks\":\"\"},\"type\":\"contourcarpet\"}],\"heatmap\":[{\"colorbar\":{\"outlinewidth\":0,\"ticks\":\"\"},\"colorscale\":[[0.0,\"#0d0887\"],[0.1111111111111111,\"#46039f\"],[0.2222222222222222,\"#7201a8\"],[0.3333333333333333,\"#9c179e\"],[0.4444444444444444,\"#bd3786\"],[0.5555555555555556,\"#d8576b\"],[0.6666666666666666,\"#ed7953\"],[0.7777777777777778,\"#fb9f3a\"],[0.8888888888888888,\"#fdca26\"],[1.0,\"#f0f921\"]],\"type\":\"heatmap\"}],\"heatmapgl\":[{\"colorbar\":{\"outlinewidth\":0,\"ticks\":\"\"},\"colorscale\":[[0.0,\"#0d0887\"],[0.1111111111111111,\"#46039f\"],[0.2222222222222222,\"#7201a8\"],[0.3333333333333333,\"#9c179e\"],[0.4444444444444444,\"#bd3786\"],[0.5555555555555556,\"#d8576b\"],[0.6666666666666666,\"#ed7953\"],[0.7777777777777778,\"#fb9f3a\"],[0.8888888888888888,\"#fdca26\"],[1.0,\"#f0f921\"]],\"type\":\"heatmapgl\"}],\"histogram\":[{\"marker\":{\"pattern\":{\"fillmode\":\"overlay\",\"size\":10,\"solidity\":0.2}},\"type\":\"histogram\"}],\"histogram2d\":[{\"colorbar\":{\"outlinewidth\":0,\"ticks\":\"\"},\"colorscale\":[[0.0,\"#0d0887\"],[0.1111111111111111,\"#46039f\"],[0.2222222222222222,\"#7201a8\"],[0.3333333333333333,\"#9c179e\"],[0.4444444444444444,\"#bd3786\"],[0.5555555555555556,\"#d8576b\"],[0.6666666666666666,\"#ed7953\"],[0.7777777777777778,\"#fb9f3a\"],[0.8888888888888888,\"#fdca26\"],[1.0,\"#f0f921\"]],\"type\":\"histogram2d\"}],\"histogram2dcontour\":[{\"colorbar\":{\"outlinewidth\":0,\"ticks\":\"\"},\"colorscale\":[[0.0,\"#0d0887\"],[0.1111111111111111,\"#46039f\"],[0.2222222222222222,\"#7201a8\"],[0.3333333333333333,\"#9c179e\"],[0.4444444444444444,\"#bd3786\"],[0.5555555555555556,\"#d8576b\"],[0.6666666666666666,\"#ed7953\"],[0.7777777777777778,\"#fb9f3a\"],[0.8888888888888888,\"#fdca26\"],[1.0,\"#f0f921\"]],\"type\":\"histogram2dcontour\"}],\"mesh3d\":[{\"colorbar\":{\"outlinewidth\":0,\"ticks\":\"\"},\"type\":\"mesh3d\"}],\"parcoords\":[{\"line\":{\"colorbar\":{\"outlinewidth\":0,\"ticks\":\"\"}},\"type\":\"parcoords\"}],\"pie\":[{\"automargin\":true,\"type\":\"pie\"}],\"scatter\":[{\"marker\":{\"colorbar\":{\"outlinewidth\":0,\"ticks\":\"\"}},\"type\":\"scatter\"}],\"scatter3d\":[{\"line\":{\"colorbar\":{\"outlinewidth\":0,\"ticks\":\"\"}},\"marker\":{\"colorbar\":{\"outlinewidth\":0,\"ticks\":\"\"}},\"type\":\"scatter3d\"}],\"scattercarpet\":[{\"marker\":{\"colorbar\":{\"outlinewidth\":0,\"ticks\":\"\"}},\"type\":\"scattercarpet\"}],\"scattergeo\":[{\"marker\":{\"colorbar\":{\"outlinewidth\":0,\"ticks\":\"\"}},\"type\":\"scattergeo\"}],\"scattergl\":[{\"marker\":{\"colorbar\":{\"outlinewidth\":0,\"ticks\":\"\"}},\"type\":\"scattergl\"}],\"scattermapbox\":[{\"marker\":{\"colorbar\":{\"outlinewidth\":0,\"ticks\":\"\"}},\"type\":\"scattermapbox\"}],\"scatterpolar\":[{\"marker\":{\"colorbar\":{\"outlinewidth\":0,\"ticks\":\"\"}},\"type\":\"scatterpolar\"}],\"scatterpolargl\":[{\"marker\":{\"colorbar\":{\"outlinewidth\":0,\"ticks\":\"\"}},\"type\":\"scatterpolargl\"}],\"scatterternary\":[{\"marker\":{\"colorbar\":{\"outlinewidth\":0,\"ticks\":\"\"}},\"type\":\"scatterternary\"}],\"surface\":[{\"colorbar\":{\"outlinewidth\":0,\"ticks\":\"\"},\"colorscale\":[[0.0,\"#0d0887\"],[0.1111111111111111,\"#46039f\"],[0.2222222222222222,\"#7201a8\"],[0.3333333333333333,\"#9c179e\"],[0.4444444444444444,\"#bd3786\"],[0.5555555555555556,\"#d8576b\"],[0.6666666666666666,\"#ed7953\"],[0.7777777777777778,\"#fb9f3a\"],[0.8888888888888888,\"#fdca26\"],[1.0,\"#f0f921\"]],\"type\":\"surface\"}],\"table\":[{\"cells\":{\"fill\":{\"color\":\"#EBF0F8\"},\"line\":{\"color\":\"white\"}},\"header\":{\"fill\":{\"color\":\"#C8D4E3\"},\"line\":{\"color\":\"white\"}},\"type\":\"table\"}]},\"layout\":{\"annotationdefaults\":{\"arrowcolor\":\"#2a3f5f\",\"arrowhead\":0,\"arrowwidth\":1},\"autotypenumbers\":\"strict\",\"coloraxis\":{\"colorbar\":{\"outlinewidth\":0,\"ticks\":\"\"}},\"colorscale\":{\"diverging\":[[0,\"#8e0152\"],[0.1,\"#c51b7d\"],[0.2,\"#de77ae\"],[0.3,\"#f1b6da\"],[0.4,\"#fde0ef\"],[0.5,\"#f7f7f7\"],[0.6,\"#e6f5d0\"],[0.7,\"#b8e186\"],[0.8,\"#7fbc41\"],[0.9,\"#4d9221\"],[1,\"#276419\"]],\"sequential\":[[0.0,\"#0d0887\"],[0.1111111111111111,\"#46039f\"],[0.2222222222222222,\"#7201a8\"],[0.3333333333333333,\"#9c179e\"],[0.4444444444444444,\"#bd3786\"],[0.5555555555555556,\"#d8576b\"],[0.6666666666666666,\"#ed7953\"],[0.7777777777777778,\"#fb9f3a\"],[0.8888888888888888,\"#fdca26\"],[1.0,\"#f0f921\"]],\"sequentialminus\":[[0.0,\"#0d0887\"],[0.1111111111111111,\"#46039f\"],[0.2222222222222222,\"#7201a8\"],[0.3333333333333333,\"#9c179e\"],[0.4444444444444444,\"#bd3786\"],[0.5555555555555556,\"#d8576b\"],[0.6666666666666666,\"#ed7953\"],[0.7777777777777778,\"#fb9f3a\"],[0.8888888888888888,\"#fdca26\"],[1.0,\"#f0f921\"]]},\"colorway\":[\"#636efa\",\"#EF553B\",\"#00cc96\",\"#ab63fa\",\"#FFA15A\",\"#19d3f3\",\"#FF6692\",\"#B6E880\",\"#FF97FF\",\"#FECB52\"],\"font\":{\"color\":\"#2a3f5f\"},\"geo\":{\"bgcolor\":\"white\",\"lakecolor\":\"white\",\"landcolor\":\"#E5ECF6\",\"showlakes\":true,\"showland\":true,\"subunitcolor\":\"white\"},\"hoverlabel\":{\"align\":\"left\"},\"hovermode\":\"closest\",\"mapbox\":{\"style\":\"light\"},\"paper_bgcolor\":\"white\",\"plot_bgcolor\":\"#E5ECF6\",\"polar\":{\"angularaxis\":{\"gridcolor\":\"white\",\"linecolor\":\"white\",\"ticks\":\"\"},\"bgcolor\":\"#E5ECF6\",\"radialaxis\":{\"gridcolor\":\"white\",\"linecolor\":\"white\",\"ticks\":\"\"}},\"scene\":{\"xaxis\":{\"backgroundcolor\":\"#E5ECF6\",\"gridcolor\":\"white\",\"gridwidth\":2,\"linecolor\":\"white\",\"showbackground\":true,\"ticks\":\"\",\"zerolinecolor\":\"white\"},\"yaxis\":{\"backgroundcolor\":\"#E5ECF6\",\"gridcolor\":\"white\",\"gridwidth\":2,\"linecolor\":\"white\",\"showbackground\":true,\"ticks\":\"\",\"zerolinecolor\":\"white\"},\"zaxis\":{\"backgroundcolor\":\"#E5ECF6\",\"gridcolor\":\"white\",\"gridwidth\":2,\"linecolor\":\"white\",\"showbackground\":true,\"ticks\":\"\",\"zerolinecolor\":\"white\"}},\"shapedefaults\":{\"line\":{\"color\":\"#2a3f5f\"}},\"ternary\":{\"aaxis\":{\"gridcolor\":\"white\",\"linecolor\":\"white\",\"ticks\":\"\"},\"baxis\":{\"gridcolor\":\"white\",\"linecolor\":\"white\",\"ticks\":\"\"},\"bgcolor\":\"#E5ECF6\",\"caxis\":{\"gridcolor\":\"white\",\"linecolor\":\"white\",\"ticks\":\"\"}},\"title\":{\"x\":0.05},\"xaxis\":{\"automargin\":true,\"gridcolor\":\"white\",\"linecolor\":\"white\",\"ticks\":\"\",\"title\":{\"standoff\":15},\"zerolinecolor\":\"white\",\"zerolinewidth\":2},\"yaxis\":{\"automargin\":true,\"gridcolor\":\"white\",\"linecolor\":\"white\",\"ticks\":\"\",\"title\":{\"standoff\":15},\"zerolinecolor\":\"white\",\"zerolinewidth\":2}}},\"legend\":{\"tracegroupgap\":0},\"margin\":{\"t\":60}},                        {\"responsive\": true}                    ).then(function(){\n",
              "                            \n",
              "var gd = document.getElementById('e0b73a33-0898-4782-8ff7-f184aa263689');\n",
              "var x = new MutationObserver(function (mutations, observer) {{\n",
              "        var display = window.getComputedStyle(gd).display;\n",
              "        if (!display || display === 'none') {{\n",
              "            console.log([gd, 'removed!']);\n",
              "            Plotly.purge(gd);\n",
              "            observer.disconnect();\n",
              "        }}\n",
              "}});\n",
              "\n",
              "// Listen for the removal of the full notebook cells\n",
              "var notebookContainer = gd.closest('#notebook-container');\n",
              "if (notebookContainer) {{\n",
              "    x.observe(notebookContainer, {childList: true});\n",
              "}}\n",
              "\n",
              "// Listen for the clearing of the current output cell\n",
              "var outputEl = gd.closest('.output');\n",
              "if (outputEl) {{\n",
              "    x.observe(outputEl, {childList: true});\n",
              "}}\n",
              "\n",
              "                        })                };                            </script>        </div>\n",
              "</body>\n",
              "</html>"
            ]
          },
          "metadata": {}
        }
      ]
    },
    {
      "cell_type": "markdown",
      "source": [
        "What about race churns?\n",
        "\n",
        "In general it's possible to see that each race has almost the same percentage chance of churning, so it could indicate that we don't have race issues inside the company. Same goes for churning whitin departments, the churn ratio for each race is almost the same."
      ],
      "metadata": {
        "id": "d5X0sKFWg_vO"
      }
    },
    {
      "cell_type": "code",
      "source": [
        "px.pie(data_frame=hr_df, values = 'Churn', names = 'RaceID')"
      ],
      "metadata": {
        "colab": {
          "base_uri": "https://localhost:8080/",
          "height": 542
        },
        "id": "8B0yTUl5M3Rg",
        "outputId": "bd25bbdf-0a40-42e1-813e-379fea31a268"
      },
      "execution_count": null,
      "outputs": [
        {
          "output_type": "display_data",
          "data": {
            "text/html": [
              "<html>\n",
              "<head><meta charset=\"utf-8\" /></head>\n",
              "<body>\n",
              "    <div>            <script src=\"https://cdnjs.cloudflare.com/ajax/libs/mathjax/2.7.5/MathJax.js?config=TeX-AMS-MML_SVG\"></script><script type=\"text/javascript\">if (window.MathJax) {MathJax.Hub.Config({SVG: {font: \"STIX-Web\"}});}</script>                <script type=\"text/javascript\">window.PlotlyConfig = {MathJaxConfig: 'local'};</script>\n",
              "        <script src=\"https://cdn.plot.ly/plotly-2.8.3.min.js\"></script>                <div id=\"88ee81d9-64ad-426b-937d-c88ae1114317\" class=\"plotly-graph-div\" style=\"height:525px; width:100%;\"></div>            <script type=\"text/javascript\">                                    window.PLOTLYENV=window.PLOTLYENV || {};                                    if (document.getElementById(\"88ee81d9-64ad-426b-937d-c88ae1114317\")) {                    Plotly.newPlot(                        \"88ee81d9-64ad-426b-937d-c88ae1114317\",                        [{\"domain\":{\"x\":[0.0,1.0],\"y\":[0.0,1.0]},\"hovertemplate\":\"RaceID=%{label}<br>Churn=%{value}<extra></extra>\",\"labels\":[1,4,5,2,1,2,4,2,4,5,2,5,2,5,2,5,2,5,5,4,3,3,5,4,1,1,4,4,5,3,5,5,2,5,5,1,1,1,3,5,2,2,5,3,5,3,5,4,2,4,1,5,5,5,4,3,2,3,2,3,1,5,4,5,5,3,1,4,5,2,2,5,1,3,4,3,4,3,5,5,2,2,2,3,2,5,3,1,3,2,1,5,3,4,3,3,2,5,2,4,1,1,1,4,5,1,3,2,3,2,4,4,2,2,3,5,5,4,2,1,5,4,5,4,4,2,3,4,5,4,4,2,1,3,1,5,4,2,2,3,2,4,4,2,3,5,5,4,4,5,2,3,2,4,4,2,1,2,3,2,4,1,1,2,2,3,1,5,4,1,2,2,2,3,4,2,4,1,2,1,2,3,3,4,5,2,4,3,4,1,3,4,3,1,3,1,4,1,2,2,4,3,2,4,2,5,5,5,5,5,5,2,1,5,4,3,3,3,4,1,2,2,4,3,2,4,1,3,5,2,3,2,5,3,2,4,3,5,1,5,2,2,3,5,1,5,5,5,1,2,5,2,5,1,1,1,2,5,5,2,2,5,4,5,1,1,3,1,4,4,3,4,5,2,1,1,1,2,2,4,4,4,1,1,4,3,2,1,2,3,3,5,5,2,1,1,2,1,4,2,5,5,5,1,2,4,5,5,1,3,4,1,4,3,2,4,3,3,4,4,2,5,2,5,3,1,3,5,4,5,1,1,2,3,2,5,5,5,4,1,1,1,1,2,3,1,4,4,2,1,2,5,3,4,2,3,1,3,1,2,1,1,3,2,4,5,5,3,4,3,4,1,3,2,4,5,3,1,1,1,2,2,5,4,4,1,1,4,5,4,4,1,3,5,5,1,2,5,3,3,3,4,4,4,4,2,2,1,3,4,4,2,3,5,3,5,5,2,2,3,4,2,2,4,1,3,3,4,5,2,1,1,2,4,4,4,1,4,5,5,4,5,2,1,3,2,2,5,2,5,2,5,4,3,1,4,5,3,1,4,3,3,5,2,2,1,5,2,3,4,4,1,5,4,5,2,4,1,1,3,5,1,3,5,4,1,5,2,3,1,5,2,2,1,4,1,2,5,1,4,1,1,4,1,1,1,4,2,1,3,5,3,2,5,4,3,4,3,5,3,2,2,4,3,1,2,4,3,2,3,3,3,4,2,3,4,3,1,3,4,3,3,5,1,1,1,1,3,5,3,5,2,2,5,3,1,1,1,4,3,3,4,5,5,2,1,4,4,5,4,3,4,5,1,5,3,4,1,3,2,1,5,5,4,2,2,3,3,5,3,4,1,4,3,2,5,1,2,4,3,3,4,3,2,2,2,1,2,3,4,1,3,2,1,1,4,2,1,3,3,1,3,5,1,1,4,5,2,5,1,5,4,5,3,3,3,5,1,2,4,2,4,4,2,4,4,2,2,3,4,3,5,1,1,1,5,3,4,3,3,4,4,1,3,4,4,4,2,4,3,3,4,2,2,2,4,1,5,3,2,4,4,4,5,3,2,3,1,5,1,1,2,4,4,3,5,3,4,5,4,3,3,5,1,2,4,1,4,4,4,5,1,5,2,1,4,4,5,5,5,3,1,5,3,5,2,5,5,2,1,1,4,2,5,2,2,3,3,5,2,2,1,2,2,2,3,2,5,1,2,2,2,1,4,5,2,5,3,2,3,1,1,3,1,1,1,5,1,3,5,4,3,5,1,5,2,4,2,4,4,3,1,5,2,5,5,4,5,1,2,5,4,1,4,5,2,1,4,3,2,5,5,4,2,4,4,3,4,2,4,2,1,1,3,3,5,4,4,4,5,3,3,3,2,1,4,3,5,2,5,1,1,1,2,4,3,3,5,2,4,5,4,5,5,4,4,1,1,3,1,5,3,5,3,2,4,2,3,1,1,2,4,5,3,3,3,5,3,3,3,5,2,3,2,3,3,2,2,5,4,3,5,1,4,2,5,1,3,3,5,5,5,3,1,4,4,1,2,1,5,3,5,5,3,2,2,2,4,1,2,5,1,3,3,2,2,5,1,1,5,5,4,3,2,5,1,3,2,4,3,3,5,3,4,4,1,1,1,1,2,5,1,4,5,3,3,3,4,3,4,5,5,1,2,3,2,2,4,3,2,2,3,4,3,4,1,4,3,1,2,5,3,5,3,5,3,4,1,1,4,1,5,1,3,4,2,2,5,4,4,3,1,5,5,2,4,5,1,5,2,2,5,5,5,5,3,4,4,1,4,1,3,1,3,4,2,5,2,5,1,2,4,4,5,2,2,1,5,3,3,5,1,4,4,4,3,3,5,5,1,5,1,1,2,4,4,4,5,2,5,5,5,1,5,2,5,5,4,3,3,4,3,2,2,3,3,2,5,3,4,5,5,2,2,4,2,3,4,3,1,4,2,1,4,5,1,3,1,2,1,4,5,5,1,4,3,1,5,5,4,4,3,3,3,5,2,1,1,4,3,1,3,3,4,3,3,3,2,5,2,3,1,2,1,2,2,2,5,5,3,1,1,3,2,1,3,1,3,2,2,2,2,1,4,5,1,2,1,1,5,4,4,5,4,3,3,2,1,2,2,3,4,4,4,4,4,1,1,2,2,1,1,5,5,4,1,2,1,3,2,3,5,3,3,2,5,1,2,2,3,1,1,1,5,5,5,1,2,3,5,2,5,5,2,2,5,1,4,2,1,2,2,2,1,2,5,1,3,2,1,3,1,1,1,3,3,3,1,4,3,4,4,2,1,1,2,4,4,5,4,5,2,4,1,5,3,2,1,3,1,2,3,4,5,3,3,1,4,5,1,1,1,1,1,1,4,5,2,5,1,2,2,5,2,5,5,2,4,1,4,5,5,4,4,2,3,4,5,2,4,4,2,3,4,2,3,1,2,1,2,1,1,3,2,2,2,4,2,5,2,2,1,5,3,3,5,4,4,5,4,4,2,3,5,2,2,4,2,1,3,3,5,4,5,1,4,5,2,1,2,1,3,2,2,2,3,2,5,5,5,4,1,5,1,3,3,3,2,4,3,4,4,1,1,4,3,3,5,1,4,1,5,5,4,4,4,4,2,3,2,2,5,4,3,5,3,3,4,3,3,4,5,5,4,5,5,2,1,2,2,5,1,4,3,3,4,1,5,1,3,4,1,5,5,2,2,1,2,4,5,4,1,3,3,2,1,5,5,5,5,1,2,5,1,4,3,2,3,4,1,5,1,1,5,5,1,5,5,3,5,4,3,5,2,1,4,3,3,1,1,3,4,5,2,4,2,2,2,2,3,1,4,5,2,4,5,4,2,5,3,4,1,4,3,3,1,2,1,2,1,2,1,4,4,4,2,2,2,2,5,5,4,4,5,5,5,2,5,3,5,1,2,2,2,4,4,5,4,3,5,3,1,3,1,2,2,3,1,2,4,4,1,2,5,5,1,4,2,5,3,3,1,3,1,2,1,4,5,1,5,1,2,4,4,4,3,4,1,1,4,3,5],\"legendgroup\":\"\",\"name\":\"\",\"showlegend\":true,\"values\":[1,0,1,0,1,1,1,0,1,1,1,0,0,0,0,0,0,0,0,0,0,1,0,0,0,0,0,1,0,0,1,0,0,0,0,0,0,0,0,1,1,1,1,1,0,0,0,0,1,0,1,1,1,0,0,0,0,0,0,0,1,0,1,0,0,0,0,0,0,1,1,1,1,0,0,1,0,0,0,0,1,1,0,0,0,0,0,0,0,0,0,0,0,0,1,0,1,0,0,0,0,0,1,0,0,1,0,0,0,0,0,0,0,0,0,0,1,0,0,1,1,0,0,1,0,1,0,0,0,0,0,1,1,0,0,0,0,1,0,1,1,1,0,0,0,1,1,0,0,0,1,1,1,0,1,0,1,1,1,0,1,0,0,1,1,0,1,0,0,0,0,0,1,1,1,0,1,1,0,1,0,0,1,1,1,0,0,0,0,1,0,1,0,0,1,0,0,0,1,0,1,1,1,0,1,0,1,0,0,1,1,0,0,1,1,0,1,0,0,0,0,0,0,0,0,1,0,1,0,0,0,1,1,1,0,1,0,0,0,0,0,0,1,0,0,0,1,0,0,1,0,0,1,1,0,0,1,0,0,0,0,0,0,1,0,1,0,0,0,0,0,0,1,0,1,1,0,0,0,0,0,0,0,0,1,0,1,0,0,1,0,1,1,0,0,0,0,0,1,1,1,0,1,0,1,0,0,0,1,0,1,0,1,1,0,1,1,0,0,0,1,1,0,0,0,0,0,1,0,0,1,0,0,1,0,0,0,1,0,0,0,0,1,0,1,0,1,1,0,1,1,0,1,0,0,1,1,1,0,0,1,0,0,1,0,0,0,1,0,1,0,0,1,0,0,0,0,1,0,0,0,0,0,0,0,0,1,0,0,0,1,0,0,1,0,0,0,0,0,0,1,0,0,0,0,0,0,0,1,0,0,0,0,1,0,1,0,0,0,1,1,1,0,0,1,1,0,0,0,1,0,0,0,0,0,1,0,0,0,1,1,0,1,0,1,0,0,0,0,0,1,0,0,0,0,0,1,0,1,0,1,0,1,1,1,0,0,0,0,0,0,0,0,1,0,0,1,0,0,0,1,1,0,0,0,1,0,1,1,0,0,0,0,0,1,0,0,0,0,1,1,1,1,1,0,0,0,0,1,0,1,0,1,1,0,0,0,0,0,0,1,0,0,0,1,0,0,0,0,0,1,0,0,0,0,0,0,0,0,0,1,0,0,0,0,0,0,1,0,0,0,0,0,0,1,0,1,0,0,0,0,0,1,1,0,0,1,0,0,0,1,0,1,0,0,0,1,0,0,1,0,1,0,0,1,0,1,1,0,0,0,1,0,0,0,0,0,1,1,0,0,0,1,0,0,0,0,1,1,1,0,0,0,0,0,0,0,0,0,1,1,0,1,1,1,1,0,1,0,1,1,0,0,0,0,0,1,0,0,0,1,0,1,0,0,0,1,1,1,1,1,0,0,0,1,1,1,0,0,0,0,1,1,0,1,1,0,0,0,0,1,1,1,1,0,1,0,1,0,0,0,0,0,0,0,1,1,0,0,0,0,1,0,0,0,0,1,0,0,0,1,0,0,0,1,1,1,1,0,1,0,1,0,0,1,0,1,0,0,1,1,1,0,0,0,1,1,1,0,0,0,0,1,1,1,0,0,0,0,0,0,0,1,0,0,0,0,1,1,0,1,0,1,0,0,1,0,1,0,0,0,1,1,0,0,1,0,0,1,1,1,1,0,0,1,1,0,0,1,1,1,1,1,0,0,1,1,0,0,1,0,0,0,1,0,0,0,0,1,0,0,1,0,1,1,1,0,0,0,0,1,1,0,1,0,0,0,0,0,1,0,1,1,1,0,0,0,0,0,1,0,0,0,1,1,0,1,0,1,1,0,0,0,0,1,1,1,0,0,1,0,1,0,1,1,1,0,1,0,0,0,1,1,0,0,0,1,0,1,0,0,1,0,0,0,0,0,1,0,0,0,1,0,0,0,0,0,1,1,0,0,0,0,0,0,0,0,0,0,0,1,0,0,0,0,0,0,0,1,1,0,0,0,0,0,0,1,0,0,1,1,0,0,1,0,0,0,0,0,1,0,0,1,0,1,0,1,0,0,1,0,0,0,1,1,0,0,0,0,1,1,0,0,1,1,0,0,1,1,1,0,1,0,0,1,0,0,0,1,0,0,0,0,0,1,1,1,0,0,0,1,0,0,0,1,0,0,1,0,0,0,0,0,0,0,1,0,0,0,0,0,0,0,0,0,1,1,0,1,1,1,1,0,1,0,0,0,0,1,0,1,1,0,1,0,0,0,1,0,0,1,0,0,0,0,0,0,0,0,1,0,1,0,0,0,1,0,1,0,0,0,1,1,1,0,1,0,0,0,0,0,0,0,1,0,0,1,0,0,1,1,0,0,0,0,1,0,0,0,0,0,1,0,1,0,0,0,0,0,0,0,0,0,0,1,0,0,1,1,1,0,0,1,0,0,0,0,0,0,0,0,0,0,0,0,1,0,1,1,1,0,0,0,0,0,0,0,0,0,0,0,1,0,0,0,0,0,0,1,0,0,0,0,1,1,0,0,1,1,0,0,0,1,0,0,1,1,0,1,0,0,0,0,1,1,0,0,1,0,0,0,0,1,0,0,1,0,0,0,0,0,0,1,0,0,0,0,0,0,0,0,0,0,1,0,0,0,1,0,0,0,0,0,0,0,0,1,0,1,0,1,0,0,1,1,0,0,1,0,1,0,0,0,0,0,0,0,1,0,0,0,1,1,0,1,0,1,0,0,0,0,1,0,1,1,0,0,1,0,0,0,0,0,0,0,0,0,0,0,0,0,0,0,0,0,0,0,0,0,0,0,1,0,0,0,0,0,0,1,0,0,0,0,1,0,0,0,0,1,1,0,1,0,1,1,0,0,1,1,0,1,0,1,0,0,0,0,0,0,1,0,0,0,0,0,0,0,0,1,0,1,0,0,0,0,0,0,0,1,0,0,0,0,0,0,0,0,0,1,0,0,0,0,0,0,0,0,0,0,0,0,0,0,0,0,0,1,0,0,1,0,0,0,0,0,0,0,0,1,0,0,0,0,0,0,0,1,0,0,0,0,0,0,0,0,0,0,0,0,0,0,0,0,0,0,0,0,0,0,0,0,0,0,1,0,0,0,0,0,0,0,0,0,0,0,0,1,0,0,0,0,0,0,0,0,0,1,0,0,0,0,0,0,0,0,0,0,1,0,0,0,0,0,0,0,0,0,0,0,0,0,0,1,0,0,0,0,0,0,0,0,0,0,0,0,0,0,0,0,0,0,0,0,0,0,0,0,0,0,0,0,0,0,0,0,0,0,0,0,0,0,0,0,0,0,0,0,0,0,0,0,0,1,0,0,0,0,0,0,0,0,0,0,0,0,0,0,0,0,0,0,0,0,0,0,0,0,0,0,0,0,0,0,0,0,0,0,0,0,0,0,0,0,0,0,0,0,0,0,0,0,0,0,0,0,0,0,0,0,0,0,0],\"type\":\"pie\"}],                        {\"template\":{\"data\":{\"bar\":[{\"error_x\":{\"color\":\"#2a3f5f\"},\"error_y\":{\"color\":\"#2a3f5f\"},\"marker\":{\"line\":{\"color\":\"#E5ECF6\",\"width\":0.5},\"pattern\":{\"fillmode\":\"overlay\",\"size\":10,\"solidity\":0.2}},\"type\":\"bar\"}],\"barpolar\":[{\"marker\":{\"line\":{\"color\":\"#E5ECF6\",\"width\":0.5},\"pattern\":{\"fillmode\":\"overlay\",\"size\":10,\"solidity\":0.2}},\"type\":\"barpolar\"}],\"carpet\":[{\"aaxis\":{\"endlinecolor\":\"#2a3f5f\",\"gridcolor\":\"white\",\"linecolor\":\"white\",\"minorgridcolor\":\"white\",\"startlinecolor\":\"#2a3f5f\"},\"baxis\":{\"endlinecolor\":\"#2a3f5f\",\"gridcolor\":\"white\",\"linecolor\":\"white\",\"minorgridcolor\":\"white\",\"startlinecolor\":\"#2a3f5f\"},\"type\":\"carpet\"}],\"choropleth\":[{\"colorbar\":{\"outlinewidth\":0,\"ticks\":\"\"},\"type\":\"choropleth\"}],\"contour\":[{\"colorbar\":{\"outlinewidth\":0,\"ticks\":\"\"},\"colorscale\":[[0.0,\"#0d0887\"],[0.1111111111111111,\"#46039f\"],[0.2222222222222222,\"#7201a8\"],[0.3333333333333333,\"#9c179e\"],[0.4444444444444444,\"#bd3786\"],[0.5555555555555556,\"#d8576b\"],[0.6666666666666666,\"#ed7953\"],[0.7777777777777778,\"#fb9f3a\"],[0.8888888888888888,\"#fdca26\"],[1.0,\"#f0f921\"]],\"type\":\"contour\"}],\"contourcarpet\":[{\"colorbar\":{\"outlinewidth\":0,\"ticks\":\"\"},\"type\":\"contourcarpet\"}],\"heatmap\":[{\"colorbar\":{\"outlinewidth\":0,\"ticks\":\"\"},\"colorscale\":[[0.0,\"#0d0887\"],[0.1111111111111111,\"#46039f\"],[0.2222222222222222,\"#7201a8\"],[0.3333333333333333,\"#9c179e\"],[0.4444444444444444,\"#bd3786\"],[0.5555555555555556,\"#d8576b\"],[0.6666666666666666,\"#ed7953\"],[0.7777777777777778,\"#fb9f3a\"],[0.8888888888888888,\"#fdca26\"],[1.0,\"#f0f921\"]],\"type\":\"heatmap\"}],\"heatmapgl\":[{\"colorbar\":{\"outlinewidth\":0,\"ticks\":\"\"},\"colorscale\":[[0.0,\"#0d0887\"],[0.1111111111111111,\"#46039f\"],[0.2222222222222222,\"#7201a8\"],[0.3333333333333333,\"#9c179e\"],[0.4444444444444444,\"#bd3786\"],[0.5555555555555556,\"#d8576b\"],[0.6666666666666666,\"#ed7953\"],[0.7777777777777778,\"#fb9f3a\"],[0.8888888888888888,\"#fdca26\"],[1.0,\"#f0f921\"]],\"type\":\"heatmapgl\"}],\"histogram\":[{\"marker\":{\"pattern\":{\"fillmode\":\"overlay\",\"size\":10,\"solidity\":0.2}},\"type\":\"histogram\"}],\"histogram2d\":[{\"colorbar\":{\"outlinewidth\":0,\"ticks\":\"\"},\"colorscale\":[[0.0,\"#0d0887\"],[0.1111111111111111,\"#46039f\"],[0.2222222222222222,\"#7201a8\"],[0.3333333333333333,\"#9c179e\"],[0.4444444444444444,\"#bd3786\"],[0.5555555555555556,\"#d8576b\"],[0.6666666666666666,\"#ed7953\"],[0.7777777777777778,\"#fb9f3a\"],[0.8888888888888888,\"#fdca26\"],[1.0,\"#f0f921\"]],\"type\":\"histogram2d\"}],\"histogram2dcontour\":[{\"colorbar\":{\"outlinewidth\":0,\"ticks\":\"\"},\"colorscale\":[[0.0,\"#0d0887\"],[0.1111111111111111,\"#46039f\"],[0.2222222222222222,\"#7201a8\"],[0.3333333333333333,\"#9c179e\"],[0.4444444444444444,\"#bd3786\"],[0.5555555555555556,\"#d8576b\"],[0.6666666666666666,\"#ed7953\"],[0.7777777777777778,\"#fb9f3a\"],[0.8888888888888888,\"#fdca26\"],[1.0,\"#f0f921\"]],\"type\":\"histogram2dcontour\"}],\"mesh3d\":[{\"colorbar\":{\"outlinewidth\":0,\"ticks\":\"\"},\"type\":\"mesh3d\"}],\"parcoords\":[{\"line\":{\"colorbar\":{\"outlinewidth\":0,\"ticks\":\"\"}},\"type\":\"parcoords\"}],\"pie\":[{\"automargin\":true,\"type\":\"pie\"}],\"scatter\":[{\"marker\":{\"colorbar\":{\"outlinewidth\":0,\"ticks\":\"\"}},\"type\":\"scatter\"}],\"scatter3d\":[{\"line\":{\"colorbar\":{\"outlinewidth\":0,\"ticks\":\"\"}},\"marker\":{\"colorbar\":{\"outlinewidth\":0,\"ticks\":\"\"}},\"type\":\"scatter3d\"}],\"scattercarpet\":[{\"marker\":{\"colorbar\":{\"outlinewidth\":0,\"ticks\":\"\"}},\"type\":\"scattercarpet\"}],\"scattergeo\":[{\"marker\":{\"colorbar\":{\"outlinewidth\":0,\"ticks\":\"\"}},\"type\":\"scattergeo\"}],\"scattergl\":[{\"marker\":{\"colorbar\":{\"outlinewidth\":0,\"ticks\":\"\"}},\"type\":\"scattergl\"}],\"scattermapbox\":[{\"marker\":{\"colorbar\":{\"outlinewidth\":0,\"ticks\":\"\"}},\"type\":\"scattermapbox\"}],\"scatterpolar\":[{\"marker\":{\"colorbar\":{\"outlinewidth\":0,\"ticks\":\"\"}},\"type\":\"scatterpolar\"}],\"scatterpolargl\":[{\"marker\":{\"colorbar\":{\"outlinewidth\":0,\"ticks\":\"\"}},\"type\":\"scatterpolargl\"}],\"scatterternary\":[{\"marker\":{\"colorbar\":{\"outlinewidth\":0,\"ticks\":\"\"}},\"type\":\"scatterternary\"}],\"surface\":[{\"colorbar\":{\"outlinewidth\":0,\"ticks\":\"\"},\"colorscale\":[[0.0,\"#0d0887\"],[0.1111111111111111,\"#46039f\"],[0.2222222222222222,\"#7201a8\"],[0.3333333333333333,\"#9c179e\"],[0.4444444444444444,\"#bd3786\"],[0.5555555555555556,\"#d8576b\"],[0.6666666666666666,\"#ed7953\"],[0.7777777777777778,\"#fb9f3a\"],[0.8888888888888888,\"#fdca26\"],[1.0,\"#f0f921\"]],\"type\":\"surface\"}],\"table\":[{\"cells\":{\"fill\":{\"color\":\"#EBF0F8\"},\"line\":{\"color\":\"white\"}},\"header\":{\"fill\":{\"color\":\"#C8D4E3\"},\"line\":{\"color\":\"white\"}},\"type\":\"table\"}]},\"layout\":{\"annotationdefaults\":{\"arrowcolor\":\"#2a3f5f\",\"arrowhead\":0,\"arrowwidth\":1},\"autotypenumbers\":\"strict\",\"coloraxis\":{\"colorbar\":{\"outlinewidth\":0,\"ticks\":\"\"}},\"colorscale\":{\"diverging\":[[0,\"#8e0152\"],[0.1,\"#c51b7d\"],[0.2,\"#de77ae\"],[0.3,\"#f1b6da\"],[0.4,\"#fde0ef\"],[0.5,\"#f7f7f7\"],[0.6,\"#e6f5d0\"],[0.7,\"#b8e186\"],[0.8,\"#7fbc41\"],[0.9,\"#4d9221\"],[1,\"#276419\"]],\"sequential\":[[0.0,\"#0d0887\"],[0.1111111111111111,\"#46039f\"],[0.2222222222222222,\"#7201a8\"],[0.3333333333333333,\"#9c179e\"],[0.4444444444444444,\"#bd3786\"],[0.5555555555555556,\"#d8576b\"],[0.6666666666666666,\"#ed7953\"],[0.7777777777777778,\"#fb9f3a\"],[0.8888888888888888,\"#fdca26\"],[1.0,\"#f0f921\"]],\"sequentialminus\":[[0.0,\"#0d0887\"],[0.1111111111111111,\"#46039f\"],[0.2222222222222222,\"#7201a8\"],[0.3333333333333333,\"#9c179e\"],[0.4444444444444444,\"#bd3786\"],[0.5555555555555556,\"#d8576b\"],[0.6666666666666666,\"#ed7953\"],[0.7777777777777778,\"#fb9f3a\"],[0.8888888888888888,\"#fdca26\"],[1.0,\"#f0f921\"]]},\"colorway\":[\"#636efa\",\"#EF553B\",\"#00cc96\",\"#ab63fa\",\"#FFA15A\",\"#19d3f3\",\"#FF6692\",\"#B6E880\",\"#FF97FF\",\"#FECB52\"],\"font\":{\"color\":\"#2a3f5f\"},\"geo\":{\"bgcolor\":\"white\",\"lakecolor\":\"white\",\"landcolor\":\"#E5ECF6\",\"showlakes\":true,\"showland\":true,\"subunitcolor\":\"white\"},\"hoverlabel\":{\"align\":\"left\"},\"hovermode\":\"closest\",\"mapbox\":{\"style\":\"light\"},\"paper_bgcolor\":\"white\",\"plot_bgcolor\":\"#E5ECF6\",\"polar\":{\"angularaxis\":{\"gridcolor\":\"white\",\"linecolor\":\"white\",\"ticks\":\"\"},\"bgcolor\":\"#E5ECF6\",\"radialaxis\":{\"gridcolor\":\"white\",\"linecolor\":\"white\",\"ticks\":\"\"}},\"scene\":{\"xaxis\":{\"backgroundcolor\":\"#E5ECF6\",\"gridcolor\":\"white\",\"gridwidth\":2,\"linecolor\":\"white\",\"showbackground\":true,\"ticks\":\"\",\"zerolinecolor\":\"white\"},\"yaxis\":{\"backgroundcolor\":\"#E5ECF6\",\"gridcolor\":\"white\",\"gridwidth\":2,\"linecolor\":\"white\",\"showbackground\":true,\"ticks\":\"\",\"zerolinecolor\":\"white\"},\"zaxis\":{\"backgroundcolor\":\"#E5ECF6\",\"gridcolor\":\"white\",\"gridwidth\":2,\"linecolor\":\"white\",\"showbackground\":true,\"ticks\":\"\",\"zerolinecolor\":\"white\"}},\"shapedefaults\":{\"line\":{\"color\":\"#2a3f5f\"}},\"ternary\":{\"aaxis\":{\"gridcolor\":\"white\",\"linecolor\":\"white\",\"ticks\":\"\"},\"baxis\":{\"gridcolor\":\"white\",\"linecolor\":\"white\",\"ticks\":\"\"},\"bgcolor\":\"#E5ECF6\",\"caxis\":{\"gridcolor\":\"white\",\"linecolor\":\"white\",\"ticks\":\"\"}},\"title\":{\"x\":0.05},\"xaxis\":{\"automargin\":true,\"gridcolor\":\"white\",\"linecolor\":\"white\",\"ticks\":\"\",\"title\":{\"standoff\":15},\"zerolinecolor\":\"white\",\"zerolinewidth\":2},\"yaxis\":{\"automargin\":true,\"gridcolor\":\"white\",\"linecolor\":\"white\",\"ticks\":\"\",\"title\":{\"standoff\":15},\"zerolinecolor\":\"white\",\"zerolinewidth\":2}}},\"legend\":{\"tracegroupgap\":0},\"margin\":{\"t\":60}},                        {\"responsive\": true}                    ).then(function(){\n",
              "                            \n",
              "var gd = document.getElementById('88ee81d9-64ad-426b-937d-c88ae1114317');\n",
              "var x = new MutationObserver(function (mutations, observer) {{\n",
              "        var display = window.getComputedStyle(gd).display;\n",
              "        if (!display || display === 'none') {{\n",
              "            console.log([gd, 'removed!']);\n",
              "            Plotly.purge(gd);\n",
              "            observer.disconnect();\n",
              "        }}\n",
              "}});\n",
              "\n",
              "// Listen for the removal of the full notebook cells\n",
              "var notebookContainer = gd.closest('#notebook-container');\n",
              "if (notebookContainer) {{\n",
              "    x.observe(notebookContainer, {childList: true});\n",
              "}}\n",
              "\n",
              "// Listen for the clearing of the current output cell\n",
              "var outputEl = gd.closest('.output');\n",
              "if (outputEl) {{\n",
              "    x.observe(outputEl, {childList: true});\n",
              "}}\n",
              "\n",
              "                        })                };                            </script>        </div>\n",
              "</body>\n",
              "</html>"
            ]
          },
          "metadata": {}
        }
      ]
    },
    {
      "cell_type": "code",
      "source": [
        "px.sunburst(data_frame=hr_df, path = ['DepID', 'RaceID'], values = 'Churn' )"
      ],
      "metadata": {
        "colab": {
          "base_uri": "https://localhost:8080/",
          "height": 542
        },
        "id": "DGqBU8fRhX4J",
        "outputId": "9a918106-1bb6-4d21-dc8e-991614e7df24"
      },
      "execution_count": 208,
      "outputs": [
        {
          "output_type": "display_data",
          "data": {
            "text/html": [
              "<html>\n",
              "<head><meta charset=\"utf-8\" /></head>\n",
              "<body>\n",
              "    <div>            <script src=\"https://cdnjs.cloudflare.com/ajax/libs/mathjax/2.7.5/MathJax.js?config=TeX-AMS-MML_SVG\"></script><script type=\"text/javascript\">if (window.MathJax) {MathJax.Hub.Config({SVG: {font: \"STIX-Web\"}});}</script>                <script type=\"text/javascript\">window.PlotlyConfig = {MathJaxConfig: 'local'};</script>\n",
              "        <script src=\"https://cdn.plot.ly/plotly-2.8.3.min.js\"></script>                <div id=\"509b1f11-2cdf-4af5-9310-b421b37f42c7\" class=\"plotly-graph-div\" style=\"height:525px; width:100%;\"></div>            <script type=\"text/javascript\">                                    window.PLOTLYENV=window.PLOTLYENV || {};                                    if (document.getElementById(\"509b1f11-2cdf-4af5-9310-b421b37f42c7\")) {                    Plotly.newPlot(                        \"509b1f11-2cdf-4af5-9310-b421b37f42c7\",                        [{\"branchvalues\":\"total\",\"domain\":{\"x\":[0.0,1.0],\"y\":[0.0,1.0]},\"hovertemplate\":\"labels=%{label}<br>Churn=%{value}<br>parent=%{parent}<br>id=%{id}<extra></extra>\",\"ids\":[\"1/1\",\"2/1\",\"3/1\",\"4/1\",\"5/1\",\"6/1\",\"7/1\",\"8/1\",\"9/1\",\"10/1\",\"1/2\",\"2/2\",\"3/2\",\"4/2\",\"5/2\",\"6/2\",\"7/2\",\"8/2\",\"9/2\",\"10/2\",\"1/3\",\"2/3\",\"3/3\",\"4/3\",\"5/3\",\"6/3\",\"7/3\",\"8/3\",\"9/3\",\"10/3\",\"1/4\",\"2/4\",\"3/4\",\"4/4\",\"5/4\",\"6/4\",\"7/4\",\"8/4\",\"9/4\",\"10/4\",\"1/5\",\"2/5\",\"3/5\",\"4/5\",\"5/5\",\"6/5\",\"7/5\",\"8/5\",\"9/5\",\"10/5\",\"1\",\"2\",\"3\",\"4\",\"5\",\"6\",\"7\",\"8\",\"9\",\"10\"],\"labels\":[\"1\",\"1\",\"1\",\"1\",\"1\",\"1\",\"1\",\"1\",\"1\",\"1\",\"2\",\"2\",\"2\",\"2\",\"2\",\"2\",\"2\",\"2\",\"2\",\"2\",\"3\",\"3\",\"3\",\"3\",\"3\",\"3\",\"3\",\"3\",\"3\",\"3\",\"4\",\"4\",\"4\",\"4\",\"4\",\"4\",\"4\",\"4\",\"4\",\"4\",\"5\",\"5\",\"5\",\"5\",\"5\",\"5\",\"5\",\"5\",\"5\",\"5\",\"1\",\"2\",\"3\",\"4\",\"5\",\"6\",\"7\",\"8\",\"9\",\"10\"],\"name\":\"\",\"parents\":[\"1\",\"2\",\"3\",\"4\",\"5\",\"6\",\"7\",\"8\",\"9\",\"10\",\"1\",\"2\",\"3\",\"4\",\"5\",\"6\",\"7\",\"8\",\"9\",\"10\",\"1\",\"2\",\"3\",\"4\",\"5\",\"6\",\"7\",\"8\",\"9\",\"10\",\"1\",\"2\",\"3\",\"4\",\"5\",\"6\",\"7\",\"8\",\"9\",\"10\",\"1\",\"2\",\"3\",\"4\",\"5\",\"6\",\"7\",\"8\",\"9\",\"10\",\"\",\"\",\"\",\"\",\"\",\"\",\"\",\"\",\"\",\"\"],\"values\":[12,8,10,5,6,10,4,13,4,11,10,13,9,12,8,5,10,11,9,10,7,6,13,12,10,11,7,7,10,5,11,10,11,8,7,8,11,5,6,10,10,6,10,11,6,7,12,6,9,12,50,43,53,48,37,41,44,42,38,48],\"type\":\"sunburst\"}],                        {\"template\":{\"data\":{\"bar\":[{\"error_x\":{\"color\":\"#2a3f5f\"},\"error_y\":{\"color\":\"#2a3f5f\"},\"marker\":{\"line\":{\"color\":\"#E5ECF6\",\"width\":0.5},\"pattern\":{\"fillmode\":\"overlay\",\"size\":10,\"solidity\":0.2}},\"type\":\"bar\"}],\"barpolar\":[{\"marker\":{\"line\":{\"color\":\"#E5ECF6\",\"width\":0.5},\"pattern\":{\"fillmode\":\"overlay\",\"size\":10,\"solidity\":0.2}},\"type\":\"barpolar\"}],\"carpet\":[{\"aaxis\":{\"endlinecolor\":\"#2a3f5f\",\"gridcolor\":\"white\",\"linecolor\":\"white\",\"minorgridcolor\":\"white\",\"startlinecolor\":\"#2a3f5f\"},\"baxis\":{\"endlinecolor\":\"#2a3f5f\",\"gridcolor\":\"white\",\"linecolor\":\"white\",\"minorgridcolor\":\"white\",\"startlinecolor\":\"#2a3f5f\"},\"type\":\"carpet\"}],\"choropleth\":[{\"colorbar\":{\"outlinewidth\":0,\"ticks\":\"\"},\"type\":\"choropleth\"}],\"contour\":[{\"colorbar\":{\"outlinewidth\":0,\"ticks\":\"\"},\"colorscale\":[[0.0,\"#0d0887\"],[0.1111111111111111,\"#46039f\"],[0.2222222222222222,\"#7201a8\"],[0.3333333333333333,\"#9c179e\"],[0.4444444444444444,\"#bd3786\"],[0.5555555555555556,\"#d8576b\"],[0.6666666666666666,\"#ed7953\"],[0.7777777777777778,\"#fb9f3a\"],[0.8888888888888888,\"#fdca26\"],[1.0,\"#f0f921\"]],\"type\":\"contour\"}],\"contourcarpet\":[{\"colorbar\":{\"outlinewidth\":0,\"ticks\":\"\"},\"type\":\"contourcarpet\"}],\"heatmap\":[{\"colorbar\":{\"outlinewidth\":0,\"ticks\":\"\"},\"colorscale\":[[0.0,\"#0d0887\"],[0.1111111111111111,\"#46039f\"],[0.2222222222222222,\"#7201a8\"],[0.3333333333333333,\"#9c179e\"],[0.4444444444444444,\"#bd3786\"],[0.5555555555555556,\"#d8576b\"],[0.6666666666666666,\"#ed7953\"],[0.7777777777777778,\"#fb9f3a\"],[0.8888888888888888,\"#fdca26\"],[1.0,\"#f0f921\"]],\"type\":\"heatmap\"}],\"heatmapgl\":[{\"colorbar\":{\"outlinewidth\":0,\"ticks\":\"\"},\"colorscale\":[[0.0,\"#0d0887\"],[0.1111111111111111,\"#46039f\"],[0.2222222222222222,\"#7201a8\"],[0.3333333333333333,\"#9c179e\"],[0.4444444444444444,\"#bd3786\"],[0.5555555555555556,\"#d8576b\"],[0.6666666666666666,\"#ed7953\"],[0.7777777777777778,\"#fb9f3a\"],[0.8888888888888888,\"#fdca26\"],[1.0,\"#f0f921\"]],\"type\":\"heatmapgl\"}],\"histogram\":[{\"marker\":{\"pattern\":{\"fillmode\":\"overlay\",\"size\":10,\"solidity\":0.2}},\"type\":\"histogram\"}],\"histogram2d\":[{\"colorbar\":{\"outlinewidth\":0,\"ticks\":\"\"},\"colorscale\":[[0.0,\"#0d0887\"],[0.1111111111111111,\"#46039f\"],[0.2222222222222222,\"#7201a8\"],[0.3333333333333333,\"#9c179e\"],[0.4444444444444444,\"#bd3786\"],[0.5555555555555556,\"#d8576b\"],[0.6666666666666666,\"#ed7953\"],[0.7777777777777778,\"#fb9f3a\"],[0.8888888888888888,\"#fdca26\"],[1.0,\"#f0f921\"]],\"type\":\"histogram2d\"}],\"histogram2dcontour\":[{\"colorbar\":{\"outlinewidth\":0,\"ticks\":\"\"},\"colorscale\":[[0.0,\"#0d0887\"],[0.1111111111111111,\"#46039f\"],[0.2222222222222222,\"#7201a8\"],[0.3333333333333333,\"#9c179e\"],[0.4444444444444444,\"#bd3786\"],[0.5555555555555556,\"#d8576b\"],[0.6666666666666666,\"#ed7953\"],[0.7777777777777778,\"#fb9f3a\"],[0.8888888888888888,\"#fdca26\"],[1.0,\"#f0f921\"]],\"type\":\"histogram2dcontour\"}],\"mesh3d\":[{\"colorbar\":{\"outlinewidth\":0,\"ticks\":\"\"},\"type\":\"mesh3d\"}],\"parcoords\":[{\"line\":{\"colorbar\":{\"outlinewidth\":0,\"ticks\":\"\"}},\"type\":\"parcoords\"}],\"pie\":[{\"automargin\":true,\"type\":\"pie\"}],\"scatter\":[{\"marker\":{\"colorbar\":{\"outlinewidth\":0,\"ticks\":\"\"}},\"type\":\"scatter\"}],\"scatter3d\":[{\"line\":{\"colorbar\":{\"outlinewidth\":0,\"ticks\":\"\"}},\"marker\":{\"colorbar\":{\"outlinewidth\":0,\"ticks\":\"\"}},\"type\":\"scatter3d\"}],\"scattercarpet\":[{\"marker\":{\"colorbar\":{\"outlinewidth\":0,\"ticks\":\"\"}},\"type\":\"scattercarpet\"}],\"scattergeo\":[{\"marker\":{\"colorbar\":{\"outlinewidth\":0,\"ticks\":\"\"}},\"type\":\"scattergeo\"}],\"scattergl\":[{\"marker\":{\"colorbar\":{\"outlinewidth\":0,\"ticks\":\"\"}},\"type\":\"scattergl\"}],\"scattermapbox\":[{\"marker\":{\"colorbar\":{\"outlinewidth\":0,\"ticks\":\"\"}},\"type\":\"scattermapbox\"}],\"scatterpolar\":[{\"marker\":{\"colorbar\":{\"outlinewidth\":0,\"ticks\":\"\"}},\"type\":\"scatterpolar\"}],\"scatterpolargl\":[{\"marker\":{\"colorbar\":{\"outlinewidth\":0,\"ticks\":\"\"}},\"type\":\"scatterpolargl\"}],\"scatterternary\":[{\"marker\":{\"colorbar\":{\"outlinewidth\":0,\"ticks\":\"\"}},\"type\":\"scatterternary\"}],\"surface\":[{\"colorbar\":{\"outlinewidth\":0,\"ticks\":\"\"},\"colorscale\":[[0.0,\"#0d0887\"],[0.1111111111111111,\"#46039f\"],[0.2222222222222222,\"#7201a8\"],[0.3333333333333333,\"#9c179e\"],[0.4444444444444444,\"#bd3786\"],[0.5555555555555556,\"#d8576b\"],[0.6666666666666666,\"#ed7953\"],[0.7777777777777778,\"#fb9f3a\"],[0.8888888888888888,\"#fdca26\"],[1.0,\"#f0f921\"]],\"type\":\"surface\"}],\"table\":[{\"cells\":{\"fill\":{\"color\":\"#EBF0F8\"},\"line\":{\"color\":\"white\"}},\"header\":{\"fill\":{\"color\":\"#C8D4E3\"},\"line\":{\"color\":\"white\"}},\"type\":\"table\"}]},\"layout\":{\"annotationdefaults\":{\"arrowcolor\":\"#2a3f5f\",\"arrowhead\":0,\"arrowwidth\":1},\"autotypenumbers\":\"strict\",\"coloraxis\":{\"colorbar\":{\"outlinewidth\":0,\"ticks\":\"\"}},\"colorscale\":{\"diverging\":[[0,\"#8e0152\"],[0.1,\"#c51b7d\"],[0.2,\"#de77ae\"],[0.3,\"#f1b6da\"],[0.4,\"#fde0ef\"],[0.5,\"#f7f7f7\"],[0.6,\"#e6f5d0\"],[0.7,\"#b8e186\"],[0.8,\"#7fbc41\"],[0.9,\"#4d9221\"],[1,\"#276419\"]],\"sequential\":[[0.0,\"#0d0887\"],[0.1111111111111111,\"#46039f\"],[0.2222222222222222,\"#7201a8\"],[0.3333333333333333,\"#9c179e\"],[0.4444444444444444,\"#bd3786\"],[0.5555555555555556,\"#d8576b\"],[0.6666666666666666,\"#ed7953\"],[0.7777777777777778,\"#fb9f3a\"],[0.8888888888888888,\"#fdca26\"],[1.0,\"#f0f921\"]],\"sequentialminus\":[[0.0,\"#0d0887\"],[0.1111111111111111,\"#46039f\"],[0.2222222222222222,\"#7201a8\"],[0.3333333333333333,\"#9c179e\"],[0.4444444444444444,\"#bd3786\"],[0.5555555555555556,\"#d8576b\"],[0.6666666666666666,\"#ed7953\"],[0.7777777777777778,\"#fb9f3a\"],[0.8888888888888888,\"#fdca26\"],[1.0,\"#f0f921\"]]},\"colorway\":[\"#636efa\",\"#EF553B\",\"#00cc96\",\"#ab63fa\",\"#FFA15A\",\"#19d3f3\",\"#FF6692\",\"#B6E880\",\"#FF97FF\",\"#FECB52\"],\"font\":{\"color\":\"#2a3f5f\"},\"geo\":{\"bgcolor\":\"white\",\"lakecolor\":\"white\",\"landcolor\":\"#E5ECF6\",\"showlakes\":true,\"showland\":true,\"subunitcolor\":\"white\"},\"hoverlabel\":{\"align\":\"left\"},\"hovermode\":\"closest\",\"mapbox\":{\"style\":\"light\"},\"paper_bgcolor\":\"white\",\"plot_bgcolor\":\"#E5ECF6\",\"polar\":{\"angularaxis\":{\"gridcolor\":\"white\",\"linecolor\":\"white\",\"ticks\":\"\"},\"bgcolor\":\"#E5ECF6\",\"radialaxis\":{\"gridcolor\":\"white\",\"linecolor\":\"white\",\"ticks\":\"\"}},\"scene\":{\"xaxis\":{\"backgroundcolor\":\"#E5ECF6\",\"gridcolor\":\"white\",\"gridwidth\":2,\"linecolor\":\"white\",\"showbackground\":true,\"ticks\":\"\",\"zerolinecolor\":\"white\"},\"yaxis\":{\"backgroundcolor\":\"#E5ECF6\",\"gridcolor\":\"white\",\"gridwidth\":2,\"linecolor\":\"white\",\"showbackground\":true,\"ticks\":\"\",\"zerolinecolor\":\"white\"},\"zaxis\":{\"backgroundcolor\":\"#E5ECF6\",\"gridcolor\":\"white\",\"gridwidth\":2,\"linecolor\":\"white\",\"showbackground\":true,\"ticks\":\"\",\"zerolinecolor\":\"white\"}},\"shapedefaults\":{\"line\":{\"color\":\"#2a3f5f\"}},\"ternary\":{\"aaxis\":{\"gridcolor\":\"white\",\"linecolor\":\"white\",\"ticks\":\"\"},\"baxis\":{\"gridcolor\":\"white\",\"linecolor\":\"white\",\"ticks\":\"\"},\"bgcolor\":\"#E5ECF6\",\"caxis\":{\"gridcolor\":\"white\",\"linecolor\":\"white\",\"ticks\":\"\"}},\"title\":{\"x\":0.05},\"xaxis\":{\"automargin\":true,\"gridcolor\":\"white\",\"linecolor\":\"white\",\"ticks\":\"\",\"title\":{\"standoff\":15},\"zerolinecolor\":\"white\",\"zerolinewidth\":2},\"yaxis\":{\"automargin\":true,\"gridcolor\":\"white\",\"linecolor\":\"white\",\"ticks\":\"\",\"title\":{\"standoff\":15},\"zerolinecolor\":\"white\",\"zerolinewidth\":2}}},\"legend\":{\"tracegroupgap\":0},\"margin\":{\"t\":60}},                        {\"responsive\": true}                    ).then(function(){\n",
              "                            \n",
              "var gd = document.getElementById('509b1f11-2cdf-4af5-9310-b421b37f42c7');\n",
              "var x = new MutationObserver(function (mutations, observer) {{\n",
              "        var display = window.getComputedStyle(gd).display;\n",
              "        if (!display || display === 'none') {{\n",
              "            console.log([gd, 'removed!']);\n",
              "            Plotly.purge(gd);\n",
              "            observer.disconnect();\n",
              "        }}\n",
              "}});\n",
              "\n",
              "// Listen for the removal of the full notebook cells\n",
              "var notebookContainer = gd.closest('#notebook-container');\n",
              "if (notebookContainer) {{\n",
              "    x.observe(notebookContainer, {childList: true});\n",
              "}}\n",
              "\n",
              "// Listen for the clearing of the current output cell\n",
              "var outputEl = gd.closest('.output');\n",
              "if (outputEl) {{\n",
              "    x.observe(outputEl, {childList: true});\n",
              "}}\n",
              "\n",
              "                        })                };                            </script>        </div>\n",
              "</body>\n",
              "</html>"
            ]
          },
          "metadata": {}
        }
      ]
    },
    {
      "cell_type": "markdown",
      "source": [
        "Finally if we look to the churn ratio for each age, it seems that people in the Forties range has a higher chance of leaving the company."
      ],
      "metadata": {
        "id": "xp_s4LLFiu-V"
      }
    },
    {
      "cell_type": "code",
      "source": [
        "px.sunburst(data_frame=hr_df, path = ['Age'], values = 'Churn' )"
      ],
      "metadata": {
        "colab": {
          "base_uri": "https://localhost:8080/",
          "height": 542
        },
        "id": "r2pZi8deN2tu",
        "outputId": "51a4b9cd-5d97-42e4-98d6-dfa115dff556"
      },
      "execution_count": 162,
      "outputs": [
        {
          "output_type": "display_data",
          "data": {
            "text/html": [
              "<html>\n",
              "<head><meta charset=\"utf-8\" /></head>\n",
              "<body>\n",
              "    <div>            <script src=\"https://cdnjs.cloudflare.com/ajax/libs/mathjax/2.7.5/MathJax.js?config=TeX-AMS-MML_SVG\"></script><script type=\"text/javascript\">if (window.MathJax) {MathJax.Hub.Config({SVG: {font: \"STIX-Web\"}});}</script>                <script type=\"text/javascript\">window.PlotlyConfig = {MathJaxConfig: 'local'};</script>\n",
              "        <script src=\"https://cdn.plot.ly/plotly-2.8.3.min.js\"></script>                <div id=\"0d405359-e468-4ef4-8844-5029102e23fe\" class=\"plotly-graph-div\" style=\"height:525px; width:100%;\"></div>            <script type=\"text/javascript\">                                    window.PLOTLYENV=window.PLOTLYENV || {};                                    if (document.getElementById(\"0d405359-e468-4ef4-8844-5029102e23fe\")) {                    Plotly.newPlot(                        \"0d405359-e468-4ef4-8844-5029102e23fe\",                        [{\"branchvalues\":\"total\",\"domain\":{\"x\":[0.0,1.0],\"y\":[0.0,1.0]},\"hovertemplate\":\"labels=%{label}<br>Churn=%{value}<br>parent=%{parent}<br>id=%{id}<extra></extra>\",\"ids\":[\"20\",\"21\",\"22\",\"23\",\"24\",\"25\",\"26\",\"27\",\"28\",\"29\",\"30\",\"31\",\"32\",\"33\",\"34\",\"35\",\"36\",\"37\",\"38\",\"39\",\"40\",\"41\",\"42\",\"43\",\"44\",\"45\",\"46\",\"47\",\"48\",\"49\",\"50\",\"51\",\"52\",\"53\",\"54\",\"55\",\"56\",\"57\",\"58\",\"59\",\"60\",\"61\",\"62\",\"63\",\"64\",\"65\",\"66\",\"67\",\"68\",\"69\",\"70\",\"71\",\"72\",\"73\",\"74\",\"75\",\"76\",\"78\",\"80\"],\"labels\":[\"20\",\"21\",\"22\",\"23\",\"24\",\"25\",\"26\",\"27\",\"28\",\"29\",\"30\",\"31\",\"32\",\"33\",\"34\",\"35\",\"36\",\"37\",\"38\",\"39\",\"40\",\"41\",\"42\",\"43\",\"44\",\"45\",\"46\",\"47\",\"48\",\"49\",\"50\",\"51\",\"52\",\"53\",\"54\",\"55\",\"56\",\"57\",\"58\",\"59\",\"60\",\"61\",\"62\",\"63\",\"64\",\"65\",\"66\",\"67\",\"68\",\"69\",\"70\",\"71\",\"72\",\"73\",\"74\",\"75\",\"76\",\"78\",\"80\"],\"name\":\"\",\"parents\":[\"\",\"\",\"\",\"\",\"\",\"\",\"\",\"\",\"\",\"\",\"\",\"\",\"\",\"\",\"\",\"\",\"\",\"\",\"\",\"\",\"\",\"\",\"\",\"\",\"\",\"\",\"\",\"\",\"\",\"\",\"\",\"\",\"\",\"\",\"\",\"\",\"\",\"\",\"\",\"\",\"\",\"\",\"\",\"\",\"\",\"\",\"\",\"\",\"\",\"\",\"\",\"\",\"\",\"\",\"\",\"\",\"\",\"\",\"\"],\"values\":[1,0,1,1,9,3,5,5,4,9,7,7,16,9,10,2,16,14,8,17,22,15,13,19,21,27,12,13,18,8,15,17,13,9,5,15,7,9,4,11,5,6,2,6,3,2,1,1,0,0,0,0,0,0,0,0,0,0,1],\"type\":\"sunburst\"}],                        {\"template\":{\"data\":{\"bar\":[{\"error_x\":{\"color\":\"#2a3f5f\"},\"error_y\":{\"color\":\"#2a3f5f\"},\"marker\":{\"line\":{\"color\":\"#E5ECF6\",\"width\":0.5},\"pattern\":{\"fillmode\":\"overlay\",\"size\":10,\"solidity\":0.2}},\"type\":\"bar\"}],\"barpolar\":[{\"marker\":{\"line\":{\"color\":\"#E5ECF6\",\"width\":0.5},\"pattern\":{\"fillmode\":\"overlay\",\"size\":10,\"solidity\":0.2}},\"type\":\"barpolar\"}],\"carpet\":[{\"aaxis\":{\"endlinecolor\":\"#2a3f5f\",\"gridcolor\":\"white\",\"linecolor\":\"white\",\"minorgridcolor\":\"white\",\"startlinecolor\":\"#2a3f5f\"},\"baxis\":{\"endlinecolor\":\"#2a3f5f\",\"gridcolor\":\"white\",\"linecolor\":\"white\",\"minorgridcolor\":\"white\",\"startlinecolor\":\"#2a3f5f\"},\"type\":\"carpet\"}],\"choropleth\":[{\"colorbar\":{\"outlinewidth\":0,\"ticks\":\"\"},\"type\":\"choropleth\"}],\"contour\":[{\"colorbar\":{\"outlinewidth\":0,\"ticks\":\"\"},\"colorscale\":[[0.0,\"#0d0887\"],[0.1111111111111111,\"#46039f\"],[0.2222222222222222,\"#7201a8\"],[0.3333333333333333,\"#9c179e\"],[0.4444444444444444,\"#bd3786\"],[0.5555555555555556,\"#d8576b\"],[0.6666666666666666,\"#ed7953\"],[0.7777777777777778,\"#fb9f3a\"],[0.8888888888888888,\"#fdca26\"],[1.0,\"#f0f921\"]],\"type\":\"contour\"}],\"contourcarpet\":[{\"colorbar\":{\"outlinewidth\":0,\"ticks\":\"\"},\"type\":\"contourcarpet\"}],\"heatmap\":[{\"colorbar\":{\"outlinewidth\":0,\"ticks\":\"\"},\"colorscale\":[[0.0,\"#0d0887\"],[0.1111111111111111,\"#46039f\"],[0.2222222222222222,\"#7201a8\"],[0.3333333333333333,\"#9c179e\"],[0.4444444444444444,\"#bd3786\"],[0.5555555555555556,\"#d8576b\"],[0.6666666666666666,\"#ed7953\"],[0.7777777777777778,\"#fb9f3a\"],[0.8888888888888888,\"#fdca26\"],[1.0,\"#f0f921\"]],\"type\":\"heatmap\"}],\"heatmapgl\":[{\"colorbar\":{\"outlinewidth\":0,\"ticks\":\"\"},\"colorscale\":[[0.0,\"#0d0887\"],[0.1111111111111111,\"#46039f\"],[0.2222222222222222,\"#7201a8\"],[0.3333333333333333,\"#9c179e\"],[0.4444444444444444,\"#bd3786\"],[0.5555555555555556,\"#d8576b\"],[0.6666666666666666,\"#ed7953\"],[0.7777777777777778,\"#fb9f3a\"],[0.8888888888888888,\"#fdca26\"],[1.0,\"#f0f921\"]],\"type\":\"heatmapgl\"}],\"histogram\":[{\"marker\":{\"pattern\":{\"fillmode\":\"overlay\",\"size\":10,\"solidity\":0.2}},\"type\":\"histogram\"}],\"histogram2d\":[{\"colorbar\":{\"outlinewidth\":0,\"ticks\":\"\"},\"colorscale\":[[0.0,\"#0d0887\"],[0.1111111111111111,\"#46039f\"],[0.2222222222222222,\"#7201a8\"],[0.3333333333333333,\"#9c179e\"],[0.4444444444444444,\"#bd3786\"],[0.5555555555555556,\"#d8576b\"],[0.6666666666666666,\"#ed7953\"],[0.7777777777777778,\"#fb9f3a\"],[0.8888888888888888,\"#fdca26\"],[1.0,\"#f0f921\"]],\"type\":\"histogram2d\"}],\"histogram2dcontour\":[{\"colorbar\":{\"outlinewidth\":0,\"ticks\":\"\"},\"colorscale\":[[0.0,\"#0d0887\"],[0.1111111111111111,\"#46039f\"],[0.2222222222222222,\"#7201a8\"],[0.3333333333333333,\"#9c179e\"],[0.4444444444444444,\"#bd3786\"],[0.5555555555555556,\"#d8576b\"],[0.6666666666666666,\"#ed7953\"],[0.7777777777777778,\"#fb9f3a\"],[0.8888888888888888,\"#fdca26\"],[1.0,\"#f0f921\"]],\"type\":\"histogram2dcontour\"}],\"mesh3d\":[{\"colorbar\":{\"outlinewidth\":0,\"ticks\":\"\"},\"type\":\"mesh3d\"}],\"parcoords\":[{\"line\":{\"colorbar\":{\"outlinewidth\":0,\"ticks\":\"\"}},\"type\":\"parcoords\"}],\"pie\":[{\"automargin\":true,\"type\":\"pie\"}],\"scatter\":[{\"marker\":{\"colorbar\":{\"outlinewidth\":0,\"ticks\":\"\"}},\"type\":\"scatter\"}],\"scatter3d\":[{\"line\":{\"colorbar\":{\"outlinewidth\":0,\"ticks\":\"\"}},\"marker\":{\"colorbar\":{\"outlinewidth\":0,\"ticks\":\"\"}},\"type\":\"scatter3d\"}],\"scattercarpet\":[{\"marker\":{\"colorbar\":{\"outlinewidth\":0,\"ticks\":\"\"}},\"type\":\"scattercarpet\"}],\"scattergeo\":[{\"marker\":{\"colorbar\":{\"outlinewidth\":0,\"ticks\":\"\"}},\"type\":\"scattergeo\"}],\"scattergl\":[{\"marker\":{\"colorbar\":{\"outlinewidth\":0,\"ticks\":\"\"}},\"type\":\"scattergl\"}],\"scattermapbox\":[{\"marker\":{\"colorbar\":{\"outlinewidth\":0,\"ticks\":\"\"}},\"type\":\"scattermapbox\"}],\"scatterpolar\":[{\"marker\":{\"colorbar\":{\"outlinewidth\":0,\"ticks\":\"\"}},\"type\":\"scatterpolar\"}],\"scatterpolargl\":[{\"marker\":{\"colorbar\":{\"outlinewidth\":0,\"ticks\":\"\"}},\"type\":\"scatterpolargl\"}],\"scatterternary\":[{\"marker\":{\"colorbar\":{\"outlinewidth\":0,\"ticks\":\"\"}},\"type\":\"scatterternary\"}],\"surface\":[{\"colorbar\":{\"outlinewidth\":0,\"ticks\":\"\"},\"colorscale\":[[0.0,\"#0d0887\"],[0.1111111111111111,\"#46039f\"],[0.2222222222222222,\"#7201a8\"],[0.3333333333333333,\"#9c179e\"],[0.4444444444444444,\"#bd3786\"],[0.5555555555555556,\"#d8576b\"],[0.6666666666666666,\"#ed7953\"],[0.7777777777777778,\"#fb9f3a\"],[0.8888888888888888,\"#fdca26\"],[1.0,\"#f0f921\"]],\"type\":\"surface\"}],\"table\":[{\"cells\":{\"fill\":{\"color\":\"#EBF0F8\"},\"line\":{\"color\":\"white\"}},\"header\":{\"fill\":{\"color\":\"#C8D4E3\"},\"line\":{\"color\":\"white\"}},\"type\":\"table\"}]},\"layout\":{\"annotationdefaults\":{\"arrowcolor\":\"#2a3f5f\",\"arrowhead\":0,\"arrowwidth\":1},\"autotypenumbers\":\"strict\",\"coloraxis\":{\"colorbar\":{\"outlinewidth\":0,\"ticks\":\"\"}},\"colorscale\":{\"diverging\":[[0,\"#8e0152\"],[0.1,\"#c51b7d\"],[0.2,\"#de77ae\"],[0.3,\"#f1b6da\"],[0.4,\"#fde0ef\"],[0.5,\"#f7f7f7\"],[0.6,\"#e6f5d0\"],[0.7,\"#b8e186\"],[0.8,\"#7fbc41\"],[0.9,\"#4d9221\"],[1,\"#276419\"]],\"sequential\":[[0.0,\"#0d0887\"],[0.1111111111111111,\"#46039f\"],[0.2222222222222222,\"#7201a8\"],[0.3333333333333333,\"#9c179e\"],[0.4444444444444444,\"#bd3786\"],[0.5555555555555556,\"#d8576b\"],[0.6666666666666666,\"#ed7953\"],[0.7777777777777778,\"#fb9f3a\"],[0.8888888888888888,\"#fdca26\"],[1.0,\"#f0f921\"]],\"sequentialminus\":[[0.0,\"#0d0887\"],[0.1111111111111111,\"#46039f\"],[0.2222222222222222,\"#7201a8\"],[0.3333333333333333,\"#9c179e\"],[0.4444444444444444,\"#bd3786\"],[0.5555555555555556,\"#d8576b\"],[0.6666666666666666,\"#ed7953\"],[0.7777777777777778,\"#fb9f3a\"],[0.8888888888888888,\"#fdca26\"],[1.0,\"#f0f921\"]]},\"colorway\":[\"#636efa\",\"#EF553B\",\"#00cc96\",\"#ab63fa\",\"#FFA15A\",\"#19d3f3\",\"#FF6692\",\"#B6E880\",\"#FF97FF\",\"#FECB52\"],\"font\":{\"color\":\"#2a3f5f\"},\"geo\":{\"bgcolor\":\"white\",\"lakecolor\":\"white\",\"landcolor\":\"#E5ECF6\",\"showlakes\":true,\"showland\":true,\"subunitcolor\":\"white\"},\"hoverlabel\":{\"align\":\"left\"},\"hovermode\":\"closest\",\"mapbox\":{\"style\":\"light\"},\"paper_bgcolor\":\"white\",\"plot_bgcolor\":\"#E5ECF6\",\"polar\":{\"angularaxis\":{\"gridcolor\":\"white\",\"linecolor\":\"white\",\"ticks\":\"\"},\"bgcolor\":\"#E5ECF6\",\"radialaxis\":{\"gridcolor\":\"white\",\"linecolor\":\"white\",\"ticks\":\"\"}},\"scene\":{\"xaxis\":{\"backgroundcolor\":\"#E5ECF6\",\"gridcolor\":\"white\",\"gridwidth\":2,\"linecolor\":\"white\",\"showbackground\":true,\"ticks\":\"\",\"zerolinecolor\":\"white\"},\"yaxis\":{\"backgroundcolor\":\"#E5ECF6\",\"gridcolor\":\"white\",\"gridwidth\":2,\"linecolor\":\"white\",\"showbackground\":true,\"ticks\":\"\",\"zerolinecolor\":\"white\"},\"zaxis\":{\"backgroundcolor\":\"#E5ECF6\",\"gridcolor\":\"white\",\"gridwidth\":2,\"linecolor\":\"white\",\"showbackground\":true,\"ticks\":\"\",\"zerolinecolor\":\"white\"}},\"shapedefaults\":{\"line\":{\"color\":\"#2a3f5f\"}},\"ternary\":{\"aaxis\":{\"gridcolor\":\"white\",\"linecolor\":\"white\",\"ticks\":\"\"},\"baxis\":{\"gridcolor\":\"white\",\"linecolor\":\"white\",\"ticks\":\"\"},\"bgcolor\":\"#E5ECF6\",\"caxis\":{\"gridcolor\":\"white\",\"linecolor\":\"white\",\"ticks\":\"\"}},\"title\":{\"x\":0.05},\"xaxis\":{\"automargin\":true,\"gridcolor\":\"white\",\"linecolor\":\"white\",\"ticks\":\"\",\"title\":{\"standoff\":15},\"zerolinecolor\":\"white\",\"zerolinewidth\":2},\"yaxis\":{\"automargin\":true,\"gridcolor\":\"white\",\"linecolor\":\"white\",\"ticks\":\"\",\"title\":{\"standoff\":15},\"zerolinecolor\":\"white\",\"zerolinewidth\":2}}},\"legend\":{\"tracegroupgap\":0},\"margin\":{\"t\":60}},                        {\"responsive\": true}                    ).then(function(){\n",
              "                            \n",
              "var gd = document.getElementById('0d405359-e468-4ef4-8844-5029102e23fe');\n",
              "var x = new MutationObserver(function (mutations, observer) {{\n",
              "        var display = window.getComputedStyle(gd).display;\n",
              "        if (!display || display === 'none') {{\n",
              "            console.log([gd, 'removed!']);\n",
              "            Plotly.purge(gd);\n",
              "            observer.disconnect();\n",
              "        }}\n",
              "}});\n",
              "\n",
              "// Listen for the removal of the full notebook cells\n",
              "var notebookContainer = gd.closest('#notebook-container');\n",
              "if (notebookContainer) {{\n",
              "    x.observe(notebookContainer, {childList: true});\n",
              "}}\n",
              "\n",
              "// Listen for the clearing of the current output cell\n",
              "var outputEl = gd.closest('.output');\n",
              "if (outputEl) {{\n",
              "    x.observe(outputEl, {childList: true});\n",
              "}}\n",
              "\n",
              "                        })                };                            </script>        </div>\n",
              "</body>\n",
              "</html>"
            ]
          },
          "metadata": {}
        }
      ]
    },
    {
      "cell_type": "markdown",
      "source": [
        "All features have a weakest correlatiion with Churn, as we can see below. The strongests negative correlation is Level, followed by MgrID."
      ],
      "metadata": {
        "id": "dz3gQGRYRYtu"
      }
    },
    {
      "cell_type": "code",
      "source": [
        "corr = hr_df.corrwith(hr_df[\"Churn\"]).sort_values()\n",
        "corr_force = corr.sort_values()\n",
        "\n",
        "print(\"Features correlations with Churn :\\n\",corr_force)\n",
        "print(\"-\"*60)\n"
      ],
      "metadata": {
        "colab": {
          "base_uri": "https://localhost:8080/"
        },
        "id": "0lLWeR70PaDV",
        "outputId": "543a5bf5-7223-483a-ee5b-0da5c6810944"
      },
      "execution_count": 170,
      "outputs": [
        {
          "output_type": "stream",
          "name": "stdout",
          "text": [
            "Features correlations with Churn :\n",
            " Level      -0.182478\n",
            "MgrID      -0.179972\n",
            "EmpID      -0.179949\n",
            "Age        -0.096529\n",
            "Rating     -0.025988\n",
            "DepID      -0.007177\n",
            "RaceID     -0.002837\n",
            "GenderID   -0.001945\n",
            "Churn       1.000000\n",
            "dtype: float64\n",
            "------------------------------------------------------------\n"
          ]
        }
      ]
    },
    {
      "cell_type": "markdown",
      "source": [
        "Some problems that we can try to solve using the data that we have:\n",
        "\n",
        "- The probability of someone to churn\n",
        "- The relation between rating and the person leaving the company\n",
        "- The probabilities of someone getting a promotion.\n",
        "- Which department has more probabilities of promotion/churn\n",
        "- Gender/race churn\n",
        "\n",
        "\n",
        "It's important to say that if a gender or race have a greater probability of churn, this says more about the company than the race/gender. Which could indicate problems like sexism or racism. \n",
        "\n",
        "This need to be said because, I believe that HR has the human relationships as a main objective, so it probably means that the company needs to rethink their politics."
      ],
      "metadata": {
        "id": "3O4aLvI-a4HJ"
      }
    },
    {
      "cell_type": "markdown",
      "source": [
        "# Machine Learning and Model Development\n",
        "\n",
        "Before doing the modeling one thing that it's important to check is if we have an imbalanced data. I'll focus here on the churn probabilities, so let me check the churn ratio.\n",
        "\n",
        "\n"
      ],
      "metadata": {
        "id": "8ASYyPz7rj_3"
      }
    },
    {
      "cell_type": "code",
      "source": [
        "px.histogram(data_frame=hr_df, x = 'Churn', nbins=10)"
      ],
      "metadata": {
        "id": "Bvm9y7sKExND",
        "colab": {
          "base_uri": "https://localhost:8080/",
          "height": 542
        },
        "outputId": "a13d132b-45f8-4703-873c-dca10f7f3200"
      },
      "execution_count": 30,
      "outputs": [
        {
          "output_type": "display_data",
          "data": {
            "text/html": [
              "<html>\n",
              "<head><meta charset=\"utf-8\" /></head>\n",
              "<body>\n",
              "    <div>            <script src=\"https://cdnjs.cloudflare.com/ajax/libs/mathjax/2.7.5/MathJax.js?config=TeX-AMS-MML_SVG\"></script><script type=\"text/javascript\">if (window.MathJax) {MathJax.Hub.Config({SVG: {font: \"STIX-Web\"}});}</script>                <script type=\"text/javascript\">window.PlotlyConfig = {MathJaxConfig: 'local'};</script>\n",
              "        <script src=\"https://cdn.plot.ly/plotly-2.8.3.min.js\"></script>                <div id=\"29d803ae-9bf7-4b2d-94e8-c4fad8221b53\" class=\"plotly-graph-div\" style=\"height:525px; width:100%;\"></div>            <script type=\"text/javascript\">                                    window.PLOTLYENV=window.PLOTLYENV || {};                                    if (document.getElementById(\"29d803ae-9bf7-4b2d-94e8-c4fad8221b53\")) {                    Plotly.newPlot(                        \"29d803ae-9bf7-4b2d-94e8-c4fad8221b53\",                        [{\"alignmentgroup\":\"True\",\"bingroup\":\"x\",\"hovertemplate\":\"Churn=%{x}<br>count=%{y}<extra></extra>\",\"legendgroup\":\"\",\"marker\":{\"color\":\"#636efa\",\"pattern\":{\"shape\":\"\"}},\"name\":\"\",\"nbinsx\":10,\"offsetgroup\":\"\",\"orientation\":\"v\",\"showlegend\":false,\"x\":[1,0,1,0,1,1,1,0,1,1,1,0,0,0,0,0,0,0,0,0,0,1,0,0,0,0,0,1,0,0,1,0,0,0,0,0,0,0,0,1,1,1,1,1,0,0,0,0,1,0,1,1,1,0,0,0,0,0,0,0,1,0,1,0,0,0,0,0,0,1,1,1,1,0,0,1,0,0,0,0,1,1,0,0,0,0,0,0,0,0,0,0,0,0,1,0,1,0,0,0,0,0,1,0,0,1,0,0,0,0,0,0,0,0,0,0,1,0,0,1,1,0,0,1,0,1,0,0,0,0,0,1,1,0,0,0,0,1,0,1,1,1,0,0,0,1,1,0,0,0,1,1,1,0,1,0,1,1,1,0,1,0,0,1,1,0,1,0,0,0,0,0,1,1,1,0,1,1,0,1,0,0,1,1,1,0,0,0,0,1,0,1,0,0,1,0,0,0,1,0,1,1,1,0,1,0,1,0,0,1,1,0,0,1,1,0,1,0,0,0,0,0,0,0,0,1,0,1,0,0,0,1,1,1,0,1,0,0,0,0,0,0,1,0,0,0,1,0,0,1,0,0,1,1,0,0,1,0,0,0,0,0,0,1,0,1,0,0,0,0,0,0,1,0,1,1,0,0,0,0,0,0,0,0,1,0,1,0,0,1,0,1,1,0,0,0,0,0,1,1,1,0,1,0,1,0,0,0,1,0,1,0,1,1,0,1,1,0,0,0,1,1,0,0,0,0,0,1,0,0,1,0,0,1,0,0,0,1,0,0,0,0,1,0,1,0,1,1,0,1,1,0,1,0,0,1,1,1,0,0,1,0,0,1,0,0,0,1,0,1,0,0,1,0,0,0,0,1,0,0,0,0,0,0,0,0,1,0,0,0,1,0,0,1,0,0,0,0,0,0,1,0,0,0,0,0,0,0,1,0,0,0,0,1,0,1,0,0,0,1,1,1,0,0,1,1,0,0,0,1,0,0,0,0,0,1,0,0,0,1,1,0,1,0,1,0,0,0,0,0,1,0,0,0,0,0,1,0,1,0,1,0,1,1,1,0,0,0,0,0,0,0,0,1,0,0,1,0,0,0,1,1,0,0,0,1,0,1,1,0,0,0,0,0,1,0,0,0,0,1,1,1,1,1,0,0,0,0,1,0,1,0,1,1,0,0,0,0,0,0,1,0,0,0,1,0,0,0,0,0,1,0,0,0,0,0,0,0,0,0,1,0,0,0,0,0,0,1,0,0,0,0,0,0,1,0,1,0,0,0,0,0,1,1,0,0,1,0,0,0,1,0,1,0,0,0,1,0,0,1,0,1,0,0,1,0,1,1,0,0,0,1,0,0,0,0,0,1,1,0,0,0,1,0,0,0,0,1,1,1,0,0,0,0,0,0,0,0,0,1,1,0,1,1,1,1,0,1,0,1,1,0,0,0,0,0,1,0,0,0,1,0,1,0,0,0,1,1,1,1,1,0,0,0,1,1,1,0,0,0,0,1,1,0,1,1,0,0,0,0,1,1,1,1,0,1,0,1,0,0,0,0,0,0,0,1,1,0,0,0,0,1,0,0,0,0,1,0,0,0,1,0,0,0,1,1,1,1,0,1,0,1,0,0,1,0,1,0,0,1,1,1,0,0,0,1,1,1,0,0,0,0,1,1,1,0,0,0,0,0,0,0,1,0,0,0,0,1,1,0,1,0,1,0,0,1,0,1,0,0,0,1,1,0,0,1,0,0,1,1,1,1,0,0,1,1,0,0,1,1,1,1,1,0,0,1,1,0,0,1,0,0,0,1,0,0,0,0,1,0,0,1,0,1,1,1,0,0,0,0,1,1,0,1,0,0,0,0,0,1,0,1,1,1,0,0,0,0,0,1,0,0,0,1,1,0,1,0,1,1,0,0,0,0,1,1,1,0,0,1,0,1,0,1,1,1,0,1,0,0,0,1,1,0,0,0,1,0,1,0,0,1,0,0,0,0,0,1,0,0,0,1,0,0,0,0,0,1,1,0,0,0,0,0,0,0,0,0,0,0,1,0,0,0,0,0,0,0,1,1,0,0,0,0,0,0,1,0,0,1,1,0,0,1,0,0,0,0,0,1,0,0,1,0,1,0,1,0,0,1,0,0,0,1,1,0,0,0,0,1,1,0,0,1,1,0,0,1,1,1,0,1,0,0,1,0,0,0,1,0,0,0,0,0,1,1,1,0,0,0,1,0,0,0,1,0,0,1,0,0,0,0,0,0,0,1,0,0,0,0,0,0,0,0,0,1,1,0,1,1,1,1,0,1,0,0,0,0,1,0,1,1,0,1,0,0,0,1,0,0,1,0,0,0,0,0,0,0,0,1,0,1,0,0,0,1,0,1,0,0,0,1,1,1,0,1,0,0,0,0,0,0,0,1,0,0,1,0,0,1,1,0,0,0,0,1,0,0,0,0,0,1,0,1,0,0,0,0,0,0,0,0,0,0,1,0,0,1,1,1,0,0,1,0,0,0,0,0,0,0,0,0,0,0,0,1,0,1,1,1,0,0,0,0,0,0,0,0,0,0,0,1,0,0,0,0,0,0,1,0,0,0,0,1,1,0,0,1,1,0,0,0,1,0,0,1,1,0,1,0,0,0,0,1,1,0,0,1,0,0,0,0,1,0,0,1,0,0,0,0,0,0,1,0,0,0,0,0,0,0,0,0,0,1,0,0,0,1,0,0,0,0,0,0,0,0,1,0,1,0,1,0,0,1,1,0,0,1,0,1,0,0,0,0,0,0,0,1,0,0,0,1,1,0,1,0,1,0,0,0,0,1,0,1,1,0,0,1,0,0,0,0,0,0,0,0,0,0,0,0,0,0,0,0,0,0,0,0,0,0,0,1,0,0,0,0,0,0,1,0,0,0,0,1,0,0,0,0,1,1,0,1,0,1,1,0,0,1,1,0,1,0,1,0,0,0,0,0,0,1,0,0,0,0,0,0,0,0,1,0,1,0,0,0,0,0,0,0,1,0,0,0,0,0,0,0,0,0,1,0,0,0,0,0,0,0,0,0,0,0,0,0,0,0,0,0,1,0,0,1,0,0,0,0,0,0,0,0,1,0,0,0,0,0,0,0,1,0,0,0,0,0,0,0,0,0,0,0,0,0,0,0,0,0,0,0,0,0,0,0,0,0,0,1,0,0,0,0,0,0,0,0,0,0,0,0,1,0,0,0,0,0,0,0,0,0,1,0,0,0,0,0,0,0,0,0,0,1,0,0,0,0,0,0,0,0,0,0,0,0,0,0,1,0,0,0,0,0,0,0,0,0,0,0,0,0,0,0,0,0,0,0,0,0,0,0,0,0,0,0,0,0,0,0,0,0,0,0,0,0,0,0,0,0,0,0,0,0,0,0,0,0,1,0,0,0,0,0,0,0,0,0,0,0,0,0,0,0,0,0,0,0,0,0,0,0,0,0,0,0,0,0,0,0,0,0,0,0,0,0,0,0,0,0,0,0,0,0,0,0,0,0,0,0,0,0,0,0,0,0,0,0],\"xaxis\":\"x\",\"yaxis\":\"y\",\"type\":\"histogram\"}],                        {\"template\":{\"data\":{\"bar\":[{\"error_x\":{\"color\":\"#2a3f5f\"},\"error_y\":{\"color\":\"#2a3f5f\"},\"marker\":{\"line\":{\"color\":\"#E5ECF6\",\"width\":0.5},\"pattern\":{\"fillmode\":\"overlay\",\"size\":10,\"solidity\":0.2}},\"type\":\"bar\"}],\"barpolar\":[{\"marker\":{\"line\":{\"color\":\"#E5ECF6\",\"width\":0.5},\"pattern\":{\"fillmode\":\"overlay\",\"size\":10,\"solidity\":0.2}},\"type\":\"barpolar\"}],\"carpet\":[{\"aaxis\":{\"endlinecolor\":\"#2a3f5f\",\"gridcolor\":\"white\",\"linecolor\":\"white\",\"minorgridcolor\":\"white\",\"startlinecolor\":\"#2a3f5f\"},\"baxis\":{\"endlinecolor\":\"#2a3f5f\",\"gridcolor\":\"white\",\"linecolor\":\"white\",\"minorgridcolor\":\"white\",\"startlinecolor\":\"#2a3f5f\"},\"type\":\"carpet\"}],\"choropleth\":[{\"colorbar\":{\"outlinewidth\":0,\"ticks\":\"\"},\"type\":\"choropleth\"}],\"contour\":[{\"colorbar\":{\"outlinewidth\":0,\"ticks\":\"\"},\"colorscale\":[[0.0,\"#0d0887\"],[0.1111111111111111,\"#46039f\"],[0.2222222222222222,\"#7201a8\"],[0.3333333333333333,\"#9c179e\"],[0.4444444444444444,\"#bd3786\"],[0.5555555555555556,\"#d8576b\"],[0.6666666666666666,\"#ed7953\"],[0.7777777777777778,\"#fb9f3a\"],[0.8888888888888888,\"#fdca26\"],[1.0,\"#f0f921\"]],\"type\":\"contour\"}],\"contourcarpet\":[{\"colorbar\":{\"outlinewidth\":0,\"ticks\":\"\"},\"type\":\"contourcarpet\"}],\"heatmap\":[{\"colorbar\":{\"outlinewidth\":0,\"ticks\":\"\"},\"colorscale\":[[0.0,\"#0d0887\"],[0.1111111111111111,\"#46039f\"],[0.2222222222222222,\"#7201a8\"],[0.3333333333333333,\"#9c179e\"],[0.4444444444444444,\"#bd3786\"],[0.5555555555555556,\"#d8576b\"],[0.6666666666666666,\"#ed7953\"],[0.7777777777777778,\"#fb9f3a\"],[0.8888888888888888,\"#fdca26\"],[1.0,\"#f0f921\"]],\"type\":\"heatmap\"}],\"heatmapgl\":[{\"colorbar\":{\"outlinewidth\":0,\"ticks\":\"\"},\"colorscale\":[[0.0,\"#0d0887\"],[0.1111111111111111,\"#46039f\"],[0.2222222222222222,\"#7201a8\"],[0.3333333333333333,\"#9c179e\"],[0.4444444444444444,\"#bd3786\"],[0.5555555555555556,\"#d8576b\"],[0.6666666666666666,\"#ed7953\"],[0.7777777777777778,\"#fb9f3a\"],[0.8888888888888888,\"#fdca26\"],[1.0,\"#f0f921\"]],\"type\":\"heatmapgl\"}],\"histogram\":[{\"marker\":{\"pattern\":{\"fillmode\":\"overlay\",\"size\":10,\"solidity\":0.2}},\"type\":\"histogram\"}],\"histogram2d\":[{\"colorbar\":{\"outlinewidth\":0,\"ticks\":\"\"},\"colorscale\":[[0.0,\"#0d0887\"],[0.1111111111111111,\"#46039f\"],[0.2222222222222222,\"#7201a8\"],[0.3333333333333333,\"#9c179e\"],[0.4444444444444444,\"#bd3786\"],[0.5555555555555556,\"#d8576b\"],[0.6666666666666666,\"#ed7953\"],[0.7777777777777778,\"#fb9f3a\"],[0.8888888888888888,\"#fdca26\"],[1.0,\"#f0f921\"]],\"type\":\"histogram2d\"}],\"histogram2dcontour\":[{\"colorbar\":{\"outlinewidth\":0,\"ticks\":\"\"},\"colorscale\":[[0.0,\"#0d0887\"],[0.1111111111111111,\"#46039f\"],[0.2222222222222222,\"#7201a8\"],[0.3333333333333333,\"#9c179e\"],[0.4444444444444444,\"#bd3786\"],[0.5555555555555556,\"#d8576b\"],[0.6666666666666666,\"#ed7953\"],[0.7777777777777778,\"#fb9f3a\"],[0.8888888888888888,\"#fdca26\"],[1.0,\"#f0f921\"]],\"type\":\"histogram2dcontour\"}],\"mesh3d\":[{\"colorbar\":{\"outlinewidth\":0,\"ticks\":\"\"},\"type\":\"mesh3d\"}],\"parcoords\":[{\"line\":{\"colorbar\":{\"outlinewidth\":0,\"ticks\":\"\"}},\"type\":\"parcoords\"}],\"pie\":[{\"automargin\":true,\"type\":\"pie\"}],\"scatter\":[{\"marker\":{\"colorbar\":{\"outlinewidth\":0,\"ticks\":\"\"}},\"type\":\"scatter\"}],\"scatter3d\":[{\"line\":{\"colorbar\":{\"outlinewidth\":0,\"ticks\":\"\"}},\"marker\":{\"colorbar\":{\"outlinewidth\":0,\"ticks\":\"\"}},\"type\":\"scatter3d\"}],\"scattercarpet\":[{\"marker\":{\"colorbar\":{\"outlinewidth\":0,\"ticks\":\"\"}},\"type\":\"scattercarpet\"}],\"scattergeo\":[{\"marker\":{\"colorbar\":{\"outlinewidth\":0,\"ticks\":\"\"}},\"type\":\"scattergeo\"}],\"scattergl\":[{\"marker\":{\"colorbar\":{\"outlinewidth\":0,\"ticks\":\"\"}},\"type\":\"scattergl\"}],\"scattermapbox\":[{\"marker\":{\"colorbar\":{\"outlinewidth\":0,\"ticks\":\"\"}},\"type\":\"scattermapbox\"}],\"scatterpolar\":[{\"marker\":{\"colorbar\":{\"outlinewidth\":0,\"ticks\":\"\"}},\"type\":\"scatterpolar\"}],\"scatterpolargl\":[{\"marker\":{\"colorbar\":{\"outlinewidth\":0,\"ticks\":\"\"}},\"type\":\"scatterpolargl\"}],\"scatterternary\":[{\"marker\":{\"colorbar\":{\"outlinewidth\":0,\"ticks\":\"\"}},\"type\":\"scatterternary\"}],\"surface\":[{\"colorbar\":{\"outlinewidth\":0,\"ticks\":\"\"},\"colorscale\":[[0.0,\"#0d0887\"],[0.1111111111111111,\"#46039f\"],[0.2222222222222222,\"#7201a8\"],[0.3333333333333333,\"#9c179e\"],[0.4444444444444444,\"#bd3786\"],[0.5555555555555556,\"#d8576b\"],[0.6666666666666666,\"#ed7953\"],[0.7777777777777778,\"#fb9f3a\"],[0.8888888888888888,\"#fdca26\"],[1.0,\"#f0f921\"]],\"type\":\"surface\"}],\"table\":[{\"cells\":{\"fill\":{\"color\":\"#EBF0F8\"},\"line\":{\"color\":\"white\"}},\"header\":{\"fill\":{\"color\":\"#C8D4E3\"},\"line\":{\"color\":\"white\"}},\"type\":\"table\"}]},\"layout\":{\"annotationdefaults\":{\"arrowcolor\":\"#2a3f5f\",\"arrowhead\":0,\"arrowwidth\":1},\"autotypenumbers\":\"strict\",\"coloraxis\":{\"colorbar\":{\"outlinewidth\":0,\"ticks\":\"\"}},\"colorscale\":{\"diverging\":[[0,\"#8e0152\"],[0.1,\"#c51b7d\"],[0.2,\"#de77ae\"],[0.3,\"#f1b6da\"],[0.4,\"#fde0ef\"],[0.5,\"#f7f7f7\"],[0.6,\"#e6f5d0\"],[0.7,\"#b8e186\"],[0.8,\"#7fbc41\"],[0.9,\"#4d9221\"],[1,\"#276419\"]],\"sequential\":[[0.0,\"#0d0887\"],[0.1111111111111111,\"#46039f\"],[0.2222222222222222,\"#7201a8\"],[0.3333333333333333,\"#9c179e\"],[0.4444444444444444,\"#bd3786\"],[0.5555555555555556,\"#d8576b\"],[0.6666666666666666,\"#ed7953\"],[0.7777777777777778,\"#fb9f3a\"],[0.8888888888888888,\"#fdca26\"],[1.0,\"#f0f921\"]],\"sequentialminus\":[[0.0,\"#0d0887\"],[0.1111111111111111,\"#46039f\"],[0.2222222222222222,\"#7201a8\"],[0.3333333333333333,\"#9c179e\"],[0.4444444444444444,\"#bd3786\"],[0.5555555555555556,\"#d8576b\"],[0.6666666666666666,\"#ed7953\"],[0.7777777777777778,\"#fb9f3a\"],[0.8888888888888888,\"#fdca26\"],[1.0,\"#f0f921\"]]},\"colorway\":[\"#636efa\",\"#EF553B\",\"#00cc96\",\"#ab63fa\",\"#FFA15A\",\"#19d3f3\",\"#FF6692\",\"#B6E880\",\"#FF97FF\",\"#FECB52\"],\"font\":{\"color\":\"#2a3f5f\"},\"geo\":{\"bgcolor\":\"white\",\"lakecolor\":\"white\",\"landcolor\":\"#E5ECF6\",\"showlakes\":true,\"showland\":true,\"subunitcolor\":\"white\"},\"hoverlabel\":{\"align\":\"left\"},\"hovermode\":\"closest\",\"mapbox\":{\"style\":\"light\"},\"paper_bgcolor\":\"white\",\"plot_bgcolor\":\"#E5ECF6\",\"polar\":{\"angularaxis\":{\"gridcolor\":\"white\",\"linecolor\":\"white\",\"ticks\":\"\"},\"bgcolor\":\"#E5ECF6\",\"radialaxis\":{\"gridcolor\":\"white\",\"linecolor\":\"white\",\"ticks\":\"\"}},\"scene\":{\"xaxis\":{\"backgroundcolor\":\"#E5ECF6\",\"gridcolor\":\"white\",\"gridwidth\":2,\"linecolor\":\"white\",\"showbackground\":true,\"ticks\":\"\",\"zerolinecolor\":\"white\"},\"yaxis\":{\"backgroundcolor\":\"#E5ECF6\",\"gridcolor\":\"white\",\"gridwidth\":2,\"linecolor\":\"white\",\"showbackground\":true,\"ticks\":\"\",\"zerolinecolor\":\"white\"},\"zaxis\":{\"backgroundcolor\":\"#E5ECF6\",\"gridcolor\":\"white\",\"gridwidth\":2,\"linecolor\":\"white\",\"showbackground\":true,\"ticks\":\"\",\"zerolinecolor\":\"white\"}},\"shapedefaults\":{\"line\":{\"color\":\"#2a3f5f\"}},\"ternary\":{\"aaxis\":{\"gridcolor\":\"white\",\"linecolor\":\"white\",\"ticks\":\"\"},\"baxis\":{\"gridcolor\":\"white\",\"linecolor\":\"white\",\"ticks\":\"\"},\"bgcolor\":\"#E5ECF6\",\"caxis\":{\"gridcolor\":\"white\",\"linecolor\":\"white\",\"ticks\":\"\"}},\"title\":{\"x\":0.05},\"xaxis\":{\"automargin\":true,\"gridcolor\":\"white\",\"linecolor\":\"white\",\"ticks\":\"\",\"title\":{\"standoff\":15},\"zerolinecolor\":\"white\",\"zerolinewidth\":2},\"yaxis\":{\"automargin\":true,\"gridcolor\":\"white\",\"linecolor\":\"white\",\"ticks\":\"\",\"title\":{\"standoff\":15},\"zerolinecolor\":\"white\",\"zerolinewidth\":2}}},\"xaxis\":{\"anchor\":\"y\",\"domain\":[0.0,1.0],\"title\":{\"text\":\"Churn\"}},\"yaxis\":{\"anchor\":\"x\",\"domain\":[0.0,1.0],\"title\":{\"text\":\"count\"}},\"legend\":{\"tracegroupgap\":0},\"margin\":{\"t\":60},\"barmode\":\"relative\"},                        {\"responsive\": true}                    ).then(function(){\n",
              "                            \n",
              "var gd = document.getElementById('29d803ae-9bf7-4b2d-94e8-c4fad8221b53');\n",
              "var x = new MutationObserver(function (mutations, observer) {{\n",
              "        var display = window.getComputedStyle(gd).display;\n",
              "        if (!display || display === 'none') {{\n",
              "            console.log([gd, 'removed!']);\n",
              "            Plotly.purge(gd);\n",
              "            observer.disconnect();\n",
              "        }}\n",
              "}});\n",
              "\n",
              "// Listen for the removal of the full notebook cells\n",
              "var notebookContainer = gd.closest('#notebook-container');\n",
              "if (notebookContainer) {{\n",
              "    x.observe(notebookContainer, {childList: true});\n",
              "}}\n",
              "\n",
              "// Listen for the clearing of the current output cell\n",
              "var outputEl = gd.closest('.output');\n",
              "if (outputEl) {{\n",
              "    x.observe(outputEl, {childList: true});\n",
              "}}\n",
              "\n",
              "                        })                };                            </script>        </div>\n",
              "</body>\n",
              "</html>"
            ]
          },
          "metadata": {}
        }
      ]
    },
    {
      "cell_type": "markdown",
      "source": [
        "As we may expect the churn/non churn ratio is imbalanced, but I believe that in this case the imbalance will not affect the model, because the churn percentage is almost 30%. First I'll separate the dataset into two (X, y), for the modeling the columns that have date types, will be also excluded."
      ],
      "metadata": {
        "id": "x3zZkICjtYR-"
      }
    },
    {
      "cell_type": "code",
      "source": [
        "X = hr_df.drop(['Churn', 'EmpID', 'TermDt','EngDt','DOB','PerfDate'], axis = 1)\n",
        "y = hr_df['Churn']"
      ],
      "metadata": {
        "id": "ggInS8gUvNii"
      },
      "execution_count": 99,
      "outputs": []
    },
    {
      "cell_type": "markdown",
      "source": [
        "## K-Nearest Neighbors"
      ],
      "metadata": {
        "id": "KaG5Gdrawufq"
      }
    },
    {
      "cell_type": "markdown",
      "source": [
        "I will use K- Nearest Neighbors as my machine learning model with GridSearch to seek already for the better parameters for the model, essentially what we have is regression problem, so I think that KNN will give me a interesting result. \n",
        "\n",
        "The data splitting will be 70% for training and 30% for testing."
      ],
      "metadata": {
        "id": "1k4OxNWgxBdH"
      }
    },
    {
      "cell_type": "code",
      "source": [
        "X_train, X_test, y_train, y_test = train_test_split(X, y, test_size=0.2, random_state=42)"
      ],
      "metadata": {
        "id": "GTxaqqTsCZ1y"
      },
      "execution_count": 192,
      "outputs": []
    },
    {
      "cell_type": "code",
      "source": [
        "\n",
        "parameters = {\"n_neighbors\": range(1, 50), \"weights\": [\"uniform\", \"distance\"]}\n",
        "gridsearch = GridSearchCV(KNeighborsRegressor(), parameters)\n",
        "gridsearch.fit(X_train, y_train)"
      ],
      "metadata": {
        "colab": {
          "base_uri": "https://localhost:8080/"
        },
        "id": "MQtbbLFb2znq",
        "outputId": "3a97cf6d-c336-4cd4-b0c0-3339d4662bda"
      },
      "execution_count": 193,
      "outputs": [
        {
          "output_type": "execute_result",
          "data": {
            "text/plain": [
              "GridSearchCV(estimator=KNeighborsRegressor(),\n",
              "             param_grid={'n_neighbors': range(1, 50),\n",
              "                         'weights': ['uniform', 'distance']})"
            ]
          },
          "metadata": {},
          "execution_count": 193
        }
      ]
    },
    {
      "cell_type": "markdown",
      "source": [
        "So the best parameters here are 49 neighbors and weight as distance. Now this parameters will be used to fit and test the model."
      ],
      "metadata": {
        "id": "pb8LA4gOGlW8"
      }
    },
    {
      "cell_type": "code",
      "source": [
        "gridsearch.best_params_"
      ],
      "metadata": {
        "colab": {
          "base_uri": "https://localhost:8080/"
        },
        "id": "EbrITsa-2-Ro",
        "outputId": "14b0ad28-ff62-4575-8cdd-b1dc48b9a070"
      },
      "execution_count": 194,
      "outputs": [
        {
          "output_type": "execute_result",
          "data": {
            "text/plain": [
              "{'n_neighbors': 42, 'weights': 'uniform'}"
            ]
          },
          "metadata": {},
          "execution_count": 194
        }
      ]
    },
    {
      "cell_type": "code",
      "source": [
        "y_pred = gridsearch.predict(X_test)\n"
      ],
      "metadata": {
        "id": "-pE9voyu3BrR"
      },
      "execution_count": 195,
      "outputs": []
    },
    {
      "cell_type": "code",
      "source": [
        "y_pred[1:25]"
      ],
      "metadata": {
        "colab": {
          "base_uri": "https://localhost:8080/"
        },
        "id": "TUZjCUZoLlFn",
        "outputId": "ad6311fc-c3a6-4d9d-d99c-046810e7b659"
      },
      "execution_count": 196,
      "outputs": [
        {
          "output_type": "execute_result",
          "data": {
            "text/plain": [
              "array([0.33333333, 0.30952381, 0.42857143, 0.4047619 , 0.28571429,\n",
              "       0.30952381, 0.4047619 , 0.38095238, 0.30952381, 0.28571429,\n",
              "       0.4047619 , 0.28571429, 0.02380952, 0.21428571, 0.38095238,\n",
              "       0.35714286, 0.33333333, 0.02380952, 0.30952381, 0.21428571,\n",
              "       0.42857143, 0.38095238, 0.52380952, 0.19047619])"
            ]
          },
          "metadata": {},
          "execution_count": 196
        }
      ]
    },
    {
      "cell_type": "code",
      "source": [
        "y_pred = y_pred.round()"
      ],
      "metadata": {
        "id": "jM7IK_UNL82B"
      },
      "execution_count": 197,
      "outputs": []
    },
    {
      "cell_type": "code",
      "source": [
        "y_pred[1:25]"
      ],
      "metadata": {
        "colab": {
          "base_uri": "https://localhost:8080/"
        },
        "id": "L_JDLQ3JM2NO",
        "outputId": "3b2d1f98-ef13-4ab3-a3bf-ce5eeedcd5ee"
      },
      "execution_count": 198,
      "outputs": [
        {
          "output_type": "execute_result",
          "data": {
            "text/plain": [
              "array([0., 0., 0., 0., 0., 0., 0., 0., 0., 0., 0., 0., 0., 0., 0., 0., 0.,\n",
              "       0., 0., 0., 0., 0., 1., 0.])"
            ]
          },
          "metadata": {},
          "execution_count": 198
        }
      ]
    },
    {
      "cell_type": "code",
      "source": [
        "confusion_matrix(y_test, y_pred)"
      ],
      "metadata": {
        "colab": {
          "base_uri": "https://localhost:8080/"
        },
        "id": "TIFBdNP_IOfQ",
        "outputId": "95591780-6189-49e0-8117-ea2e366f4491"
      },
      "execution_count": 199,
      "outputs": [
        {
          "output_type": "execute_result",
          "data": {
            "text/plain": [
              "array([[219,   0],\n",
              "       [ 91,   3]])"
            ]
          },
          "metadata": {},
          "execution_count": 199
        }
      ]
    },
    {
      "cell_type": "code",
      "source": [
        "accuracy_score(y_test, y_pred)"
      ],
      "metadata": {
        "colab": {
          "base_uri": "https://localhost:8080/"
        },
        "id": "NVdg1YAiMRdm",
        "outputId": "0e40ad7d-e10b-4685-a895-84808ca14593"
      },
      "execution_count": 200,
      "outputs": [
        {
          "output_type": "execute_result",
          "data": {
            "text/plain": [
              "0.7092651757188498"
            ]
          },
          "metadata": {},
          "execution_count": 200
        }
      ]
    },
    {
      "cell_type": "markdown",
      "source": [
        "The KNN model give us an accuracy of 72% but as we can se plotting the confusion matrix is that we have a higher false positive count. This means that if we look through the ROC curve below, that we are almost in the randomness valley. Which means that we can't really predict in this dataset if someone has a lower or higher probability to Churn."
      ],
      "metadata": {
        "id": "KrT37mziUaW4"
      }
    },
    {
      "cell_type": "code",
      "source": [
        "fpr, tpr, thresholds = roc_curve(y_test, y_pred)\n",
        "auc_curve = roc_auc_score(y_test, y_pred)\n",
        "plot_roc_curve(fpr, tpr)"
      ],
      "metadata": {
        "colab": {
          "base_uri": "https://localhost:8080/",
          "height": 295
        },
        "id": "6HvJD3JwYi36",
        "outputId": "23e13692-6a08-4cdd-852e-02c648279d7b"
      },
      "execution_count": 201,
      "outputs": [
        {
          "output_type": "display_data",
          "data": {
            "text/plain": [
              "<Figure size 432x288 with 1 Axes>"
            ],
            "image/png": "[encoded data removed]"
          },
          "metadata": {
            "needs_background": "light"
          }
        }
      ]
    },
    {
      "cell_type": "markdown",
      "source": [
        "## Decision Tree Regressor\n",
        "\n",
        "\n",
        "I will also test the data using a Decision Tree Regressor, because we are looking through a binary decision classification. The use of Decision Tree could have a better or worst performance than K-Nearest Neighbors, but we will also use this tool to see what are the most important features."
      ],
      "metadata": {
        "id": "Xfjunk68IHfT"
      }
    },
    {
      "cell_type": "code",
      "source": [
        "tree  = DecisionTreeRegressor()"
      ],
      "metadata": {
        "id": "5OvIYB_N-g1R"
      },
      "execution_count": 107,
      "outputs": []
    },
    {
      "cell_type": "code",
      "source": [
        "tree.fit(X_train, y_train)"
      ],
      "metadata": {
        "colab": {
          "base_uri": "https://localhost:8080/"
        },
        "id": "VEaUZZtNB-Lj",
        "outputId": "0a727ed6-7d8d-4d88-c83d-53b7883a0de2"
      },
      "execution_count": 202,
      "outputs": [
        {
          "output_type": "execute_result",
          "data": {
            "text/plain": [
              "DecisionTreeRegressor()"
            ]
          },
          "metadata": {},
          "execution_count": 202
        }
      ]
    },
    {
      "cell_type": "code",
      "source": [
        "y_predict = tree.predict(X_test)\n",
        "y_predict"
      ],
      "metadata": {
        "colab": {
          "base_uri": "https://localhost:8080/"
        },
        "id": "lcZk14X6CFwo",
        "outputId": "0396fa96-004e-4bce-fe93-ffb955e9154c"
      },
      "execution_count": 203,
      "outputs": [
        {
          "output_type": "execute_result",
          "data": {
            "text/plain": [
              "array([0., 0., 0., 0., 0., 0., 0., 0., 0., 1., 1., 0., 0., 0., 1., 1., 0.,\n",
              "       1., 0., 1., 0., 1., 0., 0., 0., 0., 1., 1., 0., 0., 0., 0., 1., 0.,\n",
              "       0., 0., 0., 0., 0., 0., 0., 0., 0., 0., 1., 0., 0., 1., 1., 0., 0.,\n",
              "       0., 0., 0., 1., 1., 0., 0., 0., 0., 1., 0., 0., 0., 0., 0., 0., 1.,\n",
              "       0., 0., 0., 0., 0., 0., 0., 1., 1., 0., 0., 0., 0., 0., 1., 0., 0.,\n",
              "       0., 1., 0., 0., 0., 0., 0., 0., 0., 0., 0., 1., 0., 0., 1., 0., 0.,\n",
              "       0., 1., 0., 0., 0., 1., 0., 0., 0., 0., 1., 0., 0., 0., 0., 0., 0.,\n",
              "       0., 0., 0., 1., 0., 0., 0., 0., 0., 0., 0., 0., 1., 1., 0., 0., 0.,\n",
              "       0., 0., 0., 0., 0., 1., 0., 0., 0., 1., 1., 0., 0., 0., 0., 0., 1.,\n",
              "       0., 0., 0., 0., 0., 0., 0., 1., 0., 0., 0., 0., 1., 0., 0., 0., 0.,\n",
              "       0., 0., 0., 0., 0., 0., 0., 0., 0., 1., 0., 0., 1., 1., 1., 0., 0.,\n",
              "       0., 1., 0., 0., 0., 0., 1., 0., 0., 0., 0., 1., 0., 0., 0., 0., 1.,\n",
              "       0., 0., 0., 0., 0., 1., 0., 0., 0., 0., 0., 0., 0., 1., 0., 0., 1.,\n",
              "       0., 0., 1., 0., 1., 0., 1., 0., 0., 0., 1., 1., 1., 0., 1., 0., 1.,\n",
              "       0., 0., 0., 1., 0., 0., 0., 0., 0., 0., 1., 0., 1., 0., 0., 1., 0.,\n",
              "       0., 1., 0., 0., 0., 0., 1., 0., 0., 0., 0., 1., 0., 1., 0., 1., 0.,\n",
              "       1., 1., 0., 1., 0., 0., 0., 1., 1., 0., 1., 0., 0., 0., 0., 0., 0.,\n",
              "       1., 1., 0., 0., 1., 0., 0., 0., 0., 1., 1., 0., 0., 0., 1., 0., 1.,\n",
              "       0., 0., 0., 0., 0., 0., 0.])"
            ]
          },
          "metadata": {},
          "execution_count": 203
        }
      ]
    },
    {
      "cell_type": "code",
      "source": [
        "confusion_matrix(y_test, y_predict)"
      ],
      "metadata": {
        "colab": {
          "base_uri": "https://localhost:8080/"
        },
        "id": "2a7G-bpcJYKm",
        "outputId": "a8430b9f-6a01-4238-c35d-964576a847d8"
      },
      "execution_count": 204,
      "outputs": [
        {
          "output_type": "execute_result",
          "data": {
            "text/plain": [
              "array([[171,  48],\n",
              "       [ 66,  28]])"
            ]
          },
          "metadata": {},
          "execution_count": 204
        }
      ]
    },
    {
      "cell_type": "code",
      "source": [
        "accuracy_score(y_test, y_predict)"
      ],
      "metadata": {
        "colab": {
          "base_uri": "https://localhost:8080/"
        },
        "id": "FnBZwfaPMZIF",
        "outputId": "8e8cfac1-eb7f-45e2-cec0-23c068ed18e1"
      },
      "execution_count": 205,
      "outputs": [
        {
          "output_type": "execute_result",
          "data": {
            "text/plain": [
              "0.6357827476038339"
            ]
          },
          "metadata": {},
          "execution_count": 205
        }
      ]
    },
    {
      "cell_type": "markdown",
      "source": [
        "For the Decision Tree regressor we have a lower accuracy than with the KNN, but again if we look through the ROC Curve, we can see that despite having an AUC area greater than KNN, we are still too close to ramdomness, so sadly the model in this state can't be really use for predictions."
      ],
      "metadata": {
        "id": "43tzcHO0ab-T"
      }
    },
    {
      "cell_type": "code",
      "source": [
        "fpr, tpr, thresholds = roc_curve(y_test, y_predict)\n",
        "auc_curve = roc_auc_score(y_test, y_predict)\n",
        "plot_roc_curve(fpr, tpr)"
      ],
      "metadata": {
        "colab": {
          "base_uri": "https://localhost:8080/",
          "height": 315
        },
        "id": "7r9GFuqxWc7B",
        "outputId": "2f77b756-0afa-4628-b56e-bae3413ba3fb"
      },
      "execution_count": 207,
      "outputs": [
        {
          "output_type": "stream",
          "name": "stdout",
          "text": [
            "ROC Curve for Tree Regressor\n"
          ]
        },
        {
          "output_type": "display_data",
          "data": {
            "text/plain": [
              "<Figure size 432x288 with 1 Axes>"
            ],
            "image/png": "[encoded data removed]"
          },
          "metadata": {
            "needs_background": "light"
          }
        }
      ]
    },
    {
      "cell_type": "markdown",
      "source": [
        "It's interesting to note that the three most important features for modeling the tree are MgrID, Age and Level, respectively, although for the correlation with Churn we had Level with higher correlations than both of first ones."
      ],
      "metadata": {
        "id": "QMiN6e-zRxn5"
      }
    },
    {
      "cell_type": "code",
      "source": [
        "feat_importances = pd.Series(tree.feature_importances_, index=X.columns)\n",
        "feat_importances.nlargest(20).plot(kind='barh')"
      ],
      "metadata": {
        "colab": {
          "base_uri": "https://localhost:8080/",
          "height": 285
        },
        "id": "yr-S71wCDyW5",
        "outputId": "a39b1627-f9a2-4b74-f919-11b2fce50f37"
      },
      "execution_count": 206,
      "outputs": [
        {
          "output_type": "execute_result",
          "data": {
            "text/plain": [
              "<matplotlib.axes._subplots.AxesSubplot at 0x7f3068741c10>"
            ]
          },
          "metadata": {},
          "execution_count": 206
        },
        {
          "output_type": "display_data",
          "data": {
            "text/plain": [
              "<Figure size 432x288 with 1 Axes>"
            ],
            "image/png": "[encoded data removed]"
          },
          "metadata": {
            "needs_background": "light"
          }
        }
      ]
    },
    {
      "cell_type": "markdown",
      "source": [
        "# Conclusions\n",
        "\n",
        "We could extract really interesting informations using the dataset presented here. Although through some departments we can see a discrepancy in ratings for gender and races, in the more global structure the company seem to tend more to the igualitarian distribuition.\n",
        "\n",
        "We couldn't also see any real disparity when looking through the churn motivations, the distribuituion between gender is almost 50/50, same goes for race. When we look through the ages, some of then has a little higher chance for churning but not that can cause any alarm.\n",
        "\n",
        "\n",
        "The modeling of the data and the possibilities too use a model to predict churn, could be achieve but we probably need more data to increase confidence, also other models that wasn't tested could have a better performance on the data. \n",
        "\n",
        "For the features that are important for modeling we age MgrID, Age and Level with the highest importance."
      ],
      "metadata": {
        "id": "nn78Gzw7a9Cg"
      }
    },
    {
      "cell_type": "code",
      "source": [
        ""
      ],
      "metadata": {
        "id": "4wAez36nde5Q"
      },
      "execution_count": null,
      "outputs": []
    }
  ]
}